{
  "nbformat": 4,
  "nbformat_minor": 0,
  "metadata": {
    "colab": {
      "provenance": [],
      "collapsed_sections": [],
      "authorship_tag": "ABX9TyPa6e+R9ThudGdw8af43fDY",
      "include_colab_link": true
    },
    "kernelspec": {
      "name": "python3",
      "display_name": "Python 3"
    },
    "language_info": {
      "name": "python"
    }
  },
  "cells": [
    {
      "cell_type": "markdown",
      "metadata": {
        "id": "view-in-github",
        "colab_type": "text"
      },
      "source": [
        "<a href=\"https://colab.research.google.com/github/analyticsariel/projects/blob/master/02.03_conditionals_loops.ipynb\" target=\"_parent\"><img src=\"https://colab.research.google.com/assets/colab-badge.svg\" alt=\"Open In Colab\"/></a>"
      ]
    },
    {
      "cell_type": "markdown",
      "metadata": {
        "id": "BYRys7lpU-iF"
      },
      "source": [
        "# Conditionals and Loops\n",
        "\n",
        "## Overview\n",
        "| Detail Tag            | Information                                                                                        |\n",
        "|-----------------------|----------------------------------------------------------------------------------------------------|\n",
        "| Created By | Ariel Herrera arielherrera@analyticsariel.com |\n",
        "\n",
        "## History\n",
        "| Date         | Developed By  | Reason                                                |\n",
        "|--------------|---------------|-------------------------------------------------------|\n",
        "| 1st Sep 2022 | Ariel Herrera | Create notebook. |\n",
        "\n",
        "## Getting Started\n",
        "1. Copy this notebook -> File -> Save a Copy in Drive\n",
        "\n",
        "## Useful Resources\n",
        "- [Course Contents](https://colab.research.google.com/drive/12K0Ow9Y8v3-a1xuWMc52aPFgaLl-h9vx)\n",
        "- [Google Colab Cheat Sheet](https://towardsdatascience.com/cheat-sheet-for-google-colab-63853778c093)\n",
        "- [Comparison Operators](https://www.w3schools.com/python/gloss_python_comparison_operators.asp)\n",
        "- [If ... Else](https://www.w3schools.com/python/python_conditions.asp)\n",
        "- [While Loop](https://www.w3schools.com/python/python_while_loops.asp)"
      ]
    },
    {
      "cell_type": "markdown",
      "metadata": {
        "id": "hKgiM1tbUnbI"
      },
      "source": [
        "## <font color=\"blue\">1. Conditionals</font>"
      ]
    },
    {
      "cell_type": "markdown",
      "source": [
        "### Comparison Operators\n",
        "![Img1](https://miro.medium.com/max/1226/0*2dip93sUWm_tVwLH.jpg)\n",
        "\n",
        "(Source: [Medium](https://medium.com/geekculture/list-comprehension-conditional-and-looping-statements-in-python-16db4ea9e58b))"
      ],
      "metadata": {
        "id": "lyyXv8uY1vdD"
      }
    },
    {
      "cell_type": "code",
      "metadata": {
        "id": "7V2OU_iGUppW"
      },
      "source": [
        "# set variables for credit score\n",
        "credit_score_min = 600\n",
        "credit_score_max = 850\n",
        "credit_score_applicant = 850"
      ],
      "execution_count": null,
      "outputs": []
    },
    {
      "cell_type": "code",
      "source": [
        "# print('Applicant credit score is equal to minimum required:', credit_score_applicant == credit_score_min)\n",
        "# print('Applicant credit score is not equal to minimum required:', credit_score_applicant != credit_score_min)\n",
        "# print('Applicant credit score is greater then minimum required:', credit_score_applicant > credit_score_min)\n",
        "# print('Applicant credit score is less then minimum required:', credit_score_applicant < credit_score_min)\n",
        "# print('Applicant credit score is greater then or equal to maximum required:', credit_score_applicant >= credit_score_min )\n",
        "# print('Applicant credit score is less then or equal to maximum required:',  credit_score_applicant <= credit_score_min)"
      ],
      "metadata": {
        "id": "YC-X4_jn2irW"
      },
      "execution_count": null,
      "outputs": []
    },
    {
      "cell_type": "markdown",
      "source": [
        "### If ... Else"
      ],
      "metadata": {
        "id": "7E2YjOOp1xmj"
      }
    },
    {
      "cell_type": "code",
      "source": [
        "# test if our applicant's credit score will be above minimum\n",
        "credit_score_applicant = 700\n"
      ],
      "metadata": {
        "id": "5_K_cz0a10Bf"
      },
      "execution_count": null,
      "outputs": []
    },
    {
      "cell_type": "code",
      "source": [
        "# test if our applicant's credit score will be above minimum\n",
        "credit_score_applicant = 590\n"
      ],
      "metadata": {
        "id": "fvRRBopj33Tj"
      },
      "execution_count": null,
      "outputs": []
    },
    {
      "cell_type": "code",
      "source": [
        "\"\"\"\n",
        "  SCENARIO: The rental market typically cools down in winter months.\n",
        "  You have an unexpected vacancy in a unit the first week of December.\n",
        "  You are willing to review applicants who are 'emerging credit' and \n",
        "  close to your minimum credit score requirement.\n",
        "\"\"\"\n",
        "\n",
        "bandwidth = 0.05\n"
      ],
      "metadata": {
        "id": "QBXyDpFo4Kst"
      },
      "execution_count": null,
      "outputs": []
    },
    {
      "cell_type": "code",
      "source": [
        "credit_score_applicant = 590\n"
      ],
      "metadata": {
        "id": "51pZ0NVc37jU"
      },
      "execution_count": null,
      "outputs": []
    },
    {
      "cell_type": "markdown",
      "metadata": {
        "id": "-ZgrtjtLUi6a"
      },
      "source": [
        "## <font color=\"blue\">2. Loops</font>"
      ]
    },
    {
      "cell_type": "markdown",
      "source": [
        "### For Loop"
      ],
      "metadata": {
        "id": "gGn_wRb91Tbd"
      }
    },
    {
      "cell_type": "code",
      "source": [
        "\"\"\"\n",
        "  SCENARIO: We want to increase our rental rates.\n",
        "  How much more will we make if we increase our rental rates by X amount?\n",
        "\"\"\"\n",
        "rent_income_list = [1300, 1450, 900, 1500]\n",
        "print('Number of units:', )"
      ],
      "metadata": {
        "colab": {
          "base_uri": "https://localhost:8080/"
        },
        "id": "w3lbeNeUT-fG",
        "outputId": "60f991b9-9111-4d5b-ed1c-7514557913a0"
      },
      "execution_count": null,
      "outputs": [
        {
          "output_type": "stream",
          "name": "stdout",
          "text": [
            "Number of units:\n"
          ]
        }
      ]
    },
    {
      "cell_type": "code",
      "source": [
        "# print all rent values\n"
      ],
      "metadata": {
        "id": "8TuzbNvcmCLE"
      },
      "execution_count": null,
      "outputs": []
    },
    {
      "cell_type": "code",
      "source": [
        "increase_prct = 1.10 # 10%\n",
        "\n"
      ],
      "metadata": {
        "id": "4oQTE_4VmGUK"
      },
      "execution_count": null,
      "outputs": []
    },
    {
      "cell_type": "code",
      "source": [
        "# calculate total rent in each scenario\n",
        "print('Prev total rent income: $', )\n",
        "print('New total rent income: $', )\n",
        "\n",
        "# calculate total inccrease amount\n",
        "\n",
        "print('Increase amount: $', )"
      ],
      "metadata": {
        "colab": {
          "base_uri": "https://localhost:8080/"
        },
        "id": "XfJrQ4_nnNgh",
        "outputId": "9cfad891-217a-4c03-cb7a-3c89aac27863"
      },
      "execution_count": null,
      "outputs": [
        {
          "output_type": "stream",
          "name": "stdout",
          "text": [
            "Prev total rent income: $\n",
            "New total rent income: $\n",
            "Increase amount: $\n"
          ]
        }
      ]
    },
    {
      "cell_type": "code",
      "source": [
        "# same value if we sum all of the rent incomes first!\n"
      ],
      "metadata": {
        "id": "vqm8SGKNrrhy"
      },
      "execution_count": null,
      "outputs": []
    },
    {
      "cell_type": "markdown",
      "source": [
        "### Do While"
      ],
      "metadata": {
        "id": "3BECZgqT1VGH"
      }
    },
    {
      "cell_type": "code",
      "source": [
        "\"\"\"\n",
        "  SCENARIO: We want to increase our rental rates by $7000\n",
        "  Test different % increase amounts to hit our quota\n",
        "\"\"\"\n",
        "# set variables\n",
        "i = .10 # starting %\n",
        "total_rent_income = 0\n",
        "target_val = 7000"
      ],
      "metadata": {
        "id": "2-hlHbU5nXC6"
      },
      "execution_count": null,
      "outputs": []
    },
    {
      "cell_type": "code",
      "source": [
        "# calcuate rent increase while below target val\n"
      ],
      "metadata": {
        "id": "_Z3l7hsuswcp"
      },
      "execution_count": null,
      "outputs": []
    },
    {
      "cell_type": "markdown",
      "source": [
        "## Recap\n",
        "We covered:\n",
        "1. **Conditionals** - if/else statements\n",
        "2. **Loops** - for/each, do/while statements\n",
        "\n",
        "We also had a sneak peak of other cool Python functionality including functions. Let's explore these further in the following lessons!"
      ],
      "metadata": {
        "id": "evLdO_x50yJF"
      }
    },
    {
      "cell_type": "markdown",
      "source": [
        "## Need more help?\n",
        "Check out the video below for an in-depth view of loops"
      ],
      "metadata": {
        "id": "9xbcwzExSNKD"
      }
    },
    {
      "cell_type": "code",
      "source": [
        "from IPython.display import YouTubeVideo\n",
        "YouTubeVideo('OnDr4J2UXSA')"
      ],
      "metadata": {
        "colab": {
          "base_uri": "https://localhost:8080/",
          "height": 321
        },
        "id": "JTnKv9gYSUHT",
        "outputId": "db7c4d66-3501-40a2-f7d5-14191c2f459e"
      },
      "execution_count": null,
      "outputs": [
        {
          "output_type": "execute_result",
          "data": {
            "text/plain": [
              "<IPython.lib.display.YouTubeVideo at 0x7fa953f69ad0>"
            ],
            "text/html": [
              "\n",
              "        <iframe\n",
              "            width=\"400\"\n",
              "            height=\"300\"\n",
              "            src=\"https://www.youtube.com/embed/OnDr4J2UXSA\"\n",
              "            frameborder=\"0\"\n",
              "            allowfullscreen\n",
              "        ></iframe>\n",
              "        "
            ],
            "image/jpeg": "[encoded data removed]"
          },
          "metadata": {},
          "execution_count": 14
        }
      ]
    },
    {
      "cell_type": "markdown",
      "metadata": {
        "id": "_WrYHVh9Ukid"
      },
      "source": [
        "# End Notebook"
      ]
    }
  ]
}