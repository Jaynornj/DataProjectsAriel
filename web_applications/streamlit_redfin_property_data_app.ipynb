{
  "nbformat": 4,
  "nbformat_minor": 0,
  "metadata": {
    "colab": {
      "provenance": []
    },
    "kernelspec": {
      "name": "python3",
      "display_name": "Python 3"
    }
  },
  "cells": [
    {
      "cell_type": "markdown",
      "source": [
        "# Property Data (Redfin) Streamlit App\n",
        "[![Open In Colab](https://colab.research.google.com/assets/colab-badge.svg)](https://colab.research.google.com/drive/1IP878bC0zbkXmsb872ce2HMb7X6JINYe?usp=sharing)\n",
        "\n",
        "## Overview\n",
        "| Detail Tag            | Information                                                                                        |\n",
        "|-----------------------|----------------------------------------------------------------------------------------------------|\n",
        "| Originally Created By | Ariel Herrera arielherrera@analyticsariel.com |\n",
        "| External References   | API |\n",
        "| Input Datasets        | Source name |\n",
        "| Output Datasets       | Source name |\n",
        "| Input Data Source     | Pandas DataFrame |\n",
        "| Output Data Source    | Pandas DataFrame |\n",
        "\n",
        "## History\n",
        "| Date         | Developed By  | Reason                                                |\n",
        "|--------------|---------------|-------------------------------------------------------|\n",
        "| 1st Dec 2022 | Ariel Herrera | Create notebook. |\n",
        "\n",
        "## Getting Started\n",
        "1. Copy this notebook -> File -> Save a Copy in Drive\n",
        "2. Directions\n",
        "\n",
        "## Useful Resources\n",
        "- [Google Colab Cheat Sheet](https://towardsdatascience.com/cheat-sheet-for-google-colab-63853778c093)"
      ],
      "metadata": {
        "id": "p8_8vOvimyv3"
      }
    },
    {
      "cell_type": "markdown",
      "source": [
        "## <font color=\"blue\">Install Packages</font>"
      ],
      "metadata": {
        "id": "dhjG-Ab6m88P"
      }
    },
    {
      "cell_type": "code",
      "metadata": {
        "id": "RvlYkCQ9vFiy",
        "colab": {
          "base_uri": "https://localhost:8080/"
        },
        "outputId": "b18eb9a1-fa6b-4fbd-8c1d-d4646155ff03"
      },
      "source": [
        "!pip install -q streamlit\n",
        "!npm install localtunnel"
      ],
      "execution_count": null,
      "outputs": [
        {
          "output_type": "stream",
          "name": "stdout",
          "text": [
            "\u001b[K\u001b[?25h\u001b[37;40mnpm\u001b[0m \u001b[0m\u001b[30;43mWARN\u001b[0m \u001b[0m\u001b[35msaveError\u001b[0m ENOENT: no such file or directory, open '/content/package.json'\n",
            "\u001b[0m\u001b[37;40mnpm\u001b[0m \u001b[0m\u001b[30;43mWARN\u001b[0m \u001b[0m\u001b[35menoent\u001b[0m ENOENT: no such file or directory, open '/content/package.json'\n",
            "\u001b[0m\u001b[37;40mnpm\u001b[0m \u001b[0m\u001b[30;43mWARN\u001b[0m\u001b[35m\u001b[0m content No description\n",
            "\u001b[0m\u001b[37;40mnpm\u001b[0m \u001b[0m\u001b[30;43mWARN\u001b[0m\u001b[35m\u001b[0m content No repository field.\n",
            "\u001b[0m\u001b[37;40mnpm\u001b[0m \u001b[0m\u001b[30;43mWARN\u001b[0m\u001b[35m\u001b[0m content No README data\n",
            "\u001b[0m\u001b[37;40mnpm\u001b[0m \u001b[0m\u001b[30;43mWARN\u001b[0m\u001b[35m\u001b[0m content No license field.\n",
            "\u001b[0m\n",
            "+ localtunnel@2.0.2\n",
            "updated 1 package and audited 36 packages in 1.64s\n",
            "\n",
            "3 packages are looking for funding\n",
            "  run `npm fund` for details\n",
            "\n",
            "found \u001b[92m0\u001b[0m vulnerabilities\n",
            "\n",
            "\u001b[K\u001b[?25h"
          ]
        }
      ]
    },
    {
      "cell_type": "markdown",
      "metadata": {
        "id": "waCfwniZOow8"
      },
      "source": [
        "## <font color=\"blue\">Streamlit App</font>\n"
      ]
    },
    {
      "cell_type": "code",
      "source": [
        "%%writefile app.py\n",
        "import streamlit as st\n",
        "import pandas as pd\n",
        "import plotly.express as px\n",
        "\n",
        "\n",
        "#####################################\n",
        "#            FUNCTIONS              #\n",
        "#####################################\n",
        "def additional_bedroom_opportunity(x):\n",
        "  try:\n",
        "    # 2bd >= 1300 can usually fit an additional bd\n",
        "    # 3bd >= 1950 can usually fit an additional bd\n",
        "    # 4bd >= 2600 can usually fit an additional bd\n",
        "    if (x['ratio_sqft_bd'] >= 650) and (x['ratio_sqft_bd'] is not None) and (x['BEDS'] > 1) and (x['PROPERTY TYPE'] == 'Single Family Residential'):\n",
        "      return True\n",
        "    else:\n",
        "      return False\n",
        "  \n",
        "  except:\n",
        "    return False\n",
        "\n",
        "\n",
        "def adu_potential(x):\n",
        "  try:\n",
        "    if (x['ratio_lot_sqft'] >= 5) and (x['ratio_lot_sqft'] is not None) and (x['HOA/MONTH'] is not None) and (x['PROPERTY TYPE'] == 'Single Family Residential'):\n",
        "      return True\n",
        "    else:\n",
        "      return False\n",
        "  except:\n",
        "    return False\n",
        "\n",
        "\n",
        "def convert_df(df):\n",
        "   return df.to_csv(index=False).encode('utf-8')\n",
        "\n",
        "\n",
        "#####################################\n",
        "#            HOME PAGE              #\n",
        "#####################################\n",
        "st.title('Property Data Redfin 🏠')\n",
        "st.markdown('The purpose of this app is to provide summary stats 📊 based on your Redfin data search.')\n",
        "st.markdown(\"#### {0} :point_down:\".format('Upload a CSV file'))\n",
        "uploaded_file = st.file_uploader(\"Choose a file\")\n",
        "if uploaded_file is not None:\n",
        "    # read csv file\n",
        "    df = pd.read_csv(uploaded_file)\n",
        "\n",
        "\n",
        "    #####################################\n",
        "    #              METRICS              #\n",
        "    #####################################\n",
        "    st.markdown(\"## Property Metrics 🏙️\")\n",
        "    col1, col2, col3, col4 = st.columns(4)\n",
        "    col1.metric('Total',  len(df), \n",
        "      help='Number of properties in search')\n",
        "    col2.metric('Avg Price', \"${:,}\".format(df['PRICE'].mean()).split(',')[0] + 'K', \n",
        "      help='Average sale price of properties in search')\n",
        "    col3.metric('Avg DOM', int(df['DAYS ON MARKET'].mean()), \n",
        "      help='Average days on market of properties in search')\n",
        "    col4.metric('Avg PPSQFT', \"${:,}\".format(int(df['$/SQUARE FEET'].mean())), \n",
        "      help='Average price per square foot of properties in search')\n",
        "\n",
        "\n",
        "    #####################################\n",
        "    #             CHARTS                #\n",
        "    #####################################\n",
        "    with st.expander('Charts', expanded=True):\n",
        "      st.markdown(\"## Charts 📈\")\n",
        "      fig = px.histogram(df, x=\"DAYS ON MARKET\", title=\"Days on Market Histogram Chart\")\n",
        "      st.plotly_chart(fig, use_container_width=True)\n",
        "\n",
        "      fig = px.box(df, x=\"PRICE\", title=\"Price Box Plot Chart\")\n",
        "      st.plotly_chart(fig, use_container_width=True)\n",
        "\n",
        "      fig = px.histogram(df, x=\"$/SQUARE FEET\", title=\"Price per SQFT Histogram Chart\")\n",
        "      st.plotly_chart(fig, use_container_width=True)\n",
        "\n",
        "\n",
        "    #####################################\n",
        "    #             FEATURES              #\n",
        "    #####################################\n",
        "    df_features = df.copy()\n",
        "    df_features['ratio_sqft_bd'] = df_features['SQUARE FEET'] / df_features['BEDS']\n",
        "    df_features['additional_bd_opp'] = df_features.apply(lambda x: \n",
        "      additional_bedroom_opportunity(x), axis=1)\n",
        "    df_features['ratio_lot_sqft'] =  df_features['LOT SIZE'] / df_features['SQUARE FEET']\n",
        "    df_features['adu_potential'] = df_features.apply(lambda x: \n",
        "      adu_potential(x), axis=1)\n",
        "\n",
        "\n",
        "    #####################################\n",
        "    #              TABLES               #\n",
        "    #####################################\n",
        "    with st.expander('Opportunities', expanded=True):\n",
        "        st.markdown(\"## Opportunities 💡\")\n",
        "        df_add_bd = df_features.loc[df_features['additional_bd_opp'] == True]\n",
        "        df_adu = df_features.loc[df_features['adu_potential'] == True]\n",
        "\n",
        "        col1, col2 = st.columns(2)\n",
        "        col1.metric('Total Add Bd', len(df_add_bd), help='Number of properties with additonal bedroom opportunity')\n",
        "        col2.metric('Total ADU', len(df_adu), help='Number of properties with ADU potential')\n",
        "\n",
        "        st.markdown(\"#### Featurized Dataset\")\n",
        "        st.write(df_features)\n",
        "\n",
        "        # convert featurized dataset to csv\n",
        "        csv = convert_df(df_features)\n",
        "\n",
        "        st.download_button(\n",
        "            \"Download 🔽\",\n",
        "            csv,\n",
        "            \"property_dataset.csv\",\n",
        "            \"text/csv\",\n",
        "            key='download-csv'\n",
        "        )"
      ],
      "metadata": {
        "id": "meJ36PefNftd",
        "outputId": "98f72ab4-6a07-453d-fd42-8a2eefc4dcbd",
        "colab": {
          "base_uri": "https://localhost:8080/"
        }
      },
      "execution_count": null,
      "outputs": [
        {
          "output_type": "stream",
          "name": "stdout",
          "text": [
            "Overwriting app.py\n"
          ]
        }
      ]
    },
    {
      "cell_type": "markdown",
      "source": [
        "## Run streamlit in background"
      ],
      "metadata": {
        "id": "kccYE2lkN20y"
      }
    },
    {
      "cell_type": "code",
      "source": [
        "!streamlit run /content/app.py &>/content/logs.txt &"
      ],
      "metadata": {
        "id": "Zv912rRAN0fs"
      },
      "execution_count": null,
      "outputs": []
    },
    {
      "cell_type": "markdown",
      "source": [
        "## Expose the port 8501\n",
        "Then just click in the `url` showed.\n",
        "\n",
        "A `log.txt`file will be created."
      ],
      "metadata": {
        "id": "h_KW9juhOCuH"
      }
    },
    {
      "cell_type": "code",
      "source": [
        "!npx localtunnel --port 8501"
      ],
      "metadata": {
        "id": "XTGAizLhOIgC",
        "outputId": "5cdaf9f0-fb2a-4bf0-c7d4-c9144a1c4dba",
        "colab": {
          "base_uri": "https://localhost:8080/"
        }
      },
      "execution_count": null,
      "outputs": [
        {
          "output_type": "stream",
          "name": "stdout",
          "text": [
            "\u001b[K\u001b[?25hnpx: installed 22 in 5.661s\n",
            "your url is: https://floppy-lines-slide-34-83-158-148.loca.lt\n",
            "^C\n"
          ]
        }
      ]
    },
    {
      "cell_type": "markdown",
      "source": [
        "# End Notebook"
      ],
      "metadata": {
        "id": "l2FVELl_nKmV"
      }
    }
  ]
}
