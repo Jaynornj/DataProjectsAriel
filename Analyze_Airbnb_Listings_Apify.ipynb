{
  "nbformat": 4,
  "nbformat_minor": 0,
  "metadata": {
    "colab": {
      "name": "Analyze_Airbnb_Listings_Apify.ipynb",
      "provenance": [],
      "authorship_tag": "ABX9TyNt0z+V6OL/9ym9BoImfpxS",
      "include_colab_link": true
    },
    "kernelspec": {
      "name": "python3",
      "display_name": "Python 3"
    },
    "language_info": {
      "name": "python"
    }
  },
  "cells": [
    {
      "cell_type": "markdown",
      "metadata": {
        "id": "view-in-github",
        "colab_type": "text"
      },
      "source": [
        "<a href=\"https://colab.research.google.com/github/analyticsariel/projects/blob/master/Analyze_Airbnb_Listings_Apify.ipynb\" target=\"_parent\"><img src=\"https://colab.research.google.com/assets/colab-badge.svg\" alt=\"Open In Colab\"/></a>"
      ]
    },
    {
      "cell_type": "markdown",
      "metadata": {
        "id": "BYRys7lpU-iF"
      },
      "source": [
        "# Notebook Title\n",
        "\n",
        "## Overview\n",
        "| Detail Tag            | Information                                                                                        |\n",
        "|-----------------------|----------------------------------------------------------------------------------------------------|\n",
        "| Originally Created By | Ariel Herrera arielherrera@analyticsariel.com |\n",
        "| External References   | API |\n",
        "| Input Datasets        | Source name |\n",
        "| Output Datasets       | Source name |\n",
        "| Input Data Source     | Pandas DataFrame |\n",
        "| Output Data Source    | Pandas DataFrame |\n",
        "\n",
        "## History\n",
        "| Date         | Developed By  | Reason                                                |\n",
        "|--------------|---------------|-------------------------------------------------------|\n",
        "| 1st Jun 2021 | Ariel Herrera | Create notebook. |\n",
        "\n",
        "## Getting Started\n",
        "1. Copy this notebook -> File -> Save a Copy in Drive\n",
        "2. Directions\n",
        "\n",
        "## Useful Resources\n",
        "- [Google Colab Cheat Sheet](https://towardsdatascience.com/cheat-sheet-for-google-colab-63853778c093)"
      ]
    },
    {
      "cell_type": "markdown",
      "metadata": {
        "id": "hKgiM1tbUnbI"
      },
      "source": [
        "## <font color=\"blue\">Install Packages</font>"
      ]
    },
    {
      "cell_type": "code",
      "metadata": {
        "id": "7V2OU_iGUppW"
      },
      "source": [
        ""
      ],
      "execution_count": 73,
      "outputs": []
    },
    {
      "cell_type": "markdown",
      "metadata": {
        "id": "-ZgrtjtLUi6a"
      },
      "source": [
        "## <font color=\"blue\">Imports</font>"
      ]
    },
    {
      "cell_type": "code",
      "metadata": {
        "id": "7vWKHxJDUjOJ"
      },
      "source": [
        "from google.colab import drive, files # specific to Google Colab\n",
        "import plotly.express as px # visualization\n",
        "import pandas as pd # data manipulation\n",
        "import io"
      ],
      "execution_count": 74,
      "outputs": []
    },
    {
      "cell_type": "markdown",
      "metadata": {
        "id": "PkdXQZp8UqcC"
      },
      "source": [
        "## <font color=\"blue\">Functions</font>"
      ]
    },
    {
      "cell_type": "code",
      "metadata": {
        "id": "5p76TDONUsXe"
      },
      "source": [
        ""
      ],
      "execution_count": 74,
      "outputs": []
    },
    {
      "cell_type": "markdown",
      "metadata": {
        "id": "9B1YSUk9UsoZ"
      },
      "source": [
        "## <font color=\"blue\">Locals & Constants</font>"
      ]
    },
    {
      "cell_type": "code",
      "metadata": {
        "id": "C0x9BC1nUqO6",
        "colab": {
          "base_uri": "https://localhost:8080/"
        },
        "outputId": "0a02eecb-81e9-4d2a-b946-7b2202fafe39"
      },
      "source": [
        "############\n",
        "# OPTIONAL #\n",
        "############\n",
        "\n",
        "# mount drive\n",
        "drive.mount('/content/drive', force_remount=False)\n",
        "\n",
        "# data location\n",
        "file_dir = '/content/drive/My Drive/Colab Data/input/' # optional"
      ],
      "execution_count": 75,
      "outputs": [
        {
          "output_type": "stream",
          "name": "stdout",
          "text": [
            "Drive already mounted at /content/drive; to attempt to forcibly remount, call drive.mount(\"/content/drive\", force_remount=True).\n"
          ]
        }
      ]
    },
    {
      "cell_type": "code",
      "source": [
        "# read in api key file\n",
        "df_api_keys = pd.read_csv(file_dir + 'api_keys.csv')\n",
        "\n",
        "# get keys\n",
        "mapbox_api_key = df_api_keys.loc[df_api_keys['API'] =='mapbox']['KEY'].iloc[0] # replace this with your own key"
      ],
      "metadata": {
        "id": "w8X7hST5hRBB"
      },
      "execution_count": 76,
      "outputs": []
    },
    {
      "cell_type": "markdown",
      "metadata": {
        "id": "CGCaqKj1UvIo"
      },
      "source": [
        "## <font color=\"blue\">Data</font>"
      ]
    },
    {
      "cell_type": "code",
      "metadata": {
        "id": "jT3eZXJ_UwaS",
        "colab": {
          "resources": {
            "http://localhost:8080/nbextensions/google.colab/files.js": {
              "data": "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",
              "ok": true,
              "headers": [
                [
                  "content-type",
                  "application/javascript"
                ]
              ],
              "status": 200,
              "status_text": ""
            }
          },
          "base_uri": "https://localhost:8080/",
          "height": 74
        },
        "outputId": "766b1091-6c0e-4630-9df2-158dd50b1d8c"
      },
      "source": [
        "# upload\n",
        "uploaded = files.upload()"
      ],
      "execution_count": 77,
      "outputs": [
        {
          "output_type": "display_data",
          "data": {
            "text/plain": [
              "<IPython.core.display.HTML object>"
            ],
            "text/html": [
              "\n",
              "     <input type=\"file\" id=\"files-090c1883-9dde-4581-afac-cc6b6918c3d9\" name=\"files[]\" multiple disabled\n",
              "        style=\"border:none\" />\n",
              "     <output id=\"result-090c1883-9dde-4581-afac-cc6b6918c3d9\">\n",
              "      Upload widget is only available when the cell has been executed in the\n",
              "      current browser session. Please rerun this cell to enable.\n",
              "      </output>\n",
              "      <script src=\"/nbextensions/google.colab/files.js\"></script> "
            ]
          },
          "metadata": {}
        },
        {
          "output_type": "stream",
          "name": "stdout",
          "text": [
            "Saving dataset_airbnb-scraper_2022-06-08_21-00-58-787.csv to dataset_airbnb-scraper_2022-06-08_21-00-58-787 (1).csv\n"
          ]
        }
      ]
    },
    {
      "cell_type": "code",
      "source": [
        "# get file name\n",
        "file_name = list(uploaded.keys())[0]\n",
        "\n",
        "# read file\n",
        "df_upload = pd.read_csv(io.BytesIO(uploaded[file_name]))\n",
        "print('Num of rows:', len(df_upload))\n",
        "print('Num of columns:', len(df_upload.columns))"
      ],
      "metadata": {
        "colab": {
          "base_uri": "https://localhost:8080/"
        },
        "id": "U7-99i9ic14I",
        "outputId": "5970a04c-3687-4def-b33d-1c80bc4388e3"
      },
      "execution_count": 96,
      "outputs": [
        {
          "output_type": "stream",
          "name": "stdout",
          "text": [
            "Num of rows: 500\n",
            "Num of columns: 17\n"
          ]
        }
      ]
    },
    {
      "cell_type": "code",
      "source": [
        "# view elements in first row\n",
        "df_upload.iloc[0]"
      ],
      "metadata": {
        "colab": {
          "base_uri": "https://localhost:8080/"
        },
        "id": "JHN_LvDg7Rei",
        "outputId": "09ffca60-654d-48a5-9407-d63ad4c47370"
      },
      "execution_count": 94,
      "outputs": [
        {
          "output_type": "execute_result",
          "data": {
            "text/plain": [
              "address                                                        Bradenton, Florida, United States\n",
              "location/lat                                                                               27.49\n",
              "location/lng                                                                             -82.586\n",
              "name                                                “Happy”—cozy TWIN bed: bedroom 3of5 in home.\n",
              "numberOfGuests                                                                                 1\n",
              "pricing/rate/amount                                                                         7000\n",
              "pricing/rate/amount_formatted                                                             $7,000\n",
              "pricing/rate/currency                                                                        USD\n",
              "pricing/rate/is_micros_accuracy                                                            False\n",
              "pricing/rate_type                                                                        nightly\n",
              "pricing/rate_with_service_fee/amount                                                        7000\n",
              "pricing/rate_with_service_fee/amount_formatted                                            $7,000\n",
              "pricing/rate_with_service_fee/currency                                                       USD\n",
              "pricing/rate_with_service_fee/is_micros_accuracy                                           False\n",
              "roomType                                                                    Private room in home\n",
              "stars                                                                                        5.0\n",
              "url                                                        https://www.airbnb.com/rooms/39355203\n",
              "Name: 0, dtype: object"
            ]
          },
          "metadata": {},
          "execution_count": 94
        }
      ]
    },
    {
      "cell_type": "code",
      "source": [
        "# list all columns\n",
        "df_upload.columns"
      ],
      "metadata": {
        "colab": {
          "base_uri": "https://localhost:8080/"
        },
        "id": "LS4YksJskghM",
        "outputId": "13c69169-5dc4-40e0-b731-0eb8514397d0"
      },
      "execution_count": 80,
      "outputs": [
        {
          "output_type": "execute_result",
          "data": {
            "text/plain": [
              "Index(['address', 'location/lat', 'location/lng', 'name', 'numberOfGuests',\n",
              "       'pricing/rate/amount', 'pricing/rate/amount_formatted',\n",
              "       'pricing/rate/currency', 'pricing/rate/is_micros_accuracy',\n",
              "       'pricing/rate_type', 'pricing/rate_with_service_fee/amount',\n",
              "       'pricing/rate_with_service_fee/amount_formatted',\n",
              "       'pricing/rate_with_service_fee/currency',\n",
              "       'pricing/rate_with_service_fee/is_micros_accuracy', 'roomType', 'stars',\n",
              "       'url'],\n",
              "      dtype='object')"
            ]
          },
          "metadata": {},
          "execution_count": 80
        }
      ]
    },
    {
      "cell_type": "markdown",
      "metadata": {
        "id": "xAk6Sl0bUxcx"
      },
      "source": [
        "## <font color=\"blue\">Transformations</font>"
      ]
    },
    {
      "cell_type": "code",
      "source": [
        "# cities\n",
        "df_grp_cities = df_upload.groupby(by=['address'])['name'].count().reset_index()\\\n",
        "  .rename(columns={'name': 'count'})\\\n",
        "  .sort_values(by=['count'], ascending=False)\n",
        "df_grp_cities['percent'] = (df_grp_cities['count'] / df_grp_cities['count'].sum()) * 100\n",
        "df_grp_cities"
      ],
      "metadata": {
        "colab": {
          "base_uri": "https://localhost:8080/",
          "height": 238
        },
        "id": "kO5aO206dIfK",
        "outputId": "d848af1e-f7c6-47f5-e4ca-d9ffe6434c38"
      },
      "execution_count": 81,
      "outputs": [
        {
          "output_type": "execute_result",
          "data": {
            "text/plain": [
              "                                address  count  percent\n",
              "5    Siesta Key, Florida, United States    302     60.4\n",
              "4      Sarasota, Florida, United States    184     36.8\n",
              "1      Lido Key, Florida, United States      8      1.6\n",
              "0     Bradenton, Florida, United States      4      0.8\n",
              "2  Longboat Key, Florida, United States      1      0.2\n",
              "3     Sarasota , Florida, United States      1      0.2"
            ],
            "text/html": [
              "\n",
              "  <div id=\"df-d8bd8895-de42-4b33-9ef8-3943d185247f\">\n",
              "    <div class=\"colab-df-container\">\n",
              "      <div>\n",
              "<style scoped>\n",
              "    .dataframe tbody tr th:only-of-type {\n",
              "        vertical-align: middle;\n",
              "    }\n",
              "\n",
              "    .dataframe tbody tr th {\n",
              "        vertical-align: top;\n",
              "    }\n",
              "\n",
              "    .dataframe thead th {\n",
              "        text-align: right;\n",
              "    }\n",
              "</style>\n",
              "<table border=\"1\" class=\"dataframe\">\n",
              "  <thead>\n",
              "    <tr style=\"text-align: right;\">\n",
              "      <th></th>\n",
              "      <th>address</th>\n",
              "      <th>count</th>\n",
              "      <th>percent</th>\n",
              "    </tr>\n",
              "  </thead>\n",
              "  <tbody>\n",
              "    <tr>\n",
              "      <th>5</th>\n",
              "      <td>Siesta Key, Florida, United States</td>\n",
              "      <td>302</td>\n",
              "      <td>60.4</td>\n",
              "    </tr>\n",
              "    <tr>\n",
              "      <th>4</th>\n",
              "      <td>Sarasota, Florida, United States</td>\n",
              "      <td>184</td>\n",
              "      <td>36.8</td>\n",
              "    </tr>\n",
              "    <tr>\n",
              "      <th>1</th>\n",
              "      <td>Lido Key, Florida, United States</td>\n",
              "      <td>8</td>\n",
              "      <td>1.6</td>\n",
              "    </tr>\n",
              "    <tr>\n",
              "      <th>0</th>\n",
              "      <td>Bradenton, Florida, United States</td>\n",
              "      <td>4</td>\n",
              "      <td>0.8</td>\n",
              "    </tr>\n",
              "    <tr>\n",
              "      <th>2</th>\n",
              "      <td>Longboat Key, Florida, United States</td>\n",
              "      <td>1</td>\n",
              "      <td>0.2</td>\n",
              "    </tr>\n",
              "    <tr>\n",
              "      <th>3</th>\n",
              "      <td>Sarasota , Florida, United States</td>\n",
              "      <td>1</td>\n",
              "      <td>0.2</td>\n",
              "    </tr>\n",
              "  </tbody>\n",
              "</table>\n",
              "</div>\n",
              "      <button class=\"colab-df-convert\" onclick=\"convertToInteractive('df-d8bd8895-de42-4b33-9ef8-3943d185247f')\"\n",
              "              title=\"Convert this dataframe to an interactive table.\"\n",
              "              style=\"display:none;\">\n",
              "        \n",
              "  <svg xmlns=\"http://www.w3.org/2000/svg\" height=\"24px\"viewBox=\"0 0 24 24\"\n",
              "       width=\"24px\">\n",
              "    <path d=\"M0 0h24v24H0V0z\" fill=\"none\"/>\n",
              "    <path d=\"M18.56 5.44l.94 2.06.94-2.06 2.06-.94-2.06-.94-.94-2.06-.94 2.06-2.06.94zm-11 1L8.5 8.5l.94-2.06 2.06-.94-2.06-.94L8.5 2.5l-.94 2.06-2.06.94zm10 10l.94 2.06.94-2.06 2.06-.94-2.06-.94-.94-2.06-.94 2.06-2.06.94z\"/><path d=\"M17.41 7.96l-1.37-1.37c-.4-.4-.92-.59-1.43-.59-.52 0-1.04.2-1.43.59L10.3 9.45l-7.72 7.72c-.78.78-.78 2.05 0 2.83L4 21.41c.39.39.9.59 1.41.59.51 0 1.02-.2 1.41-.59l7.78-7.78 2.81-2.81c.8-.78.8-2.07 0-2.86zM5.41 20L4 18.59l7.72-7.72 1.47 1.35L5.41 20z\"/>\n",
              "  </svg>\n",
              "      </button>\n",
              "      \n",
              "  <style>\n",
              "    .colab-df-container {\n",
              "      display:flex;\n",
              "      flex-wrap:wrap;\n",
              "      gap: 12px;\n",
              "    }\n",
              "\n",
              "    .colab-df-convert {\n",
              "      background-color: #E8F0FE;\n",
              "      border: none;\n",
              "      border-radius: 50%;\n",
              "      cursor: pointer;\n",
              "      display: none;\n",
              "      fill: #1967D2;\n",
              "      height: 32px;\n",
              "      padding: 0 0 0 0;\n",
              "      width: 32px;\n",
              "    }\n",
              "\n",
              "    .colab-df-convert:hover {\n",
              "      background-color: #E2EBFA;\n",
              "      box-shadow: 0px 1px 2px rgba(60, 64, 67, 0.3), 0px 1px 3px 1px rgba(60, 64, 67, 0.15);\n",
              "      fill: #174EA6;\n",
              "    }\n",
              "\n",
              "    [theme=dark] .colab-df-convert {\n",
              "      background-color: #3B4455;\n",
              "      fill: #D2E3FC;\n",
              "    }\n",
              "\n",
              "    [theme=dark] .colab-df-convert:hover {\n",
              "      background-color: #434B5C;\n",
              "      box-shadow: 0px 1px 3px 1px rgba(0, 0, 0, 0.15);\n",
              "      filter: drop-shadow(0px 1px 2px rgba(0, 0, 0, 0.3));\n",
              "      fill: #FFFFFF;\n",
              "    }\n",
              "  </style>\n",
              "\n",
              "      <script>\n",
              "        const buttonEl =\n",
              "          document.querySelector('#df-d8bd8895-de42-4b33-9ef8-3943d185247f button.colab-df-convert');\n",
              "        buttonEl.style.display =\n",
              "          google.colab.kernel.accessAllowed ? 'block' : 'none';\n",
              "\n",
              "        async function convertToInteractive(key) {\n",
              "          const element = document.querySelector('#df-d8bd8895-de42-4b33-9ef8-3943d185247f');\n",
              "          const dataTable =\n",
              "            await google.colab.kernel.invokeFunction('convertToInteractive',\n",
              "                                                     [key], {});\n",
              "          if (!dataTable) return;\n",
              "\n",
              "          const docLinkHtml = 'Like what you see? Visit the ' +\n",
              "            '<a target=\"_blank\" href=https://colab.research.google.com/notebooks/data_table.ipynb>data table notebook</a>'\n",
              "            + ' to learn more about interactive tables.';\n",
              "          element.innerHTML = '';\n",
              "          dataTable['output_type'] = 'display_data';\n",
              "          await google.colab.output.renderOutput(dataTable, element);\n",
              "          const docLink = document.createElement('div');\n",
              "          docLink.innerHTML = docLinkHtml;\n",
              "          element.appendChild(docLink);\n",
              "        }\n",
              "      </script>\n",
              "    </div>\n",
              "  </div>\n",
              "  "
            ]
          },
          "metadata": {},
          "execution_count": 81
        }
      ]
    },
    {
      "cell_type": "code",
      "metadata": {
        "id": "jyrWZ__PUxM7",
        "colab": {
          "base_uri": "https://localhost:8080/",
          "height": 670
        },
        "outputId": "ab1bc4de-b989-4f3c-a270-6dc11c8c3536"
      },
      "source": [
        "# filter on Siesta Key, Florida\n",
        "df = df_upload.loc[df_upload['address'] == 'Siesta Key, Florida, United States']\n",
        "print('Num of rows:', len(df))\n",
        "df.head()"
      ],
      "execution_count": 84,
      "outputs": [
        {
          "output_type": "stream",
          "name": "stdout",
          "text": [
            "Num of rows: 302\n"
          ]
        },
        {
          "output_type": "execute_result",
          "data": {
            "text/plain": [
              "                               address  location/lat  location/lng  \\\n",
              "6   Siesta Key, Florida, United States      27.28400     -82.56500   \n",
              "7   Siesta Key, Florida, United States      27.27446     -82.56757   \n",
              "8   Siesta Key, Florida, United States      27.27200     -82.56300   \n",
              "9   Siesta Key, Florida, United States      27.27100     -82.55900   \n",
              "10  Siesta Key, Florida, United States      27.27400     -82.56700   \n",
              "\n",
              "                                                 name  numberOfGuests  \\\n",
              "6   Modern Marvel - Stunning Gulf Front Home! Amaz...              14   \n",
              "7              The Oasis-Flexible Cancellation Policy              16   \n",
              "8   Ocean Overlook - Nearly Beachfront Home w/ Gor...              16   \n",
              "9   Sea Spray - Gulf Access with Dock. Resort Styl...              16   \n",
              "10  Sugar Sand Cottage - Gorgeous 5 Bedroom Home, ...              16   \n",
              "\n",
              "    pricing/rate/amount pricing/rate/amount_formatted pricing/rate/currency  \\\n",
              "6                  2747                        $2,747                   USD   \n",
              "7                  3696                        $3,696                   USD   \n",
              "8                  4056                        $4,056                   USD   \n",
              "9                  3371                        $3,371                   USD   \n",
              "10                 3371                        $3,371                   USD   \n",
              "\n",
              "    pricing/rate/is_micros_accuracy pricing/rate_type  \\\n",
              "6                             False           nightly   \n",
              "7                             False           nightly   \n",
              "8                             False           nightly   \n",
              "9                             False           nightly   \n",
              "10                            False           nightly   \n",
              "\n",
              "    pricing/rate_with_service_fee/amount  \\\n",
              "6                                   2747   \n",
              "7                                   3696   \n",
              "8                                   4056   \n",
              "9                                   3371   \n",
              "10                                  3371   \n",
              "\n",
              "   pricing/rate_with_service_fee/amount_formatted  \\\n",
              "6                                          $2,747   \n",
              "7                                          $3,696   \n",
              "8                                          $4,056   \n",
              "9                                          $3,371   \n",
              "10                                         $3,371   \n",
              "\n",
              "   pricing/rate_with_service_fee/currency  \\\n",
              "6                                     USD   \n",
              "7                                     USD   \n",
              "8                                     USD   \n",
              "9                                     USD   \n",
              "10                                    USD   \n",
              "\n",
              "    pricing/rate_with_service_fee/is_micros_accuracy     roomType  stars  \\\n",
              "6                                              False  Entire home    4.5   \n",
              "7                                              False  Entire home    NaN   \n",
              "8                                              False  Entire home    5.0   \n",
              "9                                              False  Entire home    5.0   \n",
              "10                                             False  Entire home    5.0   \n",
              "\n",
              "                                      url  \n",
              "6   https://www.airbnb.com/rooms/38351053  \n",
              "7   https://www.airbnb.com/rooms/53935001  \n",
              "8   https://www.airbnb.com/rooms/50259570  \n",
              "9   https://www.airbnb.com/rooms/20071265  \n",
              "10  https://www.airbnb.com/rooms/43122199  "
            ],
            "text/html": [
              "\n",
              "  <div id=\"df-990f1945-1a26-4e01-9afe-e543a825d524\">\n",
              "    <div class=\"colab-df-container\">\n",
              "      <div>\n",
              "<style scoped>\n",
              "    .dataframe tbody tr th:only-of-type {\n",
              "        vertical-align: middle;\n",
              "    }\n",
              "\n",
              "    .dataframe tbody tr th {\n",
              "        vertical-align: top;\n",
              "    }\n",
              "\n",
              "    .dataframe thead th {\n",
              "        text-align: right;\n",
              "    }\n",
              "</style>\n",
              "<table border=\"1\" class=\"dataframe\">\n",
              "  <thead>\n",
              "    <tr style=\"text-align: right;\">\n",
              "      <th></th>\n",
              "      <th>address</th>\n",
              "      <th>location/lat</th>\n",
              "      <th>location/lng</th>\n",
              "      <th>name</th>\n",
              "      <th>numberOfGuests</th>\n",
              "      <th>pricing/rate/amount</th>\n",
              "      <th>pricing/rate/amount_formatted</th>\n",
              "      <th>pricing/rate/currency</th>\n",
              "      <th>pricing/rate/is_micros_accuracy</th>\n",
              "      <th>pricing/rate_type</th>\n",
              "      <th>pricing/rate_with_service_fee/amount</th>\n",
              "      <th>pricing/rate_with_service_fee/amount_formatted</th>\n",
              "      <th>pricing/rate_with_service_fee/currency</th>\n",
              "      <th>pricing/rate_with_service_fee/is_micros_accuracy</th>\n",
              "      <th>roomType</th>\n",
              "      <th>stars</th>\n",
              "      <th>url</th>\n",
              "    </tr>\n",
              "  </thead>\n",
              "  <tbody>\n",
              "    <tr>\n",
              "      <th>6</th>\n",
              "      <td>Siesta Key, Florida, United States</td>\n",
              "      <td>27.28400</td>\n",
              "      <td>-82.56500</td>\n",
              "      <td>Modern Marvel - Stunning Gulf Front Home! Amaz...</td>\n",
              "      <td>14</td>\n",
              "      <td>2747</td>\n",
              "      <td>$2,747</td>\n",
              "      <td>USD</td>\n",
              "      <td>False</td>\n",
              "      <td>nightly</td>\n",
              "      <td>2747</td>\n",
              "      <td>$2,747</td>\n",
              "      <td>USD</td>\n",
              "      <td>False</td>\n",
              "      <td>Entire home</td>\n",
              "      <td>4.5</td>\n",
              "      <td>https://www.airbnb.com/rooms/38351053</td>\n",
              "    </tr>\n",
              "    <tr>\n",
              "      <th>7</th>\n",
              "      <td>Siesta Key, Florida, United States</td>\n",
              "      <td>27.27446</td>\n",
              "      <td>-82.56757</td>\n",
              "      <td>The Oasis-Flexible Cancellation Policy</td>\n",
              "      <td>16</td>\n",
              "      <td>3696</td>\n",
              "      <td>$3,696</td>\n",
              "      <td>USD</td>\n",
              "      <td>False</td>\n",
              "      <td>nightly</td>\n",
              "      <td>3696</td>\n",
              "      <td>$3,696</td>\n",
              "      <td>USD</td>\n",
              "      <td>False</td>\n",
              "      <td>Entire home</td>\n",
              "      <td>NaN</td>\n",
              "      <td>https://www.airbnb.com/rooms/53935001</td>\n",
              "    </tr>\n",
              "    <tr>\n",
              "      <th>8</th>\n",
              "      <td>Siesta Key, Florida, United States</td>\n",
              "      <td>27.27200</td>\n",
              "      <td>-82.56300</td>\n",
              "      <td>Ocean Overlook - Nearly Beachfront Home w/ Gor...</td>\n",
              "      <td>16</td>\n",
              "      <td>4056</td>\n",
              "      <td>$4,056</td>\n",
              "      <td>USD</td>\n",
              "      <td>False</td>\n",
              "      <td>nightly</td>\n",
              "      <td>4056</td>\n",
              "      <td>$4,056</td>\n",
              "      <td>USD</td>\n",
              "      <td>False</td>\n",
              "      <td>Entire home</td>\n",
              "      <td>5.0</td>\n",
              "      <td>https://www.airbnb.com/rooms/50259570</td>\n",
              "    </tr>\n",
              "    <tr>\n",
              "      <th>9</th>\n",
              "      <td>Siesta Key, Florida, United States</td>\n",
              "      <td>27.27100</td>\n",
              "      <td>-82.55900</td>\n",
              "      <td>Sea Spray - Gulf Access with Dock. Resort Styl...</td>\n",
              "      <td>16</td>\n",
              "      <td>3371</td>\n",
              "      <td>$3,371</td>\n",
              "      <td>USD</td>\n",
              "      <td>False</td>\n",
              "      <td>nightly</td>\n",
              "      <td>3371</td>\n",
              "      <td>$3,371</td>\n",
              "      <td>USD</td>\n",
              "      <td>False</td>\n",
              "      <td>Entire home</td>\n",
              "      <td>5.0</td>\n",
              "      <td>https://www.airbnb.com/rooms/20071265</td>\n",
              "    </tr>\n",
              "    <tr>\n",
              "      <th>10</th>\n",
              "      <td>Siesta Key, Florida, United States</td>\n",
              "      <td>27.27400</td>\n",
              "      <td>-82.56700</td>\n",
              "      <td>Sugar Sand Cottage - Gorgeous 5 Bedroom Home, ...</td>\n",
              "      <td>16</td>\n",
              "      <td>3371</td>\n",
              "      <td>$3,371</td>\n",
              "      <td>USD</td>\n",
              "      <td>False</td>\n",
              "      <td>nightly</td>\n",
              "      <td>3371</td>\n",
              "      <td>$3,371</td>\n",
              "      <td>USD</td>\n",
              "      <td>False</td>\n",
              "      <td>Entire home</td>\n",
              "      <td>5.0</td>\n",
              "      <td>https://www.airbnb.com/rooms/43122199</td>\n",
              "    </tr>\n",
              "  </tbody>\n",
              "</table>\n",
              "</div>\n",
              "      <button class=\"colab-df-convert\" onclick=\"convertToInteractive('df-990f1945-1a26-4e01-9afe-e543a825d524')\"\n",
              "              title=\"Convert this dataframe to an interactive table.\"\n",
              "              style=\"display:none;\">\n",
              "        \n",
              "  <svg xmlns=\"http://www.w3.org/2000/svg\" height=\"24px\"viewBox=\"0 0 24 24\"\n",
              "       width=\"24px\">\n",
              "    <path d=\"M0 0h24v24H0V0z\" fill=\"none\"/>\n",
              "    <path d=\"M18.56 5.44l.94 2.06.94-2.06 2.06-.94-2.06-.94-.94-2.06-.94 2.06-2.06.94zm-11 1L8.5 8.5l.94-2.06 2.06-.94-2.06-.94L8.5 2.5l-.94 2.06-2.06.94zm10 10l.94 2.06.94-2.06 2.06-.94-2.06-.94-.94-2.06-.94 2.06-2.06.94z\"/><path d=\"M17.41 7.96l-1.37-1.37c-.4-.4-.92-.59-1.43-.59-.52 0-1.04.2-1.43.59L10.3 9.45l-7.72 7.72c-.78.78-.78 2.05 0 2.83L4 21.41c.39.39.9.59 1.41.59.51 0 1.02-.2 1.41-.59l7.78-7.78 2.81-2.81c.8-.78.8-2.07 0-2.86zM5.41 20L4 18.59l7.72-7.72 1.47 1.35L5.41 20z\"/>\n",
              "  </svg>\n",
              "      </button>\n",
              "      \n",
              "  <style>\n",
              "    .colab-df-container {\n",
              "      display:flex;\n",
              "      flex-wrap:wrap;\n",
              "      gap: 12px;\n",
              "    }\n",
              "\n",
              "    .colab-df-convert {\n",
              "      background-color: #E8F0FE;\n",
              "      border: none;\n",
              "      border-radius: 50%;\n",
              "      cursor: pointer;\n",
              "      display: none;\n",
              "      fill: #1967D2;\n",
              "      height: 32px;\n",
              "      padding: 0 0 0 0;\n",
              "      width: 32px;\n",
              "    }\n",
              "\n",
              "    .colab-df-convert:hover {\n",
              "      background-color: #E2EBFA;\n",
              "      box-shadow: 0px 1px 2px rgba(60, 64, 67, 0.3), 0px 1px 3px 1px rgba(60, 64, 67, 0.15);\n",
              "      fill: #174EA6;\n",
              "    }\n",
              "\n",
              "    [theme=dark] .colab-df-convert {\n",
              "      background-color: #3B4455;\n",
              "      fill: #D2E3FC;\n",
              "    }\n",
              "\n",
              "    [theme=dark] .colab-df-convert:hover {\n",
              "      background-color: #434B5C;\n",
              "      box-shadow: 0px 1px 3px 1px rgba(0, 0, 0, 0.15);\n",
              "      filter: drop-shadow(0px 1px 2px rgba(0, 0, 0, 0.3));\n",
              "      fill: #FFFFFF;\n",
              "    }\n",
              "  </style>\n",
              "\n",
              "      <script>\n",
              "        const buttonEl =\n",
              "          document.querySelector('#df-990f1945-1a26-4e01-9afe-e543a825d524 button.colab-df-convert');\n",
              "        buttonEl.style.display =\n",
              "          google.colab.kernel.accessAllowed ? 'block' : 'none';\n",
              "\n",
              "        async function convertToInteractive(key) {\n",
              "          const element = document.querySelector('#df-990f1945-1a26-4e01-9afe-e543a825d524');\n",
              "          const dataTable =\n",
              "            await google.colab.kernel.invokeFunction('convertToInteractive',\n",
              "                                                     [key], {});\n",
              "          if (!dataTable) return;\n",
              "\n",
              "          const docLinkHtml = 'Like what you see? Visit the ' +\n",
              "            '<a target=\"_blank\" href=https://colab.research.google.com/notebooks/data_table.ipynb>data table notebook</a>'\n",
              "            + ' to learn more about interactive tables.';\n",
              "          element.innerHTML = '';\n",
              "          dataTable['output_type'] = 'display_data';\n",
              "          await google.colab.output.renderOutput(dataTable, element);\n",
              "          const docLink = document.createElement('div');\n",
              "          docLink.innerHTML = docLinkHtml;\n",
              "          element.appendChild(docLink);\n",
              "        }\n",
              "      </script>\n",
              "    </div>\n",
              "  </div>\n",
              "  "
            ]
          },
          "metadata": {},
          "execution_count": 84
        }
      ]
    },
    {
      "cell_type": "code",
      "source": [
        "# room type\n",
        "df_grp_rm_type = df.groupby(by=['roomType'])['name'].count().reset_index()\\\n",
        "  .rename(columns={'name': 'count'})\\\n",
        "  .sort_values(by=['count'], ascending=False)\n",
        "df_grp_rm_type['percent'] = round((df_grp_rm_type['count'] / df_grp_rm_type['count'].sum()) * 100, 2)\n",
        "df_grp_rm_type"
      ],
      "metadata": {
        "colab": {
          "base_uri": "https://localhost:8080/",
          "height": 457
        },
        "id": "bceF7pP3e8uA",
        "outputId": "8e18d89b-8e1f-4422-ff23-6f4821ff82ee"
      },
      "execution_count": 82,
      "outputs": [
        {
          "output_type": "execute_result",
          "data": {
            "text/plain": [
              "                     roomType  count  percent\n",
              "4                 Entire home    103    34.11\n",
              "1                Entire condo     82    27.15\n",
              "5          Entire rental unit     62    20.53\n",
              "7            Entire townhouse     24     7.95\n",
              "2              Entire cottage      9     2.98\n",
              "12     Private room in resort      6     1.99\n",
              "8                Entire villa      5     1.66\n",
              "3          Entire guest suite      4     1.32\n",
              "0             Entire bungalow      2     0.66\n",
              "10       Private room in home      2     0.66\n",
              "6   Entire serviced apartment      1     0.33\n",
              "9       Private room in condo      1     0.33\n",
              "11     Private room in island      1     0.33"
            ],
            "text/html": [
              "\n",
              "  <div id=\"df-979670b2-e3d1-4021-8ffe-9e628688b57d\">\n",
              "    <div class=\"colab-df-container\">\n",
              "      <div>\n",
              "<style scoped>\n",
              "    .dataframe tbody tr th:only-of-type {\n",
              "        vertical-align: middle;\n",
              "    }\n",
              "\n",
              "    .dataframe tbody tr th {\n",
              "        vertical-align: top;\n",
              "    }\n",
              "\n",
              "    .dataframe thead th {\n",
              "        text-align: right;\n",
              "    }\n",
              "</style>\n",
              "<table border=\"1\" class=\"dataframe\">\n",
              "  <thead>\n",
              "    <tr style=\"text-align: right;\">\n",
              "      <th></th>\n",
              "      <th>roomType</th>\n",
              "      <th>count</th>\n",
              "      <th>percent</th>\n",
              "    </tr>\n",
              "  </thead>\n",
              "  <tbody>\n",
              "    <tr>\n",
              "      <th>4</th>\n",
              "      <td>Entire home</td>\n",
              "      <td>103</td>\n",
              "      <td>34.11</td>\n",
              "    </tr>\n",
              "    <tr>\n",
              "      <th>1</th>\n",
              "      <td>Entire condo</td>\n",
              "      <td>82</td>\n",
              "      <td>27.15</td>\n",
              "    </tr>\n",
              "    <tr>\n",
              "      <th>5</th>\n",
              "      <td>Entire rental unit</td>\n",
              "      <td>62</td>\n",
              "      <td>20.53</td>\n",
              "    </tr>\n",
              "    <tr>\n",
              "      <th>7</th>\n",
              "      <td>Entire townhouse</td>\n",
              "      <td>24</td>\n",
              "      <td>7.95</td>\n",
              "    </tr>\n",
              "    <tr>\n",
              "      <th>2</th>\n",
              "      <td>Entire cottage</td>\n",
              "      <td>9</td>\n",
              "      <td>2.98</td>\n",
              "    </tr>\n",
              "    <tr>\n",
              "      <th>12</th>\n",
              "      <td>Private room in resort</td>\n",
              "      <td>6</td>\n",
              "      <td>1.99</td>\n",
              "    </tr>\n",
              "    <tr>\n",
              "      <th>8</th>\n",
              "      <td>Entire villa</td>\n",
              "      <td>5</td>\n",
              "      <td>1.66</td>\n",
              "    </tr>\n",
              "    <tr>\n",
              "      <th>3</th>\n",
              "      <td>Entire guest suite</td>\n",
              "      <td>4</td>\n",
              "      <td>1.32</td>\n",
              "    </tr>\n",
              "    <tr>\n",
              "      <th>0</th>\n",
              "      <td>Entire bungalow</td>\n",
              "      <td>2</td>\n",
              "      <td>0.66</td>\n",
              "    </tr>\n",
              "    <tr>\n",
              "      <th>10</th>\n",
              "      <td>Private room in home</td>\n",
              "      <td>2</td>\n",
              "      <td>0.66</td>\n",
              "    </tr>\n",
              "    <tr>\n",
              "      <th>6</th>\n",
              "      <td>Entire serviced apartment</td>\n",
              "      <td>1</td>\n",
              "      <td>0.33</td>\n",
              "    </tr>\n",
              "    <tr>\n",
              "      <th>9</th>\n",
              "      <td>Private room in condo</td>\n",
              "      <td>1</td>\n",
              "      <td>0.33</td>\n",
              "    </tr>\n",
              "    <tr>\n",
              "      <th>11</th>\n",
              "      <td>Private room in island</td>\n",
              "      <td>1</td>\n",
              "      <td>0.33</td>\n",
              "    </tr>\n",
              "  </tbody>\n",
              "</table>\n",
              "</div>\n",
              "      <button class=\"colab-df-convert\" onclick=\"convertToInteractive('df-979670b2-e3d1-4021-8ffe-9e628688b57d')\"\n",
              "              title=\"Convert this dataframe to an interactive table.\"\n",
              "              style=\"display:none;\">\n",
              "        \n",
              "  <svg xmlns=\"http://www.w3.org/2000/svg\" height=\"24px\"viewBox=\"0 0 24 24\"\n",
              "       width=\"24px\">\n",
              "    <path d=\"M0 0h24v24H0V0z\" fill=\"none\"/>\n",
              "    <path d=\"M18.56 5.44l.94 2.06.94-2.06 2.06-.94-2.06-.94-.94-2.06-.94 2.06-2.06.94zm-11 1L8.5 8.5l.94-2.06 2.06-.94-2.06-.94L8.5 2.5l-.94 2.06-2.06.94zm10 10l.94 2.06.94-2.06 2.06-.94-2.06-.94-.94-2.06-.94 2.06-2.06.94z\"/><path d=\"M17.41 7.96l-1.37-1.37c-.4-.4-.92-.59-1.43-.59-.52 0-1.04.2-1.43.59L10.3 9.45l-7.72 7.72c-.78.78-.78 2.05 0 2.83L4 21.41c.39.39.9.59 1.41.59.51 0 1.02-.2 1.41-.59l7.78-7.78 2.81-2.81c.8-.78.8-2.07 0-2.86zM5.41 20L4 18.59l7.72-7.72 1.47 1.35L5.41 20z\"/>\n",
              "  </svg>\n",
              "      </button>\n",
              "      \n",
              "  <style>\n",
              "    .colab-df-container {\n",
              "      display:flex;\n",
              "      flex-wrap:wrap;\n",
              "      gap: 12px;\n",
              "    }\n",
              "\n",
              "    .colab-df-convert {\n",
              "      background-color: #E8F0FE;\n",
              "      border: none;\n",
              "      border-radius: 50%;\n",
              "      cursor: pointer;\n",
              "      display: none;\n",
              "      fill: #1967D2;\n",
              "      height: 32px;\n",
              "      padding: 0 0 0 0;\n",
              "      width: 32px;\n",
              "    }\n",
              "\n",
              "    .colab-df-convert:hover {\n",
              "      background-color: #E2EBFA;\n",
              "      box-shadow: 0px 1px 2px rgba(60, 64, 67, 0.3), 0px 1px 3px 1px rgba(60, 64, 67, 0.15);\n",
              "      fill: #174EA6;\n",
              "    }\n",
              "\n",
              "    [theme=dark] .colab-df-convert {\n",
              "      background-color: #3B4455;\n",
              "      fill: #D2E3FC;\n",
              "    }\n",
              "\n",
              "    [theme=dark] .colab-df-convert:hover {\n",
              "      background-color: #434B5C;\n",
              "      box-shadow: 0px 1px 3px 1px rgba(0, 0, 0, 0.15);\n",
              "      filter: drop-shadow(0px 1px 2px rgba(0, 0, 0, 0.3));\n",
              "      fill: #FFFFFF;\n",
              "    }\n",
              "  </style>\n",
              "\n",
              "      <script>\n",
              "        const buttonEl =\n",
              "          document.querySelector('#df-979670b2-e3d1-4021-8ffe-9e628688b57d button.colab-df-convert');\n",
              "        buttonEl.style.display =\n",
              "          google.colab.kernel.accessAllowed ? 'block' : 'none';\n",
              "\n",
              "        async function convertToInteractive(key) {\n",
              "          const element = document.querySelector('#df-979670b2-e3d1-4021-8ffe-9e628688b57d');\n",
              "          const dataTable =\n",
              "            await google.colab.kernel.invokeFunction('convertToInteractive',\n",
              "                                                     [key], {});\n",
              "          if (!dataTable) return;\n",
              "\n",
              "          const docLinkHtml = 'Like what you see? Visit the ' +\n",
              "            '<a target=\"_blank\" href=https://colab.research.google.com/notebooks/data_table.ipynb>data table notebook</a>'\n",
              "            + ' to learn more about interactive tables.';\n",
              "          element.innerHTML = '';\n",
              "          dataTable['output_type'] = 'display_data';\n",
              "          await google.colab.output.renderOutput(dataTable, element);\n",
              "          const docLink = document.createElement('div');\n",
              "          docLink.innerHTML = docLinkHtml;\n",
              "          element.appendChild(docLink);\n",
              "        }\n",
              "      </script>\n",
              "    </div>\n",
              "  </div>\n",
              "  "
            ]
          },
          "metadata": {},
          "execution_count": 82
        }
      ]
    },
    {
      "cell_type": "code",
      "source": [
        "# star count & avg price amount\n",
        "df.groupby('stars')\\\n",
        "  .agg({'name':'count','pricing/rate/amount':'mean'}).reset_index()\\\n",
        "  .rename(columns={'name': 'count'})\\\n",
        "  .sort_values(by=['count'], ascending=False)"
      ],
      "metadata": {
        "colab": {
          "base_uri": "https://localhost:8080/",
          "height": 175
        },
        "id": "KmAyIkRPfnZN",
        "outputId": "ce143461-07a0-470b-9c13-dcdeaacc633c"
      },
      "execution_count": 83,
      "outputs": [
        {
          "output_type": "execute_result",
          "data": {
            "text/plain": [
              "   stars  count  pricing/rate/amount\n",
              "3    5.0    175           746.114286\n",
              "2    4.5     44           562.681818\n",
              "1    4.0      3           626.666667\n",
              "0    3.5      2           357.000000"
            ],
            "text/html": [
              "\n",
              "  <div id=\"df-f99c3378-a8c7-43e5-b8db-ed751bcea150\">\n",
              "    <div class=\"colab-df-container\">\n",
              "      <div>\n",
              "<style scoped>\n",
              "    .dataframe tbody tr th:only-of-type {\n",
              "        vertical-align: middle;\n",
              "    }\n",
              "\n",
              "    .dataframe tbody tr th {\n",
              "        vertical-align: top;\n",
              "    }\n",
              "\n",
              "    .dataframe thead th {\n",
              "        text-align: right;\n",
              "    }\n",
              "</style>\n",
              "<table border=\"1\" class=\"dataframe\">\n",
              "  <thead>\n",
              "    <tr style=\"text-align: right;\">\n",
              "      <th></th>\n",
              "      <th>stars</th>\n",
              "      <th>count</th>\n",
              "      <th>pricing/rate/amount</th>\n",
              "    </tr>\n",
              "  </thead>\n",
              "  <tbody>\n",
              "    <tr>\n",
              "      <th>3</th>\n",
              "      <td>5.0</td>\n",
              "      <td>175</td>\n",
              "      <td>746.114286</td>\n",
              "    </tr>\n",
              "    <tr>\n",
              "      <th>2</th>\n",
              "      <td>4.5</td>\n",
              "      <td>44</td>\n",
              "      <td>562.681818</td>\n",
              "    </tr>\n",
              "    <tr>\n",
              "      <th>1</th>\n",
              "      <td>4.0</td>\n",
              "      <td>3</td>\n",
              "      <td>626.666667</td>\n",
              "    </tr>\n",
              "    <tr>\n",
              "      <th>0</th>\n",
              "      <td>3.5</td>\n",
              "      <td>2</td>\n",
              "      <td>357.000000</td>\n",
              "    </tr>\n",
              "  </tbody>\n",
              "</table>\n",
              "</div>\n",
              "      <button class=\"colab-df-convert\" onclick=\"convertToInteractive('df-f99c3378-a8c7-43e5-b8db-ed751bcea150')\"\n",
              "              title=\"Convert this dataframe to an interactive table.\"\n",
              "              style=\"display:none;\">\n",
              "        \n",
              "  <svg xmlns=\"http://www.w3.org/2000/svg\" height=\"24px\"viewBox=\"0 0 24 24\"\n",
              "       width=\"24px\">\n",
              "    <path d=\"M0 0h24v24H0V0z\" fill=\"none\"/>\n",
              "    <path d=\"M18.56 5.44l.94 2.06.94-2.06 2.06-.94-2.06-.94-.94-2.06-.94 2.06-2.06.94zm-11 1L8.5 8.5l.94-2.06 2.06-.94-2.06-.94L8.5 2.5l-.94 2.06-2.06.94zm10 10l.94 2.06.94-2.06 2.06-.94-2.06-.94-.94-2.06-.94 2.06-2.06.94z\"/><path d=\"M17.41 7.96l-1.37-1.37c-.4-.4-.92-.59-1.43-.59-.52 0-1.04.2-1.43.59L10.3 9.45l-7.72 7.72c-.78.78-.78 2.05 0 2.83L4 21.41c.39.39.9.59 1.41.59.51 0 1.02-.2 1.41-.59l7.78-7.78 2.81-2.81c.8-.78.8-2.07 0-2.86zM5.41 20L4 18.59l7.72-7.72 1.47 1.35L5.41 20z\"/>\n",
              "  </svg>\n",
              "      </button>\n",
              "      \n",
              "  <style>\n",
              "    .colab-df-container {\n",
              "      display:flex;\n",
              "      flex-wrap:wrap;\n",
              "      gap: 12px;\n",
              "    }\n",
              "\n",
              "    .colab-df-convert {\n",
              "      background-color: #E8F0FE;\n",
              "      border: none;\n",
              "      border-radius: 50%;\n",
              "      cursor: pointer;\n",
              "      display: none;\n",
              "      fill: #1967D2;\n",
              "      height: 32px;\n",
              "      padding: 0 0 0 0;\n",
              "      width: 32px;\n",
              "    }\n",
              "\n",
              "    .colab-df-convert:hover {\n",
              "      background-color: #E2EBFA;\n",
              "      box-shadow: 0px 1px 2px rgba(60, 64, 67, 0.3), 0px 1px 3px 1px rgba(60, 64, 67, 0.15);\n",
              "      fill: #174EA6;\n",
              "    }\n",
              "\n",
              "    [theme=dark] .colab-df-convert {\n",
              "      background-color: #3B4455;\n",
              "      fill: #D2E3FC;\n",
              "    }\n",
              "\n",
              "    [theme=dark] .colab-df-convert:hover {\n",
              "      background-color: #434B5C;\n",
              "      box-shadow: 0px 1px 3px 1px rgba(0, 0, 0, 0.15);\n",
              "      filter: drop-shadow(0px 1px 2px rgba(0, 0, 0, 0.3));\n",
              "      fill: #FFFFFF;\n",
              "    }\n",
              "  </style>\n",
              "\n",
              "      <script>\n",
              "        const buttonEl =\n",
              "          document.querySelector('#df-f99c3378-a8c7-43e5-b8db-ed751bcea150 button.colab-df-convert');\n",
              "        buttonEl.style.display =\n",
              "          google.colab.kernel.accessAllowed ? 'block' : 'none';\n",
              "\n",
              "        async function convertToInteractive(key) {\n",
              "          const element = document.querySelector('#df-f99c3378-a8c7-43e5-b8db-ed751bcea150');\n",
              "          const dataTable =\n",
              "            await google.colab.kernel.invokeFunction('convertToInteractive',\n",
              "                                                     [key], {});\n",
              "          if (!dataTable) return;\n",
              "\n",
              "          const docLinkHtml = 'Like what you see? Visit the ' +\n",
              "            '<a target=\"_blank\" href=https://colab.research.google.com/notebooks/data_table.ipynb>data table notebook</a>'\n",
              "            + ' to learn more about interactive tables.';\n",
              "          element.innerHTML = '';\n",
              "          dataTable['output_type'] = 'display_data';\n",
              "          await google.colab.output.renderOutput(dataTable, element);\n",
              "          const docLink = document.createElement('div');\n",
              "          docLink.innerHTML = docLinkHtml;\n",
              "          element.appendChild(docLink);\n",
              "        }\n",
              "      </script>\n",
              "    </div>\n",
              "  </div>\n",
              "  "
            ]
          },
          "metadata": {},
          "execution_count": 83
        }
      ]
    },
    {
      "cell_type": "markdown",
      "source": [
        "## <font color=\"blue\">Visualization</font>"
      ],
      "metadata": {
        "id": "4MrIdgzAeFlm"
      }
    },
    {
      "cell_type": "code",
      "source": [
        "# view number of guests\n",
        "fig = px.histogram(df, x=\"numberOfGuests\", nbins=10)\n",
        "fig.show()"
      ],
      "metadata": {
        "colab": {
          "base_uri": "https://localhost:8080/",
          "height": 542
        },
        "id": "CmcsKRVNeJH6",
        "outputId": "99c69e70-acfe-4008-e392-bedd2799dd40"
      },
      "execution_count": 85,
      "outputs": [
        {
          "output_type": "display_data",
          "data": {
            "text/html": [
              "<html>\n",
              "<head><meta charset=\"utf-8\" /></head>\n",
              "<body>\n",
              "    <div>            <script src=\"https://cdnjs.cloudflare.com/ajax/libs/mathjax/2.7.5/MathJax.js?config=TeX-AMS-MML_SVG\"></script><script type=\"text/javascript\">if (window.MathJax) {MathJax.Hub.Config({SVG: {font: \"STIX-Web\"}});}</script>                <script type=\"text/javascript\">window.PlotlyConfig = {MathJaxConfig: 'local'};</script>\n",
              "        <script src=\"https://cdn.plot.ly/plotly-2.8.3.min.js\"></script>                <div id=\"886bd846-7197-4e92-93ee-1792edf8c884\" class=\"plotly-graph-div\" style=\"height:525px; width:100%;\"></div>            <script type=\"text/javascript\">                                    window.PLOTLYENV=window.PLOTLYENV || {};                                    if (document.getElementById(\"886bd846-7197-4e92-93ee-1792edf8c884\")) {                    Plotly.newPlot(                        \"886bd846-7197-4e92-93ee-1792edf8c884\",                        [{\"alignmentgroup\":\"True\",\"bingroup\":\"x\",\"hovertemplate\":\"numberOfGuests=%{x}<br>count=%{y}<extra></extra>\",\"legendgroup\":\"\",\"marker\":{\"color\":\"#636efa\",\"pattern\":{\"shape\":\"\"}},\"name\":\"\",\"nbinsx\":10,\"offsetgroup\":\"\",\"orientation\":\"v\",\"showlegend\":false,\"x\":[14,16,16,16,16,16,16,12,16,16,16,16,16,15,16,16,16,16,16,16,16,16,16,14,8,10,14,16,15,16,16,10,16,8,8,10,16,11,7,12,10,7,12,8,12,9,14,14,10,10,16,11,7,14,10,7,10,6,11,10,8,12,16,14,10,7,12,16,8,8,6,9,8,12,15,12,6,8,11,10,10,8,16,12,6,8,7,8,3,4,8,8,11,7,12,6,6,6,10,6,6,6,6,6,12,6,10,6,6,8,2,12,8,6,6,4,6,8,8,7,6,6,8,3,10,11,8,6,6,6,5,6,6,6,4,4,8,4,10,8,8,7,8,6,6,4,5,6,7,6,8,2,10,2,4,7,6,6,4,8,2,8,6,8,5,10,2,6,8,9,6,14,4,2,8,6,8,6,6,6,8,4,4,9,9,6,6,8,6,2,6,6,6,12,7,4,4,9,6,6,6,6,8,6,10,8,6,2,6,6,6,6,4,8,5,6,6,6,4,6,4,6,6,6,6,4,6,8,5,4,6,4,3,2,2,4,4,4,4,3,1,4,5,5,2,4,6,4,6,2,6,4,4,6,4,4,3,3,6,2,6,6,2,2,2,4,4,5,4,4,2,2,6,6,2,2,6,6,4,5,6,4,6,3,4,2,4,4,6,6,4,4,6,8,6,2,6,4,6,6,4,4],\"xaxis\":\"x\",\"yaxis\":\"y\",\"type\":\"histogram\"}],                        {\"template\":{\"data\":{\"bar\":[{\"error_x\":{\"color\":\"#2a3f5f\"},\"error_y\":{\"color\":\"#2a3f5f\"},\"marker\":{\"line\":{\"color\":\"#E5ECF6\",\"width\":0.5},\"pattern\":{\"fillmode\":\"overlay\",\"size\":10,\"solidity\":0.2}},\"type\":\"bar\"}],\"barpolar\":[{\"marker\":{\"line\":{\"color\":\"#E5ECF6\",\"width\":0.5},\"pattern\":{\"fillmode\":\"overlay\",\"size\":10,\"solidity\":0.2}},\"type\":\"barpolar\"}],\"carpet\":[{\"aaxis\":{\"endlinecolor\":\"#2a3f5f\",\"gridcolor\":\"white\",\"linecolor\":\"white\",\"minorgridcolor\":\"white\",\"startlinecolor\":\"#2a3f5f\"},\"baxis\":{\"endlinecolor\":\"#2a3f5f\",\"gridcolor\":\"white\",\"linecolor\":\"white\",\"minorgridcolor\":\"white\",\"startlinecolor\":\"#2a3f5f\"},\"type\":\"carpet\"}],\"choropleth\":[{\"colorbar\":{\"outlinewidth\":0,\"ticks\":\"\"},\"type\":\"choropleth\"}],\"contour\":[{\"colorbar\":{\"outlinewidth\":0,\"ticks\":\"\"},\"colorscale\":[[0.0,\"#0d0887\"],[0.1111111111111111,\"#46039f\"],[0.2222222222222222,\"#7201a8\"],[0.3333333333333333,\"#9c179e\"],[0.4444444444444444,\"#bd3786\"],[0.5555555555555556,\"#d8576b\"],[0.6666666666666666,\"#ed7953\"],[0.7777777777777778,\"#fb9f3a\"],[0.8888888888888888,\"#fdca26\"],[1.0,\"#f0f921\"]],\"type\":\"contour\"}],\"contourcarpet\":[{\"colorbar\":{\"outlinewidth\":0,\"ticks\":\"\"},\"type\":\"contourcarpet\"}],\"heatmap\":[{\"colorbar\":{\"outlinewidth\":0,\"ticks\":\"\"},\"colorscale\":[[0.0,\"#0d0887\"],[0.1111111111111111,\"#46039f\"],[0.2222222222222222,\"#7201a8\"],[0.3333333333333333,\"#9c179e\"],[0.4444444444444444,\"#bd3786\"],[0.5555555555555556,\"#d8576b\"],[0.6666666666666666,\"#ed7953\"],[0.7777777777777778,\"#fb9f3a\"],[0.8888888888888888,\"#fdca26\"],[1.0,\"#f0f921\"]],\"type\":\"heatmap\"}],\"heatmapgl\":[{\"colorbar\":{\"outlinewidth\":0,\"ticks\":\"\"},\"colorscale\":[[0.0,\"#0d0887\"],[0.1111111111111111,\"#46039f\"],[0.2222222222222222,\"#7201a8\"],[0.3333333333333333,\"#9c179e\"],[0.4444444444444444,\"#bd3786\"],[0.5555555555555556,\"#d8576b\"],[0.6666666666666666,\"#ed7953\"],[0.7777777777777778,\"#fb9f3a\"],[0.8888888888888888,\"#fdca26\"],[1.0,\"#f0f921\"]],\"type\":\"heatmapgl\"}],\"histogram\":[{\"marker\":{\"pattern\":{\"fillmode\":\"overlay\",\"size\":10,\"solidity\":0.2}},\"type\":\"histogram\"}],\"histogram2d\":[{\"colorbar\":{\"outlinewidth\":0,\"ticks\":\"\"},\"colorscale\":[[0.0,\"#0d0887\"],[0.1111111111111111,\"#46039f\"],[0.2222222222222222,\"#7201a8\"],[0.3333333333333333,\"#9c179e\"],[0.4444444444444444,\"#bd3786\"],[0.5555555555555556,\"#d8576b\"],[0.6666666666666666,\"#ed7953\"],[0.7777777777777778,\"#fb9f3a\"],[0.8888888888888888,\"#fdca26\"],[1.0,\"#f0f921\"]],\"type\":\"histogram2d\"}],\"histogram2dcontour\":[{\"colorbar\":{\"outlinewidth\":0,\"ticks\":\"\"},\"colorscale\":[[0.0,\"#0d0887\"],[0.1111111111111111,\"#46039f\"],[0.2222222222222222,\"#7201a8\"],[0.3333333333333333,\"#9c179e\"],[0.4444444444444444,\"#bd3786\"],[0.5555555555555556,\"#d8576b\"],[0.6666666666666666,\"#ed7953\"],[0.7777777777777778,\"#fb9f3a\"],[0.8888888888888888,\"#fdca26\"],[1.0,\"#f0f921\"]],\"type\":\"histogram2dcontour\"}],\"mesh3d\":[{\"colorbar\":{\"outlinewidth\":0,\"ticks\":\"\"},\"type\":\"mesh3d\"}],\"parcoords\":[{\"line\":{\"colorbar\":{\"outlinewidth\":0,\"ticks\":\"\"}},\"type\":\"parcoords\"}],\"pie\":[{\"automargin\":true,\"type\":\"pie\"}],\"scatter\":[{\"marker\":{\"colorbar\":{\"outlinewidth\":0,\"ticks\":\"\"}},\"type\":\"scatter\"}],\"scatter3d\":[{\"line\":{\"colorbar\":{\"outlinewidth\":0,\"ticks\":\"\"}},\"marker\":{\"colorbar\":{\"outlinewidth\":0,\"ticks\":\"\"}},\"type\":\"scatter3d\"}],\"scattercarpet\":[{\"marker\":{\"colorbar\":{\"outlinewidth\":0,\"ticks\":\"\"}},\"type\":\"scattercarpet\"}],\"scattergeo\":[{\"marker\":{\"colorbar\":{\"outlinewidth\":0,\"ticks\":\"\"}},\"type\":\"scattergeo\"}],\"scattergl\":[{\"marker\":{\"colorbar\":{\"outlinewidth\":0,\"ticks\":\"\"}},\"type\":\"scattergl\"}],\"scattermapbox\":[{\"marker\":{\"colorbar\":{\"outlinewidth\":0,\"ticks\":\"\"}},\"type\":\"scattermapbox\"}],\"scatterpolar\":[{\"marker\":{\"colorbar\":{\"outlinewidth\":0,\"ticks\":\"\"}},\"type\":\"scatterpolar\"}],\"scatterpolargl\":[{\"marker\":{\"colorbar\":{\"outlinewidth\":0,\"ticks\":\"\"}},\"type\":\"scatterpolargl\"}],\"scatterternary\":[{\"marker\":{\"colorbar\":{\"outlinewidth\":0,\"ticks\":\"\"}},\"type\":\"scatterternary\"}],\"surface\":[{\"colorbar\":{\"outlinewidth\":0,\"ticks\":\"\"},\"colorscale\":[[0.0,\"#0d0887\"],[0.1111111111111111,\"#46039f\"],[0.2222222222222222,\"#7201a8\"],[0.3333333333333333,\"#9c179e\"],[0.4444444444444444,\"#bd3786\"],[0.5555555555555556,\"#d8576b\"],[0.6666666666666666,\"#ed7953\"],[0.7777777777777778,\"#fb9f3a\"],[0.8888888888888888,\"#fdca26\"],[1.0,\"#f0f921\"]],\"type\":\"surface\"}],\"table\":[{\"cells\":{\"fill\":{\"color\":\"#EBF0F8\"},\"line\":{\"color\":\"white\"}},\"header\":{\"fill\":{\"color\":\"#C8D4E3\"},\"line\":{\"color\":\"white\"}},\"type\":\"table\"}]},\"layout\":{\"annotationdefaults\":{\"arrowcolor\":\"#2a3f5f\",\"arrowhead\":0,\"arrowwidth\":1},\"autotypenumbers\":\"strict\",\"coloraxis\":{\"colorbar\":{\"outlinewidth\":0,\"ticks\":\"\"}},\"colorscale\":{\"diverging\":[[0,\"#8e0152\"],[0.1,\"#c51b7d\"],[0.2,\"#de77ae\"],[0.3,\"#f1b6da\"],[0.4,\"#fde0ef\"],[0.5,\"#f7f7f7\"],[0.6,\"#e6f5d0\"],[0.7,\"#b8e186\"],[0.8,\"#7fbc41\"],[0.9,\"#4d9221\"],[1,\"#276419\"]],\"sequential\":[[0.0,\"#0d0887\"],[0.1111111111111111,\"#46039f\"],[0.2222222222222222,\"#7201a8\"],[0.3333333333333333,\"#9c179e\"],[0.4444444444444444,\"#bd3786\"],[0.5555555555555556,\"#d8576b\"],[0.6666666666666666,\"#ed7953\"],[0.7777777777777778,\"#fb9f3a\"],[0.8888888888888888,\"#fdca26\"],[1.0,\"#f0f921\"]],\"sequentialminus\":[[0.0,\"#0d0887\"],[0.1111111111111111,\"#46039f\"],[0.2222222222222222,\"#7201a8\"],[0.3333333333333333,\"#9c179e\"],[0.4444444444444444,\"#bd3786\"],[0.5555555555555556,\"#d8576b\"],[0.6666666666666666,\"#ed7953\"],[0.7777777777777778,\"#fb9f3a\"],[0.8888888888888888,\"#fdca26\"],[1.0,\"#f0f921\"]]},\"colorway\":[\"#636efa\",\"#EF553B\",\"#00cc96\",\"#ab63fa\",\"#FFA15A\",\"#19d3f3\",\"#FF6692\",\"#B6E880\",\"#FF97FF\",\"#FECB52\"],\"font\":{\"color\":\"#2a3f5f\"},\"geo\":{\"bgcolor\":\"white\",\"lakecolor\":\"white\",\"landcolor\":\"#E5ECF6\",\"showlakes\":true,\"showland\":true,\"subunitcolor\":\"white\"},\"hoverlabel\":{\"align\":\"left\"},\"hovermode\":\"closest\",\"mapbox\":{\"style\":\"light\"},\"paper_bgcolor\":\"white\",\"plot_bgcolor\":\"#E5ECF6\",\"polar\":{\"angularaxis\":{\"gridcolor\":\"white\",\"linecolor\":\"white\",\"ticks\":\"\"},\"bgcolor\":\"#E5ECF6\",\"radialaxis\":{\"gridcolor\":\"white\",\"linecolor\":\"white\",\"ticks\":\"\"}},\"scene\":{\"xaxis\":{\"backgroundcolor\":\"#E5ECF6\",\"gridcolor\":\"white\",\"gridwidth\":2,\"linecolor\":\"white\",\"showbackground\":true,\"ticks\":\"\",\"zerolinecolor\":\"white\"},\"yaxis\":{\"backgroundcolor\":\"#E5ECF6\",\"gridcolor\":\"white\",\"gridwidth\":2,\"linecolor\":\"white\",\"showbackground\":true,\"ticks\":\"\",\"zerolinecolor\":\"white\"},\"zaxis\":{\"backgroundcolor\":\"#E5ECF6\",\"gridcolor\":\"white\",\"gridwidth\":2,\"linecolor\":\"white\",\"showbackground\":true,\"ticks\":\"\",\"zerolinecolor\":\"white\"}},\"shapedefaults\":{\"line\":{\"color\":\"#2a3f5f\"}},\"ternary\":{\"aaxis\":{\"gridcolor\":\"white\",\"linecolor\":\"white\",\"ticks\":\"\"},\"baxis\":{\"gridcolor\":\"white\",\"linecolor\":\"white\",\"ticks\":\"\"},\"bgcolor\":\"#E5ECF6\",\"caxis\":{\"gridcolor\":\"white\",\"linecolor\":\"white\",\"ticks\":\"\"}},\"title\":{\"x\":0.05},\"xaxis\":{\"automargin\":true,\"gridcolor\":\"white\",\"linecolor\":\"white\",\"ticks\":\"\",\"title\":{\"standoff\":15},\"zerolinecolor\":\"white\",\"zerolinewidth\":2},\"yaxis\":{\"automargin\":true,\"gridcolor\":\"white\",\"linecolor\":\"white\",\"ticks\":\"\",\"title\":{\"standoff\":15},\"zerolinecolor\":\"white\",\"zerolinewidth\":2}}},\"xaxis\":{\"anchor\":\"y\",\"domain\":[0.0,1.0],\"title\":{\"text\":\"numberOfGuests\"}},\"yaxis\":{\"anchor\":\"x\",\"domain\":[0.0,1.0],\"title\":{\"text\":\"count\"}},\"legend\":{\"tracegroupgap\":0},\"margin\":{\"t\":60},\"barmode\":\"relative\"},                        {\"responsive\": true}                    ).then(function(){\n",
              "                            \n",
              "var gd = document.getElementById('886bd846-7197-4e92-93ee-1792edf8c884');\n",
              "var x = new MutationObserver(function (mutations, observer) {{\n",
              "        var display = window.getComputedStyle(gd).display;\n",
              "        if (!display || display === 'none') {{\n",
              "            console.log([gd, 'removed!']);\n",
              "            Plotly.purge(gd);\n",
              "            observer.disconnect();\n",
              "        }}\n",
              "}});\n",
              "\n",
              "// Listen for the removal of the full notebook cells\n",
              "var notebookContainer = gd.closest('#notebook-container');\n",
              "if (notebookContainer) {{\n",
              "    x.observe(notebookContainer, {childList: true});\n",
              "}}\n",
              "\n",
              "// Listen for the clearing of the current output cell\n",
              "var outputEl = gd.closest('.output');\n",
              "if (outputEl) {{\n",
              "    x.observe(outputEl, {childList: true});\n",
              "}}\n",
              "\n",
              "                        })                };                            </script>        </div>\n",
              "</body>\n",
              "</html>"
            ]
          },
          "metadata": {}
        }
      ]
    },
    {
      "cell_type": "code",
      "source": [
        "# daily price\n",
        "fig = px.histogram(df, x=\"pricing/rate/amount\")\n",
        "fig.show()"
      ],
      "metadata": {
        "colab": {
          "base_uri": "https://localhost:8080/",
          "height": 542
        },
        "id": "ZOD3L_kSegBq",
        "outputId": "190c4bda-06a8-4022-9531-98c10cbba99d"
      },
      "execution_count": 86,
      "outputs": [
        {
          "output_type": "display_data",
          "data": {
            "text/html": [
              "<html>\n",
              "<head><meta charset=\"utf-8\" /></head>\n",
              "<body>\n",
              "    <div>            <script src=\"https://cdnjs.cloudflare.com/ajax/libs/mathjax/2.7.5/MathJax.js?config=TeX-AMS-MML_SVG\"></script><script type=\"text/javascript\">if (window.MathJax) {MathJax.Hub.Config({SVG: {font: \"STIX-Web\"}});}</script>                <script type=\"text/javascript\">window.PlotlyConfig = {MathJaxConfig: 'local'};</script>\n",
              "        <script src=\"https://cdn.plot.ly/plotly-2.8.3.min.js\"></script>                <div id=\"e9c8be71-376f-4fb8-93a0-b9e360299c88\" class=\"plotly-graph-div\" style=\"height:525px; width:100%;\"></div>            <script type=\"text/javascript\">                                    window.PLOTLYENV=window.PLOTLYENV || {};                                    if (document.getElementById(\"e9c8be71-376f-4fb8-93a0-b9e360299c88\")) {                    Plotly.newPlot(                        \"e9c8be71-376f-4fb8-93a0-b9e360299c88\",                        [{\"alignmentgroup\":\"True\",\"bingroup\":\"x\",\"hovertemplate\":\"pricing/rate/amount=%{x}<br>count=%{y}<extra></extra>\",\"legendgroup\":\"\",\"marker\":{\"color\":\"#636efa\",\"pattern\":{\"shape\":\"\"}},\"name\":\"\",\"offsetgroup\":\"\",\"orientation\":\"v\",\"showlegend\":false,\"x\":[2747,3696,4056,3371,3371,3246,3246,3643,3121,2997,2747,3432,2747,3405,3371,2747,2747,2747,4828,3971,3959,2723,2721,2622,1873,2058,1998,2218,2622,1296,1839,1873,2372,2124,1300,1352,2391,2124,2126,1352,1354,1254,1880,1254,1929,688,1927,959,650,830,678,725,795,935,650,736,1059,999,642,900,645,859,707,935,650,626,1059,889,905,646,795,999,1059,761,925,859,854,1162,670,771,800,1058,1086,874,1061,902,901,738,838,837,1150,695,1084,901,411,600,379,368,369,500,350,575,438,384,350,350,695,329,450,357,495,430,565,346,445,338,539,439,520,375,529,420,607,323,588,520,417,372,369,318,368,323,327,543,440,318,600,343,585,615,395,371,439,503,380,464,395,430,417,355,326,497,384,444,325,360,338,350,350,395,481,439,499,395,390,688,481,319,381,445,415,350,353,366,475,575,450,437,437,314,325,486,437,496,499,396,437,350,386,350,345,338,437,545,415,325,437,558,393,437,325,437,499,400,564,492,345,350,554,437,336,369,602,499,472,425,437,499,313,386,355,381,495,350,554,348,362,421,437,135,82,132,140,140,116,114,135,135,135,119,82,152,150,83,138,152,145,129,101,131,115,130,152,150,137,154,130,155,149,135,153,400,143,138,148,99,116,131,130,128,129,125,130,150,95,74,150,137,114,138,155,155,120,152,140,100,150,130,437,118,68,148,126,146,153,119,114,150,134,135,155,118],\"xaxis\":\"x\",\"yaxis\":\"y\",\"type\":\"histogram\"}],                        {\"template\":{\"data\":{\"bar\":[{\"error_x\":{\"color\":\"#2a3f5f\"},\"error_y\":{\"color\":\"#2a3f5f\"},\"marker\":{\"line\":{\"color\":\"#E5ECF6\",\"width\":0.5},\"pattern\":{\"fillmode\":\"overlay\",\"size\":10,\"solidity\":0.2}},\"type\":\"bar\"}],\"barpolar\":[{\"marker\":{\"line\":{\"color\":\"#E5ECF6\",\"width\":0.5},\"pattern\":{\"fillmode\":\"overlay\",\"size\":10,\"solidity\":0.2}},\"type\":\"barpolar\"}],\"carpet\":[{\"aaxis\":{\"endlinecolor\":\"#2a3f5f\",\"gridcolor\":\"white\",\"linecolor\":\"white\",\"minorgridcolor\":\"white\",\"startlinecolor\":\"#2a3f5f\"},\"baxis\":{\"endlinecolor\":\"#2a3f5f\",\"gridcolor\":\"white\",\"linecolor\":\"white\",\"minorgridcolor\":\"white\",\"startlinecolor\":\"#2a3f5f\"},\"type\":\"carpet\"}],\"choropleth\":[{\"colorbar\":{\"outlinewidth\":0,\"ticks\":\"\"},\"type\":\"choropleth\"}],\"contour\":[{\"colorbar\":{\"outlinewidth\":0,\"ticks\":\"\"},\"colorscale\":[[0.0,\"#0d0887\"],[0.1111111111111111,\"#46039f\"],[0.2222222222222222,\"#7201a8\"],[0.3333333333333333,\"#9c179e\"],[0.4444444444444444,\"#bd3786\"],[0.5555555555555556,\"#d8576b\"],[0.6666666666666666,\"#ed7953\"],[0.7777777777777778,\"#fb9f3a\"],[0.8888888888888888,\"#fdca26\"],[1.0,\"#f0f921\"]],\"type\":\"contour\"}],\"contourcarpet\":[{\"colorbar\":{\"outlinewidth\":0,\"ticks\":\"\"},\"type\":\"contourcarpet\"}],\"heatmap\":[{\"colorbar\":{\"outlinewidth\":0,\"ticks\":\"\"},\"colorscale\":[[0.0,\"#0d0887\"],[0.1111111111111111,\"#46039f\"],[0.2222222222222222,\"#7201a8\"],[0.3333333333333333,\"#9c179e\"],[0.4444444444444444,\"#bd3786\"],[0.5555555555555556,\"#d8576b\"],[0.6666666666666666,\"#ed7953\"],[0.7777777777777778,\"#fb9f3a\"],[0.8888888888888888,\"#fdca26\"],[1.0,\"#f0f921\"]],\"type\":\"heatmap\"}],\"heatmapgl\":[{\"colorbar\":{\"outlinewidth\":0,\"ticks\":\"\"},\"colorscale\":[[0.0,\"#0d0887\"],[0.1111111111111111,\"#46039f\"],[0.2222222222222222,\"#7201a8\"],[0.3333333333333333,\"#9c179e\"],[0.4444444444444444,\"#bd3786\"],[0.5555555555555556,\"#d8576b\"],[0.6666666666666666,\"#ed7953\"],[0.7777777777777778,\"#fb9f3a\"],[0.8888888888888888,\"#fdca26\"],[1.0,\"#f0f921\"]],\"type\":\"heatmapgl\"}],\"histogram\":[{\"marker\":{\"pattern\":{\"fillmode\":\"overlay\",\"size\":10,\"solidity\":0.2}},\"type\":\"histogram\"}],\"histogram2d\":[{\"colorbar\":{\"outlinewidth\":0,\"ticks\":\"\"},\"colorscale\":[[0.0,\"#0d0887\"],[0.1111111111111111,\"#46039f\"],[0.2222222222222222,\"#7201a8\"],[0.3333333333333333,\"#9c179e\"],[0.4444444444444444,\"#bd3786\"],[0.5555555555555556,\"#d8576b\"],[0.6666666666666666,\"#ed7953\"],[0.7777777777777778,\"#fb9f3a\"],[0.8888888888888888,\"#fdca26\"],[1.0,\"#f0f921\"]],\"type\":\"histogram2d\"}],\"histogram2dcontour\":[{\"colorbar\":{\"outlinewidth\":0,\"ticks\":\"\"},\"colorscale\":[[0.0,\"#0d0887\"],[0.1111111111111111,\"#46039f\"],[0.2222222222222222,\"#7201a8\"],[0.3333333333333333,\"#9c179e\"],[0.4444444444444444,\"#bd3786\"],[0.5555555555555556,\"#d8576b\"],[0.6666666666666666,\"#ed7953\"],[0.7777777777777778,\"#fb9f3a\"],[0.8888888888888888,\"#fdca26\"],[1.0,\"#f0f921\"]],\"type\":\"histogram2dcontour\"}],\"mesh3d\":[{\"colorbar\":{\"outlinewidth\":0,\"ticks\":\"\"},\"type\":\"mesh3d\"}],\"parcoords\":[{\"line\":{\"colorbar\":{\"outlinewidth\":0,\"ticks\":\"\"}},\"type\":\"parcoords\"}],\"pie\":[{\"automargin\":true,\"type\":\"pie\"}],\"scatter\":[{\"marker\":{\"colorbar\":{\"outlinewidth\":0,\"ticks\":\"\"}},\"type\":\"scatter\"}],\"scatter3d\":[{\"line\":{\"colorbar\":{\"outlinewidth\":0,\"ticks\":\"\"}},\"marker\":{\"colorbar\":{\"outlinewidth\":0,\"ticks\":\"\"}},\"type\":\"scatter3d\"}],\"scattercarpet\":[{\"marker\":{\"colorbar\":{\"outlinewidth\":0,\"ticks\":\"\"}},\"type\":\"scattercarpet\"}],\"scattergeo\":[{\"marker\":{\"colorbar\":{\"outlinewidth\":0,\"ticks\":\"\"}},\"type\":\"scattergeo\"}],\"scattergl\":[{\"marker\":{\"colorbar\":{\"outlinewidth\":0,\"ticks\":\"\"}},\"type\":\"scattergl\"}],\"scattermapbox\":[{\"marker\":{\"colorbar\":{\"outlinewidth\":0,\"ticks\":\"\"}},\"type\":\"scattermapbox\"}],\"scatterpolar\":[{\"marker\":{\"colorbar\":{\"outlinewidth\":0,\"ticks\":\"\"}},\"type\":\"scatterpolar\"}],\"scatterpolargl\":[{\"marker\":{\"colorbar\":{\"outlinewidth\":0,\"ticks\":\"\"}},\"type\":\"scatterpolargl\"}],\"scatterternary\":[{\"marker\":{\"colorbar\":{\"outlinewidth\":0,\"ticks\":\"\"}},\"type\":\"scatterternary\"}],\"surface\":[{\"colorbar\":{\"outlinewidth\":0,\"ticks\":\"\"},\"colorscale\":[[0.0,\"#0d0887\"],[0.1111111111111111,\"#46039f\"],[0.2222222222222222,\"#7201a8\"],[0.3333333333333333,\"#9c179e\"],[0.4444444444444444,\"#bd3786\"],[0.5555555555555556,\"#d8576b\"],[0.6666666666666666,\"#ed7953\"],[0.7777777777777778,\"#fb9f3a\"],[0.8888888888888888,\"#fdca26\"],[1.0,\"#f0f921\"]],\"type\":\"surface\"}],\"table\":[{\"cells\":{\"fill\":{\"color\":\"#EBF0F8\"},\"line\":{\"color\":\"white\"}},\"header\":{\"fill\":{\"color\":\"#C8D4E3\"},\"line\":{\"color\":\"white\"}},\"type\":\"table\"}]},\"layout\":{\"annotationdefaults\":{\"arrowcolor\":\"#2a3f5f\",\"arrowhead\":0,\"arrowwidth\":1},\"autotypenumbers\":\"strict\",\"coloraxis\":{\"colorbar\":{\"outlinewidth\":0,\"ticks\":\"\"}},\"colorscale\":{\"diverging\":[[0,\"#8e0152\"],[0.1,\"#c51b7d\"],[0.2,\"#de77ae\"],[0.3,\"#f1b6da\"],[0.4,\"#fde0ef\"],[0.5,\"#f7f7f7\"],[0.6,\"#e6f5d0\"],[0.7,\"#b8e186\"],[0.8,\"#7fbc41\"],[0.9,\"#4d9221\"],[1,\"#276419\"]],\"sequential\":[[0.0,\"#0d0887\"],[0.1111111111111111,\"#46039f\"],[0.2222222222222222,\"#7201a8\"],[0.3333333333333333,\"#9c179e\"],[0.4444444444444444,\"#bd3786\"],[0.5555555555555556,\"#d8576b\"],[0.6666666666666666,\"#ed7953\"],[0.7777777777777778,\"#fb9f3a\"],[0.8888888888888888,\"#fdca26\"],[1.0,\"#f0f921\"]],\"sequentialminus\":[[0.0,\"#0d0887\"],[0.1111111111111111,\"#46039f\"],[0.2222222222222222,\"#7201a8\"],[0.3333333333333333,\"#9c179e\"],[0.4444444444444444,\"#bd3786\"],[0.5555555555555556,\"#d8576b\"],[0.6666666666666666,\"#ed7953\"],[0.7777777777777778,\"#fb9f3a\"],[0.8888888888888888,\"#fdca26\"],[1.0,\"#f0f921\"]]},\"colorway\":[\"#636efa\",\"#EF553B\",\"#00cc96\",\"#ab63fa\",\"#FFA15A\",\"#19d3f3\",\"#FF6692\",\"#B6E880\",\"#FF97FF\",\"#FECB52\"],\"font\":{\"color\":\"#2a3f5f\"},\"geo\":{\"bgcolor\":\"white\",\"lakecolor\":\"white\",\"landcolor\":\"#E5ECF6\",\"showlakes\":true,\"showland\":true,\"subunitcolor\":\"white\"},\"hoverlabel\":{\"align\":\"left\"},\"hovermode\":\"closest\",\"mapbox\":{\"style\":\"light\"},\"paper_bgcolor\":\"white\",\"plot_bgcolor\":\"#E5ECF6\",\"polar\":{\"angularaxis\":{\"gridcolor\":\"white\",\"linecolor\":\"white\",\"ticks\":\"\"},\"bgcolor\":\"#E5ECF6\",\"radialaxis\":{\"gridcolor\":\"white\",\"linecolor\":\"white\",\"ticks\":\"\"}},\"scene\":{\"xaxis\":{\"backgroundcolor\":\"#E5ECF6\",\"gridcolor\":\"white\",\"gridwidth\":2,\"linecolor\":\"white\",\"showbackground\":true,\"ticks\":\"\",\"zerolinecolor\":\"white\"},\"yaxis\":{\"backgroundcolor\":\"#E5ECF6\",\"gridcolor\":\"white\",\"gridwidth\":2,\"linecolor\":\"white\",\"showbackground\":true,\"ticks\":\"\",\"zerolinecolor\":\"white\"},\"zaxis\":{\"backgroundcolor\":\"#E5ECF6\",\"gridcolor\":\"white\",\"gridwidth\":2,\"linecolor\":\"white\",\"showbackground\":true,\"ticks\":\"\",\"zerolinecolor\":\"white\"}},\"shapedefaults\":{\"line\":{\"color\":\"#2a3f5f\"}},\"ternary\":{\"aaxis\":{\"gridcolor\":\"white\",\"linecolor\":\"white\",\"ticks\":\"\"},\"baxis\":{\"gridcolor\":\"white\",\"linecolor\":\"white\",\"ticks\":\"\"},\"bgcolor\":\"#E5ECF6\",\"caxis\":{\"gridcolor\":\"white\",\"linecolor\":\"white\",\"ticks\":\"\"}},\"title\":{\"x\":0.05},\"xaxis\":{\"automargin\":true,\"gridcolor\":\"white\",\"linecolor\":\"white\",\"ticks\":\"\",\"title\":{\"standoff\":15},\"zerolinecolor\":\"white\",\"zerolinewidth\":2},\"yaxis\":{\"automargin\":true,\"gridcolor\":\"white\",\"linecolor\":\"white\",\"ticks\":\"\",\"title\":{\"standoff\":15},\"zerolinecolor\":\"white\",\"zerolinewidth\":2}}},\"xaxis\":{\"anchor\":\"y\",\"domain\":[0.0,1.0],\"title\":{\"text\":\"pricing/rate/amount\"}},\"yaxis\":{\"anchor\":\"x\",\"domain\":[0.0,1.0],\"title\":{\"text\":\"count\"}},\"legend\":{\"tracegroupgap\":0},\"margin\":{\"t\":60},\"barmode\":\"relative\"},                        {\"responsive\": true}                    ).then(function(){\n",
              "                            \n",
              "var gd = document.getElementById('e9c8be71-376f-4fb8-93a0-b9e360299c88');\n",
              "var x = new MutationObserver(function (mutations, observer) {{\n",
              "        var display = window.getComputedStyle(gd).display;\n",
              "        if (!display || display === 'none') {{\n",
              "            console.log([gd, 'removed!']);\n",
              "            Plotly.purge(gd);\n",
              "            observer.disconnect();\n",
              "        }}\n",
              "}});\n",
              "\n",
              "// Listen for the removal of the full notebook cells\n",
              "var notebookContainer = gd.closest('#notebook-container');\n",
              "if (notebookContainer) {{\n",
              "    x.observe(notebookContainer, {childList: true});\n",
              "}}\n",
              "\n",
              "// Listen for the clearing of the current output cell\n",
              "var outputEl = gd.closest('.output');\n",
              "if (outputEl) {{\n",
              "    x.observe(outputEl, {childList: true});\n",
              "}}\n",
              "\n",
              "                        })                };                            </script>        </div>\n",
              "</body>\n",
              "</html>"
            ]
          },
          "metadata": {}
        }
      ]
    },
    {
      "cell_type": "code",
      "source": [
        "# daily price by number of guests\n",
        "fig = px.scatter(df, x=\"pricing/rate/amount\", y=\"numberOfGuests\")\n",
        "fig.show()"
      ],
      "metadata": {
        "colab": {
          "base_uri": "https://localhost:8080/",
          "height": 542
        },
        "id": "3VeO1myGemhB",
        "outputId": "2ca1afc4-9b3b-4d8c-ffca-3c3d8a01592b"
      },
      "execution_count": 87,
      "outputs": [
        {
          "output_type": "display_data",
          "data": {
            "text/html": [
              "<html>\n",
              "<head><meta charset=\"utf-8\" /></head>\n",
              "<body>\n",
              "    <div>            <script src=\"https://cdnjs.cloudflare.com/ajax/libs/mathjax/2.7.5/MathJax.js?config=TeX-AMS-MML_SVG\"></script><script type=\"text/javascript\">if (window.MathJax) {MathJax.Hub.Config({SVG: {font: \"STIX-Web\"}});}</script>                <script type=\"text/javascript\">window.PlotlyConfig = {MathJaxConfig: 'local'};</script>\n",
              "        <script src=\"https://cdn.plot.ly/plotly-2.8.3.min.js\"></script>                <div id=\"a459c467-2684-4098-9ef2-b86ad055e6ec\" class=\"plotly-graph-div\" style=\"height:525px; width:100%;\"></div>            <script type=\"text/javascript\">                                    window.PLOTLYENV=window.PLOTLYENV || {};                                    if (document.getElementById(\"a459c467-2684-4098-9ef2-b86ad055e6ec\")) {                    Plotly.newPlot(                        \"a459c467-2684-4098-9ef2-b86ad055e6ec\",                        [{\"hovertemplate\":\"pricing/rate/amount=%{x}<br>numberOfGuests=%{y}<extra></extra>\",\"legendgroup\":\"\",\"marker\":{\"color\":\"#636efa\",\"symbol\":\"circle\"},\"mode\":\"markers\",\"name\":\"\",\"orientation\":\"v\",\"showlegend\":false,\"x\":[2747,3696,4056,3371,3371,3246,3246,3643,3121,2997,2747,3432,2747,3405,3371,2747,2747,2747,4828,3971,3959,2723,2721,2622,1873,2058,1998,2218,2622,1296,1839,1873,2372,2124,1300,1352,2391,2124,2126,1352,1354,1254,1880,1254,1929,688,1927,959,650,830,678,725,795,935,650,736,1059,999,642,900,645,859,707,935,650,626,1059,889,905,646,795,999,1059,761,925,859,854,1162,670,771,800,1058,1086,874,1061,902,901,738,838,837,1150,695,1084,901,411,600,379,368,369,500,350,575,438,384,350,350,695,329,450,357,495,430,565,346,445,338,539,439,520,375,529,420,607,323,588,520,417,372,369,318,368,323,327,543,440,318,600,343,585,615,395,371,439,503,380,464,395,430,417,355,326,497,384,444,325,360,338,350,350,395,481,439,499,395,390,688,481,319,381,445,415,350,353,366,475,575,450,437,437,314,325,486,437,496,499,396,437,350,386,350,345,338,437,545,415,325,437,558,393,437,325,437,499,400,564,492,345,350,554,437,336,369,602,499,472,425,437,499,313,386,355,381,495,350,554,348,362,421,437,135,82,132,140,140,116,114,135,135,135,119,82,152,150,83,138,152,145,129,101,131,115,130,152,150,137,154,130,155,149,135,153,400,143,138,148,99,116,131,130,128,129,125,130,150,95,74,150,137,114,138,155,155,120,152,140,100,150,130,437,118,68,148,126,146,153,119,114,150,134,135,155,118],\"xaxis\":\"x\",\"y\":[14,16,16,16,16,16,16,12,16,16,16,16,16,15,16,16,16,16,16,16,16,16,16,14,8,10,14,16,15,16,16,10,16,8,8,10,16,11,7,12,10,7,12,8,12,9,14,14,10,10,16,11,7,14,10,7,10,6,11,10,8,12,16,14,10,7,12,16,8,8,6,9,8,12,15,12,6,8,11,10,10,8,16,12,6,8,7,8,3,4,8,8,11,7,12,6,6,6,10,6,6,6,6,6,12,6,10,6,6,8,2,12,8,6,6,4,6,8,8,7,6,6,8,3,10,11,8,6,6,6,5,6,6,6,4,4,8,4,10,8,8,7,8,6,6,4,5,6,7,6,8,2,10,2,4,7,6,6,4,8,2,8,6,8,5,10,2,6,8,9,6,14,4,2,8,6,8,6,6,6,8,4,4,9,9,6,6,8,6,2,6,6,6,12,7,4,4,9,6,6,6,6,8,6,10,8,6,2,6,6,6,6,4,8,5,6,6,6,4,6,4,6,6,6,6,4,6,8,5,4,6,4,3,2,2,4,4,4,4,3,1,4,5,5,2,4,6,4,6,2,6,4,4,6,4,4,3,3,6,2,6,6,2,2,2,4,4,5,4,4,2,2,6,6,2,2,6,6,4,5,6,4,6,3,4,2,4,4,6,6,4,4,6,8,6,2,6,4,6,6,4,4],\"yaxis\":\"y\",\"type\":\"scatter\"}],                        {\"template\":{\"data\":{\"bar\":[{\"error_x\":{\"color\":\"#2a3f5f\"},\"error_y\":{\"color\":\"#2a3f5f\"},\"marker\":{\"line\":{\"color\":\"#E5ECF6\",\"width\":0.5},\"pattern\":{\"fillmode\":\"overlay\",\"size\":10,\"solidity\":0.2}},\"type\":\"bar\"}],\"barpolar\":[{\"marker\":{\"line\":{\"color\":\"#E5ECF6\",\"width\":0.5},\"pattern\":{\"fillmode\":\"overlay\",\"size\":10,\"solidity\":0.2}},\"type\":\"barpolar\"}],\"carpet\":[{\"aaxis\":{\"endlinecolor\":\"#2a3f5f\",\"gridcolor\":\"white\",\"linecolor\":\"white\",\"minorgridcolor\":\"white\",\"startlinecolor\":\"#2a3f5f\"},\"baxis\":{\"endlinecolor\":\"#2a3f5f\",\"gridcolor\":\"white\",\"linecolor\":\"white\",\"minorgridcolor\":\"white\",\"startlinecolor\":\"#2a3f5f\"},\"type\":\"carpet\"}],\"choropleth\":[{\"colorbar\":{\"outlinewidth\":0,\"ticks\":\"\"},\"type\":\"choropleth\"}],\"contour\":[{\"colorbar\":{\"outlinewidth\":0,\"ticks\":\"\"},\"colorscale\":[[0.0,\"#0d0887\"],[0.1111111111111111,\"#46039f\"],[0.2222222222222222,\"#7201a8\"],[0.3333333333333333,\"#9c179e\"],[0.4444444444444444,\"#bd3786\"],[0.5555555555555556,\"#d8576b\"],[0.6666666666666666,\"#ed7953\"],[0.7777777777777778,\"#fb9f3a\"],[0.8888888888888888,\"#fdca26\"],[1.0,\"#f0f921\"]],\"type\":\"contour\"}],\"contourcarpet\":[{\"colorbar\":{\"outlinewidth\":0,\"ticks\":\"\"},\"type\":\"contourcarpet\"}],\"heatmap\":[{\"colorbar\":{\"outlinewidth\":0,\"ticks\":\"\"},\"colorscale\":[[0.0,\"#0d0887\"],[0.1111111111111111,\"#46039f\"],[0.2222222222222222,\"#7201a8\"],[0.3333333333333333,\"#9c179e\"],[0.4444444444444444,\"#bd3786\"],[0.5555555555555556,\"#d8576b\"],[0.6666666666666666,\"#ed7953\"],[0.7777777777777778,\"#fb9f3a\"],[0.8888888888888888,\"#fdca26\"],[1.0,\"#f0f921\"]],\"type\":\"heatmap\"}],\"heatmapgl\":[{\"colorbar\":{\"outlinewidth\":0,\"ticks\":\"\"},\"colorscale\":[[0.0,\"#0d0887\"],[0.1111111111111111,\"#46039f\"],[0.2222222222222222,\"#7201a8\"],[0.3333333333333333,\"#9c179e\"],[0.4444444444444444,\"#bd3786\"],[0.5555555555555556,\"#d8576b\"],[0.6666666666666666,\"#ed7953\"],[0.7777777777777778,\"#fb9f3a\"],[0.8888888888888888,\"#fdca26\"],[1.0,\"#f0f921\"]],\"type\":\"heatmapgl\"}],\"histogram\":[{\"marker\":{\"pattern\":{\"fillmode\":\"overlay\",\"size\":10,\"solidity\":0.2}},\"type\":\"histogram\"}],\"histogram2d\":[{\"colorbar\":{\"outlinewidth\":0,\"ticks\":\"\"},\"colorscale\":[[0.0,\"#0d0887\"],[0.1111111111111111,\"#46039f\"],[0.2222222222222222,\"#7201a8\"],[0.3333333333333333,\"#9c179e\"],[0.4444444444444444,\"#bd3786\"],[0.5555555555555556,\"#d8576b\"],[0.6666666666666666,\"#ed7953\"],[0.7777777777777778,\"#fb9f3a\"],[0.8888888888888888,\"#fdca26\"],[1.0,\"#f0f921\"]],\"type\":\"histogram2d\"}],\"histogram2dcontour\":[{\"colorbar\":{\"outlinewidth\":0,\"ticks\":\"\"},\"colorscale\":[[0.0,\"#0d0887\"],[0.1111111111111111,\"#46039f\"],[0.2222222222222222,\"#7201a8\"],[0.3333333333333333,\"#9c179e\"],[0.4444444444444444,\"#bd3786\"],[0.5555555555555556,\"#d8576b\"],[0.6666666666666666,\"#ed7953\"],[0.7777777777777778,\"#fb9f3a\"],[0.8888888888888888,\"#fdca26\"],[1.0,\"#f0f921\"]],\"type\":\"histogram2dcontour\"}],\"mesh3d\":[{\"colorbar\":{\"outlinewidth\":0,\"ticks\":\"\"},\"type\":\"mesh3d\"}],\"parcoords\":[{\"line\":{\"colorbar\":{\"outlinewidth\":0,\"ticks\":\"\"}},\"type\":\"parcoords\"}],\"pie\":[{\"automargin\":true,\"type\":\"pie\"}],\"scatter\":[{\"marker\":{\"colorbar\":{\"outlinewidth\":0,\"ticks\":\"\"}},\"type\":\"scatter\"}],\"scatter3d\":[{\"line\":{\"colorbar\":{\"outlinewidth\":0,\"ticks\":\"\"}},\"marker\":{\"colorbar\":{\"outlinewidth\":0,\"ticks\":\"\"}},\"type\":\"scatter3d\"}],\"scattercarpet\":[{\"marker\":{\"colorbar\":{\"outlinewidth\":0,\"ticks\":\"\"}},\"type\":\"scattercarpet\"}],\"scattergeo\":[{\"marker\":{\"colorbar\":{\"outlinewidth\":0,\"ticks\":\"\"}},\"type\":\"scattergeo\"}],\"scattergl\":[{\"marker\":{\"colorbar\":{\"outlinewidth\":0,\"ticks\":\"\"}},\"type\":\"scattergl\"}],\"scattermapbox\":[{\"marker\":{\"colorbar\":{\"outlinewidth\":0,\"ticks\":\"\"}},\"type\":\"scattermapbox\"}],\"scatterpolar\":[{\"marker\":{\"colorbar\":{\"outlinewidth\":0,\"ticks\":\"\"}},\"type\":\"scatterpolar\"}],\"scatterpolargl\":[{\"marker\":{\"colorbar\":{\"outlinewidth\":0,\"ticks\":\"\"}},\"type\":\"scatterpolargl\"}],\"scatterternary\":[{\"marker\":{\"colorbar\":{\"outlinewidth\":0,\"ticks\":\"\"}},\"type\":\"scatterternary\"}],\"surface\":[{\"colorbar\":{\"outlinewidth\":0,\"ticks\":\"\"},\"colorscale\":[[0.0,\"#0d0887\"],[0.1111111111111111,\"#46039f\"],[0.2222222222222222,\"#7201a8\"],[0.3333333333333333,\"#9c179e\"],[0.4444444444444444,\"#bd3786\"],[0.5555555555555556,\"#d8576b\"],[0.6666666666666666,\"#ed7953\"],[0.7777777777777778,\"#fb9f3a\"],[0.8888888888888888,\"#fdca26\"],[1.0,\"#f0f921\"]],\"type\":\"surface\"}],\"table\":[{\"cells\":{\"fill\":{\"color\":\"#EBF0F8\"},\"line\":{\"color\":\"white\"}},\"header\":{\"fill\":{\"color\":\"#C8D4E3\"},\"line\":{\"color\":\"white\"}},\"type\":\"table\"}]},\"layout\":{\"annotationdefaults\":{\"arrowcolor\":\"#2a3f5f\",\"arrowhead\":0,\"arrowwidth\":1},\"autotypenumbers\":\"strict\",\"coloraxis\":{\"colorbar\":{\"outlinewidth\":0,\"ticks\":\"\"}},\"colorscale\":{\"diverging\":[[0,\"#8e0152\"],[0.1,\"#c51b7d\"],[0.2,\"#de77ae\"],[0.3,\"#f1b6da\"],[0.4,\"#fde0ef\"],[0.5,\"#f7f7f7\"],[0.6,\"#e6f5d0\"],[0.7,\"#b8e186\"],[0.8,\"#7fbc41\"],[0.9,\"#4d9221\"],[1,\"#276419\"]],\"sequential\":[[0.0,\"#0d0887\"],[0.1111111111111111,\"#46039f\"],[0.2222222222222222,\"#7201a8\"],[0.3333333333333333,\"#9c179e\"],[0.4444444444444444,\"#bd3786\"],[0.5555555555555556,\"#d8576b\"],[0.6666666666666666,\"#ed7953\"],[0.7777777777777778,\"#fb9f3a\"],[0.8888888888888888,\"#fdca26\"],[1.0,\"#f0f921\"]],\"sequentialminus\":[[0.0,\"#0d0887\"],[0.1111111111111111,\"#46039f\"],[0.2222222222222222,\"#7201a8\"],[0.3333333333333333,\"#9c179e\"],[0.4444444444444444,\"#bd3786\"],[0.5555555555555556,\"#d8576b\"],[0.6666666666666666,\"#ed7953\"],[0.7777777777777778,\"#fb9f3a\"],[0.8888888888888888,\"#fdca26\"],[1.0,\"#f0f921\"]]},\"colorway\":[\"#636efa\",\"#EF553B\",\"#00cc96\",\"#ab63fa\",\"#FFA15A\",\"#19d3f3\",\"#FF6692\",\"#B6E880\",\"#FF97FF\",\"#FECB52\"],\"font\":{\"color\":\"#2a3f5f\"},\"geo\":{\"bgcolor\":\"white\",\"lakecolor\":\"white\",\"landcolor\":\"#E5ECF6\",\"showlakes\":true,\"showland\":true,\"subunitcolor\":\"white\"},\"hoverlabel\":{\"align\":\"left\"},\"hovermode\":\"closest\",\"mapbox\":{\"style\":\"light\"},\"paper_bgcolor\":\"white\",\"plot_bgcolor\":\"#E5ECF6\",\"polar\":{\"angularaxis\":{\"gridcolor\":\"white\",\"linecolor\":\"white\",\"ticks\":\"\"},\"bgcolor\":\"#E5ECF6\",\"radialaxis\":{\"gridcolor\":\"white\",\"linecolor\":\"white\",\"ticks\":\"\"}},\"scene\":{\"xaxis\":{\"backgroundcolor\":\"#E5ECF6\",\"gridcolor\":\"white\",\"gridwidth\":2,\"linecolor\":\"white\",\"showbackground\":true,\"ticks\":\"\",\"zerolinecolor\":\"white\"},\"yaxis\":{\"backgroundcolor\":\"#E5ECF6\",\"gridcolor\":\"white\",\"gridwidth\":2,\"linecolor\":\"white\",\"showbackground\":true,\"ticks\":\"\",\"zerolinecolor\":\"white\"},\"zaxis\":{\"backgroundcolor\":\"#E5ECF6\",\"gridcolor\":\"white\",\"gridwidth\":2,\"linecolor\":\"white\",\"showbackground\":true,\"ticks\":\"\",\"zerolinecolor\":\"white\"}},\"shapedefaults\":{\"line\":{\"color\":\"#2a3f5f\"}},\"ternary\":{\"aaxis\":{\"gridcolor\":\"white\",\"linecolor\":\"white\",\"ticks\":\"\"},\"baxis\":{\"gridcolor\":\"white\",\"linecolor\":\"white\",\"ticks\":\"\"},\"bgcolor\":\"#E5ECF6\",\"caxis\":{\"gridcolor\":\"white\",\"linecolor\":\"white\",\"ticks\":\"\"}},\"title\":{\"x\":0.05},\"xaxis\":{\"automargin\":true,\"gridcolor\":\"white\",\"linecolor\":\"white\",\"ticks\":\"\",\"title\":{\"standoff\":15},\"zerolinecolor\":\"white\",\"zerolinewidth\":2},\"yaxis\":{\"automargin\":true,\"gridcolor\":\"white\",\"linecolor\":\"white\",\"ticks\":\"\",\"title\":{\"standoff\":15},\"zerolinecolor\":\"white\",\"zerolinewidth\":2}}},\"xaxis\":{\"anchor\":\"y\",\"domain\":[0.0,1.0],\"title\":{\"text\":\"pricing/rate/amount\"}},\"yaxis\":{\"anchor\":\"x\",\"domain\":[0.0,1.0],\"title\":{\"text\":\"numberOfGuests\"}},\"legend\":{\"tracegroupgap\":0},\"margin\":{\"t\":60}},                        {\"responsive\": true}                    ).then(function(){\n",
              "                            \n",
              "var gd = document.getElementById('a459c467-2684-4098-9ef2-b86ad055e6ec');\n",
              "var x = new MutationObserver(function (mutations, observer) {{\n",
              "        var display = window.getComputedStyle(gd).display;\n",
              "        if (!display || display === 'none') {{\n",
              "            console.log([gd, 'removed!']);\n",
              "            Plotly.purge(gd);\n",
              "            observer.disconnect();\n",
              "        }}\n",
              "}});\n",
              "\n",
              "// Listen for the removal of the full notebook cells\n",
              "var notebookContainer = gd.closest('#notebook-container');\n",
              "if (notebookContainer) {{\n",
              "    x.observe(notebookContainer, {childList: true});\n",
              "}}\n",
              "\n",
              "// Listen for the clearing of the current output cell\n",
              "var outputEl = gd.closest('.output');\n",
              "if (outputEl) {{\n",
              "    x.observe(outputEl, {childList: true});\n",
              "}}\n",
              "\n",
              "                        })                };                            </script>        </div>\n",
              "</body>\n",
              "</html>"
            ]
          },
          "metadata": {}
        }
      ]
    },
    {
      "cell_type": "markdown",
      "source": [
        "### Map all AirBnB Listings"
      ],
      "metadata": {
        "id": "8rZhxC7jn3iX"
      }
    },
    {
      "cell_type": "code",
      "source": [
        "# take a single example to test logic of getting listing id\n",
        "test_url = df['url'].iloc[0]\n",
        "print('Test URL:', test_url)\n",
        "print('Listing ID:', test_url.split('/')[-1])"
      ],
      "metadata": {
        "colab": {
          "base_uri": "https://localhost:8080/"
        },
        "id": "gcMis8zRkqog",
        "outputId": "c02d6a64-1a12-4537-c678-487e3ec60c8f"
      },
      "execution_count": 88,
      "outputs": [
        {
          "output_type": "stream",
          "name": "stdout",
          "text": [
            "Test URL: https://www.airbnb.com/rooms/38351053\n",
            "Listing ID: 38351053\n"
          ]
        }
      ]
    },
    {
      "cell_type": "code",
      "source": [
        "# create plot dataframe\n",
        "df_plot = df.copy()\n",
        "# feature #1 - listing id\n",
        "df_plot['listing_id'] = df_plot.apply(lambda x: x['url'].split('/')[-1], axis=1)\n",
        "# feature #2 - header (listing id + listing name)\n",
        "df_plot['header'] = df_plot.apply(lambda x: x['listing_id'] + ' - ' + x['name'], axis=1)\n",
        "df_plot['header'].head()"
      ],
      "metadata": {
        "colab": {
          "base_uri": "https://localhost:8080/"
        },
        "id": "wC854us_kby_",
        "outputId": "7c602073-7f57-4c51-bb1e-c995879cdb1d"
      },
      "execution_count": 89,
      "outputs": [
        {
          "output_type": "execute_result",
          "data": {
            "text/plain": [
              "6     38351053 - Modern Marvel - Stunning Gulf Front...\n",
              "7     53935001 - The Oasis-Flexible Cancellation Policy\n",
              "8     50259570 - Ocean Overlook - Nearly Beachfront ...\n",
              "9     20071265 - Sea Spray - Gulf Access with Dock. ...\n",
              "10    43122199 - Sugar Sand Cottage - Gorgeous 5 Bed...\n",
              "Name: header, dtype: object"
            ]
          },
          "metadata": {},
          "execution_count": 89
        }
      ]
    },
    {
      "cell_type": "code",
      "source": [
        "# set mapbox key\n",
        "px.set_mapbox_access_token(mapbox_api_key)\n",
        "# create scatter plot\n",
        "fig = px.scatter_mapbox(\n",
        "    df_plot, \n",
        "    lat=\"location/lat\", \n",
        "    lon=\"location/lng\",     \n",
        "    color=\"pricing/rate/amount\", \n",
        "    size=\"numberOfGuests\", \n",
        "    color_continuous_scale=px.colors.cyclical.Edge,\n",
        "    hover_name=\"header\",\n",
        "    zoom=13\n",
        ")\n",
        "# modify height to show all of siesta key (town specific)\n",
        "fig.update_layout(\n",
        "    height=800\n",
        ")\n",
        "fig.show()"
      ],
      "metadata": {
        "colab": {
          "base_uri": "https://localhost:8080/",
          "height": 817
        },
        "id": "3uf2CFMMhHrH",
        "outputId": "0623a28a-d13a-4c41-b4aa-0dacbf3154e6"
      },
      "execution_count": 90,
      "outputs": [
        {
          "output_type": "display_data",
          "data": {
            "text/html": [
              "<html>\n",
              "<head><meta charset=\"utf-8\" /></head>\n",
              "<body>\n",
              "    <div>            <script src=\"https://cdnjs.cloudflare.com/ajax/libs/mathjax/2.7.5/MathJax.js?config=TeX-AMS-MML_SVG\"></script><script type=\"text/javascript\">if (window.MathJax) {MathJax.Hub.Config({SVG: {font: \"STIX-Web\"}});}</script>                <script type=\"text/javascript\">window.PlotlyConfig = {MathJaxConfig: 'local'};</script>\n",
              "        <script src=\"https://cdn.plot.ly/plotly-2.8.3.min.js\"></script>                <div id=\"0f9de532-4901-453c-9b2d-79d546435090\" class=\"plotly-graph-div\" style=\"height:800px; width:100%;\"></div>            <script type=\"text/javascript\">                                    window.PLOTLYENV=window.PLOTLYENV || {};                                    if (document.getElementById(\"0f9de532-4901-453c-9b2d-79d546435090\")) {                    Plotly.newPlot(                        \"0f9de532-4901-453c-9b2d-79d546435090\",                        [{\"hovertemplate\":\"<b>%{hovertext}</b><br><br>numberOfGuests=%{marker.size}<br>location/lat=%{lat}<br>location/lng=%{lon}<br>pricing/rate/amount=%{marker.color}<extra></extra>\",\"hovertext\":[\"38351053 - Modern Marvel - Stunning Gulf Front Home! Amazing Gulf Views! Private Man-Made Beach!\",\"53935001 - The Oasis-Flexible Cancellation Policy\",\"50259570 - Ocean Overlook - Nearly Beachfront Home w/ Gorgeous Gulf of Mexico, Siesta Key Beach Views from ALL Levels\",\"20071265 - Sea Spray - Gulf Access with Dock. Resort Style Pool with ROCK WATER SLIDE!\",\"43122199 - Sugar Sand Cottage - Gorgeous 5 Bedroom Home, STEPS From The Beach! Amazing Location!!\",\"34570562 - Siesta Palooza - NEW HOME w/ GULF VIEWS in Siesta Village- Heated Pool & Spa- Roof Top Deck\",\"37596508 - Point Break - BRAND NEW HOME! Steps to the Village/Beach. Heated pool/spa and video games!\",\"48378411 - Siesta Key Oceanfront Palace with Private Beach\",\"37596409 - Blue Paradise - NEARLY BEACHFRONT-PRIVATE Heated Pool and Spa with Covered Pool Bar and Patio!\",\"24240763 - Summer House - NEARLY BEACHFRONT 6 Bedroom Cottage. 6 En Suite Bathrooms. Private pool and spa!\",\"24240772 - Salty Dog - Canal Front, 6 bed 5.5 bath Home - Private Pool and Spa\",\"20071257 - Sunset Splash - AMAZING HOME ON SIESTA KEY - Heated Private Pool w/ Slide, Spa\",\"20071253 - Sunset Gulf - 5,000+ sqft Gulf views on 3 LEVELS. Steps to Beach!\",\"53366783 - SIESTA KEY BEACH HOUSE with theater/pool/game room\",\"20071268 - Aloft on Canal - Boater's Dream w/ Private Resort-style Mini Water Park in your backyard!!\",\"20071256 - Sunset View - AMAZING GULF VIEWS. 3 Large Gulf-facing Balconies. 5000+ sqft w/ 8 Bedrooms\",\"20071264 - Surf View - 8 Bedroom-Private Pool & Spa-Game Room & Pool Bath! Seconds to Beach!\",\"24240761 - Dry Dock - NEW HOME ON CANAL - Sleeps 18 in 6 Bedrooms w/ 6.5 Baths - 2 Minutes to Beach\",\"38930617 - The Old Man and the Sea Inn\",\"52365686 - Under the Palms 5BR\",\"46601477 - Siesta Dreams 6BR\",\"49551060 - The Village Breeze 6BR\",\"39922662 - The Casa Van Lopik Inn\",\"42681257 - Paradise Cove - Brand New, Elevated 5 Bedroom Home on Siesta Key\",\"51465666 - Casa Siesta - Newly Remodeled, Ground Level - Nearly Beachfront Siesta Key Home w/ Private Heated Pool and Gulf/Beach Views\",\"45435357 - Mainsail - ON THE INTERCOASTAL, 4-bedroom luxury home w/ private pool and spa!\",\"34176597 - Bahama Mama - Perfect Location! Walk to Siesta Key Village & the Beach! Amazing Pool area!!\",\"54291490 - The Upper Deck-Flexible Cancellation Policy\",\"42356093 - On The Rocks - GORGEOUS!! 5 BEDROOM, 5 BATHROOM HOME, ONLY A SHORT WALK FROM THE BEACH!!\",\"46621973 - Best Location Siesta Key Village. Fast wifi!\",\"52843945 - *** NEW *** Massive Mediterranean Beachside Bliss\",\"48228050 - The Hideaway - Luxurious 4 bedroom home w/ private pool-1 block from the beach!\",\"20071269 - The Pool House - THE BEST BACK YARD ON SIESTA KEY. SLEEPS 16. Nearly Beachfront\",\"46273670 - Siesta Dreams 1\",\"20755656 - Siesta Key Retreat\",\"44495968 - Casa Tranquila - Siesta Key\",\"54291517 - The Rooftop-Flexible Cancellation Policy\",\"49551100 - Under the Palms 3BR\",\"43435308 - Siesta Dreams PH\",\"14876713 - Casa Van Lopik (Jardin)\",\"14877330 - Gertrude's Village House\",\"46002292 - The Village Breeze\",\"14876472 - Casa Van Lopik (Canal)\",\"14878771 - The Old Man and the Sea Inn Unit A\",\"39940166 - Gertrudes Siesta Village Properties\",\"54352045 - Stunning 3Bed Steps from Siesta Key Beach Access!!\",\"46012546 - The Village Breeze 4BR\",\"21068153 - Luxury 5 bedroom 4 bath Beachfront Home\",\"20187925 - \\\"Safe & Clean\\\" Palm Oasis - Relax in comfort!\",\"23045451 - The Lookout, Breath Taking BeachView, 4Bed/6Bath!!\",\"53645941 - \\ud83d\\udc33 JellyFish-Flamingo\\ud83d\\udd25 Walk to Beach + Pet Friendly\",\"45954455 - Luxury 5 Bed with Stunning Siesta Key Beach Views!\",\"47489311 - 1936 Beach house across street from beach\",\"29733213 - Island Time West - REMODELED- 3 Bed 3.5 Bath Townhome-Sleeps 14. Private Heated Pool and Game Room\",\"32940268 - Pet friendly Home- Blocks from Siesta Key Beach\",\"40659541 - Penthouse Mermaid Villa\",\"20071260 - Siesta Sun - Gulf Views, Roof Top Deck, Nearly Beach Front!!! Sleeps 10 - Pool & Game Room!!\",\"42681330 - Tipsy Turtle\",\"52262822 - Stunning 4/3 Canal Home Siesta Key w/ Pool & Boat Dock\",\"52279508 - Coastal Oasis steps from the Beach and Village\",\"13058900 - Gorgeous views of the Gulf!\",\"20211168 - Luxury 4 bedroom 4 bath Beachfront Home\",\"54375315 - NEW! Exceptional 4/4.5 Siesta Key House on Canal w/ Pool WALK TO THE BEACH\",\"29733233 - Island Time East - REMODELED- 3 Bed 3.5 Bath Townhome-Sleeps 14. PRIVATE HEATED POOL and Game Room\",\"50541780 - ALL NEW! Siesta Key-Luxury 4 BR Home w/Heated Pool\",\"47136431 - Best Location Siesta Key Village. Fast wifi!\",\"20071263 - Aruba - Ground Level 3 Bedroom Home with Private Heated Pool on beautiful Siesta Key!\",\"45286082 - Beach Front Duplex, Walk to Village, Watch the Sunsets from Balconies\",\"23630612 - Siesta Key Seaside Bungalow\",\"24032944 - Luxury Siesta Key Vacation Rental W/ Pool, Spa, and Walking Distance to Beach\",\"17499053 - Siesta Key 127 Beach Rd steps to village Paradise!\",\"21607289 - Blue Lagoon - Adorable Siesta Key Home. Private Heated Pool. Amazing Back Yard. Close to Beach!\",\"21607287 - Beach Retreat - Adorable beach cottage with private pool\",\"49369475 - FOREVER SUMMER - Walking to village and beach\",\"52049265 - Siesta Key Resort Home Just Steps To The Beach!\",\"24098709 - 4 Bedroom/ 4 Bath Beach House-Directly on Beach!\",\"38223535 - Slice of Beach Paradise | Private Wraparound Balcony with Amazing Gulf Views\",\"52278646 - Vintage Coastal\",\"8087334 - Gulf View Pool Unit\",\"53391719 - Canal Lower-Gorgeous 3 bed 3 bath near SK Village\",\"36105965 - Tropical Paradise near Village and Beach.\",\"54158078 - New Listing! Heated pool and boat dock on Canal\",\"52884072 - *** NEW *** Rent the WHOLE building! Sleeps 16\",\"42878052 - Tarpon Villa - Beautiful 4 bedroom townhome! GREAT LOCATION! 4 min walk to the beach!\",\"9513682 - Get lost in the intoxicating relaxation of Siesta Key, in this luxurious private home.\",\"14877616 - The Old Man and the Sea Inn Unit D\",\"46012337 - The Village Breeze\",\"15547334 - The Siesta Key Poor-Boy\",\"49551076 - Under the Palms 1BR\",\"14879445 - The Old Man and the Sea Inn Unit C\",\"49586161 - Unapparelled Luxury on Siesta Key Beach, sleeps 8!\",\"36623716 - 4 Bdrm (2 unit Cottage) walk to Siesta Beach\",\"3081384 - Spacious 5 Bedroom MidCentury Home by Siesta Beach\",\"49551071 - The Village Breeze III\",\"53629950 - \\u2b50\\ufe0f Mermaid \\u2b50\\ufe0f \\ud83d\\udc2cPerfect Location, Walk to Beach\",\"10966549 - Siesta Key Oasis - Spectacular heated pool/spa\",\"46083542 - Luxury Home in Siesta Key Village! New Pool & Spa!\",\"46829828 - Siesta Key-Walk to the beach, Private Pool\",\"53642507 - \\ud83d\\udd25 Pink 1 \\ud83d\\udc20TOP-1 Steps to Beach + Pet-Friendly\",\"15771198 - \\\"Safe & Clean\\\" -Royal Palm Suite- Siesta Key Beach\",\"45468128 - Siesta Key Enjoy your own beach & tennis paradise\",\"49630937 - Wonderful Home on Siesta Key\",\"47384612 - STEPS 2 SAND! BEST GULF VIEWS! Couples|Families :)\",\"48058661 - *** NEW *** Location, Location, Location! On the BEACH, Walk to VILLAGE\",\"53032012 - Beach House*4 BR*Pool*Hot Tub*Minutes to Beach\",\"41560409 - Private Beach Complex, Full Ocean Views, 7th Floor\",\"39867177 - Newly Reno Large 4BR w/ Pool - Walk to Gated Beach\",\"48932024 - Siesta Key Beach Front Condo\",\"48868395 - Siesta Sunrise-Just steps to the beach and village\",\"44338671 - **AWESOME POOL+HOT TUB! **FamilyVacation Dream! **\",\"42476774 - \\ud83c\\udfd6\\ufe0f BEAUTIFUL STUDIO w PRIVATE POOL @ SIESTA BEACH \\u2600\\ufe0f\",\"53630472 - \\ud83d\\udd25Shark\\ud83d\\udc0b Top Village,Walk to Beach,Pet-Friendly\",\"53903689 - Mid-Century lux pool+canal house -walk to village\",\"24054437 - Walk to beach and village, everything is in reach!\",\"25574980 - BOUTIQUE HOTEL STYLE HOME - STEPS FROM THE BEACH!!\",\"47559822 - Heated Pool, 4 Houses to Beach\",\"16428562 - One-of-a-kind*Beach, Village, Dock & Private Pool!\",\"38086979 - The Perfect Florida Island Getaway for Your Family\",\"53875411 - Luxury 3 Bed Townhome w/ Pool Steps from SK Beach!\",\"40845207 - Siesta Tropical House blocks from the Siesta Key Village.\",\"51070578 - Directly on the beach with full gulf views!!\",\"14570648 - \\\"Safe & Clean\\\"  Our Beach House\",\"30716154 - Mermaid Villa Ocean Front!\",\"40313796 - Dreamview Beachfront Condo - Romantic Siesta Key Beach Getaway\",\"54351645 - Stunning 3Bed Adjacent to Siesta Key Beach Access!\",\"53875890 - Lavish 3 Bed Townhome w/ Pool Steps from SK Beach!\",\"53952840 - Paradise Palms\",\"51463979 - Most Desirable Spot on Siesta Key!  Palm Bay Club!\",\"15313607 - \\\"Safe & Clean\\\" - Key West Suite - Siesta Key Beach\",\"49173053 - *** NEW *** Completely remodeled villa w/ beach and heated pool access\",\"33995562 - Private Beach Siesta Key   Resort Jamaica Royale\",\"51597320 - 903 CS Tower 2BR 2BA Sleeps 6\",\"44353637 - INCREDIBLE! POOL| CANAL| BOAT DOCK! Close2Beach!!!\",\"33034015 - Breathtaking 3 Bed/2 Bath with Beach View& Pool!!!\",\"28336512 - Beachfront Home on Siesta Beach with pool access\",\"32192426 - Siesta Key, Direct Ocean Front, Spacious 2BR/2BA\",\"48827546 - Amazing Beach House in Siesta Key w/ Views & Pool!\",\"16193316 - Private Crescent Beach Escape\",\"46494359 - LUXURY SIESTA BEACH 5-BEDROOM CONDO w PRIVATE POOL\",\"14178349 - Amazing Views of the Gulf!\",\"42069270 - Steps to Siesta Key Beach! Close to SK Village!\",\"42667238 - Beach House by #1Siesta Key Beach!\",\"45286081 - Beach Front and Walking Distance to Village\",\"47392051 - Yes Please! All New-So close to the Beach!\",\"14893545 - \\\"Safe & Clean\\\" - Island Suite - Siesta Key Beach -\",\"25117329 - Siesta Peace Retreat NOW a Private home rental\",\"48343425 - Steps from Siesta Key Beach! 2BR/2BA w/ Pool!\",\"29094517 - Perfect Location in Siesta Key\",\"45139694 - Banyan Tree Beach House\",\"25726889 - Crescent Beach Resort, Heated Pool,Jacuzzi, Tennis\",\"52884076 - *** NEW *** Spacious updated Condo just 2 blocks to Siesta Key Beach\",\"47425277 - Siesta Key cottage across street from beach\",\"51597325 - 1109 CS Tower 4BR2BA Sleeps 10\",\"47490613 - Siesta Key Cottage across street from beach\",\"48211521 - Siesta Key Townhouse\\nWalk to Siesta Key Beach\",\"36420510 - ** NEW ** Updated and clean, two heated pool and beach access\",\"53607831 - SKV 315 - Heated \\u2764 Pool, Walk to Beach & Village!\",\"35831110 - Location 3 Bed Cottage 1 block to SiestaKey beach\",\"4573248 - Steps To The Beach\",\"39971814 - Newly Reno Getaway  2BR w/ Pool - Walk to Beach\",\"47490336 - Siesta Key Cottage across street from beach\",\"45286083 - On the Beach, Walk to Village, Watch the Sunsets from Balcony\",\"13548039 - Gulf and Beach Views-Steps from Beach and Village\",\"39891344 - Newly Reno Family Fun 2BR w/ Pool - Walk to Beach\",\"40071050 - Your tranquil escape is found directly on the beach at the Serenity Beach Condo.\",\"20071270 - Island Sun - 3 Bedroom. Sleeps 10. Great Value. ACROSS the STREET from SIESTA KEY BEACH!\",\"47489896 - Siesta key cottage across street from beach\",\"16887540 - Lovely Siesta Key house near beach w/ heated pool!\",\"43046703 - Siesta Key Canal Splash Pool, Walk to Beach, BBQ\",\"33179568 - Walk to SK Beach & Village! Best Location! 3BR/2BA\",\"15312147 - Cozy Village Cottage\",\"43422380 - Modern 4 Bedroom House, Minutes from the beach\",\"46814238 - Just a few steps to the beach!\",\"52059673 - The Honeymoon Suite on Siesta Key Beach\",\"40009135 - The Bella Siesta\",\"21488037 - Beachfront condo with Gulf side pool and access!\",\"17464239 - Siesta Key Lakefront Oasis, 3 Bd Home, Heated Pool\",\"51597265 - 1007 CS Tower 2BR 2BA Sleeps 6\",\"51597243 - 1206 CS Tower 2BR 2BA Sleeps 6\",\"51597324 - 304 CS Tower 2BR 2 BA Sleeps 6\",\"32950092 - Siesta Sunset Cottage\",\"47486867 - Siesta Key Cottage pool side\",\"51597273 - 204 CS Tower 2BR 2BA Sleeps 4\",\"54366659 - Lovely 3 Bed/ 2.5 Bath with a Shared Rooftop Pool!\",\"29733171 - Private Beach House - Beachfront 2 Bedroom Condo with Private Beach!\",\"45675510 - Luxury Waterfront Views/Pool/1400sf/2 min to Beach\",\"51597255 - 605 CS Tower 2BR 2BA Sleeps 6\",\"19431001 - Sea-Esta House - Presented by Stay on Siesta\",\"27054590 - Siesta Dunes 2-402. Newly renovated top floor 3 bedroom!\",\"38664762 - Enchanted Cottage on Beach\",\"42904622 - ! Siesta Key - Walk to everything Key West\",\"53587558 - #SKV 311 - Heated \\u2764 Pool, Walk to Village & Beach!\",\"51597249 - 311 CS Tower 2BR 2BA Sleeps 6\",\"46014150 - Sweetwater * 4 BR  Pool * Hot Tub Minutes to Beach\",\"30270604 - Le Grande Peacock!\",\"16727156 - Sea Villa C13 at Siesta Key and Bee by the Beach.\",\"51597328 - 1008 CS Tower 2BR 2BA Sleeps 4\",\"54352041 - Stunning 3Bed/ 2.5 Bath with Shared Roof Top Pool!\",\"51597321 - 1201 CS Tower Penthouse 2BR\",\"51597331 - 1002 CS Tower 2BR 2BA Sleeps 6\",\"47716701 - Stunning 2 Bedroom/ 2 Bath by Siesta Key Beach!!\",\"51597267 - 1102 CS Tower 2BR 2BA Sleeps 6\",\"38351154 - Salty SUmmer - BEST LOCATION! Amazing 2 Bedroom Home. Steps to Siesta Village and Beach!\",\"27951887 - Siesta Key Beach Home\",\"24728353 - LAST  MINUTE PRICE! SIESTA KEY PRIVATE POOL !!\",\"48434047 - Rent the Perfect 3 Bedroom Apartment on The Anchorage, Siesta Key Apartment 1022\",\"47716667 - 2 Bedroom/ 2 Bath Best Views of  Siesta Key Beach!\",\"38411449 - Charming Beach Cottage with pool\",\"42829299 - Siesta Dunes 3-22B, Impeccable 2 Bedroom, 2 Bath w/ Loft\",\"51597240 - 701 CS Tower 2BR 2 BA Sleeps 4\",\"35512745 - Siesta Dunes 2-205 Modern Coastal Condo\",\"44338282 - REMODELED! PERFECT LOCATION! *STEPS TO WHITE SAND!\",\"14880194 - The Old Man and the Sea Inn Unit B\",\"38351228 - Summer Salt - BEST LOCATION! Amazing 2 Bedroom Home. Steps to Siesta Village and Beach\",\"22406779 - 2 bedroom Prime Location Siesta Beach apartment\",\"9351075 - Walk to Beach 5 minutes~PrivatePool~On Canal~Kayak\",\"51597248 - 305 CS Tower 2BR 2BA Sleeps 6\",\"22386813 - 3 Bedroom Prime Location Siesta Beach apartment\",\"48434072 - Perfect 2 Bedroom Apartment on The Anchorage, Siesta Key Apartment 1025\",\"27054437 - Siesta Dunes 2-400. 3 Bedroom corner unit overlooking the Gulf!\",\"9786520 - Spacious master bedroom, sunny private patio, WiFi\",\"35463943 - ! Romancing the Key! Walk to the Village&Beach\",\"27824752 - Siesta Dunes 3-26B. Deluxe Beachfront Condo with Loft!\",\"28536816 - Siesta Dunes 3-32A. Recently Updated with a beautiful view!\",\"35512866 - Siesta Dunes 4-12B Beautifully updated Gulf View with a Loft\",\"35681805 - ! Siesta Villa - Walk to Everything SK!\",\"24919025 - Discover the beauty of Siesta Key at Siesta Villa Whispering Palms\",\"30226846 - PARADISE RETREAT SIESTA KEY/WE ARE YOUR BEACH NOW\",\"51597235 - 402 CS Tower 2BR 2BA Sleeps 5\",\"42641022 - Siesta Key Gulf Coast Condo\",\"46449039 - Comfy Siesta Key Condo\",\"26885645 - Stroll to Siesta Beach from Serene Condo + (bikes)\",\"11601029 - Siesta Key Beach Community!\",\"25221260 - Siesta key getaway!\",\"37829154 - New: Cozy 1BR Beach Condo on Siesta Key!!!\",\"33130404 - Your Own Siesta Key Beach Getaway\",\"21935459 - SIESTA KEY GROUND FLOOR CONDO ON TROLLEY LINE\",\"34941967 - Ideal location Siesta Key Beach across the street\",\"17715728 - Siesta Key Beach across the street ideal location\",\"39080382 - Surf Shack- Walk to Village/Boat Dock Included\",\"42740483 - Location! Siesta Key Beach - Walk to EVERYTHING!!\",\"50896012 - Unit 303 -  NEWLY RENOVATED GULF VIEW CONDO\",\"29058734 - Siesta Key~Private Home with private Pool and Spa\",\"52202241 - Amazing condo across street from Siesta Key Beach\",\"54026133 - Cozy Siesta Key studio 5 minute walk to Village\",\"53719244 - Condo #317\",\"38049377 - Private Beach Condo on SK- Htd Pools- WiFi, BBQ\",\"22512614 - Beachfront Condo! Shown on HGTV! Renovated in 2020\",\"48484466 - Sunny Siesta Key Condo w/ Beach Access + Pool!\",\"42738903 - Awesome spot on Siesta Key - Walk to Everything!\",\"24736320 - Siesta Key Condo.  Checkout our great rates!\",\"31445944 - Amazing Siesta Key Condo in Midnight Cove II\",\"53718567 - Unit 103- Paradise Awaits\",\"49519685 - Siesta Key Beach Condo w/ pool half mile to beach\",\"21625304 - Ocean Views! Fishing Pier, Renovated, WiFi, Cable\",\"43960610 - One Bedroom - Ground Floor Condo - Heated Pool - Siesta Key Village\",\"38389204 - Siesta Key Studio Cottage\",\"19152942 - Vacation Condo on Siesta Key, FL\",\"18305822 - Siesta Key Condo Priv Beach Accesss-Heated Pool\",\"39390601 - Siesta Key Waterfront Retreat\",\"20744684 - Beachfront Sarasota Resort Condo w/Siesta Key View\",\"25403937 - Stay on Siesta Key Beach for your Holiday\",\"45411916 - Cozy Studio - 5 min walk to #1 Siesta Key Beach!\",\"22189996 - Stay at Siesta Key beach, voted no 1 USA\",\"48340610 - Siesta Key Cottage 1 Block to Sand or Night Life\",\"48480607 - Great Location $99 June! Walk to #1 beach!\",\"36605628 - Bay Complex Near SK Beach-Bay/Pool Views, Tennis\",\"41108302 - Siesta Key Beach Condo w/ pool half mile to beach!\",\"31441818 - Siesta Key Beach Getaway,1BR Great Location !\",\"52650856 - REZRentals - Siesta Harbor #A208 (Albacore) - Updated 2 Bedroom / 2 Bathroom - 55+ Community (1 Month Minimum)\",\"22170292 - Siesta Key Guest House - Walk to the Beach\",\"47905556 - Airy room on Siesta Key with private bathroom.\",\"51578251 - Spacious Siesta Key Getaway Across From SK Beach\",\"47307288 - Sea Harmony Luxury Siesta Key Vacation Home\",\"48172833 - One bdrm/bath Beach Cottage Waterfront and Pool\",\"48848043 - Close to  Sarasota downtown & World Classesturants\",\"46202512 - Seaside on Siesta Key Beach\",\"18305819 - Siesta Key Condo Priv Beach Access, Walk to Beach\",\"37291825 - Crescent Street 1138 B, Walk to the beach, Pool, 1 Bedroom, Pet Friendly\",\"42855372 - Harbor Tower-Resort Amenities-On Bay-Heated Pools\",\"38517066 - Recently Updated Cozy Siesta Key Beach Villa\",\"36243538 - SIESTA KEY on the water ! Newly renovated retreat!\",\"33866599 - Modern Equipped Poolside Condo on Siesta Key\",\"50279907 - Unit 109- Open, Airy, Updated with Beach Decor!\",\"45720072 - Siesta Key Escape - Bay Oaks on Intercoastal\",\"17420752 - 5855 Midnight Pass Road, Sarasota, FL, 34242\",\"18630532 - Serenity on Siesta with Private Pier Near Village\",\"35767752 - Charming Siesta Key Condo Just Minutes from Beach\",\"51597270 - 710 CS Tower 2BR 2 BA Sleeps 6\",\"26780275 - Walk to Beach-Pool-Tennis-Fishing Pier-W&D Include\",\"52466431 - REZRentals - Siesta Harbor #A107 (Albacore) - Updated 2 Bedroom / 2 Bathroom - 55+ Minimum Age Community\",\"50999518 - Waterfront 2 BRs Siesta Key Condo next to beach\",\"50328101 - Walk to SK Beach, Pool, W/D in Unit, 2nd Fl, Dog\",\"19532557 - Harbor Towers Complex-Bay Views-Updated Modern\",\"44352564 - One of Best Locations on Siesta Key Beach!!\",\"3059829 - Private Studio-Separate Entrance-Walk to Village\",\"37291244 - Jamaica Royale 91, 3 Heated Pools, 2 Bedrooms, WiFi, Sleeps 6\",\"48952362 - Siesta Key Treehouse\",\"34092565 - Harbor Towers Bay View, New Flooring, Pools, Tennis, Gated Complex, WiFi, Smart TV, Assigned Parking\",\"37291392 - Crescent Street 1138 A, pet-friendly, 2 bedrooms, Pool, Walk to the beach\",\"9042724 - SIESTA KEY Direct GULF FRONT CONDO awesome views!\",\"18411622 - Walk to Beach, Ground Unit, Heated Pool,  Parking\"],\"lat\":[27.284,27.27446,27.272,27.271,27.274,27.276,27.276,27.2976,27.275,27.277,27.272,27.276,27.27,27.26607,27.271,27.27,27.274,27.273,27.247,27.273,27.272,27.278,27.274,27.272,27.275,27.26,27.275,27.27262,27.273,27.275,27.27015,27.273,27.276,27.272,27.28582,27.284,27.27111,27.273,27.272,27.274,27.275,27.278,27.274,27.247,27.275,27.26826,27.278,27.27476,27.27003,27.2679,27.271,27.26764,27.271,27.273,27.27347,27.27445,27.27,27.27206,27.27724,27.27298,27.27443,27.27671,27.281,27.273,27.28037,27.27376,27.274,27.268,27.27024,27.30038,27.27483,27.273,27.275,27.2757,27.252,27.27515,27.26943,27.27509,27.27661,27.27654,27.2798,27.27082,27.27012,27.275,27.294,27.247,27.278,27.247,27.273,27.247,27.24939,27.272,27.27175,27.278,27.275,27.27768,27.277,27.27381,27.27,27.2667,27.262,27.2802,27.25995,27.27,27.28194,27.261,27.26117,27.268,27.275,27.27983,27.262,27.275,27.28459,27.27532,27.27,27.271,27.27298,27.27922,27.27465,27.27637,27.2683,27.26859,27.27351,27.2682,27.26944,27.27536,27.27895,27.263,27.26897,27.25479,27.26337,27.255,27.27026,27.2692,27.27508,27.255,27.27088,27.262,27.262,27.27526,27.26243,27.27444,27.268,27.275,27.26809,27.27654,27.261,27.27433,27.27883,27.25729,27.26883,27.271,27.255,27.27025,27.26446,27.267,27.27515,27.272,27.27619,27.2633,27.271,27.268,27.27441,27.26153,27.26874,27.27,27.271,27.27039,27.272,27.27185,27.27753,27.28442,27.27667,27.26819,27.28616,27.26986,27.28813,27.255,27.255,27.255,27.28137,27.271,27.255,27.26815,27.263,27.25778,27.255,27.27044,27.25662,27.29137,27.273,27.27626,27.255,27.28206,27.251,27.25717,27.255,27.26837,27.255,27.255,27.27133,27.255,27.2742,27.2694,27.25831,27.25386,27.26854,27.29269,27.25657,27.255,27.25554,27.27286,27.247,27.275,27.274,27.2715,27.255,27.275,27.25453,27.25599,27.265,27.27582,27.25624,27.25711,27.2555,27.275,27.258,27.29607,27.255,27.26712,27.26591,27.25794,27.25839,27.25811,27.26448,27.2642,27.25993,27.26887,27.26846,27.27412,27.27495,27.2652,27.28278,27.26879,27.27436,27.26676,27.263,27.26186,27.25593,27.27544,27.255,27.255,27.26447,27.26528,27.282,27.27634,27.27663,27.26282,27.255,27.281,27.26423,27.249,27.27707,27.26874,27.27307,27.26817,27.265,27.26429,27.26709,27.25504,27.27515,27.27909,27.26695,27.265,27.27855,27.265,27.267,27.255,27.24713,27.265,27.2574,27.26445,27.259,27.26669,27.26016,27.265,27.281,27.25826,27.255,27.259,27.25525,27.25854,27.268,27.265,27.268,27.281,27.26191,27.27787,27.265,27.2469,27.25784,27.268],\"legendgroup\":\"\",\"lon\":[-82.565,-82.56757,-82.563,-82.559,-82.567,-82.563,-82.563,-82.55981,-82.565,-82.567,-82.559,-82.567,-82.558,-82.55024,-82.559,-82.559,-82.563,-82.559,-82.534,-82.562,-82.563,-82.564,-82.562,-82.561,-82.567,-82.537,-82.564,-82.56336,-82.563,-82.56337,-82.56016,-82.563,-82.567,-82.563,-82.55695,-82.564,-82.56321,-82.562,-82.563,-82.562,-82.565,-82.563,-82.562,-82.534,-82.565,-82.55769,-82.563,-82.56832,-82.5548,-82.55722,-82.559,-82.55699,-82.559,-82.562,-82.55572,-82.56553,-82.558,-82.56167,-82.55901,-82.56209,-82.5673,-82.56768,-82.561,-82.562,-82.5537,-82.56399,-82.563,-82.557,-82.55838,-82.55622,-82.56533,-82.562,-82.565,-82.55681,-82.534,-82.56825,-82.56134,-82.55991,-82.56773,-82.56373,-82.56066,-82.55937,-82.55573,-82.563,-82.555,-82.534,-82.563,-82.534,-82.562,-82.534,-82.53423,-82.561,-82.55806,-82.564,-82.564,-82.56234,-82.563,-82.55072,-82.559,-82.55544,-82.544,-82.56188,-82.54475,-82.56,-82.55566,-82.544,-82.54232,-82.554,-82.566,-82.56266,-82.54,-82.564,-82.56141,-82.56322,-82.554,-82.559,-82.56328,-82.55583,-82.56619,-82.55695,-82.55862,-82.55821,-82.56669,-82.55772,-82.55883,-82.56725,-82.55263,-82.541,-82.55637,-82.53645,-82.5478,-82.537,-82.55025,-82.55738,-82.56794,-82.538,-82.55459,-82.543,-82.54,-82.56747,-82.54285,-82.56472,-82.556,-82.563,-82.55487,-82.55402,-82.54434,-82.56455,-82.5598,-82.53833,-82.5558,-82.559,-82.537,-82.56038,-82.5423,-82.543,-82.56189,-82.561,-82.5691,-82.54352,-82.559,-82.556,-82.56551,-82.54174,-82.55852,-82.558,-82.559,-82.55486,-82.558,-82.55854,-82.55858,-82.55963,-82.56744,-82.55153,-82.5602,-82.55996,-82.56071,-82.537,-82.537,-82.537,-82.55837,-82.559,-82.537,-82.55499,-82.542,-82.53834,-82.537,-82.5558,-82.53804,-82.55886,-82.562,-82.5636,-82.537,-82.55566,-82.532,-82.539,-82.537,-82.55542,-82.537,-82.537,-82.5605,-82.537,-82.564,-82.55193,-82.53905,-82.53334,-82.55021,-82.56085,-82.54051,-82.537,-82.53995,-82.56167,-82.534,-82.563,-82.566,-82.55604,-82.537,-82.567,-82.53366,-82.53918,-82.543,-82.55807,-82.53833,-82.53952,-82.53936,-82.56,-82.537,-82.55962,-82.537,-82.54585,-82.54184,-82.53977,-82.5384,-82.53724,-82.54208,-82.54326,-82.53791,-82.54606,-82.5442,-82.5579,-82.5581,-82.55169,-82.5557,-82.55219,-82.55965,-82.55137,-82.547,-82.54728,-82.53543,-82.55825,-82.535,-82.535,-82.55359,-82.54133,-82.566,-82.56568,-82.56221,-82.54146,-82.536,-82.56488,-82.54714,-82.54,-82.56216,-82.55363,-82.56383,-82.5453,-82.542,-82.54115,-82.54588,-82.53664,-82.55967,-82.55993,-82.54646,-82.542,-82.55689,-82.541,-82.552,-82.535,-82.53152,-82.542,-82.53699,-82.54078,-82.537,-82.55132,-82.53681,-82.542,-82.565,-82.53699,-82.537,-82.537,-82.53491,-82.5386,-82.545,-82.542,-82.551,-82.559,-82.54651,-82.551,-82.542,-82.53076,-82.54296,-82.545],\"marker\":{\"color\":[2747,3696,4056,3371,3371,3246,3246,3643,3121,2997,2747,3432,2747,3405,3371,2747,2747,2747,4828,3971,3959,2723,2721,2622,1873,2058,1998,2218,2622,1296,1839,1873,2372,2124,1300,1352,2391,2124,2126,1352,1354,1254,1880,1254,1929,688,1927,959,650,830,678,725,795,935,650,736,1059,999,642,900,645,859,707,935,650,626,1059,889,905,646,795,999,1059,761,925,859,854,1162,670,771,800,1058,1086,874,1061,902,901,738,838,837,1150,695,1084,901,411,600,379,368,369,500,350,575,438,384,350,350,695,329,450,357,495,430,565,346,445,338,539,439,520,375,529,420,607,323,588,520,417,372,369,318,368,323,327,543,440,318,600,343,585,615,395,371,439,503,380,464,395,430,417,355,326,497,384,444,325,360,338,350,350,395,481,439,499,395,390,688,481,319,381,445,415,350,353,366,475,575,450,437,437,314,325,486,437,496,499,396,437,350,386,350,345,338,437,545,415,325,437,558,393,437,325,437,499,400,564,492,345,350,554,437,336,369,602,499,472,425,437,499,313,386,355,381,495,350,554,348,362,421,437,135,82,132,140,140,116,114,135,135,135,119,82,152,150,83,138,152,145,129,101,131,115,130,152,150,137,154,130,155,149,135,153,400,143,138,148,99,116,131,130,128,129,125,130,150,95,74,150,137,114,138,155,155,120,152,140,100,150,130,437,118,68,148,126,146,153,119,114,150,134,135,155,118],\"coloraxis\":\"coloraxis\",\"size\":[14,16,16,16,16,16,16,12,16,16,16,16,16,15,16,16,16,16,16,16,16,16,16,14,8,10,14,16,15,16,16,10,16,8,8,10,16,11,7,12,10,7,12,8,12,9,14,14,10,10,16,11,7,14,10,7,10,6,11,10,8,12,16,14,10,7,12,16,8,8,6,9,8,12,15,12,6,8,11,10,10,8,16,12,6,8,7,8,3,4,8,8,11,7,12,6,6,6,10,6,6,6,6,6,12,6,10,6,6,8,2,12,8,6,6,4,6,8,8,7,6,6,8,3,10,11,8,6,6,6,5,6,6,6,4,4,8,4,10,8,8,7,8,6,6,4,5,6,7,6,8,2,10,2,4,7,6,6,4,8,2,8,6,8,5,10,2,6,8,9,6,14,4,2,8,6,8,6,6,6,8,4,4,9,9,6,6,8,6,2,6,6,6,12,7,4,4,9,6,6,6,6,8,6,10,8,6,2,6,6,6,6,4,8,5,6,6,6,4,6,4,6,6,6,6,4,6,8,5,4,6,4,3,2,2,4,4,4,4,3,1,4,5,5,2,4,6,4,6,2,6,4,4,6,4,4,3,3,6,2,6,6,2,2,2,4,4,5,4,4,2,2,6,6,2,2,6,6,4,5,6,4,6,3,4,2,4,4,6,6,4,4,6,8,6,2,6,4,6,6,4,4],\"sizemode\":\"area\",\"sizeref\":0.04},\"mode\":\"markers\",\"name\":\"\",\"showlegend\":false,\"subplot\":\"mapbox\",\"type\":\"scattermapbox\"}],                        {\"template\":{\"data\":{\"bar\":[{\"error_x\":{\"color\":\"#2a3f5f\"},\"error_y\":{\"color\":\"#2a3f5f\"},\"marker\":{\"line\":{\"color\":\"#E5ECF6\",\"width\":0.5},\"pattern\":{\"fillmode\":\"overlay\",\"size\":10,\"solidity\":0.2}},\"type\":\"bar\"}],\"barpolar\":[{\"marker\":{\"line\":{\"color\":\"#E5ECF6\",\"width\":0.5},\"pattern\":{\"fillmode\":\"overlay\",\"size\":10,\"solidity\":0.2}},\"type\":\"barpolar\"}],\"carpet\":[{\"aaxis\":{\"endlinecolor\":\"#2a3f5f\",\"gridcolor\":\"white\",\"linecolor\":\"white\",\"minorgridcolor\":\"white\",\"startlinecolor\":\"#2a3f5f\"},\"baxis\":{\"endlinecolor\":\"#2a3f5f\",\"gridcolor\":\"white\",\"linecolor\":\"white\",\"minorgridcolor\":\"white\",\"startlinecolor\":\"#2a3f5f\"},\"type\":\"carpet\"}],\"choropleth\":[{\"colorbar\":{\"outlinewidth\":0,\"ticks\":\"\"},\"type\":\"choropleth\"}],\"contour\":[{\"colorbar\":{\"outlinewidth\":0,\"ticks\":\"\"},\"colorscale\":[[0.0,\"#0d0887\"],[0.1111111111111111,\"#46039f\"],[0.2222222222222222,\"#7201a8\"],[0.3333333333333333,\"#9c179e\"],[0.4444444444444444,\"#bd3786\"],[0.5555555555555556,\"#d8576b\"],[0.6666666666666666,\"#ed7953\"],[0.7777777777777778,\"#fb9f3a\"],[0.8888888888888888,\"#fdca26\"],[1.0,\"#f0f921\"]],\"type\":\"contour\"}],\"contourcarpet\":[{\"colorbar\":{\"outlinewidth\":0,\"ticks\":\"\"},\"type\":\"contourcarpet\"}],\"heatmap\":[{\"colorbar\":{\"outlinewidth\":0,\"ticks\":\"\"},\"colorscale\":[[0.0,\"#0d0887\"],[0.1111111111111111,\"#46039f\"],[0.2222222222222222,\"#7201a8\"],[0.3333333333333333,\"#9c179e\"],[0.4444444444444444,\"#bd3786\"],[0.5555555555555556,\"#d8576b\"],[0.6666666666666666,\"#ed7953\"],[0.7777777777777778,\"#fb9f3a\"],[0.8888888888888888,\"#fdca26\"],[1.0,\"#f0f921\"]],\"type\":\"heatmap\"}],\"heatmapgl\":[{\"colorbar\":{\"outlinewidth\":0,\"ticks\":\"\"},\"colorscale\":[[0.0,\"#0d0887\"],[0.1111111111111111,\"#46039f\"],[0.2222222222222222,\"#7201a8\"],[0.3333333333333333,\"#9c179e\"],[0.4444444444444444,\"#bd3786\"],[0.5555555555555556,\"#d8576b\"],[0.6666666666666666,\"#ed7953\"],[0.7777777777777778,\"#fb9f3a\"],[0.8888888888888888,\"#fdca26\"],[1.0,\"#f0f921\"]],\"type\":\"heatmapgl\"}],\"histogram\":[{\"marker\":{\"pattern\":{\"fillmode\":\"overlay\",\"size\":10,\"solidity\":0.2}},\"type\":\"histogram\"}],\"histogram2d\":[{\"colorbar\":{\"outlinewidth\":0,\"ticks\":\"\"},\"colorscale\":[[0.0,\"#0d0887\"],[0.1111111111111111,\"#46039f\"],[0.2222222222222222,\"#7201a8\"],[0.3333333333333333,\"#9c179e\"],[0.4444444444444444,\"#bd3786\"],[0.5555555555555556,\"#d8576b\"],[0.6666666666666666,\"#ed7953\"],[0.7777777777777778,\"#fb9f3a\"],[0.8888888888888888,\"#fdca26\"],[1.0,\"#f0f921\"]],\"type\":\"histogram2d\"}],\"histogram2dcontour\":[{\"colorbar\":{\"outlinewidth\":0,\"ticks\":\"\"},\"colorscale\":[[0.0,\"#0d0887\"],[0.1111111111111111,\"#46039f\"],[0.2222222222222222,\"#7201a8\"],[0.3333333333333333,\"#9c179e\"],[0.4444444444444444,\"#bd3786\"],[0.5555555555555556,\"#d8576b\"],[0.6666666666666666,\"#ed7953\"],[0.7777777777777778,\"#fb9f3a\"],[0.8888888888888888,\"#fdca26\"],[1.0,\"#f0f921\"]],\"type\":\"histogram2dcontour\"}],\"mesh3d\":[{\"colorbar\":{\"outlinewidth\":0,\"ticks\":\"\"},\"type\":\"mesh3d\"}],\"parcoords\":[{\"line\":{\"colorbar\":{\"outlinewidth\":0,\"ticks\":\"\"}},\"type\":\"parcoords\"}],\"pie\":[{\"automargin\":true,\"type\":\"pie\"}],\"scatter\":[{\"marker\":{\"colorbar\":{\"outlinewidth\":0,\"ticks\":\"\"}},\"type\":\"scatter\"}],\"scatter3d\":[{\"line\":{\"colorbar\":{\"outlinewidth\":0,\"ticks\":\"\"}},\"marker\":{\"colorbar\":{\"outlinewidth\":0,\"ticks\":\"\"}},\"type\":\"scatter3d\"}],\"scattercarpet\":[{\"marker\":{\"colorbar\":{\"outlinewidth\":0,\"ticks\":\"\"}},\"type\":\"scattercarpet\"}],\"scattergeo\":[{\"marker\":{\"colorbar\":{\"outlinewidth\":0,\"ticks\":\"\"}},\"type\":\"scattergeo\"}],\"scattergl\":[{\"marker\":{\"colorbar\":{\"outlinewidth\":0,\"ticks\":\"\"}},\"type\":\"scattergl\"}],\"scattermapbox\":[{\"marker\":{\"colorbar\":{\"outlinewidth\":0,\"ticks\":\"\"}},\"type\":\"scattermapbox\"}],\"scatterpolar\":[{\"marker\":{\"colorbar\":{\"outlinewidth\":0,\"ticks\":\"\"}},\"type\":\"scatterpolar\"}],\"scatterpolargl\":[{\"marker\":{\"colorbar\":{\"outlinewidth\":0,\"ticks\":\"\"}},\"type\":\"scatterpolargl\"}],\"scatterternary\":[{\"marker\":{\"colorbar\":{\"outlinewidth\":0,\"ticks\":\"\"}},\"type\":\"scatterternary\"}],\"surface\":[{\"colorbar\":{\"outlinewidth\":0,\"ticks\":\"\"},\"colorscale\":[[0.0,\"#0d0887\"],[0.1111111111111111,\"#46039f\"],[0.2222222222222222,\"#7201a8\"],[0.3333333333333333,\"#9c179e\"],[0.4444444444444444,\"#bd3786\"],[0.5555555555555556,\"#d8576b\"],[0.6666666666666666,\"#ed7953\"],[0.7777777777777778,\"#fb9f3a\"],[0.8888888888888888,\"#fdca26\"],[1.0,\"#f0f921\"]],\"type\":\"surface\"}],\"table\":[{\"cells\":{\"fill\":{\"color\":\"#EBF0F8\"},\"line\":{\"color\":\"white\"}},\"header\":{\"fill\":{\"color\":\"#C8D4E3\"},\"line\":{\"color\":\"white\"}},\"type\":\"table\"}]},\"layout\":{\"annotationdefaults\":{\"arrowcolor\":\"#2a3f5f\",\"arrowhead\":0,\"arrowwidth\":1},\"autotypenumbers\":\"strict\",\"coloraxis\":{\"colorbar\":{\"outlinewidth\":0,\"ticks\":\"\"}},\"colorscale\":{\"diverging\":[[0,\"#8e0152\"],[0.1,\"#c51b7d\"],[0.2,\"#de77ae\"],[0.3,\"#f1b6da\"],[0.4,\"#fde0ef\"],[0.5,\"#f7f7f7\"],[0.6,\"#e6f5d0\"],[0.7,\"#b8e186\"],[0.8,\"#7fbc41\"],[0.9,\"#4d9221\"],[1,\"#276419\"]],\"sequential\":[[0.0,\"#0d0887\"],[0.1111111111111111,\"#46039f\"],[0.2222222222222222,\"#7201a8\"],[0.3333333333333333,\"#9c179e\"],[0.4444444444444444,\"#bd3786\"],[0.5555555555555556,\"#d8576b\"],[0.6666666666666666,\"#ed7953\"],[0.7777777777777778,\"#fb9f3a\"],[0.8888888888888888,\"#fdca26\"],[1.0,\"#f0f921\"]],\"sequentialminus\":[[0.0,\"#0d0887\"],[0.1111111111111111,\"#46039f\"],[0.2222222222222222,\"#7201a8\"],[0.3333333333333333,\"#9c179e\"],[0.4444444444444444,\"#bd3786\"],[0.5555555555555556,\"#d8576b\"],[0.6666666666666666,\"#ed7953\"],[0.7777777777777778,\"#fb9f3a\"],[0.8888888888888888,\"#fdca26\"],[1.0,\"#f0f921\"]]},\"colorway\":[\"#636efa\",\"#EF553B\",\"#00cc96\",\"#ab63fa\",\"#FFA15A\",\"#19d3f3\",\"#FF6692\",\"#B6E880\",\"#FF97FF\",\"#FECB52\"],\"font\":{\"color\":\"#2a3f5f\"},\"geo\":{\"bgcolor\":\"white\",\"lakecolor\":\"white\",\"landcolor\":\"#E5ECF6\",\"showlakes\":true,\"showland\":true,\"subunitcolor\":\"white\"},\"hoverlabel\":{\"align\":\"left\"},\"hovermode\":\"closest\",\"mapbox\":{\"style\":\"light\"},\"paper_bgcolor\":\"white\",\"plot_bgcolor\":\"#E5ECF6\",\"polar\":{\"angularaxis\":{\"gridcolor\":\"white\",\"linecolor\":\"white\",\"ticks\":\"\"},\"bgcolor\":\"#E5ECF6\",\"radialaxis\":{\"gridcolor\":\"white\",\"linecolor\":\"white\",\"ticks\":\"\"}},\"scene\":{\"xaxis\":{\"backgroundcolor\":\"#E5ECF6\",\"gridcolor\":\"white\",\"gridwidth\":2,\"linecolor\":\"white\",\"showbackground\":true,\"ticks\":\"\",\"zerolinecolor\":\"white\"},\"yaxis\":{\"backgroundcolor\":\"#E5ECF6\",\"gridcolor\":\"white\",\"gridwidth\":2,\"linecolor\":\"white\",\"showbackground\":true,\"ticks\":\"\",\"zerolinecolor\":\"white\"},\"zaxis\":{\"backgroundcolor\":\"#E5ECF6\",\"gridcolor\":\"white\",\"gridwidth\":2,\"linecolor\":\"white\",\"showbackground\":true,\"ticks\":\"\",\"zerolinecolor\":\"white\"}},\"shapedefaults\":{\"line\":{\"color\":\"#2a3f5f\"}},\"ternary\":{\"aaxis\":{\"gridcolor\":\"white\",\"linecolor\":\"white\",\"ticks\":\"\"},\"baxis\":{\"gridcolor\":\"white\",\"linecolor\":\"white\",\"ticks\":\"\"},\"bgcolor\":\"#E5ECF6\",\"caxis\":{\"gridcolor\":\"white\",\"linecolor\":\"white\",\"ticks\":\"\"}},\"title\":{\"x\":0.05},\"xaxis\":{\"automargin\":true,\"gridcolor\":\"white\",\"linecolor\":\"white\",\"ticks\":\"\",\"title\":{\"standoff\":15},\"zerolinecolor\":\"white\",\"zerolinewidth\":2},\"yaxis\":{\"automargin\":true,\"gridcolor\":\"white\",\"linecolor\":\"white\",\"ticks\":\"\",\"title\":{\"standoff\":15},\"zerolinecolor\":\"white\",\"zerolinewidth\":2}}},\"mapbox\":{\"domain\":{\"x\":[0.0,1.0],\"y\":[0.0,1.0]},\"center\":{\"lat\":27.268923675496705,\"lon\":-82.5529559271523},\"accesstoken\":\"pk.eyJ1IjoiaGVycmVyYS11cy1yZWkiLCJhIjoiY2pyejJtd3kxMTRvcDQ0bHZiM3BzdWVkMCJ9.bo7U4hgixCPZwdIyPeRqiA\",\"zoom\":13},\"coloraxis\":{\"colorbar\":{\"title\":{\"text\":\"pricing/rate/amount\"}},\"colorscale\":[[0.0,\"#313131\"],[0.0625,\"#3d019d\"],[0.125,\"#3810dc\"],[0.1875,\"#2d47f9\"],[0.25,\"#2593ff\"],[0.3125,\"#2adef6\"],[0.375,\"#60fdfa\"],[0.4375,\"#aefdff\"],[0.5,\"#f3f3f1\"],[0.5625,\"#fffda9\"],[0.625,\"#fafd5b\"],[0.6875,\"#f7da29\"],[0.75,\"#ff8e25\"],[0.8125,\"#f8432d\"],[0.875,\"#d90d39\"],[0.9375,\"#97023d\"],[1.0,\"#313131\"]]},\"legend\":{\"tracegroupgap\":0,\"itemsizing\":\"constant\"},\"margin\":{\"t\":60},\"height\":800},                        {\"responsive\": true}                    ).then(function(){\n",
              "                            \n",
              "var gd = document.getElementById('0f9de532-4901-453c-9b2d-79d546435090');\n",
              "var x = new MutationObserver(function (mutations, observer) {{\n",
              "        var display = window.getComputedStyle(gd).display;\n",
              "        if (!display || display === 'none') {{\n",
              "            console.log([gd, 'removed!']);\n",
              "            Plotly.purge(gd);\n",
              "            observer.disconnect();\n",
              "        }}\n",
              "}});\n",
              "\n",
              "// Listen for the removal of the full notebook cells\n",
              "var notebookContainer = gd.closest('#notebook-container');\n",
              "if (notebookContainer) {{\n",
              "    x.observe(notebookContainer, {childList: true});\n",
              "}}\n",
              "\n",
              "// Listen for the clearing of the current output cell\n",
              "var outputEl = gd.closest('.output');\n",
              "if (outputEl) {{\n",
              "    x.observe(outputEl, {childList: true});\n",
              "}}\n",
              "\n",
              "                        })                };                            </script>        </div>\n",
              "</body>\n",
              "</html>"
            ]
          },
          "metadata": {}
        }
      ]
    },
    {
      "cell_type": "code",
      "source": [
        "# view single listing\n",
        "df_single_list = df_plot.loc[df_plot['listing_id'] == '38351053']\n",
        "# get URL to view listing photos and detail\n",
        "print('Listing URL:', df_single_list['url'].iloc[0])\n",
        "# view df\n",
        "df_single_list"
      ],
      "metadata": {
        "colab": {
          "base_uri": "https://localhost:8080/",
          "height": 267
        },
        "id": "nUVdMOxgkVvx",
        "outputId": "b673e136-01de-41f5-e4bb-c09496752594"
      },
      "execution_count": 97,
      "outputs": [
        {
          "output_type": "stream",
          "name": "stdout",
          "text": [
            "Listing URL: https://www.airbnb.com/rooms/38351053\n"
          ]
        },
        {
          "output_type": "execute_result",
          "data": {
            "text/plain": [
              "                              address  location/lat  location/lng  \\\n",
              "6  Siesta Key, Florida, United States        27.284       -82.565   \n",
              "\n",
              "                                                name  numberOfGuests  \\\n",
              "6  Modern Marvel - Stunning Gulf Front Home! Amaz...              14   \n",
              "\n",
              "   pricing/rate/amount pricing/rate/amount_formatted pricing/rate/currency  \\\n",
              "6                 2747                        $2,747                   USD   \n",
              "\n",
              "   pricing/rate/is_micros_accuracy pricing/rate_type  \\\n",
              "6                            False           nightly   \n",
              "\n",
              "   pricing/rate_with_service_fee/amount  \\\n",
              "6                                  2747   \n",
              "\n",
              "  pricing/rate_with_service_fee/amount_formatted  \\\n",
              "6                                         $2,747   \n",
              "\n",
              "  pricing/rate_with_service_fee/currency  \\\n",
              "6                                    USD   \n",
              "\n",
              "   pricing/rate_with_service_fee/is_micros_accuracy     roomType  stars  \\\n",
              "6                                             False  Entire home    4.5   \n",
              "\n",
              "                                     url listing_id  \\\n",
              "6  https://www.airbnb.com/rooms/38351053   38351053   \n",
              "\n",
              "                                              header  \n",
              "6  38351053 - Modern Marvel - Stunning Gulf Front...  "
            ],
            "text/html": [
              "\n",
              "  <div id=\"df-c7d12f11-eeb7-43a0-84e8-c9c7584cbe2e\">\n",
              "    <div class=\"colab-df-container\">\n",
              "      <div>\n",
              "<style scoped>\n",
              "    .dataframe tbody tr th:only-of-type {\n",
              "        vertical-align: middle;\n",
              "    }\n",
              "\n",
              "    .dataframe tbody tr th {\n",
              "        vertical-align: top;\n",
              "    }\n",
              "\n",
              "    .dataframe thead th {\n",
              "        text-align: right;\n",
              "    }\n",
              "</style>\n",
              "<table border=\"1\" class=\"dataframe\">\n",
              "  <thead>\n",
              "    <tr style=\"text-align: right;\">\n",
              "      <th></th>\n",
              "      <th>address</th>\n",
              "      <th>location/lat</th>\n",
              "      <th>location/lng</th>\n",
              "      <th>name</th>\n",
              "      <th>numberOfGuests</th>\n",
              "      <th>pricing/rate/amount</th>\n",
              "      <th>pricing/rate/amount_formatted</th>\n",
              "      <th>pricing/rate/currency</th>\n",
              "      <th>pricing/rate/is_micros_accuracy</th>\n",
              "      <th>pricing/rate_type</th>\n",
              "      <th>pricing/rate_with_service_fee/amount</th>\n",
              "      <th>pricing/rate_with_service_fee/amount_formatted</th>\n",
              "      <th>pricing/rate_with_service_fee/currency</th>\n",
              "      <th>pricing/rate_with_service_fee/is_micros_accuracy</th>\n",
              "      <th>roomType</th>\n",
              "      <th>stars</th>\n",
              "      <th>url</th>\n",
              "      <th>listing_id</th>\n",
              "      <th>header</th>\n",
              "    </tr>\n",
              "  </thead>\n",
              "  <tbody>\n",
              "    <tr>\n",
              "      <th>6</th>\n",
              "      <td>Siesta Key, Florida, United States</td>\n",
              "      <td>27.284</td>\n",
              "      <td>-82.565</td>\n",
              "      <td>Modern Marvel - Stunning Gulf Front Home! Amaz...</td>\n",
              "      <td>14</td>\n",
              "      <td>2747</td>\n",
              "      <td>$2,747</td>\n",
              "      <td>USD</td>\n",
              "      <td>False</td>\n",
              "      <td>nightly</td>\n",
              "      <td>2747</td>\n",
              "      <td>$2,747</td>\n",
              "      <td>USD</td>\n",
              "      <td>False</td>\n",
              "      <td>Entire home</td>\n",
              "      <td>4.5</td>\n",
              "      <td>https://www.airbnb.com/rooms/38351053</td>\n",
              "      <td>38351053</td>\n",
              "      <td>38351053 - Modern Marvel - Stunning Gulf Front...</td>\n",
              "    </tr>\n",
              "  </tbody>\n",
              "</table>\n",
              "</div>\n",
              "      <button class=\"colab-df-convert\" onclick=\"convertToInteractive('df-c7d12f11-eeb7-43a0-84e8-c9c7584cbe2e')\"\n",
              "              title=\"Convert this dataframe to an interactive table.\"\n",
              "              style=\"display:none;\">\n",
              "        \n",
              "  <svg xmlns=\"http://www.w3.org/2000/svg\" height=\"24px\"viewBox=\"0 0 24 24\"\n",
              "       width=\"24px\">\n",
              "    <path d=\"M0 0h24v24H0V0z\" fill=\"none\"/>\n",
              "    <path d=\"M18.56 5.44l.94 2.06.94-2.06 2.06-.94-2.06-.94-.94-2.06-.94 2.06-2.06.94zm-11 1L8.5 8.5l.94-2.06 2.06-.94-2.06-.94L8.5 2.5l-.94 2.06-2.06.94zm10 10l.94 2.06.94-2.06 2.06-.94-2.06-.94-.94-2.06-.94 2.06-2.06.94z\"/><path d=\"M17.41 7.96l-1.37-1.37c-.4-.4-.92-.59-1.43-.59-.52 0-1.04.2-1.43.59L10.3 9.45l-7.72 7.72c-.78.78-.78 2.05 0 2.83L4 21.41c.39.39.9.59 1.41.59.51 0 1.02-.2 1.41-.59l7.78-7.78 2.81-2.81c.8-.78.8-2.07 0-2.86zM5.41 20L4 18.59l7.72-7.72 1.47 1.35L5.41 20z\"/>\n",
              "  </svg>\n",
              "      </button>\n",
              "      \n",
              "  <style>\n",
              "    .colab-df-container {\n",
              "      display:flex;\n",
              "      flex-wrap:wrap;\n",
              "      gap: 12px;\n",
              "    }\n",
              "\n",
              "    .colab-df-convert {\n",
              "      background-color: #E8F0FE;\n",
              "      border: none;\n",
              "      border-radius: 50%;\n",
              "      cursor: pointer;\n",
              "      display: none;\n",
              "      fill: #1967D2;\n",
              "      height: 32px;\n",
              "      padding: 0 0 0 0;\n",
              "      width: 32px;\n",
              "    }\n",
              "\n",
              "    .colab-df-convert:hover {\n",
              "      background-color: #E2EBFA;\n",
              "      box-shadow: 0px 1px 2px rgba(60, 64, 67, 0.3), 0px 1px 3px 1px rgba(60, 64, 67, 0.15);\n",
              "      fill: #174EA6;\n",
              "    }\n",
              "\n",
              "    [theme=dark] .colab-df-convert {\n",
              "      background-color: #3B4455;\n",
              "      fill: #D2E3FC;\n",
              "    }\n",
              "\n",
              "    [theme=dark] .colab-df-convert:hover {\n",
              "      background-color: #434B5C;\n",
              "      box-shadow: 0px 1px 3px 1px rgba(0, 0, 0, 0.15);\n",
              "      filter: drop-shadow(0px 1px 2px rgba(0, 0, 0, 0.3));\n",
              "      fill: #FFFFFF;\n",
              "    }\n",
              "  </style>\n",
              "\n",
              "      <script>\n",
              "        const buttonEl =\n",
              "          document.querySelector('#df-c7d12f11-eeb7-43a0-84e8-c9c7584cbe2e button.colab-df-convert');\n",
              "        buttonEl.style.display =\n",
              "          google.colab.kernel.accessAllowed ? 'block' : 'none';\n",
              "\n",
              "        async function convertToInteractive(key) {\n",
              "          const element = document.querySelector('#df-c7d12f11-eeb7-43a0-84e8-c9c7584cbe2e');\n",
              "          const dataTable =\n",
              "            await google.colab.kernel.invokeFunction('convertToInteractive',\n",
              "                                                     [key], {});\n",
              "          if (!dataTable) return;\n",
              "\n",
              "          const docLinkHtml = 'Like what you see? Visit the ' +\n",
              "            '<a target=\"_blank\" href=https://colab.research.google.com/notebooks/data_table.ipynb>data table notebook</a>'\n",
              "            + ' to learn more about interactive tables.';\n",
              "          element.innerHTML = '';\n",
              "          dataTable['output_type'] = 'display_data';\n",
              "          await google.colab.output.renderOutput(dataTable, element);\n",
              "          const docLink = document.createElement('div');\n",
              "          docLink.innerHTML = docLinkHtml;\n",
              "          element.appendChild(docLink);\n",
              "        }\n",
              "      </script>\n",
              "    </div>\n",
              "  </div>\n",
              "  "
            ]
          },
          "metadata": {},
          "execution_count": 97
        }
      ]
    },
    {
      "cell_type": "markdown",
      "source": [
        "## <font color=\"blue\">Output</font>"
      ],
      "metadata": {
        "id": "Rrq0JdqoljAd"
      }
    },
    {
      "cell_type": "code",
      "source": [
        "# # download file\n",
        "# df.to_csv('output.csv', index=False)\n",
        "# files.download('output.csv')"
      ],
      "metadata": {
        "id": "DQm3kEW5ibPy"
      },
      "execution_count": 93,
      "outputs": []
    },
    {
      "cell_type": "markdown",
      "metadata": {
        "id": "_WrYHVh9Ukid"
      },
      "source": [
        "# End Notebook"
      ]
    }
  ]
}