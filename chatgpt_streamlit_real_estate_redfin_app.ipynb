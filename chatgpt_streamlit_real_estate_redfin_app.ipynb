{
  "nbformat": 4,
  "nbformat_minor": 0,
  "metadata": {
    "colab": {
      "provenance": []
    },
    "kernelspec": {
      "name": "python3",
      "display_name": "Python 3"
    }
  },
  "cells": [
    {
      "cell_type": "markdown",
      "source": [
        "# ChatGPT Market Data (Redfin) Streamlit App\n",
        "[![Open In Colab](https://colab.research.google.com/assets/colab-badge.svg)](https://colab.research.google.com/drive/10zfuRePoOvMmWPkEajcq5ehIbw5LhLHx?usp=sharing\n",
        "## Overview\n",
        "| Detail Tag            | Information                                                                                        |\n",
        "|-----------------------|----------------------------------------------------------------------------------------------------|\n",
        "| Originally Created By | Ariel Herrera arielherrera@analyticsariel.com |\n",
        "| External References   | Open AI API |\n",
        "| Input Datasets        | Source name |\n",
        "| Output Datasets       | Source name |\n",
        "| Input Data Source     | Pandas DataFrame |\n",
        "| Output Data Source    | String |\n",
        "\n",
        "## History\n",
        "| Date         | Developed By  | Reason                                                |\n",
        "|--------------|---------------|-------------------------------------------------------|\n",
        "| 1st May 2023 | Ariel Herrera | Create notebook. |\n",
        "\n",
        "## Getting Started\n",
        "1. Copy this notebook -> File -> Save a Copy in Drive\n",
        "2. Directions\n",
        "\n",
        "## Useful Resources\n",
        "- [Google Colab Cheat Sheet](https://towardsdatascience.com/cheat-sheet-for-google-colab-63853778c093)"
      ],
      "metadata": {
        "id": "p8_8vOvimyv3"
      }
    },
    {
      "cell_type": "markdown",
      "source": [
        "## <font color=\"blue\">Install Packages</font>"
      ],
      "metadata": {
        "id": "dhjG-Ab6m88P"
      }
    },
    {
      "cell_type": "code",
      "metadata": {
        "id": "RvlYkCQ9vFiy",
        "colab": {
          "base_uri": "https://localhost:8080/"
        },
        "outputId": "f0b46f6e-ac7c-4de3-e8ce-d1592c45d0ae"
      },
      "source": [
        "!pip install -q streamlit langchain openai"
      ],
      "execution_count": 1,
      "outputs": [
        {
          "output_type": "stream",
          "name": "stdout",
          "text": [
            "\u001b[2K     \u001b[90m━━━━━━━━━━━━━━━━━━━━━━━━━━━━━━━━━━━━━━━━\u001b[0m \u001b[32m8.9/8.9 MB\u001b[0m \u001b[31m24.0 MB/s\u001b[0m eta \u001b[36m0:00:00\u001b[0m\n",
            "\u001b[2K     \u001b[90m━━━━━━━━━━━━━━━━━━━━━━━━━━━━━━━━━━━━━━\u001b[0m \u001b[32m727.0/727.0 kB\u001b[0m \u001b[31m28.6 MB/s\u001b[0m eta \u001b[36m0:00:00\u001b[0m\n",
            "\u001b[2K     \u001b[90m━━━━━━━━━━━━━━━━━━━━━━━━━━━━━━━━━━━━━━━━\u001b[0m \u001b[32m71.9/71.9 kB\u001b[0m \u001b[31m4.1 MB/s\u001b[0m eta \u001b[36m0:00:00\u001b[0m\n",
            "\u001b[2K     \u001b[90m━━━━━━━━━━━━━━━━━━━━━━━━━━━━━━━━━━━━━━\u001b[0m \u001b[32m164.8/164.8 kB\u001b[0m \u001b[31m10.0 MB/s\u001b[0m eta \u001b[36m0:00:00\u001b[0m\n",
            "\u001b[?25h  Preparing metadata (setup.py) ... \u001b[?25l\u001b[?25hdone\n",
            "\u001b[2K     \u001b[90m━━━━━━━━━━━━━━━━━━━━━━━━━━━━━━━━━━━━━━━\u001b[0m \u001b[32m184.3/184.3 kB\u001b[0m \u001b[31m4.1 MB/s\u001b[0m eta \u001b[36m0:00:00\u001b[0m\n",
            "\u001b[2K     \u001b[90m━━━━━━━━━━━━━━━━━━━━━━━━━━━━━━━━━━━━━━━━\u001b[0m \u001b[32m4.8/4.8 MB\u001b[0m \u001b[31m17.2 MB/s\u001b[0m eta \u001b[36m0:00:00\u001b[0m\n",
            "\u001b[2K     \u001b[90m━━━━━━━━━━━━━━━━━━━━━━━━━━━━━━━━━━━━━━━━\u001b[0m \u001b[32m82.1/82.1 kB\u001b[0m \u001b[31m2.0 MB/s\u001b[0m eta \u001b[36m0:00:00\u001b[0m\n",
            "\u001b[2K     \u001b[90m━━━━━━━━━━━━━━━━━━━━━━━━━━━━━━━━━━━━━━━━\u001b[0m \u001b[32m1.0/1.0 MB\u001b[0m \u001b[31m17.3 MB/s\u001b[0m eta \u001b[36m0:00:00\u001b[0m\n",
            "\u001b[2K     \u001b[90m━━━━━━━━━━━━━━━━━━━━━━━━━━━━━━━━━━━━━━━━\u001b[0m \u001b[32m90.0/90.0 kB\u001b[0m \u001b[31m2.0 MB/s\u001b[0m eta \u001b[36m0:00:00\u001b[0m\n",
            "\u001b[2K     \u001b[90m━━━━━━━━━━━━━━━━━━━━━━━━━━━━━━━━━━━━━━━\u001b[0m \u001b[32m114.5/114.5 kB\u001b[0m \u001b[31m2.2 MB/s\u001b[0m eta \u001b[36m0:00:00\u001b[0m\n",
            "\u001b[2K     \u001b[90m━━━━━━━━━━━━━━━━━━━━━━━━━━━━━━━━━━━━━━\u001b[0m \u001b[32m268.8/268.8 kB\u001b[0m \u001b[31m16.0 MB/s\u001b[0m eta \u001b[36m0:00:00\u001b[0m\n",
            "\u001b[2K     \u001b[90m━━━━━━━━━━━━━━━━━━━━━━━━━━━━━━━━━━━━━━━\u001b[0m \u001b[32m149.6/149.6 kB\u001b[0m \u001b[31m5.5 MB/s\u001b[0m eta \u001b[36m0:00:00\u001b[0m\n",
            "\u001b[2K     \u001b[90m━━━━━━━━━━━━━━━━━━━━━━━━━━━━━━━━━━━━━━━━\u001b[0m \u001b[32m49.1/49.1 kB\u001b[0m \u001b[31m2.1 MB/s\u001b[0m eta \u001b[36m0:00:00\u001b[0m\n",
            "\u001b[2K     \u001b[90m━━━━━━━━━━━━━━━━━━━━━━━━━━━━━━━━━━━━━━━━\u001b[0m \u001b[32m62.7/62.7 kB\u001b[0m \u001b[31m4.2 MB/s\u001b[0m eta \u001b[36m0:00:00\u001b[0m\n",
            "\u001b[?25h  Building wheel for validators (setup.py) ... \u001b[?25l\u001b[?25hdone\n"
          ]
        }
      ]
    },
    {
      "cell_type": "markdown",
      "metadata": {
        "id": "waCfwniZOow8"
      },
      "source": [
        "## <font color=\"blue\">Streamlit App</font>\n"
      ]
    },
    {
      "cell_type": "code",
      "source": [
        "%%writefile app.py\n",
        "import sqlite3\n",
        "import streamlit as st\n",
        "import pandas as pd\n",
        "from sqlalchemy import create_engine\n",
        "from sqlalchemy.pool import StaticPool\n",
        "from langchain import OpenAI, SQLDatabase, SQLDatabaseChain\n",
        "\n",
        "\n",
        "#####################################\n",
        "#            FUNCTIONS              #\n",
        "#####################################\n",
        "@st.cache_data()\n",
        "def load_data(url):\n",
        "    \"\"\"\n",
        "    load data from url\n",
        "    \"\"\"\n",
        "    df = pd.read_csv(url)\n",
        "    return df\n",
        "\n",
        "def prepare_data(df):\n",
        "    \"\"\"\n",
        "    lowercase columns\n",
        "    \"\"\"\n",
        "    df.columns = [x.replace(' ', '_').lower() for x in df.columns]\n",
        "    return df\n",
        "\n",
        "\n",
        "#####################################\n",
        "#        LOCALS & CONSTANTS         #\n",
        "#####################################\n",
        "table_name = 'statesdb'\n",
        "uri = \"file::memory:?cache=shared\"\n",
        "default_region_list = ['Alabama','Arizona','Arkansas','California','Florida','Georgia','Louisiana','Mississippi','Nevada','New Mexico','North Carolina','Oklahoma','South Carolina','Tennessee','Texas']\n",
        "\n",
        "#####################################\n",
        "#            HOME PAGE              #\n",
        "#####################################\n",
        "st.title('ChatGPT Property Data Streamlit :house:')\n",
        "st.subheader('Market Data')\n",
        "\n",
        "# read data\n",
        "url = \"https://raw.githubusercontent.com/analyticsariel/public-data/main/202303_redfin_states_sfh.csv\"\n",
        "df = load_data(url)\n",
        "# smile states\n",
        "with st.expander(\"Filters\", expanded=False):\n",
        "    st.markdown(\"_Default to smile states_ :smile:\")\n",
        "    region_list_filter = st.multiselect(\n",
        "        'Filter on States', \n",
        "        list(df['region'].unique()),\n",
        "        default_region_list\n",
        "        )\n",
        "\n",
        "df = df.loc[df['region'].isin(region_list_filter)]\\\n",
        "    .sort_values(by=['period_begin'], ascending=False)\\\n",
        "    .reset_index(drop=True)\n",
        "\n",
        "# display df\n",
        "st.dataframe(df.head())\n",
        "\n",
        "# api key\n",
        "openai_api_key = st.text_input(\n",
        "    \"API key\", \n",
        "    placeholder='1234567890',\n",
        "    type='password',\n",
        "    disabled=False,\n",
        "    help='Enter your OpenAI api key.'\n",
        ")\n",
        "\n",
        "# user query\n",
        "user_q = st.text_input(\n",
        "    \"User Query\", \n",
        "    placeholder=\"Which state has the lowest median dom?\",\n",
        "    help=\"Enter a question based on the dataset\")\n",
        "\n",
        "# commit data to sql\n",
        "data = prepare_data(df)\n",
        "conn = sqlite3.connect(uri)\n",
        "data.to_sql(table_name, conn, if_exists='replace', index=False)\n",
        "\n",
        "# create db engine\n",
        "eng = create_engine(\n",
        "    url='sqlite:///file:memdb1?mode=memory&cache=shared', \n",
        "    poolclass=StaticPool, # single connection for requests\n",
        "    creator=lambda: conn)\n",
        "db = SQLDatabase(engine=eng)\n",
        "\n",
        "# create open AI conn and db chain\n",
        "if openai_api_key:\n",
        "  llm = OpenAI(\n",
        "      openai_api_key=openai_api_key, \n",
        "      temperature=0, # creative scale\n",
        "      max_tokens=300)\n",
        "  db_chain = SQLDatabaseChain(llm=llm, database=db, verbose=True)\n",
        "\n",
        "# run query and display result\n",
        "if openai_api_key and user_q:\n",
        "    result = db_chain.run(user_q)\n",
        "    st.write(result)"
      ],
      "metadata": {
        "id": "meJ36PefNftd",
        "outputId": "bd1dec32-6470-4bcb-9544-aefcac2784a3",
        "colab": {
          "base_uri": "https://localhost:8080/"
        }
      },
      "execution_count": 2,
      "outputs": [
        {
          "output_type": "stream",
          "name": "stdout",
          "text": [
            "Writing app.py\n"
          ]
        }
      ]
    },
    {
      "cell_type": "markdown",
      "source": [
        "## Run streamlit in background"
      ],
      "metadata": {
        "id": "kccYE2lkN20y"
      }
    },
    {
      "cell_type": "code",
      "source": [
        "!streamlit run /content/app.py &>/content/logs.txt &"
      ],
      "metadata": {
        "id": "Zv912rRAN0fs"
      },
      "execution_count": 3,
      "outputs": []
    },
    {
      "cell_type": "markdown",
      "source": [
        "## Expose the port 8501\n",
        "Then just click in the `url` showed.\n",
        "\n",
        "A `log.txt`file will be created."
      ],
      "metadata": {
        "id": "h_KW9juhOCuH"
      }
    },
    {
      "cell_type": "code",
      "source": [
        "!npx localtunnel --port 8501"
      ],
      "metadata": {
        "id": "XTGAizLhOIgC",
        "outputId": "d4ef3403-fd7a-4d3e-d1a8-71ebbe4f59ef",
        "colab": {
          "base_uri": "https://localhost:8080/"
        }
      },
      "execution_count": 4,
      "outputs": [
        {
          "output_type": "stream",
          "name": "stdout",
          "text": [
            "\u001b[K\u001b[?25hnpx: installed 22 in 4.944s\n",
            "your url is: https://eighty-taxes-show-34-138-154-50.loca.lt\n",
            "^C\n"
          ]
        }
      ]
    },
    {
      "cell_type": "markdown",
      "source": [
        "# End Notebook"
      ],
      "metadata": {
        "id": "l2FVELl_nKmV"
      }
    }
  ]
}