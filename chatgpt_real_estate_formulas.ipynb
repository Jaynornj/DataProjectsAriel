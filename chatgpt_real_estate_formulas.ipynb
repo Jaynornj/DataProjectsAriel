{
  "nbformat": 4,
  "nbformat_minor": 0,
  "metadata": {
    "colab": {
      "provenance": [],
      "authorship_tag": "ABX9TyNSCFDtiStC84Gx7VVNvGFA",
      "include_colab_link": true
    },
    "kernelspec": {
      "name": "python3",
      "display_name": "Python 3"
    },
    "language_info": {
      "name": "python"
    }
  },
  "cells": [
    {
      "cell_type": "markdown",
      "metadata": {
        "id": "view-in-github",
        "colab_type": "text"
      },
      "source": [
        "<a href=\"https://colab.research.google.com/github/analyticsariel/projects/blob/master/chatgpt_real_estate_formulas.ipynb\" target=\"_parent\"><img src=\"https://colab.research.google.com/assets/colab-badge.svg\" alt=\"Open In Colab\"/></a>"
      ]
    },
    {
      "cell_type": "markdown",
      "metadata": {
        "id": "BYRys7lpU-iF"
      },
      "source": [
        "# ChatGPT Real Estate Examples\n",
        "\n",
        "## Overview\n",
        "| Detail Tag            | Information                                                                                        |\n",
        "|-----------------------|----------------------------------------------------------------------------------------------------|\n",
        "| Originally Created By | Ariel Herrera arielherrera@analyticsariel.com |\n",
        "| External References   | API |\n",
        "| Input Datasets        | Source name |\n",
        "| Output Datasets       | Source name |\n",
        "| Input Data Source     | Pandas DataFrame |\n",
        "| Output Data Source    | Pandas DataFrame |\n",
        "\n",
        "## History\n",
        "| Date         | Developed By  | Reason                                                |\n",
        "|--------------|---------------|-------------------------------------------------------|\n",
        "| 15th Dec 2022 | Ariel Herrera | Create notebook. |\n",
        "\n",
        "## Getting Started\n",
        "1. Copy this notebook -> File -> Save a Copy in Drive\n",
        "2. Directions\n",
        "\n",
        "## Useful Resources\n",
        "- [Google Colab Cheat Sheet](https://towardsdatascience.com/cheat-sheet-for-google-colab-63853778c093)"
      ]
    },
    {
      "cell_type": "markdown",
      "source": [
        "## Task #1: Calculate Mortgage Payment"
      ],
      "metadata": {
        "id": "g5qmqE7fzOc4"
      }
    },
    {
      "cell_type": "code",
      "source": [
        "# loan amount\n",
        "loan_amount = 200000\n",
        "\n",
        "# annual interest rate\n",
        "interest_rate = 0.035\n",
        "\n",
        "# loan term in years\n",
        "loan_term = 30\n",
        "\n",
        "# monthly mortgage payment\n",
        "monthly_payment = loan_amount * (interest_rate / 12) / (1 - (1 + (interest_rate / 12)) ** (-loan_term * 12))\n",
        "\n",
        "# print the result\n",
        "print(monthly_payment)\n"
      ],
      "metadata": {
        "colab": {
          "base_uri": "https://localhost:8080/"
        },
        "id": "tzq-T5B200Tg",
        "outputId": "35c25589-9908-4f01-d5ef-64590df87af7"
      },
      "execution_count": null,
      "outputs": [
        {
          "output_type": "stream",
          "name": "stdout",
          "text": [
            "898.089375617647\n"
          ]
        }
      ]
    },
    {
      "cell_type": "markdown",
      "source": [
        "## Task #2: Capitalization Rate"
      ],
      "metadata": {
        "id": "WUtP713a149a"
      }
    },
    {
      "cell_type": "code",
      "source": [
        "# net operating income\n",
        "NOI = 100000\n",
        "\n",
        "# market value\n",
        "market_value = 500000\n",
        "\n",
        "# calculate the capitalization rate\n",
        "cap_rate = NOI / market_value\n",
        "\n",
        "# print the result\n",
        "print(cap_rate)\n"
      ],
      "metadata": {
        "colab": {
          "base_uri": "https://localhost:8080/"
        },
        "id": "oFJ12baa19Fn",
        "outputId": "2aa495c3-5405-47b1-808e-49f3f8282633"
      },
      "execution_count": null,
      "outputs": [
        {
          "output_type": "stream",
          "name": "stdout",
          "text": [
            "0.2\n"
          ]
        }
      ]
    },
    {
      "cell_type": "markdown",
      "source": [
        "## Task #3: Rent Cost Ratio"
      ],
      "metadata": {
        "id": "Fu7ma8xc2XDe"
      }
    },
    {
      "cell_type": "code",
      "source": [
        "# monthly rent\n",
        "rent = 1000\n",
        "\n",
        "# monthly costs\n",
        "cost = 500\n",
        "\n",
        "# calculate the rent-to-cost ratio\n",
        "rent_to_cost_ratio = rent / cost\n",
        "\n",
        "# print the result\n",
        "print(rent_to_cost_ratio)\n"
      ],
      "metadata": {
        "colab": {
          "base_uri": "https://localhost:8080/"
        },
        "id": "E9O_Mfc02atS",
        "outputId": "b9574f36-303a-4400-cba0-5141e00f80ec"
      },
      "execution_count": null,
      "outputs": [
        {
          "output_type": "stream",
          "name": "stdout",
          "text": [
            "2.0\n"
          ]
        }
      ]
    },
    {
      "cell_type": "markdown",
      "source": [
        "## Task #4: Gross Yield"
      ],
      "metadata": {
        "id": "DJcp-kQI3bf1"
      }
    },
    {
      "cell_type": "code",
      "source": [
        "# annual rent\n",
        "annual_rent = 12000\n",
        "\n",
        "# market value\n",
        "market_value = 100000\n",
        "\n",
        "# calculate the gross yield\n",
        "gross_yield = annual_rent / market_value\n",
        "\n",
        "# print the result\n",
        "print(gross_yield)\n"
      ],
      "metadata": {
        "colab": {
          "base_uri": "https://localhost:8080/"
        },
        "id": "iC9ROsbY3bMA",
        "outputId": "0f45b3aa-e918-40fe-ef3f-6c3e58ebdd9b"
      },
      "execution_count": null,
      "outputs": [
        {
          "output_type": "stream",
          "name": "stdout",
          "text": [
            "0.12\n"
          ]
        }
      ]
    },
    {
      "cell_type": "markdown",
      "source": [
        "## Task #5: Debt Service Ratio"
      ],
      "metadata": {
        "id": "lrB5SbsP35N9"
      }
    },
    {
      "cell_type": "code",
      "source": [
        "# net operating income\n",
        "NOI = 100000\n",
        "\n",
        "# total debt service\n",
        "total_debt_service = 50000\n",
        "\n",
        "# calculate the debt service ratio\n",
        "debt_service_ratio = total_debt_service / NOI\n",
        "\n",
        "# print the result\n",
        "print(debt_service_ratio)\n"
      ],
      "metadata": {
        "colab": {
          "base_uri": "https://localhost:8080/"
        },
        "id": "7flHL76337p1",
        "outputId": "0d8e5232-53a8-48ab-dbaa-e83319d8f04e"
      },
      "execution_count": null,
      "outputs": [
        {
          "output_type": "stream",
          "name": "stdout",
          "text": [
            "0.5\n"
          ]
        }
      ]
    },
    {
      "cell_type": "markdown",
      "source": [
        "## Task #6: Cash on Cash Return"
      ],
      "metadata": {
        "id": "dPmZp-MY4UuA"
      }
    },
    {
      "cell_type": "code",
      "source": [
        "# annual cash flow\n",
        "annual_cash_flow = 10000\n",
        "\n",
        "# total cash invested\n",
        "total_cash_invested = 50000\n",
        "\n",
        "# calculate the cash on cash return\n",
        "cash_on_cash_return = annual_cash_flow / total_cash_invested\n",
        "\n",
        "# print the result\n",
        "print(cash_on_cash_return)\n"
      ],
      "metadata": {
        "colab": {
          "base_uri": "https://localhost:8080/"
        },
        "id": "X7KYTdVL4W2C",
        "outputId": "3ee90fec-2961-476e-e0d3-77481f12c068"
      },
      "execution_count": null,
      "outputs": [
        {
          "output_type": "stream",
          "name": "stdout",
          "text": [
            "0.2\n"
          ]
        }
      ]
    },
    {
      "cell_type": "markdown",
      "source": [
        "## Task #7: The 50% Rule"
      ],
      "metadata": {
        "id": "INvwrhnL4uNX"
      }
    },
    {
      "cell_type": "code",
      "source": [
        "# monthly rent\n",
        "monthly_rent = 1000\n",
        "\n",
        "# monthly costs\n",
        "monthly_costs = 500\n",
        "\n",
        "# calculate the monthly carrying costs\n",
        "monthly_carrying_costs = monthly_costs / 2\n",
        "\n",
        "# check if the property follows the 50% rule\n",
        "if monthly_rent >= monthly_carrying_costs:\n",
        "  print(\"The property follows the 50% rule\")\n",
        "else:\n",
        "  print(\"The property does not follow the 50% rule\")\n"
      ],
      "metadata": {
        "colab": {
          "base_uri": "https://localhost:8080/"
        },
        "id": "i3k6WDRn4xAz",
        "outputId": "e0f431bc-d1fd-489c-e91e-1bde151a597d"
      },
      "execution_count": null,
      "outputs": [
        {
          "output_type": "stream",
          "name": "stdout",
          "text": [
            "The property follows the 50% rule\n"
          ]
        }
      ]
    },
    {
      "cell_type": "markdown",
      "source": [
        "## Task #8: After Repair Value (ARV)"
      ],
      "metadata": {
        "id": "2HfdBy4m5dTX"
      }
    },
    {
      "cell_type": "code",
      "source": [
        "# market value\n",
        "market_value = 100000\n",
        "\n",
        "# repair cost\n",
        "repair_cost = 10000\n",
        "\n",
        "# calculate the after repair value\n",
        "ARV = market_value + repair_cost\n",
        "\n",
        "# print the result\n",
        "print(ARV)\n"
      ],
      "metadata": {
        "colab": {
          "base_uri": "https://localhost:8080/"
        },
        "id": "jrzPf2aA5fzr",
        "outputId": "ed5ae90b-1e78-4af7-a66c-8af5c7f3b162"
      },
      "execution_count": null,
      "outputs": [
        {
          "output_type": "stream",
          "name": "stdout",
          "text": [
            "110000\n"
          ]
        }
      ]
    },
    {
      "cell_type": "markdown",
      "source": [
        "## Task #9: 70% of the ARV Rule"
      ],
      "metadata": {
        "id": "7Hui6ll-50qb"
      }
    },
    {
      "cell_type": "code",
      "source": [
        "# purchase price\n",
        "purchase_price = 50000\n",
        "\n",
        "# after repair value\n",
        "ARV = 100000\n",
        "\n",
        "# repair cost\n",
        "repair_cost = 10000\n",
        "\n",
        "# calculate the maximum allowable purchase price\n",
        "max_purchase_price = (ARV - repair_cost) * 0.70\n",
        "\n",
        "# check if the investment follows the 70% rule\n",
        "if purchase_price <= max_purchase_price:\n",
        "  print(\"The investment follows the 70% rule\")\n",
        "else:\n",
        "  print(\"The investment does not follow the 70% rule\")\n"
      ],
      "metadata": {
        "colab": {
          "base_uri": "https://localhost:8080/"
        },
        "id": "oaE5UVm853Uy",
        "outputId": "d4d13738-f4b0-419e-df14-8014ef072ada"
      },
      "execution_count": null,
      "outputs": [
        {
          "output_type": "stream",
          "name": "stdout",
          "text": [
            "The investment follows the 70% rule\n"
          ]
        }
      ]
    },
    {
      "cell_type": "markdown",
      "source": [
        "## Task #10: Price Per Square Foot"
      ],
      "metadata": {
        "id": "q5mv6a2a6YVm"
      }
    },
    {
      "cell_type": "code",
      "source": [
        "# property price\n",
        "price = 100000\n",
        "\n",
        "# number of square feet\n",
        "square_feet = 1000\n",
        "\n",
        "# calculate the price per square foot\n",
        "price_per_square_foot = price / square_feet\n",
        "\n",
        "# print the result\n",
        "print(price_per_square_foot)\n"
      ],
      "metadata": {
        "colab": {
          "base_uri": "https://localhost:8080/"
        },
        "id": "1afKqoh16avn",
        "outputId": "74d06520-7537-47b5-ca4d-322458867fe4"
      },
      "execution_count": null,
      "outputs": [
        {
          "output_type": "stream",
          "name": "stdout",
          "text": [
            "100.0\n"
          ]
        }
      ]
    },
    {
      "cell_type": "markdown",
      "metadata": {
        "id": "_WrYHVh9Ukid"
      },
      "source": [
        "# End Notebook"
      ]
    }
  ]
}