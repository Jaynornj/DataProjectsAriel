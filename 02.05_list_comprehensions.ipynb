{
  "nbformat": 4,
  "nbformat_minor": 0,
  "metadata": {
    "colab": {
      "provenance": [],
      "collapsed_sections": [],
      "authorship_tag": "ABX9TyNq+SvNHwe0fYhx4lxylwzR",
      "include_colab_link": true
    },
    "kernelspec": {
      "name": "python3",
      "display_name": "Python 3"
    },
    "language_info": {
      "name": "python"
    }
  },
  "cells": [
    {
      "cell_type": "markdown",
      "metadata": {
        "id": "view-in-github",
        "colab_type": "text"
      },
      "source": [
        "<a href=\"https://colab.research.google.com/github/analyticsariel/projects/blob/master/02.05_list_comprehensions.ipynb\" target=\"_parent\"><img src=\"https://colab.research.google.com/assets/colab-badge.svg\" alt=\"Open In Colab\"/></a>"
      ]
    },
    {
      "cell_type": "markdown",
      "metadata": {
        "id": "BYRys7lpU-iF"
      },
      "source": [
        "# List Comprehensions\n",
        "## Overview\n",
        "| Detail Tag            | Information                                                                                        |\n",
        "|-----------------------|----------------------------------------------------------------------------------------------------|\n",
        "| Created By | Ariel Herrera arielherrera@analyticsariel.com |\n",
        "\n",
        "## History\n",
        "| Date         | Developed By  | Reason                                                |\n",
        "|--------------|---------------|-------------------------------------------------------|\n",
        "| 1st Sep 2022 | Ariel Herrera | Create notebook. |\n",
        "\n",
        "## Getting Started\n",
        "1. Copy this notebook -> File -> Save a Copy in Drive\n",
        "\n",
        "## Useful Resources\n",
        "- [Course Contents](https://colab.research.google.com/drive/12K0Ow9Y8v3-a1xuWMc52aPFgaLl-h9vx)\n",
        "- [Google Colab Cheat Sheet](https://towardsdatascience.com/cheat-sheet-for-google-colab-63853778c093)\n",
        "- [List Comprehensions](https://www.w3schools.com/python/python_lists_comprehension.asp)"
      ]
    },
    {
      "cell_type": "markdown",
      "metadata": {
        "id": "hKgiM1tbUnbI"
      },
      "source": [
        "## <font color=\"blue\">What are List Comprehensions?</font>\n",
        "List comprehension offers a shorter syntax when you want to create a new list based on the values of an existing list.\n",
        "\n",
        "Example:\n",
        "\n",
        "Based on a list of fruits, you want a new list, containing only the fruits with the letter \"a\" in the name.\n",
        "\n",
        "Without list comprehension you will have to write a for statement with a conditional test inside:"
      ]
    },
    {
      "cell_type": "code",
      "metadata": {
        "id": "7V2OU_iGUppW",
        "colab": {
          "base_uri": "https://localhost:8080/"
        },
        "outputId": "dafb39ca-e8db-4297-98b6-1bc24ae7d2aa"
      },
      "source": [
        "# list of addresses\n",
        "addresses_list = [\"123 Main St, Miami, FL\", \n",
        "                  \"456 Yellow Rd, Toms River, NJ\", \n",
        "                  \"700 Honey Ln, Jackson, NJ\", \n",
        "                  \"300 Pine St, Tampa, FL\", \n",
        "                  \"302 Pine St, Tampa, FL\"]\n",
        "print('Number of addresses:', )"
      ],
      "execution_count": null,
      "outputs": [
        {
          "output_type": "stream",
          "name": "stdout",
          "text": [
            "Number of addresses:\n"
          ]
        }
      ]
    },
    {
      "cell_type": "code",
      "source": [
        "\"\"\"\n",
        "  SCENARIO: We want to get new insurance rates for properties in Florida.\n",
        "  Get all properties in Florida to a list.\n",
        "\"\"\" \n"
      ],
      "metadata": {
        "colab": {
          "base_uri": "https://localhost:8080/",
          "height": 36
        },
        "id": "KhhdiGoZNAzl",
        "outputId": "f0298395-c1a2-4a12-af79-8e1451e3f17d"
      },
      "execution_count": null,
      "outputs": [
        {
          "output_type": "execute_result",
          "data": {
            "text/plain": [
              "'\\n  SCENARIO: We want to get new insurance rates for properties in Florida.\\n  Get all properties in Florida to a list.\\n'"
            ],
            "application/vnd.google.colaboratory.intrinsic+json": {
              "type": "string"
            }
          },
          "metadata": {},
          "execution_count": 2
        }
      ]
    },
    {
      "cell_type": "code",
      "source": [
        "# simpler with list comprehension\n"
      ],
      "metadata": {
        "id": "g7QEecUrNPBt"
      },
      "execution_count": null,
      "outputs": []
    },
    {
      "cell_type": "code",
      "source": [
        "\"\"\"\n",
        "  SCENARIO: We want to get new insurance rates for properties in Florida.\n",
        "  The insurance companies need the zip code for properties in Tampa.\n",
        "  Attach zip code to properties in Tampa.\n",
        "\"\"\" \n"
      ],
      "metadata": {
        "colab": {
          "base_uri": "https://localhost:8080/",
          "height": 53
        },
        "id": "WOMhUn3HNhUl",
        "outputId": "838cfd9b-bced-4d77-ea41-1b4e712058c6"
      },
      "execution_count": null,
      "outputs": [
        {
          "output_type": "execute_result",
          "data": {
            "text/plain": [
              "'\\n  SCENARIO: We want to get new insurance rates for properties in Florida.\\n  The insurance companies need the zip code for properties in Tampa.\\n  Attach zip code to properties in Tampa.\\n'"
            ],
            "application/vnd.google.colaboratory.intrinsic+json": {
              "type": "string"
            }
          },
          "metadata": {},
          "execution_count": 4
        }
      ]
    },
    {
      "cell_type": "code",
      "source": [
        "# simpler with list comprehension\n"
      ],
      "metadata": {
        "id": "mJzyzOujOhuZ"
      },
      "execution_count": null,
      "outputs": []
    },
    {
      "cell_type": "markdown",
      "source": [
        "## Recap\n",
        "We covered list comprehensions as a shorter way to write syntax for loops.\n",
        "\n",
        "So far we have covered data in lists, tuples, and dictionaries.\n",
        "\n",
        "In reality, most of our datasets will be stored in **tables**.\n",
        "\n",
        "Let's explore Pandas DataFrames in the following lessons!"
      ],
      "metadata": {
        "id": "KLGfyU5FMkxp"
      }
    },
    {
      "cell_type": "markdown",
      "source": [
        "## Need more help?\n",
        "Check out the video below for an in-depth view of list comprehensions"
      ],
      "metadata": {
        "id": "F7bRk5PITBW_"
      }
    },
    {
      "cell_type": "code",
      "source": [
        "from IPython.display import YouTubeVideo\n",
        "YouTubeVideo('5K08WcjGV6c')"
      ],
      "metadata": {
        "colab": {
          "base_uri": "https://localhost:8080/",
          "height": 322
        },
        "id": "cSmwLHPZTAvm",
        "outputId": "e4c0934d-adb7-48e9-fda8-b808c96065b7"
      },
      "execution_count": null,
      "outputs": [
        {
          "output_type": "execute_result",
          "data": {
            "text/plain": [
              "<IPython.lib.display.YouTubeVideo at 0x7f212ff89b10>"
            ],
            "text/html": [
              "\n",
              "        <iframe\n",
              "            width=\"400\"\n",
              "            height=\"300\"\n",
              "            src=\"https://www.youtube.com/embed/5K08WcjGV6c\"\n",
              "            frameborder=\"0\"\n",
              "            allowfullscreen\n",
              "        ></iframe>\n",
              "        "
            ],
            "image/jpeg": "[encoded data removed]"
          },
          "metadata": {},
          "execution_count": 6
        }
      ]
    },
    {
      "cell_type": "markdown",
      "metadata": {
        "id": "_WrYHVh9Ukid"
      },
      "source": [
        "# End Notebook"
      ]
    }
  ]
}