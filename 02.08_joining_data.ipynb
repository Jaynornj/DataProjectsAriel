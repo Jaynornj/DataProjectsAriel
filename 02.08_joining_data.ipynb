{
  "nbformat": 4,
  "nbformat_minor": 0,
  "metadata": {
    "colab": {
      "provenance": [],
      "collapsed_sections": [],
      "authorship_tag": "ABX9TyMYGu2tMZle/V6qzY4IYFOJ",
      "include_colab_link": true
    },
    "kernelspec": {
      "name": "python3",
      "display_name": "Python 3"
    },
    "language_info": {
      "name": "python"
    }
  },
  "cells": [
    {
      "cell_type": "markdown",
      "metadata": {
        "id": "view-in-github",
        "colab_type": "text"
      },
      "source": [
        "<a href=\"https://colab.research.google.com/github/analyticsariel/projects/blob/master/02.08_joining_data.ipynb\" target=\"_parent\"><img src=\"https://colab.research.google.com/assets/colab-badge.svg\" alt=\"Open In Colab\"/></a>"
      ]
    },
    {
      "cell_type": "markdown",
      "metadata": {
        "id": "BYRys7lpU-iF"
      },
      "source": [
        "# Joining Data\n",
        "\n",
        "## Overview\n",
        "| Detail Tag            | Information                                                                                        |\n",
        "|-----------------------|----------------------------------------------------------------------------------------------------|\n",
        "| Created By | Ariel Herrera arielherrera@analyticsariel.com |\n",
        "\n",
        "## History\n",
        "| Date         | Developed By  | Reason                                                |\n",
        "|--------------|---------------|-------------------------------------------------------|\n",
        "| 1st Sep 2022 | Ariel Herrera | Create notebook. |\n",
        "\n",
        "## Getting Started\n",
        "1. Copy this notebook -> File -> Save a Copy in Drive\n",
        "\n",
        "## Useful Resources\n",
        "- [Course Contents](https://colab.research.google.com/drive/12K0Ow9Y8v3-a1xuWMc52aPFgaLl-h9vx)\n",
        "- [Google Colab Cheat Sheet](https://towardsdatascience.com/cheat-sheet-for-google-colab-63853778c093)\n",
        "- [Joins in Pandas: Master the Different Types of Joins in Python](https://www.analyticsvidhya.com/blog/2020/02/joins-in-pandas-master-the-different-types-of-joins-in-python/)\n",
        "- [How to do a VLookup in Python](https://www.geeksforgeeks.org/how-to-do-a-vlookup-in-python-using-pandas/)"
      ]
    },
    {
      "cell_type": "markdown",
      "source": [
        "## <font color=\"blue\">What are Python Joins?</font>\n",
        "\n",
        "“I have two different tables in Python but I’m not sure how to join them. What criteria should I consider? What are the different ways I can join these tables?”\n",
        "\n",
        "Python joins allow us to easily merge different DataFrames."
      ],
      "metadata": {
        "id": "xp4jptzoLhjX"
      }
    },
    {
      "cell_type": "markdown",
      "metadata": {
        "id": "PkdXQZp8UqcC"
      },
      "source": [
        "## <font color=\"blue\">Imports</font>"
      ]
    },
    {
      "cell_type": "code",
      "metadata": {
        "id": "7vWKHxJDUjOJ"
      },
      "source": [
        "import pandas as pd"
      ],
      "execution_count": null,
      "outputs": []
    },
    {
      "cell_type": "markdown",
      "metadata": {
        "id": "CGCaqKj1UvIo"
      },
      "source": [
        "## <font color=\"blue\">Data</font>"
      ]
    },
    {
      "cell_type": "code",
      "metadata": {
        "id": "jT3eZXJ_UwaS"
      },
      "source": [
        "# read in property estimate sample - SINFLE FAMILY\n",
        "df_sf = pd.read_csv('https://raw.githubusercontent.com/analyticsariel/public-data/main/property_estimate_sample_CA.csv')\n",
        "df_sf = df_sf.loc[df_sf['property_type'] == 'SINGLE_FAMILY']"
      ],
      "execution_count": null,
      "outputs": []
    },
    {
      "cell_type": "code",
      "source": [
        "# read in property estimate sample - CONDO\n",
        "df_c = pd.read_csv('https://raw.githubusercontent.com/analyticsariel/public-data/main/property_estimate_sample_CA.csv')\n",
        "df_c = df_c.loc[df_c['property_type'] == 'CONDO']\n"
      ],
      "metadata": {
        "id": "2dTl8XmNJ7EF"
      },
      "execution_count": null,
      "outputs": []
    },
    {
      "cell_type": "code",
      "source": [
        "# read in property estimate sample - TAX\n",
        "df_tax = pd.read_csv('https://raw.githubusercontent.com/analyticsariel/public-data/main/property_estimate_sample_CA_part2.csv')\n"
      ],
      "metadata": {
        "id": "J43M80qAJaq4"
      },
      "execution_count": null,
      "outputs": []
    },
    {
      "cell_type": "markdown",
      "metadata": {
        "id": "xAk6Sl0bUxcx"
      },
      "source": [
        "### <font color=\"green\">1. Union</font>"
      ]
    },
    {
      "cell_type": "code",
      "metadata": {
        "id": "jyrWZ__PUxM7"
      },
      "source": [
        "df_prop = pd.concat([df_sf, df_c]) # stack DataFrames\n"
      ],
      "execution_count": null,
      "outputs": []
    },
    {
      "cell_type": "markdown",
      "source": [
        "### <font color=\"green\">2. Merge</font>\n",
        "\n",
        "### Types of Joins\n",
        "\n",
        "![Dashboard Tools](https://learnsql.com/blog/learn-and-practice-sql-joins/2.png)\n",
        "\n",
        "(Source: [Learn SQL](https://learnsql.com/blog/learn-and-practice-sql-joins/))"
      ],
      "metadata": {
        "id": "a6ikPrK1KLYl"
      }
    },
    {
      "cell_type": "code",
      "source": [
        "# view first row of df_prop\n"
      ],
      "metadata": {
        "id": "m_xYN3BgKK7a"
      },
      "execution_count": null,
      "outputs": []
    },
    {
      "cell_type": "code",
      "source": [
        "# view first row of df_tax\n"
      ],
      "metadata": {
        "id": "jtC8ZU2_KYFz"
      },
      "execution_count": null,
      "outputs": []
    },
    {
      "cell_type": "code",
      "source": [
        "# get columns in both DataFrames\n"
      ],
      "metadata": {
        "id": "D0X0GUKJKK0l"
      },
      "execution_count": null,
      "outputs": []
    },
    {
      "cell_type": "code",
      "source": [
        "# merge DataFrames\n"
      ],
      "metadata": {
        "id": "Ws7Hd0mrK4HR"
      },
      "execution_count": null,
      "outputs": []
    },
    {
      "cell_type": "markdown",
      "source": [
        "## Recap\n",
        "We covered:\n",
        "1. Union Join\n",
        "2. Left Join\n",
        "\n",
        "We can now merge different datasets together with only a single line of code!\n",
        "Congratulations, you have completed the Python for Beginners section 🎉! Next we will cover **Web Scraping**"
      ],
      "metadata": {
        "id": "Khc8yrbYMnQO"
      }
    },
    {
      "cell_type": "markdown",
      "source": [
        "Watch the video below for an in-depth tutorial on Python Pandas Joins."
      ],
      "metadata": {
        "id": "nYfCeD9mNERi"
      }
    },
    {
      "cell_type": "code",
      "source": [
        "# Pandas vs. Excel\n",
        "from IPython.display import YouTubeVideo\n",
        "YouTubeVideo('OC-estd4JT0')"
      ],
      "metadata": {
        "colab": {
          "base_uri": "https://localhost:8080/",
          "height": 322
        },
        "id": "0DatrBl0MiqM",
        "outputId": "c52577d7-95f0-4eb6-860e-0708cb03ecf0"
      },
      "execution_count": null,
      "outputs": [
        {
          "output_type": "execute_result",
          "data": {
            "text/plain": [
              "<IPython.lib.display.YouTubeVideo at 0x7f946ca79750>"
            ],
            "text/html": [
              "\n",
              "        <iframe\n",
              "            width=\"400\"\n",
              "            height=\"300\"\n",
              "            src=\"https://www.youtube.com/embed/OC-estd4JT0\"\n",
              "            frameborder=\"0\"\n",
              "            allowfullscreen\n",
              "        ></iframe>\n",
              "        "
            ],
            "image/jpeg": "[encoded data removed]"
          },
          "metadata": {},
          "execution_count": 10
        }
      ]
    },
    {
      "cell_type": "markdown",
      "metadata": {
        "id": "_WrYHVh9Ukid"
      },
      "source": [
        "# End Notebook"
      ]
    }
  ]
}