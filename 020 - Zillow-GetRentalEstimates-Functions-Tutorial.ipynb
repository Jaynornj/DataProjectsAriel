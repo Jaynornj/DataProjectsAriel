{
 "cells": [
  {
   "cell_type": "markdown",
   "metadata": {},
   "source": [
    "# Zillow API - GetSearchResults API Functions\n",
    "\n",
    "## Overview\n",
    "| Detail Tag            | Information                                                                                        |\n",
    "|-----------------------|----------------------------------------------------------------------------------------------------|\n",
    "| Originally Created By | Ariel Herrera arielherrera@analyticsariel.com                                                      |\n",
    "| External References   | <a href=\"https://rapidapi.com/dimashirokov/api/Zillow/endpoints\" target=\"_blank\">(1) Rapid API - Zillow</a>, <a href=\"https://www.zillow.com/howto/api/GetSearchResults.htm\" target=\"_blank\">(2) Zillow  API Source Documentation</a>|\n",
    "| Input Datasets        | API key, Address params                                                                                    |\n",
    "| Output Datasets       | Table of getSearchResults content                                              |\n",
    "| Input Data Source     | API                                                                                                |\n",
    "| Output Data Source    | Dataframe                                                                                                   |\n",
    "\n",
    "## History\n",
    "| Date         | Developed By  | Reason                                                |\n",
    "|--------------|---------------|-------------------------------------------------------|\n",
    "| 18th Jan 2021 | Ariel Herrera | Notebook created to get search results from Zillow API. |\n",
    "\n",
    "## Other Details\n",
    "This Notebook is a prototype."
   ]
  },
  {
   "cell_type": "markdown",
   "metadata": {},
   "source": [
    "## <font color=\"blue\">Imports</font>"
   ]
  },
  {
   "cell_type": "code",
   "execution_count": 1,
   "metadata": {},
   "outputs": [],
   "source": [
    "import pandas as pd\n",
    "import requests\n",
    "import json\n",
    "from bs4 import BeautifulSoup"
   ]
  },
  {
   "cell_type": "markdown",
   "metadata": {},
   "source": [
    "## <font color=\"blue\">Local and Constant Variables</font>"
   ]
  },
  {
   "cell_type": "code",
   "execution_count": 2,
   "metadata": {},
   "outputs": [],
   "source": [
    "pd.options.display.max_columns = None # show all columns in display"
   ]
  },
  {
   "cell_type": "code",
   "execution_count": 3,
   "metadata": {},
   "outputs": [],
   "source": [
    "# read api keys file and assign variables\n",
    "df = pd.read_csv('../data/input/api_keys.csv')\n",
    "zwsid = df.loc[df['API'] == 'zillow']['KEY'].iloc[0]\n",
    "rapid_api_key = df.loc[df['API'] == 'rapid']['KEY'].iloc[0]"
   ]
  },
  {
   "cell_type": "code",
   "execution_count": 4,
   "metadata": {},
   "outputs": [],
   "source": [
    "# address API params\n",
    "street = \"1475 Austin Rd SW\"\n",
    "city = \"South Fulton\"\n",
    "state = \"GA\"\n",
    "zip_code = \"30331\""
   ]
  },
  {
   "cell_type": "markdown",
   "metadata": {},
   "source": [
    "## <font color=\"blue\">Functions</font>"
   ]
  },
  {
   "cell_type": "code",
   "execution_count": 5,
   "metadata": {},
   "outputs": [],
   "source": [
    "def zillow_get_search_results(zwsid, \n",
    "                              rapid_api_key, \n",
    "                              street, \n",
    "                              city, \n",
    "                              state, \n",
    "                              zip_code, \n",
    "                              zestimate=True,\n",
    "                              rent_zestimate=True):\n",
    "    \"\"\"\n",
    "    Finds a property for a specified address. \n",
    "    \n",
    "    The content returned contains the address for the property or properties \n",
    "    as well as the Zillow Property ID (ZPID) and current Zestimate®. \n",
    "    It also includes the date the Zestimate was computed, \n",
    "    a valuation range and the Zestimate ranking for the property within its ZIP code.\n",
    "    \n",
    "    The GetSearchResults API Web Service is located at: \n",
    "    http://www.zillow.com/webservice/GetSearchResults\n",
    "\n",
    "    Parameters\n",
    "    ----------\n",
    "    @zwsid [api_key]: The Zillow Web Service Identifier to access data from Zillow API\n",
    "    @rapid_api_key [string]: Key to access data from Rapid API\n",
    "    @street [string]: The street of the property to search\n",
    "    @city [string]: The city of the property to search\n",
    "    @state [string]: The state of the property to search\n",
    "    @zip_code [string]: The zip code of the property to search\n",
    "    @zestimate [boolean]: Return Rent Zestimate information if available\n",
    "\n",
    "    Returns\n",
    "    -------\n",
    "    [json] API response\n",
    "\n",
    "    \"\"\"\n",
    "    # adjust params for payload\n",
    "    street_formatted = street.replace(\" \", \"%20\") # URL space encoding\n",
    "    city_formatted = city.replace(\" \", \"%20\") # URL space encoding\n",
    "    if zestimate == True:\n",
    "        zestimate_str = \"true\"\n",
    "    else:\n",
    "        zestimate_str = \"false\"\n",
    "    if rent_zestimate == True:\n",
    "        rent_zestimate_str = \"true\"\n",
    "    else:\n",
    "        rent_zestimate_str = \"false\"\n",
    "    \n",
    "    # url for api\n",
    "    url = \"https://zillowdimashirokovv1.p.rapidapi.com/GetSearchResults.htm\"\n",
    "\n",
    "    # payload (data pact) to send parameters\n",
    "    payload = \"zws-id={0}&citystatezip={1}%2C%20{2}%20{3}&address={4}&rentzestimate={5}%2C{6}\"\\\n",
    "                .format(zwsid, \n",
    "                        city_formatted,\n",
    "                        state,\n",
    "                        str(zip_code), # make sure zip code is in string format\n",
    "                        street_formatted,\n",
    "                        zestimate_str,\n",
    "                        rent_zestimate_str)\n",
    "    \n",
    "    # header\n",
    "    headers = {\n",
    "        'content-type': \"application/x-www-form-urlencoded\",\n",
    "        'x-rapidapi-key': rapid_api_key,\n",
    "        'x-rapidapi-host': \"ZillowdimashirokovV1.p.rapidapi.com\"\n",
    "        }\n",
    "    \n",
    "    # response\n",
    "    response = requests.request(\"POST\", url, data=payload, headers=headers)\n",
    "    \n",
    "    # check if there is an error on the request\n",
    "    if response.status_code == 200: # no error\n",
    "        return response.text\n",
    "    else:\n",
    "        return \"\"\"Error {0}. See API source documentation for message and error code - https://www.zillow.com/howto/api/GetSearchResults.htm\"\"\".format(response.status_code)\n",
    "    \n",
    "    \n",
    "def zillow_parse_search_results(response_content):\n",
    "    \"\"\"\n",
    "    Parse search results to tabular format. \n",
    "\n",
    "    Parameters\n",
    "    ----------\n",
    "    @response_content [string]: Response text from getSearchResults API\n",
    "\n",
    "    Returns\n",
    "    -------\n",
    "    [dataframe] Tabular response\n",
    "\n",
    "    \"\"\"\n",
    "    soup = BeautifulSoup(get_search_results_response, \"xml\")\n",
    "    \n",
    "    content_dict = {\n",
    "        \"street\": [soup.find('street').text],\n",
    "        \"city\": [soup.find('city').text],\n",
    "        \"state\": [soup.find('state').text],\n",
    "        \"zipcode\": [soup.find('zipcode').text],\n",
    "        \"zpid\": [soup.find('zpid').text],\n",
    "        \"home_details\": [soup.find('homedetails').text],\n",
    "        \"graphsanddata\": [soup.find('graphsanddata').text],\n",
    "        \"mapthishome\": [soup.find('mapthishome').text],\n",
    "        \"comparables\": [soup.find('comparables').text],\n",
    "        \"latitude\": [soup.find('latitude').text],\n",
    "        \"longitude\": [soup.find('longitude').text],\n",
    "        \"zestimate_amount\": [soup.find('amount').text],\n",
    "        \"zestimate_last_updated\": [soup.find('last-updated').text],\n",
    "        \"zestimate_value_change\": [soup.find('valueChange').text],\n",
    "        \"zestimate_range_low\": [soup.find('valuationRange').find('low').text],\n",
    "        \"zestimate_range_high\": [soup.find('valuationRange').find('high').text]\n",
    "    }\n",
    "\n",
    "    return pd.DataFrame.from_dict(content_dict)"
   ]
  },
  {
   "cell_type": "markdown",
   "metadata": {},
   "source": [
    "## <font color=\"blue\">Data</font>"
   ]
  },
  {
   "cell_type": "markdown",
   "metadata": {},
   "source": [
    "### <font color=\"purple\">Rapid API - Zillow Request</font>"
   ]
  },
  {
   "cell_type": "code",
   "execution_count": 6,
   "metadata": {},
   "outputs": [],
   "source": [
    "# get api response\n",
    "get_search_results_response = zillow_get_search_results(zwsid=zwsid, \n",
    "                                                      rapid_api_key=rapid_api_key, \n",
    "                                                      street=street, \n",
    "                                                      city=city, \n",
    "                                                      state=state, \n",
    "                                                      zip_code=zip_code)"
   ]
  },
  {
   "cell_type": "markdown",
   "metadata": {},
   "source": [
    "### <font color=\"purple\">Parse Request Data</font>"
   ]
  },
  {
   "cell_type": "code",
   "execution_count": 8,
   "metadata": {},
   "outputs": [
    {
     "data": {
      "text/html": [
       "<div>\n",
       "<style scoped>\n",
       "    .dataframe tbody tr th:only-of-type {\n",
       "        vertical-align: middle;\n",
       "    }\n",
       "\n",
       "    .dataframe tbody tr th {\n",
       "        vertical-align: top;\n",
       "    }\n",
       "\n",
       "    .dataframe thead th {\n",
       "        text-align: right;\n",
       "    }\n",
       "</style>\n",
       "<table border=\"1\" class=\"dataframe\">\n",
       "  <thead>\n",
       "    <tr style=\"text-align: right;\">\n",
       "      <th></th>\n",
       "      <th>street</th>\n",
       "      <th>city</th>\n",
       "      <th>state</th>\n",
       "      <th>zipcode</th>\n",
       "      <th>zpid</th>\n",
       "      <th>home_details</th>\n",
       "      <th>graphsanddata</th>\n",
       "      <th>mapthishome</th>\n",
       "      <th>comparables</th>\n",
       "      <th>latitude</th>\n",
       "      <th>longitude</th>\n",
       "      <th>zestimate_amount</th>\n",
       "      <th>zestimate_last_updated</th>\n",
       "      <th>zestimate_value_change</th>\n",
       "      <th>zestimate_range_low</th>\n",
       "      <th>zestimate_range_high</th>\n",
       "    </tr>\n",
       "  </thead>\n",
       "  <tbody>\n",
       "    <tr>\n",
       "      <th>0</th>\n",
       "      <td>1475 Austin Rd SW</td>\n",
       "      <td>South Fulton</td>\n",
       "      <td>GA</td>\n",
       "      <td>30331</td>\n",
       "      <td>35892041</td>\n",
       "      <td>https://www.zillow.com/homedetails/1475-Austin...</td>\n",
       "      <td>http://www.zillow.com/homedetails/1475-Austin-...</td>\n",
       "      <td>http://www.zillow.com/homes/35892041_zpid/</td>\n",
       "      <td>http://www.zillow.com/homes/comps/35892041_zpid/</td>\n",
       "      <td>33.71388</td>\n",
       "      <td>-84.510767</td>\n",
       "      <td>269918</td>\n",
       "      <td>01/14/2021</td>\n",
       "      <td>-5084</td>\n",
       "      <td>256422</td>\n",
       "      <td>283414</td>\n",
       "    </tr>\n",
       "  </tbody>\n",
       "</table>\n",
       "</div>"
      ],
      "text/plain": [
       "              street          city state zipcode      zpid  \\\n",
       "0  1475 Austin Rd SW  South Fulton    GA   30331  35892041   \n",
       "\n",
       "                                        home_details  \\\n",
       "0  https://www.zillow.com/homedetails/1475-Austin...   \n",
       "\n",
       "                                       graphsanddata  \\\n",
       "0  http://www.zillow.com/homedetails/1475-Austin-...   \n",
       "\n",
       "                                  mapthishome  \\\n",
       "0  http://www.zillow.com/homes/35892041_zpid/   \n",
       "\n",
       "                                        comparables  latitude   longitude  \\\n",
       "0  http://www.zillow.com/homes/comps/35892041_zpid/  33.71388  -84.510767   \n",
       "\n",
       "  zestimate_amount zestimate_last_updated zestimate_value_change  \\\n",
       "0           269918             01/14/2021                  -5084   \n",
       "\n",
       "  zestimate_range_low zestimate_range_high  \n",
       "0              256422               283414  "
      ]
     },
     "execution_count": 8,
     "metadata": {},
     "output_type": "execute_result"
    }
   ],
   "source": [
    "# transform xml response to dataframe\n",
    "df = zillow_parse_search_results(response_content=get_search_results_response)\n",
    "df"
   ]
  },
  {
   "cell_type": "code",
   "execution_count": 9,
   "metadata": {},
   "outputs": [
    {
     "data": {
      "text/plain": [
       "'269918'"
      ]
     },
     "execution_count": 9,
     "metadata": {},
     "output_type": "execute_result"
    }
   ],
   "source": [
    "# get zestimate data\n",
    "zestimate_value = df['zestimate_amount'].iloc[0]\n",
    "zestimate_value"
   ]
  },
  {
   "cell_type": "markdown",
   "metadata": {},
   "source": [
    "# End Notebook"
   ]
  }
 ],
 "metadata": {
  "kernelspec": {
   "display_name": "Python 3",
   "language": "python",
   "name": "python3"
  },
  "language_info": {
   "codemirror_mode": {
    "name": "ipython",
    "version": 3
   },
   "file_extension": ".py",
   "mimetype": "text/x-python",
   "name": "python",
   "nbconvert_exporter": "python",
   "pygments_lexer": "ipython3",
   "version": "3.7.6"
  }
 },
 "nbformat": 4,
 "nbformat_minor": 4
}
