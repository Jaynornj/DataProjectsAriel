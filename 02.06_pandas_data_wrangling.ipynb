{
  "nbformat": 4,
  "nbformat_minor": 0,
  "metadata": {
    "colab": {
      "provenance": [],
      "collapsed_sections": [],
      "authorship_tag": "ABX9TyOs4leMK4oKTYBl/Cblg2Mk",
      "include_colab_link": true
    },
    "kernelspec": {
      "name": "python3",
      "display_name": "Python 3"
    },
    "language_info": {
      "name": "python"
    }
  },
  "cells": [
    {
      "cell_type": "markdown",
      "metadata": {
        "id": "view-in-github",
        "colab_type": "text"
      },
      "source": [
        "<a href=\"https://colab.research.google.com/github/analyticsariel/projects/blob/master/02.06_pandas_data_wrangling.ipynb\" target=\"_parent\"><img src=\"https://colab.research.google.com/assets/colab-badge.svg\" alt=\"Open In Colab\"/></a>"
      ]
    },
    {
      "cell_type": "markdown",
      "metadata": {
        "id": "BYRys7lpU-iF"
      },
      "source": [
        "# Pandas Data Wrangling\n",
        "\n",
        "## Overview\n",
        "| Detail Tag            | Information                                                                                        |\n",
        "|-----------------------|----------------------------------------------------------------------------------------------------|\n",
        "| Created By | Ariel Herrera arielherrera@analyticsariel.com |\n",
        "\n",
        "## History\n",
        "| Date         | Developed By  | Reason                                                |\n",
        "|--------------|---------------|-------------------------------------------------------|\n",
        "| 1st Sep 2022 | Ariel Herrera | Create notebook. |\n",
        "\n",
        "## Getting Started\n",
        "1. Copy this notebook -> File -> Save a Copy in Drive\n",
        "\n",
        "## Useful Resources\n",
        "- [Course Contents](https://colab.research.google.com/drive/12K0Ow9Y8v3-a1xuWMc52aPFgaLl-h9vx)\n",
        "- [Google Colab Cheat Sheet](https://towardsdatascience.com/cheat-sheet-for-google-colab-63853778c093)\n",
        "- [Pandas Docs](https://pandas.pydata.org/docs/reference/api/pandas.DataFrame.html)\n",
        "- [Intro to Pandas - GeeksforGeeks](https://www.geeksforgeeks.org/python-pandas-dataframe/)\n",
        "- [Pandas Tutorial for Beginners](https://www.learndatasci.com/tutorials/python-pandas-tutorial-complete-introduction-for-beginners/)\n",
        "- [Practical Business Python](https://pbpython.com/)\n",
        "- [Pandas Cheatsheet](https://pandas.pydata.org/Pandas_Cheat_Sheet.pdf)"
      ]
    },
    {
      "cell_type": "markdown",
      "source": [
        "## <font color=\"blue\">What is a Pandas DataFrame</font>\n",
        "\n",
        "Pandas DataFrame is two-dimensional size-mutable, potentially heterogeneous tabular data structure with labeled axes (rows and columns). A Data frame is a two-dimensional data structure, i.e., data is aligned in a tabular fashion in rows and columns. Pandas DataFrame consists of three principal components, the data, rows, and columns.\n",
        "\n",
        "![Pandas DataFrame](https://media.geeksforgeeks.org/wp-content/uploads/finallpandas.png)\n",
        "\n",
        "(Source: [GeeksforGeeks](https://www.geeksforgeeks.org/python-pandas-dataframe/))"
      ],
      "metadata": {
        "id": "81hqZnkZ9Yln"
      }
    },
    {
      "cell_type": "markdown",
      "metadata": {
        "id": "hKgiM1tbUnbI"
      },
      "source": [
        "## <font color=\"blue\">Install Packages</font>"
      ]
    },
    {
      "cell_type": "code",
      "metadata": {
        "id": "7V2OU_iGUppW"
      },
      "source": [
        "!pip install pandas -q # install pandas"
      ],
      "execution_count": null,
      "outputs": []
    },
    {
      "cell_type": "markdown",
      "metadata": {
        "id": "-ZgrtjtLUi6a"
      },
      "source": [
        "## <font color=\"blue\">Imports</font>"
      ]
    },
    {
      "cell_type": "code",
      "metadata": {
        "id": "7vWKHxJDUjOJ"
      },
      "source": [
        "# our first import!\n",
        "import pandas as pd"
      ],
      "execution_count": null,
      "outputs": []
    },
    {
      "cell_type": "markdown",
      "metadata": {
        "id": "PkdXQZp8UqcC"
      },
      "source": [
        "## <font color=\"blue\">Data</font>"
      ]
    },
    {
      "cell_type": "markdown",
      "source": [
        "### <font color=\"green\">1. Create a DataFrame</font>"
      ],
      "metadata": {
        "id": "To0PUPMHKlK2"
      }
    },
    {
      "cell_type": "code",
      "metadata": {
        "id": "5p76TDONUsXe"
      },
      "source": [
        "d = {\n",
        "  'address': [\n",
        "    \"123 Main St, Miami, FL\", \n",
        "    \"456 Yellow Rd, Toms River, NJ\", \n",
        "    \"700 Honey Ln, Jackson, NJ\", \n",
        "    \"300 Pine St, Tampa, FL\", \n",
        "    \"302 Pine St, Tampa, FL\",\n",
        "    \"618 Blue Rd, Toms River, NJ\",\n",
        "    \"777 Green Rd, Toms River, NJ\",\n",
        "    \"450 Lime Ave, Tampa, FL\",\n",
        "    \"600 Main St, Miami, FL\",\n",
        "    \"700 Lime Ave, Tampa, FL\"\n",
        "  ], \n",
        "  'income': [2500, 1500, 1800, 2350, 2200, 1600, 1600, 2100, 2600, 2250],\n",
        "  'expenses': [2000, 1400, 1900, 1700, 1750, 1400, 1400, 2000, 2150, 1900]\n",
        "}\n",
        "df = pd.DataFrame(data=d)"
      ],
      "execution_count": null,
      "outputs": []
    },
    {
      "cell_type": "markdown",
      "source": [
        "### <font color=\"green\">2. Summary stats</font>"
      ],
      "metadata": {
        "id": "up3s59mxN8rl"
      }
    },
    {
      "cell_type": "code",
      "source": [
        "# view object type\n"
      ],
      "metadata": {
        "id": "I2tiFLZaOA1F"
      },
      "execution_count": null,
      "outputs": []
    },
    {
      "cell_type": "code",
      "source": [
        "# view info\n"
      ],
      "metadata": {
        "id": "T8_wQkOfN_am"
      },
      "execution_count": null,
      "outputs": []
    },
    {
      "cell_type": "code",
      "source": [
        "# describe columns in dataset\n"
      ],
      "metadata": {
        "id": "csBclidNN_YI"
      },
      "execution_count": null,
      "outputs": []
    },
    {
      "cell_type": "markdown",
      "source": [
        "### <font color=\"green\">3. Selecting data</font>"
      ],
      "metadata": {
        "id": "HlBvZ6buL-sg"
      }
    },
    {
      "cell_type": "code",
      "source": [
        "print('Length of dataframe', )\n",
        "print('Number of columns in dataframe', )"
      ],
      "metadata": {
        "colab": {
          "base_uri": "https://localhost:8080/"
        },
        "id": "NmUUWEuCOE5X",
        "outputId": "fb883c69-b8cf-4056-d443-914c0487f6af"
      },
      "execution_count": null,
      "outputs": [
        {
          "output_type": "stream",
          "name": "stdout",
          "text": [
            "Length of dataframe\n",
            "Number of columns in dataframe\n"
          ]
        }
      ]
    },
    {
      "cell_type": "code",
      "source": [
        "# view first 5 records (rows) in the DataFrame\n"
      ],
      "metadata": {
        "id": "jIgdqF5rMAth"
      },
      "execution_count": null,
      "outputs": []
    },
    {
      "cell_type": "code",
      "source": [
        "# view last 5 records (rows) in the DataFrame\n"
      ],
      "metadata": {
        "id": "9hNDiVE0OKYV"
      },
      "execution_count": null,
      "outputs": []
    },
    {
      "cell_type": "code",
      "source": [
        "# view first 3 records (rows) in the DataFrame\n"
      ],
      "metadata": {
        "id": "djM_cJDhOLS5"
      },
      "execution_count": null,
      "outputs": []
    },
    {
      "cell_type": "code",
      "source": [
        "# select income column as a series type\n"
      ],
      "metadata": {
        "id": "dF5FVAizONCN"
      },
      "execution_count": null,
      "outputs": []
    },
    {
      "cell_type": "code",
      "source": [
        "# select income column as a DataFrame type\n"
      ],
      "metadata": {
        "id": "tuChTSloOnle"
      },
      "execution_count": null,
      "outputs": []
    },
    {
      "cell_type": "code",
      "source": [
        "# select single column\n"
      ],
      "metadata": {
        "id": "Yh5Hp-tyOTeZ"
      },
      "execution_count": null,
      "outputs": []
    },
    {
      "cell_type": "code",
      "source": [
        "# select multiple columns\n"
      ],
      "metadata": {
        "id": "VkhfLAuLOp95"
      },
      "execution_count": null,
      "outputs": []
    },
    {
      "cell_type": "markdown",
      "source": [
        "### <font color=\"green\">4. Add columns</font>"
      ],
      "metadata": {
        "id": "v4Ux8nzVOsm5"
      }
    },
    {
      "cell_type": "code",
      "source": [
        "# cash flow\n"
      ],
      "metadata": {
        "id": "gtRVjzLOPGSM"
      },
      "execution_count": null,
      "outputs": []
    },
    {
      "cell_type": "code",
      "source": [
        "# street, city, state\n",
        "\n",
        "\n",
        "print('Example:', )\n",
        "\n",
        "print('Street:', )\n",
        "print('City:', )\n",
        "print('State:', )"
      ],
      "metadata": {
        "colab": {
          "base_uri": "https://localhost:8080/"
        },
        "id": "_UyoCAKmQfCv",
        "outputId": "871a90f7-fed4-41cd-b93f-39afffcd9b42"
      },
      "execution_count": null,
      "outputs": [
        {
          "output_type": "stream",
          "name": "stdout",
          "text": [
            "Example:\n",
            "Street:\n",
            "City:\n",
            "State:\n"
          ]
        }
      ]
    },
    {
      "cell_type": "code",
      "source": [
        "# street, city, state\n"
      ],
      "metadata": {
        "id": "G0KxS4v_O-D1"
      },
      "execution_count": null,
      "outputs": []
    },
    {
      "cell_type": "code",
      "source": [
        "# bin cash flow\n"
      ],
      "metadata": {
        "id": "cT1Xq4V9RDgQ"
      },
      "execution_count": null,
      "outputs": []
    },
    {
      "cell_type": "code",
      "source": [
        "# bin\n",
        "bins = [-250, 0, 250, 500, 750, 1000]\n"
      ],
      "metadata": {
        "id": "V1ZXHgm6PCLY"
      },
      "execution_count": null,
      "outputs": []
    },
    {
      "cell_type": "code",
      "source": [
        "# rank\n"
      ],
      "metadata": {
        "id": "CgCeq99bPUHs"
      },
      "execution_count": null,
      "outputs": []
    },
    {
      "cell_type": "markdown",
      "source": [
        "### <font color=\"green\">5. Sort</font>"
      ],
      "metadata": {
        "id": "pZdVJCpqSFpb"
      }
    },
    {
      "cell_type": "code",
      "source": [
        "# sort values by cash flow\n"
      ],
      "metadata": {
        "id": "CuTeiP7DSFb3"
      },
      "execution_count": null,
      "outputs": []
    },
    {
      "cell_type": "markdown",
      "source": [
        "### <font color=\"green\">6. Group by</font>"
      ],
      "metadata": {
        "id": "wb44ACxGOZOC"
      }
    },
    {
      "cell_type": "markdown",
      "source": [
        "How many properties do we have in each state?"
      ],
      "metadata": {
        "id": "xmUZjP1OPKQQ"
      }
    },
    {
      "cell_type": "code",
      "source": [],
      "metadata": {
        "id": "jvgwpL6MPJ_k"
      },
      "execution_count": null,
      "outputs": []
    },
    {
      "cell_type": "markdown",
      "source": [
        "How many properties do we have in each city?"
      ],
      "metadata": {
        "id": "r_9_Eg4hOcgx"
      }
    },
    {
      "cell_type": "code",
      "source": [],
      "metadata": {
        "id": "0iN9-rS0OVGp"
      },
      "execution_count": null,
      "outputs": []
    },
    {
      "cell_type": "markdown",
      "source": [
        "What is the average cash flow per city?"
      ],
      "metadata": {
        "id": "6cNpziCKPdMK"
      }
    },
    {
      "cell_type": "code",
      "source": [],
      "metadata": {
        "id": "nuL_2QC1Pc9b"
      },
      "execution_count": null,
      "outputs": []
    },
    {
      "cell_type": "markdown",
      "source": [
        "How many properties do we have in each cash flow bin?"
      ],
      "metadata": {
        "id": "6yR4Dld5PXAP"
      }
    },
    {
      "cell_type": "code",
      "source": [],
      "metadata": {
        "id": "Gv6_2Lc3PWxZ"
      },
      "execution_count": null,
      "outputs": []
    },
    {
      "cell_type": "markdown",
      "source": [
        "### <font color=\"green\">7. Filter</font>"
      ],
      "metadata": {
        "id": "rM-1RzDtO0qs"
      }
    },
    {
      "cell_type": "markdown",
      "source": [
        "Remove properties from NJ"
      ],
      "metadata": {
        "id": "c0bn6xA5PkWM"
      }
    },
    {
      "cell_type": "code",
      "source": [],
      "metadata": {
        "id": "enXnI2FybnIw"
      },
      "execution_count": null,
      "outputs": []
    },
    {
      "cell_type": "code",
      "source": [],
      "metadata": {
        "id": "RMuUgIDePhrS"
      },
      "execution_count": null,
      "outputs": []
    },
    {
      "cell_type": "markdown",
      "source": [
        "### <font color=\"green\">8. Plot data</font>"
      ],
      "metadata": {
        "id": "O212jVIZO26T"
      }
    },
    {
      "cell_type": "code",
      "source": [
        "# visualize distribution of our data\n"
      ],
      "metadata": {
        "id": "s1UoA7gxeTp-"
      },
      "execution_count": null,
      "outputs": []
    },
    {
      "cell_type": "markdown",
      "source": [
        "![Box Plot](https://i1.wp.com/flowingdata.com/wp-content/uploads/2008/02/box-plot-explained.gif)\n",
        "\n",
        "(Source: [Learn Data Sci](https://www.learndatasci.com/tutorials/python-pandas-tutorial-complete-introduction-for-beginners/))"
      ],
      "metadata": {
        "id": "MBm5Mqn4dq4S"
      }
    },
    {
      "cell_type": "code",
      "source": [
        "# visualize distribution of our data\n"
      ],
      "metadata": {
        "id": "lmPsYpoNPogx"
      },
      "execution_count": null,
      "outputs": []
    },
    {
      "cell_type": "markdown",
      "source": [
        "## Recap\n",
        "We covered:\n",
        "1. Creating a Pandas DataFrames\n",
        "2. Summary stats\n",
        "3. Selecting data\n",
        "4. Add columns\n",
        "5. Sort values\n",
        "6. Group by\n",
        "7. Filter\n",
        "8. Plot data\n",
        "\n",
        "We briefly touched on matplotlib visuals. Let's explore Plotly visualizations in the following lessons!"
      ],
      "metadata": {
        "id": "s2nyR5MjK5k4"
      }
    },
    {
      "cell_type": "markdown",
      "source": [
        "Watch the video below to understand how Pandas relates to data in Excel."
      ],
      "metadata": {
        "id": "gg3q3YSHQfjd"
      }
    },
    {
      "cell_type": "code",
      "source": [
        "# Pandas vs. Excel\n",
        "from IPython.display import YouTubeVideo\n",
        "YouTubeVideo('I9lbbwmRzAU')"
      ],
      "metadata": {
        "colab": {
          "base_uri": "https://localhost:8080/",
          "height": 322
        },
        "id": "DL9BScGYQS3V",
        "outputId": "1b5ae9fe-f18e-42da-8ca9-af9129bcfd40"
      },
      "execution_count": null,
      "outputs": [
        {
          "output_type": "execute_result",
          "data": {
            "text/plain": [
              "<IPython.lib.display.YouTubeVideo at 0x7f65483eed10>"
            ],
            "text/html": [
              "\n",
              "        <iframe\n",
              "            width=\"400\"\n",
              "            height=\"300\"\n",
              "            src=\"https://www.youtube.com/embed/I9lbbwmRzAU\"\n",
              "            frameborder=\"0\"\n",
              "            allowfullscreen\n",
              "        ></iframe>\n",
              "        "
            ],
            "image/jpeg": "[encoded data removed]"
          },
          "metadata": {},
          "execution_count": 24
        }
      ]
    },
    {
      "cell_type": "markdown",
      "metadata": {
        "id": "_WrYHVh9Ukid"
      },
      "source": [
        "# End Notebook"
      ]
    }
  ]
}