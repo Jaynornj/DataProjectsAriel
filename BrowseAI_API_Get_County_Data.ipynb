{
  "nbformat": 4,
  "nbformat_minor": 0,
  "metadata": {
    "colab": {
      "name": "BrowseAI API  - Get County Data.ipynb",
      "provenance": [],
      "authorship_tag": "ABX9TyNHdNKeBAjQzpVHorMVpiuh",
      "include_colab_link": true
    },
    "kernelspec": {
      "name": "python3",
      "display_name": "Python 3"
    },
    "language_info": {
      "name": "python"
    }
  },
  "cells": [
    {
      "cell_type": "markdown",
      "metadata": {
        "id": "view-in-github",
        "colab_type": "text"
      },
      "source": [
        "<a href=\"https://colab.research.google.com/github/analyticsariel/projects/blob/master/BrowseAI_API_Get_County_Data.ipynb\" target=\"_parent\"><img src=\"https://colab.research.google.com/assets/colab-badge.svg\" alt=\"Open In Colab\"/></a>"
      ]
    },
    {
      "cell_type": "markdown",
      "metadata": {
        "id": "BYRys7lpU-iF"
      },
      "source": [
        "# Browse AI API - Get County Data\n",
        "\n",
        "## Overview\n",
        "| Detail Tag            | Information                                                                                        |\n",
        "|-----------------------|----------------------------------------------------------------------------------------------------|\n",
        "| Originally Created By | Ariel Herrera arielherrera@analyticsariel.com |\n",
        "| External References   | API |\n",
        "| Input Datasets        | Source name |\n",
        "| Output Datasets       | Source name |\n",
        "| Input Data Source     | Pandas DataFrame |\n",
        "| Output Data Source    | Pandas DataFrame |\n",
        "\n",
        "## History\n",
        "| Date         | Developed By  | Reason                                                |\n",
        "|--------------|---------------|-------------------------------------------------------|\n",
        "| 1st Jun 2022 | Ariel Herrera | Create notebook. |\n",
        "\n",
        "## Getting Started\n",
        "1. Copy this notebook -> File -> Save a Copy in Drive\n",
        "2. Directions\n",
        "\n",
        "## Useful Resources\n",
        "- [Google Colab Cheat Sheet](https://towardsdatascience.com/cheat-sheet-for-google-colab-63853778c093)"
      ]
    },
    {
      "cell_type": "markdown",
      "metadata": {
        "id": "hKgiM1tbUnbI"
      },
      "source": [
        "## <font color=\"blue\">Install Packages</font>"
      ]
    },
    {
      "cell_type": "code",
      "metadata": {
        "id": "7V2OU_iGUppW"
      },
      "source": [
        ""
      ],
      "execution_count": null,
      "outputs": []
    },
    {
      "cell_type": "markdown",
      "metadata": {
        "id": "-ZgrtjtLUi6a"
      },
      "source": [
        "## <font color=\"blue\">Imports</font>"
      ]
    },
    {
      "cell_type": "code",
      "metadata": {
        "id": "7vWKHxJDUjOJ"
      },
      "source": [
        "from google.colab import drive, files # specific to Google Colab\n",
        "import requests\n",
        "import pandas as pd\n",
        "import time\n",
        "\n",
        "pd.set_option('display.max_columns', None) # show all columns"
      ],
      "execution_count": null,
      "outputs": []
    },
    {
      "cell_type": "markdown",
      "metadata": {
        "id": "PkdXQZp8UqcC"
      },
      "source": [
        "## <font color=\"blue\">Functions</font>"
      ]
    },
    {
      "cell_type": "code",
      "metadata": {
        "id": "5p76TDONUsXe"
      },
      "source": [
        "def get_county_data(task_id, street_num, street_name, browse_api_key):\n",
        "  url = \"https://api.browse.ai/v1/tasks/{0}/jobs\".format(task_id)\n",
        "\n",
        "  querystring = {\"waitForJob\":\"false\"}\n",
        "\n",
        "  payload = {\"variables\": {\n",
        "      \"originUrl\": \"https://paopropertysearch.coj.net/Basic/Search.aspx\",\n",
        "      \"input\": str(street_num),\n",
        "      \"input_2\": street_name\n",
        "      }}\n",
        "  headers = {\"Authorization\": \"Bearer {}\".format(browse_api_key)}\n",
        "\n",
        "  response = requests.request(\"POST\", url, json=payload, headers=headers, params=querystring)\n",
        "\n",
        "  return response"
      ],
      "execution_count": null,
      "outputs": []
    },
    {
      "cell_type": "code",
      "source": [
        "def get_county_results(task_id, job_id, browse_api_key):\n",
        "  # request data\n",
        "  url = \"https://api.browse.ai/v1/tasks/{0}/jobs/{1}\".format(task_id, job_id)\n",
        "\n",
        "  headers = {\"Authorization\": \"Bearer {}\".format(browse_api_key)}\n",
        "\n",
        "  job_response = requests.request(\"GET\", url, headers=headers)\n",
        "\n",
        "  # transform data to get captured text\n",
        "  job_list = [[x['name'], x['text']] for x in job_response.json()['result']['capturedTexts']]\n",
        "\n",
        "  d = {}\n",
        "  for x in job_response.json()['result']['capturedTexts']:\n",
        "    d[x['name']] = [x['text']]\n",
        "  return pd.DataFrame(d)"
      ],
      "metadata": {
        "id": "4KHzDDJFcUbi"
      },
      "execution_count": null,
      "outputs": []
    },
    {
      "cell_type": "markdown",
      "metadata": {
        "id": "9B1YSUk9UsoZ"
      },
      "source": [
        "## <font color=\"blue\">Locals & Constants</font>"
      ]
    },
    {
      "cell_type": "code",
      "source": [
        "browse_api_key = '7be5526a-a735-48d6-a4a1-b4e32048dc36'\n",
        "task_id = 'ed813312-b171-471f-b226-1e7b04501146'"
      ],
      "metadata": {
        "id": "pmNuunIF9c4V"
      },
      "execution_count": null,
      "outputs": []
    },
    {
      "cell_type": "markdown",
      "metadata": {
        "id": "CGCaqKj1UvIo"
      },
      "source": [
        "## <font color=\"blue\">Data</font>"
      ]
    },
    {
      "cell_type": "code",
      "source": [
        "url = \"https://api.browse.ai/v1/tasks/{0}/jobs\".format(task_id)\n",
        "\n",
        "querystring = {\"waitForJob\":\"false\"}\n",
        "\n",
        "payload = {\"variables\": {\n",
        "    \"originUrl\": \"https://paopropertysearch.coj.net/Basic/Search.aspx\",\n",
        "    \"input\": \"10991\",\n",
        "    \"input_2\": \"Lothmore\"\n",
        "    }}\n",
        "headers = {\"Authorization\": \"Bearer {}\".format(browse_api_key)}\n",
        "\n",
        "response = requests.request(\"POST\", url, json=payload, headers=headers, params=querystring)\n",
        "\n",
        "print(response.text)"
      ],
      "metadata": {
        "colab": {
          "base_uri": "https://localhost:8080/"
        },
        "id": "uh_DzPaabA4B",
        "outputId": "e4265239-1a54-4159-fa24-d3ad1b248dab"
      },
      "execution_count": null,
      "outputs": [
        {
          "output_type": "stream",
          "name": "stdout",
          "text": [
            "{\"statusCode\":200,\"messageCode\":\"success\",\"result\":{\"id\":\"af7f669f-a44c-40a0-be1a-5128fd68c09b\",\"createdAt\":1654780722123,\"finishedAt\":null,\"retriedOriginalJobId\":null,\"retriedJobId\":null,\"retriedByJobId\":null,\"startedAt\":null,\"taskId\":\"ed813312-b171-471f-b226-1e7b04501146\",\"triedRecordingVideo\":false,\"triggeredByAPI\":true,\"triggeredByTaskMonitorId\":null,\"triggeredByUserId\":null,\"userFriendlyError\":null,\"variables\":[{\"name\":\"originUrl\",\"type\":\"url\",\"label\":\"Origin URL\",\"value\":\"https://paopropertysearch.coj.net/Basic/Search.aspx\",\"required\":true,\"encrypted\":false,\"defaultValue\":\"https://paopropertysearch.coj.net/Basic/Search.aspx\"},{\"name\":\"input\",\"label\":\"input\",\"value\":\"10991\",\"encrypted\":false,\"defaultValue\":\"10991\",\"type\":\"text\"},{\"name\":\"input_2\",\"label\":\"input (2)\",\"value\":\"Lothmore\",\"encrypted\":false,\"defaultValue\":\"Lothmore\",\"type\":\"text\"}],\"videoRemovedAt\":null,\"videoUrl\":null,\"capturedTexts\":[],\"capturedScreenshots\":[],\"capturedLists\":[]}}\n"
          ]
        }
      ]
    },
    {
      "cell_type": "code",
      "source": [
        "pd.json_normalize(response.json())"
      ],
      "metadata": {
        "colab": {
          "base_uri": "https://localhost:8080/",
          "height": 197
        },
        "id": "IRypMac2bf6I",
        "outputId": "249cbe57-7e3d-4c97-f9db-ceea681ef1fd"
      },
      "execution_count": null,
      "outputs": [
        {
          "output_type": "execute_result",
          "data": {
            "text/plain": [
              "   statusCode messageCode                             result.id  \\\n",
              "0         200     success  af7f669f-a44c-40a0-be1a-5128fd68c09b   \n",
              "\n",
              "   result.createdAt result.finishedAt result.retriedOriginalJobId  \\\n",
              "0     1654780722123              None                        None   \n",
              "\n",
              "  result.retriedJobId result.retriedByJobId result.startedAt  \\\n",
              "0                None                  None             None   \n",
              "\n",
              "                          result.taskId  result.triedRecordingVideo  \\\n",
              "0  ed813312-b171-471f-b226-1e7b04501146                       False   \n",
              "\n",
              "   result.triggeredByAPI result.triggeredByTaskMonitorId  \\\n",
              "0                   True                            None   \n",
              "\n",
              "  result.triggeredByUserId result.userFriendlyError  \\\n",
              "0                     None                     None   \n",
              "\n",
              "                                    result.variables result.videoRemovedAt  \\\n",
              "0  [{'name': 'originUrl', 'type': 'url', 'label':...                  None   \n",
              "\n",
              "  result.videoUrl result.capturedTexts result.capturedScreenshots  \\\n",
              "0            None                   []                         []   \n",
              "\n",
              "  result.capturedLists  \n",
              "0                   []  "
            ],
            "text/html": [
              "\n",
              "  <div id=\"df-c718dbde-ea91-4adc-9abe-96207b112928\">\n",
              "    <div class=\"colab-df-container\">\n",
              "      <div>\n",
              "<style scoped>\n",
              "    .dataframe tbody tr th:only-of-type {\n",
              "        vertical-align: middle;\n",
              "    }\n",
              "\n",
              "    .dataframe tbody tr th {\n",
              "        vertical-align: top;\n",
              "    }\n",
              "\n",
              "    .dataframe thead th {\n",
              "        text-align: right;\n",
              "    }\n",
              "</style>\n",
              "<table border=\"1\" class=\"dataframe\">\n",
              "  <thead>\n",
              "    <tr style=\"text-align: right;\">\n",
              "      <th></th>\n",
              "      <th>statusCode</th>\n",
              "      <th>messageCode</th>\n",
              "      <th>result.id</th>\n",
              "      <th>result.createdAt</th>\n",
              "      <th>result.finishedAt</th>\n",
              "      <th>result.retriedOriginalJobId</th>\n",
              "      <th>result.retriedJobId</th>\n",
              "      <th>result.retriedByJobId</th>\n",
              "      <th>result.startedAt</th>\n",
              "      <th>result.taskId</th>\n",
              "      <th>result.triedRecordingVideo</th>\n",
              "      <th>result.triggeredByAPI</th>\n",
              "      <th>result.triggeredByTaskMonitorId</th>\n",
              "      <th>result.triggeredByUserId</th>\n",
              "      <th>result.userFriendlyError</th>\n",
              "      <th>result.variables</th>\n",
              "      <th>result.videoRemovedAt</th>\n",
              "      <th>result.videoUrl</th>\n",
              "      <th>result.capturedTexts</th>\n",
              "      <th>result.capturedScreenshots</th>\n",
              "      <th>result.capturedLists</th>\n",
              "    </tr>\n",
              "  </thead>\n",
              "  <tbody>\n",
              "    <tr>\n",
              "      <th>0</th>\n",
              "      <td>200</td>\n",
              "      <td>success</td>\n",
              "      <td>af7f669f-a44c-40a0-be1a-5128fd68c09b</td>\n",
              "      <td>1654780722123</td>\n",
              "      <td>None</td>\n",
              "      <td>None</td>\n",
              "      <td>None</td>\n",
              "      <td>None</td>\n",
              "      <td>None</td>\n",
              "      <td>ed813312-b171-471f-b226-1e7b04501146</td>\n",
              "      <td>False</td>\n",
              "      <td>True</td>\n",
              "      <td>None</td>\n",
              "      <td>None</td>\n",
              "      <td>None</td>\n",
              "      <td>[{'name': 'originUrl', 'type': 'url', 'label':...</td>\n",
              "      <td>None</td>\n",
              "      <td>None</td>\n",
              "      <td>[]</td>\n",
              "      <td>[]</td>\n",
              "      <td>[]</td>\n",
              "    </tr>\n",
              "  </tbody>\n",
              "</table>\n",
              "</div>\n",
              "      <button class=\"colab-df-convert\" onclick=\"convertToInteractive('df-c718dbde-ea91-4adc-9abe-96207b112928')\"\n",
              "              title=\"Convert this dataframe to an interactive table.\"\n",
              "              style=\"display:none;\">\n",
              "        \n",
              "  <svg xmlns=\"http://www.w3.org/2000/svg\" height=\"24px\"viewBox=\"0 0 24 24\"\n",
              "       width=\"24px\">\n",
              "    <path d=\"M0 0h24v24H0V0z\" fill=\"none\"/>\n",
              "    <path d=\"M18.56 5.44l.94 2.06.94-2.06 2.06-.94-2.06-.94-.94-2.06-.94 2.06-2.06.94zm-11 1L8.5 8.5l.94-2.06 2.06-.94-2.06-.94L8.5 2.5l-.94 2.06-2.06.94zm10 10l.94 2.06.94-2.06 2.06-.94-2.06-.94-.94-2.06-.94 2.06-2.06.94z\"/><path d=\"M17.41 7.96l-1.37-1.37c-.4-.4-.92-.59-1.43-.59-.52 0-1.04.2-1.43.59L10.3 9.45l-7.72 7.72c-.78.78-.78 2.05 0 2.83L4 21.41c.39.39.9.59 1.41.59.51 0 1.02-.2 1.41-.59l7.78-7.78 2.81-2.81c.8-.78.8-2.07 0-2.86zM5.41 20L4 18.59l7.72-7.72 1.47 1.35L5.41 20z\"/>\n",
              "  </svg>\n",
              "      </button>\n",
              "      \n",
              "  <style>\n",
              "    .colab-df-container {\n",
              "      display:flex;\n",
              "      flex-wrap:wrap;\n",
              "      gap: 12px;\n",
              "    }\n",
              "\n",
              "    .colab-df-convert {\n",
              "      background-color: #E8F0FE;\n",
              "      border: none;\n",
              "      border-radius: 50%;\n",
              "      cursor: pointer;\n",
              "      display: none;\n",
              "      fill: #1967D2;\n",
              "      height: 32px;\n",
              "      padding: 0 0 0 0;\n",
              "      width: 32px;\n",
              "    }\n",
              "\n",
              "    .colab-df-convert:hover {\n",
              "      background-color: #E2EBFA;\n",
              "      box-shadow: 0px 1px 2px rgba(60, 64, 67, 0.3), 0px 1px 3px 1px rgba(60, 64, 67, 0.15);\n",
              "      fill: #174EA6;\n",
              "    }\n",
              "\n",
              "    [theme=dark] .colab-df-convert {\n",
              "      background-color: #3B4455;\n",
              "      fill: #D2E3FC;\n",
              "    }\n",
              "\n",
              "    [theme=dark] .colab-df-convert:hover {\n",
              "      background-color: #434B5C;\n",
              "      box-shadow: 0px 1px 3px 1px rgba(0, 0, 0, 0.15);\n",
              "      filter: drop-shadow(0px 1px 2px rgba(0, 0, 0, 0.3));\n",
              "      fill: #FFFFFF;\n",
              "    }\n",
              "  </style>\n",
              "\n",
              "      <script>\n",
              "        const buttonEl =\n",
              "          document.querySelector('#df-c718dbde-ea91-4adc-9abe-96207b112928 button.colab-df-convert');\n",
              "        buttonEl.style.display =\n",
              "          google.colab.kernel.accessAllowed ? 'block' : 'none';\n",
              "\n",
              "        async function convertToInteractive(key) {\n",
              "          const element = document.querySelector('#df-c718dbde-ea91-4adc-9abe-96207b112928');\n",
              "          const dataTable =\n",
              "            await google.colab.kernel.invokeFunction('convertToInteractive',\n",
              "                                                     [key], {});\n",
              "          if (!dataTable) return;\n",
              "\n",
              "          const docLinkHtml = 'Like what you see? Visit the ' +\n",
              "            '<a target=\"_blank\" href=https://colab.research.google.com/notebooks/data_table.ipynb>data table notebook</a>'\n",
              "            + ' to learn more about interactive tables.';\n",
              "          element.innerHTML = '';\n",
              "          dataTable['output_type'] = 'display_data';\n",
              "          await google.colab.output.renderOutput(dataTable, element);\n",
              "          const docLink = document.createElement('div');\n",
              "          docLink.innerHTML = docLinkHtml;\n",
              "          element.appendChild(docLink);\n",
              "        }\n",
              "      </script>\n",
              "    </div>\n",
              "  </div>\n",
              "  "
            ]
          },
          "metadata": {},
          "execution_count": 4
        }
      ]
    },
    {
      "cell_type": "code",
      "source": [
        "job_id = response.json()['result']['id']\n",
        "print('Job ID:', job_id)"
      ],
      "metadata": {
        "colab": {
          "base_uri": "https://localhost:8080/"
        },
        "id": "u7kT9xPtbAPW",
        "outputId": "4f6eb1bd-7da0-4fd2-a761-1536d78cb3d0"
      },
      "execution_count": null,
      "outputs": [
        {
          "output_type": "stream",
          "name": "stdout",
          "text": [
            "Job ID: af7f669f-a44c-40a0-be1a-5128fd68c09b\n"
          ]
        }
      ]
    },
    {
      "cell_type": "code",
      "source": [
        "url = \"https://api.browse.ai/v1/tasks/{0}/jobs/{1}\".format(task_id, job_id)\n",
        "\n",
        "headers = {\"Authorization\": \"Bearer {}\".format(browse_api_key)}\n",
        "\n",
        "job_response = requests.request(\"GET\", url, headers=headers)"
      ],
      "metadata": {
        "id": "kQc_7Pb-bnno"
      },
      "execution_count": null,
      "outputs": []
    },
    {
      "cell_type": "code",
      "source": [
        "job_list = [[x['name'], x['text']] for x in job_response.json()['result']['capturedTexts']]\n",
        "\n",
        "d = {}\n",
        "for x in job_response.json()['result']['capturedTexts']:\n",
        "  d[x['name']] = [x['text']]\n",
        "df_job = pd.DataFrame(d)\n",
        "df_job"
      ],
      "metadata": {
        "colab": {
          "base_uri": "https://localhost:8080/",
          "height": 142
        },
        "id": "qplriHlPb1Ox",
        "outputId": "e2607133-06fc-440c-b1f7-6b2dc3ae20b7"
      },
      "execution_count": null,
      "outputs": [
        {
          "output_type": "execute_result",
          "data": {
            "text/plain": [
              "                       ownerName  \\\n",
              "0  SECRETARY OF VETERANS AFFAIRS   \n",
              "\n",
              "                                   ownerAddress  buildingVal     landVal  \\\n",
              "0  3401 W END AVE STE 760W\\nNASHVILLE, TN 37203  $204,987.00  $65,000.00   \n",
              "\n",
              "    taxableVal                   useDescription zoningAssessment yearBuilt  \\\n",
              "0  $269,987.00  RES NATURAL LD 3-7 UNITS PER AC              PUD      2016   \n",
              "\n",
              "         buildingType   roofStructure  baths bedrooms  \n",
              "0  0101 - SFR 1 STORY  3 Gable or Hip  3.000    4.000  "
            ],
            "text/html": [
              "\n",
              "  <div id=\"df-9e4f5816-8c93-44d0-af7b-ae839b6fdf64\">\n",
              "    <div class=\"colab-df-container\">\n",
              "      <div>\n",
              "<style scoped>\n",
              "    .dataframe tbody tr th:only-of-type {\n",
              "        vertical-align: middle;\n",
              "    }\n",
              "\n",
              "    .dataframe tbody tr th {\n",
              "        vertical-align: top;\n",
              "    }\n",
              "\n",
              "    .dataframe thead th {\n",
              "        text-align: right;\n",
              "    }\n",
              "</style>\n",
              "<table border=\"1\" class=\"dataframe\">\n",
              "  <thead>\n",
              "    <tr style=\"text-align: right;\">\n",
              "      <th></th>\n",
              "      <th>ownerName</th>\n",
              "      <th>ownerAddress</th>\n",
              "      <th>buildingVal</th>\n",
              "      <th>landVal</th>\n",
              "      <th>taxableVal</th>\n",
              "      <th>useDescription</th>\n",
              "      <th>zoningAssessment</th>\n",
              "      <th>yearBuilt</th>\n",
              "      <th>buildingType</th>\n",
              "      <th>roofStructure</th>\n",
              "      <th>baths</th>\n",
              "      <th>bedrooms</th>\n",
              "    </tr>\n",
              "  </thead>\n",
              "  <tbody>\n",
              "    <tr>\n",
              "      <th>0</th>\n",
              "      <td>SECRETARY OF VETERANS AFFAIRS</td>\n",
              "      <td>3401 W END AVE STE 760W\\nNASHVILLE, TN 37203</td>\n",
              "      <td>$204,987.00</td>\n",
              "      <td>$65,000.00</td>\n",
              "      <td>$269,987.00</td>\n",
              "      <td>RES NATURAL LD 3-7 UNITS PER AC</td>\n",
              "      <td>PUD</td>\n",
              "      <td>2016</td>\n",
              "      <td>0101 - SFR 1 STORY</td>\n",
              "      <td>3 Gable or Hip</td>\n",
              "      <td>3.000</td>\n",
              "      <td>4.000</td>\n",
              "    </tr>\n",
              "  </tbody>\n",
              "</table>\n",
              "</div>\n",
              "      <button class=\"colab-df-convert\" onclick=\"convertToInteractive('df-9e4f5816-8c93-44d0-af7b-ae839b6fdf64')\"\n",
              "              title=\"Convert this dataframe to an interactive table.\"\n",
              "              style=\"display:none;\">\n",
              "        \n",
              "  <svg xmlns=\"http://www.w3.org/2000/svg\" height=\"24px\"viewBox=\"0 0 24 24\"\n",
              "       width=\"24px\">\n",
              "    <path d=\"M0 0h24v24H0V0z\" fill=\"none\"/>\n",
              "    <path d=\"M18.56 5.44l.94 2.06.94-2.06 2.06-.94-2.06-.94-.94-2.06-.94 2.06-2.06.94zm-11 1L8.5 8.5l.94-2.06 2.06-.94-2.06-.94L8.5 2.5l-.94 2.06-2.06.94zm10 10l.94 2.06.94-2.06 2.06-.94-2.06-.94-.94-2.06-.94 2.06-2.06.94z\"/><path d=\"M17.41 7.96l-1.37-1.37c-.4-.4-.92-.59-1.43-.59-.52 0-1.04.2-1.43.59L10.3 9.45l-7.72 7.72c-.78.78-.78 2.05 0 2.83L4 21.41c.39.39.9.59 1.41.59.51 0 1.02-.2 1.41-.59l7.78-7.78 2.81-2.81c.8-.78.8-2.07 0-2.86zM5.41 20L4 18.59l7.72-7.72 1.47 1.35L5.41 20z\"/>\n",
              "  </svg>\n",
              "      </button>\n",
              "      \n",
              "  <style>\n",
              "    .colab-df-container {\n",
              "      display:flex;\n",
              "      flex-wrap:wrap;\n",
              "      gap: 12px;\n",
              "    }\n",
              "\n",
              "    .colab-df-convert {\n",
              "      background-color: #E8F0FE;\n",
              "      border: none;\n",
              "      border-radius: 50%;\n",
              "      cursor: pointer;\n",
              "      display: none;\n",
              "      fill: #1967D2;\n",
              "      height: 32px;\n",
              "      padding: 0 0 0 0;\n",
              "      width: 32px;\n",
              "    }\n",
              "\n",
              "    .colab-df-convert:hover {\n",
              "      background-color: #E2EBFA;\n",
              "      box-shadow: 0px 1px 2px rgba(60, 64, 67, 0.3), 0px 1px 3px 1px rgba(60, 64, 67, 0.15);\n",
              "      fill: #174EA6;\n",
              "    }\n",
              "\n",
              "    [theme=dark] .colab-df-convert {\n",
              "      background-color: #3B4455;\n",
              "      fill: #D2E3FC;\n",
              "    }\n",
              "\n",
              "    [theme=dark] .colab-df-convert:hover {\n",
              "      background-color: #434B5C;\n",
              "      box-shadow: 0px 1px 3px 1px rgba(0, 0, 0, 0.15);\n",
              "      filter: drop-shadow(0px 1px 2px rgba(0, 0, 0, 0.3));\n",
              "      fill: #FFFFFF;\n",
              "    }\n",
              "  </style>\n",
              "\n",
              "      <script>\n",
              "        const buttonEl =\n",
              "          document.querySelector('#df-9e4f5816-8c93-44d0-af7b-ae839b6fdf64 button.colab-df-convert');\n",
              "        buttonEl.style.display =\n",
              "          google.colab.kernel.accessAllowed ? 'block' : 'none';\n",
              "\n",
              "        async function convertToInteractive(key) {\n",
              "          const element = document.querySelector('#df-9e4f5816-8c93-44d0-af7b-ae839b6fdf64');\n",
              "          const dataTable =\n",
              "            await google.colab.kernel.invokeFunction('convertToInteractive',\n",
              "                                                     [key], {});\n",
              "          if (!dataTable) return;\n",
              "\n",
              "          const docLinkHtml = 'Like what you see? Visit the ' +\n",
              "            '<a target=\"_blank\" href=https://colab.research.google.com/notebooks/data_table.ipynb>data table notebook</a>'\n",
              "            + ' to learn more about interactive tables.';\n",
              "          element.innerHTML = '';\n",
              "          dataTable['output_type'] = 'display_data';\n",
              "          await google.colab.output.renderOutput(dataTable, element);\n",
              "          const docLink = document.createElement('div');\n",
              "          docLink.innerHTML = docLinkHtml;\n",
              "          element.appendChild(docLink);\n",
              "        }\n",
              "      </script>\n",
              "    </div>\n",
              "  </div>\n",
              "  "
            ]
          },
          "metadata": {},
          "execution_count": 7
        }
      ]
    },
    {
      "cell_type": "markdown",
      "metadata": {
        "id": "xAk6Sl0bUxcx"
      },
      "source": [
        "## <font color=\"blue\">Transformations</font>"
      ]
    },
    {
      "cell_type": "code",
      "source": [
        "# create dataframe\n",
        "d = {'street_num': [111, 5821, 937, 215, 1571], \n",
        "     'street_name': ['54th', 'Liska', 'Brookmont', '3rd', '7th'],\n",
        "     'street_type': ['St', 'Dr', 'Ave East', 'St', 'St'],\n",
        "     'city': ['Jacksonville', 'Jacksonville', 'Jacksonville', 'Jacksonville', 'Jacksonville']}\n",
        "df = pd.DataFrame(data=d)\n",
        "df"
      ],
      "metadata": {
        "colab": {
          "base_uri": "https://localhost:8080/",
          "height": 206
        },
        "id": "fe5UaerAdTkl",
        "outputId": "b549932b-4161-4263-bfd5-89bddc1620e9"
      },
      "execution_count": null,
      "outputs": [
        {
          "output_type": "execute_result",
          "data": {
            "text/plain": [
              "   street_num street_name street_type          city\n",
              "0         111        54th          St  Jacksonville\n",
              "1        5821       Liska          Dr  Jacksonville\n",
              "2         937   Brookmont    Ave East  Jacksonville\n",
              "3         215         3rd          St  Jacksonville\n",
              "4        1571         7th          St  Jacksonville"
            ],
            "text/html": [
              "\n",
              "  <div id=\"df-968f00e4-8037-4ae9-9f1b-213df246d8bc\">\n",
              "    <div class=\"colab-df-container\">\n",
              "      <div>\n",
              "<style scoped>\n",
              "    .dataframe tbody tr th:only-of-type {\n",
              "        vertical-align: middle;\n",
              "    }\n",
              "\n",
              "    .dataframe tbody tr th {\n",
              "        vertical-align: top;\n",
              "    }\n",
              "\n",
              "    .dataframe thead th {\n",
              "        text-align: right;\n",
              "    }\n",
              "</style>\n",
              "<table border=\"1\" class=\"dataframe\">\n",
              "  <thead>\n",
              "    <tr style=\"text-align: right;\">\n",
              "      <th></th>\n",
              "      <th>street_num</th>\n",
              "      <th>street_name</th>\n",
              "      <th>street_type</th>\n",
              "      <th>city</th>\n",
              "    </tr>\n",
              "  </thead>\n",
              "  <tbody>\n",
              "    <tr>\n",
              "      <th>0</th>\n",
              "      <td>111</td>\n",
              "      <td>54th</td>\n",
              "      <td>St</td>\n",
              "      <td>Jacksonville</td>\n",
              "    </tr>\n",
              "    <tr>\n",
              "      <th>1</th>\n",
              "      <td>5821</td>\n",
              "      <td>Liska</td>\n",
              "      <td>Dr</td>\n",
              "      <td>Jacksonville</td>\n",
              "    </tr>\n",
              "    <tr>\n",
              "      <th>2</th>\n",
              "      <td>937</td>\n",
              "      <td>Brookmont</td>\n",
              "      <td>Ave East</td>\n",
              "      <td>Jacksonville</td>\n",
              "    </tr>\n",
              "    <tr>\n",
              "      <th>3</th>\n",
              "      <td>215</td>\n",
              "      <td>3rd</td>\n",
              "      <td>St</td>\n",
              "      <td>Jacksonville</td>\n",
              "    </tr>\n",
              "    <tr>\n",
              "      <th>4</th>\n",
              "      <td>1571</td>\n",
              "      <td>7th</td>\n",
              "      <td>St</td>\n",
              "      <td>Jacksonville</td>\n",
              "    </tr>\n",
              "  </tbody>\n",
              "</table>\n",
              "</div>\n",
              "      <button class=\"colab-df-convert\" onclick=\"convertToInteractive('df-968f00e4-8037-4ae9-9f1b-213df246d8bc')\"\n",
              "              title=\"Convert this dataframe to an interactive table.\"\n",
              "              style=\"display:none;\">\n",
              "        \n",
              "  <svg xmlns=\"http://www.w3.org/2000/svg\" height=\"24px\"viewBox=\"0 0 24 24\"\n",
              "       width=\"24px\">\n",
              "    <path d=\"M0 0h24v24H0V0z\" fill=\"none\"/>\n",
              "    <path d=\"M18.56 5.44l.94 2.06.94-2.06 2.06-.94-2.06-.94-.94-2.06-.94 2.06-2.06.94zm-11 1L8.5 8.5l.94-2.06 2.06-.94-2.06-.94L8.5 2.5l-.94 2.06-2.06.94zm10 10l.94 2.06.94-2.06 2.06-.94-2.06-.94-.94-2.06-.94 2.06-2.06.94z\"/><path d=\"M17.41 7.96l-1.37-1.37c-.4-.4-.92-.59-1.43-.59-.52 0-1.04.2-1.43.59L10.3 9.45l-7.72 7.72c-.78.78-.78 2.05 0 2.83L4 21.41c.39.39.9.59 1.41.59.51 0 1.02-.2 1.41-.59l7.78-7.78 2.81-2.81c.8-.78.8-2.07 0-2.86zM5.41 20L4 18.59l7.72-7.72 1.47 1.35L5.41 20z\"/>\n",
              "  </svg>\n",
              "      </button>\n",
              "      \n",
              "  <style>\n",
              "    .colab-df-container {\n",
              "      display:flex;\n",
              "      flex-wrap:wrap;\n",
              "      gap: 12px;\n",
              "    }\n",
              "\n",
              "    .colab-df-convert {\n",
              "      background-color: #E8F0FE;\n",
              "      border: none;\n",
              "      border-radius: 50%;\n",
              "      cursor: pointer;\n",
              "      display: none;\n",
              "      fill: #1967D2;\n",
              "      height: 32px;\n",
              "      padding: 0 0 0 0;\n",
              "      width: 32px;\n",
              "    }\n",
              "\n",
              "    .colab-df-convert:hover {\n",
              "      background-color: #E2EBFA;\n",
              "      box-shadow: 0px 1px 2px rgba(60, 64, 67, 0.3), 0px 1px 3px 1px rgba(60, 64, 67, 0.15);\n",
              "      fill: #174EA6;\n",
              "    }\n",
              "\n",
              "    [theme=dark] .colab-df-convert {\n",
              "      background-color: #3B4455;\n",
              "      fill: #D2E3FC;\n",
              "    }\n",
              "\n",
              "    [theme=dark] .colab-df-convert:hover {\n",
              "      background-color: #434B5C;\n",
              "      box-shadow: 0px 1px 3px 1px rgba(0, 0, 0, 0.15);\n",
              "      filter: drop-shadow(0px 1px 2px rgba(0, 0, 0, 0.3));\n",
              "      fill: #FFFFFF;\n",
              "    }\n",
              "  </style>\n",
              "\n",
              "      <script>\n",
              "        const buttonEl =\n",
              "          document.querySelector('#df-968f00e4-8037-4ae9-9f1b-213df246d8bc button.colab-df-convert');\n",
              "        buttonEl.style.display =\n",
              "          google.colab.kernel.accessAllowed ? 'block' : 'none';\n",
              "\n",
              "        async function convertToInteractive(key) {\n",
              "          const element = document.querySelector('#df-968f00e4-8037-4ae9-9f1b-213df246d8bc');\n",
              "          const dataTable =\n",
              "            await google.colab.kernel.invokeFunction('convertToInteractive',\n",
              "                                                     [key], {});\n",
              "          if (!dataTable) return;\n",
              "\n",
              "          const docLinkHtml = 'Like what you see? Visit the ' +\n",
              "            '<a target=\"_blank\" href=https://colab.research.google.com/notebooks/data_table.ipynb>data table notebook</a>'\n",
              "            + ' to learn more about interactive tables.';\n",
              "          element.innerHTML = '';\n",
              "          dataTable['output_type'] = 'display_data';\n",
              "          await google.colab.output.renderOutput(dataTable, element);\n",
              "          const docLink = document.createElement('div');\n",
              "          docLink.innerHTML = docLinkHtml;\n",
              "          element.appendChild(docLink);\n",
              "        }\n",
              "      </script>\n",
              "    </div>\n",
              "  </div>\n",
              "  "
            ]
          },
          "metadata": {},
          "execution_count": 5
        }
      ]
    },
    {
      "cell_type": "code",
      "source": [
        "df_list = []\n",
        "job_id_list = []\n",
        "\n",
        "# iterate through dataframe\n",
        "for index, row in df.iterrows():\n",
        "  print('--------------------------')\n",
        "  street_num = row['street_num']\n",
        "  street_name = row['street_name']\n",
        "  print('Processing: {0} {1}'.format(str(street_num), street_name))\n",
        "\n",
        "  print('Getting county data...')  \n",
        "  try:\n",
        "    response = get_county_data(task_id, street_num, street_name, browse_api_key)\n",
        "    job_id = response.json()['result']['id']\n",
        "    job_id_list.append(job_id)\n",
        "\n",
        "    # sleep\n",
        "    time.sleep(60) # 1 min\n",
        "\n",
        "    print('Getting results...')\n",
        "    try:\n",
        "      df_job = get_county_results(task_id, job_id, browse_api_key)\n",
        "      # df_job['prop_address'] = str(street_num) + ' ' + street_name\n",
        "      df_list.append(df_job)\n",
        "    except:\n",
        "      print('UNABLE to get results!')  \n",
        "\n",
        "  except:\n",
        "    print('UNABLE to retrieve data!')"
      ],
      "metadata": {
        "colab": {
          "base_uri": "https://localhost:8080/"
        },
        "id": "hJ_3T61Ib_fD",
        "outputId": "e1d55a85-ae17-45dd-b4d3-2de6b0e4f631"
      },
      "execution_count": null,
      "outputs": [
        {
          "output_type": "stream",
          "name": "stdout",
          "text": [
            "--------------------------\n",
            "Processing: 111 54th\n",
            "Getting county data...\n",
            "Getting results...\n",
            "--------------------------\n",
            "Processing: 5821 Liska\n",
            "Getting county data...\n",
            "Getting results...\n",
            "--------------------------\n",
            "Processing: 937 Brookmont\n",
            "Getting county data...\n",
            "Getting results...\n",
            "--------------------------\n",
            "Processing: 215 3rd\n",
            "Getting county data...\n",
            "Getting results...\n",
            "--------------------------\n",
            "Processing: 1571 7th\n",
            "Getting county data...\n",
            "Getting results...\n"
          ]
        }
      ]
    },
    {
      "cell_type": "code",
      "source": [
        "df_listings = pd.concat(df_list)\n",
        "df_listings"
      ],
      "metadata": {
        "colab": {
          "base_uri": "https://localhost:8080/",
          "height": 240
        },
        "id": "tEw19mr_gUvZ",
        "outputId": "8c251010-80fb-4b1b-e079-5a540ad19fa4"
      },
      "execution_count": null,
      "outputs": [
        {
          "output_type": "execute_result",
          "data": {
            "text/plain": [
              "                            ownerName  \\\n",
              "0                        GALEDAR ADEL   \n",
              "0           ONE STOP CONSTRUCTORS INC   \n",
              "0  WAYBRIGHT RESIDENTIAL PROPERTY LLC   \n",
              "\n",
              "                                        ownerAddress buildingVal     landVal  \\\n",
              "0          6219 PENDRAGON PL\\nJACKSONVILLE, FL 32258  $71,852.00  $40,000.00   \n",
              "0  718 SW PORT ST LUCIE BLVD STE 9\\nPORT SAINT LU...  $54,750.00  $23,104.00   \n",
              "0                 12533 SW 125TH CT\\nMIAMI, FL 33186  $46,105.00   $4,050.00   \n",
              "\n",
              "   taxableVal            useDescription zoningAssessment yearBuilt  \\\n",
              "0  $64,830.00  RES MD 8-19 UNITS PER AC            RMD-C      1993   \n",
              "0  $77,854.00  RES MD 8-19 UNITS PER AC            RMD-S      1919   \n",
              "0  $41,673.00  RES MD 8-19 UNITS PER AC            RMD-D      1924   \n",
              "\n",
              "          buildingType     roofStructure  baths bedrooms  \n",
              "0   0101 - SFR 1 STORY  8 Horizontal Lap  1.000    3.000  \n",
              "0  0804 - 5-9 UNIT APT    3 Gable or Hip  5.000    2.000  \n",
              "0   0101 - SFR 1 STORY    3 Gable or Hip  1.000    3.000  "
            ],
            "text/html": [
              "\n",
              "  <div id=\"df-24b2991c-3d8c-4875-a637-d79eae9d3a5c\">\n",
              "    <div class=\"colab-df-container\">\n",
              "      <div>\n",
              "<style scoped>\n",
              "    .dataframe tbody tr th:only-of-type {\n",
              "        vertical-align: middle;\n",
              "    }\n",
              "\n",
              "    .dataframe tbody tr th {\n",
              "        vertical-align: top;\n",
              "    }\n",
              "\n",
              "    .dataframe thead th {\n",
              "        text-align: right;\n",
              "    }\n",
              "</style>\n",
              "<table border=\"1\" class=\"dataframe\">\n",
              "  <thead>\n",
              "    <tr style=\"text-align: right;\">\n",
              "      <th></th>\n",
              "      <th>ownerName</th>\n",
              "      <th>ownerAddress</th>\n",
              "      <th>buildingVal</th>\n",
              "      <th>landVal</th>\n",
              "      <th>taxableVal</th>\n",
              "      <th>useDescription</th>\n",
              "      <th>zoningAssessment</th>\n",
              "      <th>yearBuilt</th>\n",
              "      <th>buildingType</th>\n",
              "      <th>roofStructure</th>\n",
              "      <th>baths</th>\n",
              "      <th>bedrooms</th>\n",
              "    </tr>\n",
              "  </thead>\n",
              "  <tbody>\n",
              "    <tr>\n",
              "      <th>0</th>\n",
              "      <td>GALEDAR ADEL</td>\n",
              "      <td>6219 PENDRAGON PL\\nJACKSONVILLE, FL 32258</td>\n",
              "      <td>$71,852.00</td>\n",
              "      <td>$40,000.00</td>\n",
              "      <td>$64,830.00</td>\n",
              "      <td>RES MD 8-19 UNITS PER AC</td>\n",
              "      <td>RMD-C</td>\n",
              "      <td>1993</td>\n",
              "      <td>0101 - SFR 1 STORY</td>\n",
              "      <td>8 Horizontal Lap</td>\n",
              "      <td>1.000</td>\n",
              "      <td>3.000</td>\n",
              "    </tr>\n",
              "    <tr>\n",
              "      <th>0</th>\n",
              "      <td>ONE STOP CONSTRUCTORS INC</td>\n",
              "      <td>718 SW PORT ST LUCIE BLVD STE 9\\nPORT SAINT LU...</td>\n",
              "      <td>$54,750.00</td>\n",
              "      <td>$23,104.00</td>\n",
              "      <td>$77,854.00</td>\n",
              "      <td>RES MD 8-19 UNITS PER AC</td>\n",
              "      <td>RMD-S</td>\n",
              "      <td>1919</td>\n",
              "      <td>0804 - 5-9 UNIT APT</td>\n",
              "      <td>3 Gable or Hip</td>\n",
              "      <td>5.000</td>\n",
              "      <td>2.000</td>\n",
              "    </tr>\n",
              "    <tr>\n",
              "      <th>0</th>\n",
              "      <td>WAYBRIGHT RESIDENTIAL PROPERTY LLC</td>\n",
              "      <td>12533 SW 125TH CT\\nMIAMI, FL 33186</td>\n",
              "      <td>$46,105.00</td>\n",
              "      <td>$4,050.00</td>\n",
              "      <td>$41,673.00</td>\n",
              "      <td>RES MD 8-19 UNITS PER AC</td>\n",
              "      <td>RMD-D</td>\n",
              "      <td>1924</td>\n",
              "      <td>0101 - SFR 1 STORY</td>\n",
              "      <td>3 Gable or Hip</td>\n",
              "      <td>1.000</td>\n",
              "      <td>3.000</td>\n",
              "    </tr>\n",
              "  </tbody>\n",
              "</table>\n",
              "</div>\n",
              "      <button class=\"colab-df-convert\" onclick=\"convertToInteractive('df-24b2991c-3d8c-4875-a637-d79eae9d3a5c')\"\n",
              "              title=\"Convert this dataframe to an interactive table.\"\n",
              "              style=\"display:none;\">\n",
              "        \n",
              "  <svg xmlns=\"http://www.w3.org/2000/svg\" height=\"24px\"viewBox=\"0 0 24 24\"\n",
              "       width=\"24px\">\n",
              "    <path d=\"M0 0h24v24H0V0z\" fill=\"none\"/>\n",
              "    <path d=\"M18.56 5.44l.94 2.06.94-2.06 2.06-.94-2.06-.94-.94-2.06-.94 2.06-2.06.94zm-11 1L8.5 8.5l.94-2.06 2.06-.94-2.06-.94L8.5 2.5l-.94 2.06-2.06.94zm10 10l.94 2.06.94-2.06 2.06-.94-2.06-.94-.94-2.06-.94 2.06-2.06.94z\"/><path d=\"M17.41 7.96l-1.37-1.37c-.4-.4-.92-.59-1.43-.59-.52 0-1.04.2-1.43.59L10.3 9.45l-7.72 7.72c-.78.78-.78 2.05 0 2.83L4 21.41c.39.39.9.59 1.41.59.51 0 1.02-.2 1.41-.59l7.78-7.78 2.81-2.81c.8-.78.8-2.07 0-2.86zM5.41 20L4 18.59l7.72-7.72 1.47 1.35L5.41 20z\"/>\n",
              "  </svg>\n",
              "      </button>\n",
              "      \n",
              "  <style>\n",
              "    .colab-df-container {\n",
              "      display:flex;\n",
              "      flex-wrap:wrap;\n",
              "      gap: 12px;\n",
              "    }\n",
              "\n",
              "    .colab-df-convert {\n",
              "      background-color: #E8F0FE;\n",
              "      border: none;\n",
              "      border-radius: 50%;\n",
              "      cursor: pointer;\n",
              "      display: none;\n",
              "      fill: #1967D2;\n",
              "      height: 32px;\n",
              "      padding: 0 0 0 0;\n",
              "      width: 32px;\n",
              "    }\n",
              "\n",
              "    .colab-df-convert:hover {\n",
              "      background-color: #E2EBFA;\n",
              "      box-shadow: 0px 1px 2px rgba(60, 64, 67, 0.3), 0px 1px 3px 1px rgba(60, 64, 67, 0.15);\n",
              "      fill: #174EA6;\n",
              "    }\n",
              "\n",
              "    [theme=dark] .colab-df-convert {\n",
              "      background-color: #3B4455;\n",
              "      fill: #D2E3FC;\n",
              "    }\n",
              "\n",
              "    [theme=dark] .colab-df-convert:hover {\n",
              "      background-color: #434B5C;\n",
              "      box-shadow: 0px 1px 3px 1px rgba(0, 0, 0, 0.15);\n",
              "      filter: drop-shadow(0px 1px 2px rgba(0, 0, 0, 0.3));\n",
              "      fill: #FFFFFF;\n",
              "    }\n",
              "  </style>\n",
              "\n",
              "      <script>\n",
              "        const buttonEl =\n",
              "          document.querySelector('#df-24b2991c-3d8c-4875-a637-d79eae9d3a5c button.colab-df-convert');\n",
              "        buttonEl.style.display =\n",
              "          google.colab.kernel.accessAllowed ? 'block' : 'none';\n",
              "\n",
              "        async function convertToInteractive(key) {\n",
              "          const element = document.querySelector('#df-24b2991c-3d8c-4875-a637-d79eae9d3a5c');\n",
              "          const dataTable =\n",
              "            await google.colab.kernel.invokeFunction('convertToInteractive',\n",
              "                                                     [key], {});\n",
              "          if (!dataTable) return;\n",
              "\n",
              "          const docLinkHtml = 'Like what you see? Visit the ' +\n",
              "            '<a target=\"_blank\" href=https://colab.research.google.com/notebooks/data_table.ipynb>data table notebook</a>'\n",
              "            + ' to learn more about interactive tables.';\n",
              "          element.innerHTML = '';\n",
              "          dataTable['output_type'] = 'display_data';\n",
              "          await google.colab.output.renderOutput(dataTable, element);\n",
              "          const docLink = document.createElement('div');\n",
              "          docLink.innerHTML = docLinkHtml;\n",
              "          element.appendChild(docLink);\n",
              "        }\n",
              "      </script>\n",
              "    </div>\n",
              "  </div>\n",
              "  "
            ]
          },
          "metadata": {},
          "execution_count": 19
        }
      ]
    },
    {
      "cell_type": "code",
      "source": [
        "df_list"
      ],
      "metadata": {
        "colab": {
          "base_uri": "https://localhost:8080/"
        },
        "id": "j5_9ORWTwPOk",
        "outputId": "0cc37c12-11e3-4578-9120-62e083800365"
      },
      "execution_count": null,
      "outputs": [
        {
          "output_type": "execute_result",
          "data": {
            "text/plain": [
              "[Empty DataFrame\n",
              " Columns: []\n",
              " Index: [],\n",
              "       ownerName                               ownerAddress buildingVal  \\\n",
              " 0  GALEDAR ADEL  6219 PENDRAGON PL\\nJACKSONVILLE, FL 32258  $71,852.00   \n",
              " \n",
              "       landVal  taxableVal            useDescription zoningAssessment  \\\n",
              " 0  $40,000.00  $64,830.00  RES MD 8-19 UNITS PER AC            RMD-C   \n",
              " \n",
              "   yearBuilt        buildingType     roofStructure  baths bedrooms  \n",
              " 0      1993  0101 - SFR 1 STORY  8 Horizontal Lap  1.000    3.000  ,\n",
              " Empty DataFrame\n",
              " Columns: []\n",
              " Index: [],\n",
              "                    ownerName  \\\n",
              " 0  ONE STOP CONSTRUCTORS INC   \n",
              " \n",
              "                                         ownerAddress buildingVal     landVal  \\\n",
              " 0  718 SW PORT ST LUCIE BLVD STE 9\\nPORT SAINT LU...  $54,750.00  $23,104.00   \n",
              " \n",
              "    taxableVal            useDescription zoningAssessment yearBuilt  \\\n",
              " 0  $77,854.00  RES MD 8-19 UNITS PER AC            RMD-S      1919   \n",
              " \n",
              "           buildingType   roofStructure  baths bedrooms  \n",
              " 0  0804 - 5-9 UNIT APT  3 Gable or Hip  5.000    2.000  ,\n",
              "                             ownerName                        ownerAddress  \\\n",
              " 0  WAYBRIGHT RESIDENTIAL PROPERTY LLC  12533 SW 125TH CT\\nMIAMI, FL 33186   \n",
              " \n",
              "   buildingVal    landVal  taxableVal            useDescription  \\\n",
              " 0  $46,105.00  $4,050.00  $41,673.00  RES MD 8-19 UNITS PER AC   \n",
              " \n",
              "   zoningAssessment yearBuilt        buildingType   roofStructure  baths  \\\n",
              " 0            RMD-D      1924  0101 - SFR 1 STORY  3 Gable or Hip  1.000   \n",
              " \n",
              "   bedrooms  \n",
              " 0    3.000  ]"
            ]
          },
          "metadata": {},
          "execution_count": 20
        }
      ]
    },
    {
      "cell_type": "markdown",
      "source": [
        "## <font color=\"blue\">Output</font>"
      ],
      "metadata": {
        "id": "MnHZNPvsb9hl"
      }
    },
    {
      "cell_type": "code",
      "source": [
        "# download file\n",
        "df_listings.to_csv('output.csv', index=False)\n",
        "files.download('output.csv')"
      ],
      "metadata": {
        "colab": {
          "base_uri": "https://localhost:8080/",
          "height": 17
        },
        "id": "fNGEsR_eb_1J",
        "outputId": "6783a654-2f31-4b14-de28-bab8c734e77f"
      },
      "execution_count": null,
      "outputs": [
        {
          "output_type": "display_data",
          "data": {
            "text/plain": [
              "<IPython.core.display.Javascript object>"
            ],
            "application/javascript": [
              "\n",
              "    async function download(id, filename, size) {\n",
              "      if (!google.colab.kernel.accessAllowed) {\n",
              "        return;\n",
              "      }\n",
              "      const div = document.createElement('div');\n",
              "      const label = document.createElement('label');\n",
              "      label.textContent = `Downloading \"${filename}\": `;\n",
              "      div.appendChild(label);\n",
              "      const progress = document.createElement('progress');\n",
              "      progress.max = size;\n",
              "      div.appendChild(progress);\n",
              "      document.body.appendChild(div);\n",
              "\n",
              "      const buffers = [];\n",
              "      let downloaded = 0;\n",
              "\n",
              "      const channel = await google.colab.kernel.comms.open(id);\n",
              "      // Send a message to notify the kernel that we're ready.\n",
              "      channel.send({})\n",
              "\n",
              "      for await (const message of channel.messages) {\n",
              "        // Send a message to notify the kernel that we're ready.\n",
              "        channel.send({})\n",
              "        if (message.buffers) {\n",
              "          for (const buffer of message.buffers) {\n",
              "            buffers.push(buffer);\n",
              "            downloaded += buffer.byteLength;\n",
              "            progress.value = downloaded;\n",
              "          }\n",
              "        }\n",
              "      }\n",
              "      const blob = new Blob(buffers, {type: 'application/binary'});\n",
              "      const a = document.createElement('a');\n",
              "      a.href = window.URL.createObjectURL(blob);\n",
              "      a.download = filename;\n",
              "      div.appendChild(a);\n",
              "      a.click();\n",
              "      div.remove();\n",
              "    }\n",
              "  "
            ]
          },
          "metadata": {}
        },
        {
          "output_type": "display_data",
          "data": {
            "text/plain": [
              "<IPython.core.display.Javascript object>"
            ],
            "application/javascript": [
              "download(\"download_36dfb898-cf99-4d1d-a515-9ee9632d8726\", \"output.csv\", 717)"
            ]
          },
          "metadata": {}
        }
      ]
    },
    {
      "cell_type": "markdown",
      "metadata": {
        "id": "_WrYHVh9Ukid"
      },
      "source": [
        "# End Notebook"
      ]
    }
  ]
}