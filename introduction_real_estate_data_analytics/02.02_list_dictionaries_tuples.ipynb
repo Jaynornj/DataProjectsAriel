{
  "nbformat": 4,
  "nbformat_minor": 0,
  "metadata": {
    "colab": {
      "provenance": [],
      "collapsed_sections": [],
      "authorship_tag": "ABX9TyOicc1d151SAY/A6I67ReQY",
      "include_colab_link": true
    },
    "kernelspec": {
      "name": "python3",
      "display_name": "Python 3"
    },
    "language_info": {
      "name": "python"
    }
  },
  "cells": [
    {
      "cell_type": "markdown",
      "metadata": {
        "id": "view-in-github",
        "colab_type": "text"
      },
      "source": [
        "<a href=\"https://colab.research.google.com/github/analyticsariel/projects/blob/master/02.02_list_dictionaries_tuples.ipynb\" target=\"_parent\"><img src=\"https://colab.research.google.com/assets/colab-badge.svg\" alt=\"Open In Colab\"/></a>"
      ]
    },
    {
      "cell_type": "markdown",
      "metadata": {
        "id": "BYRys7lpU-iF"
      },
      "source": [
        "# List, Dictionaries, and Tuples\n",
        "\n",
        "## Overview\n",
        "| Detail Tag            | Information                                                                                        |\n",
        "|-----------------------|----------------------------------------------------------------------------------------------------|\n",
        "| Created By | Ariel Herrera arielherrera@analyticsariel.com |\n",
        "\n",
        "## History\n",
        "| Date         | Developed By  | Reason                                                |\n",
        "|--------------|---------------|-------------------------------------------------------|\n",
        "| 1st Sep 2022 | Ariel Herrera | Create notebook. |\n",
        "\n",
        "## Getting Started\n",
        "1. Copy this notebook -> File -> Save a Copy in Drive\n",
        "\n",
        "## Useful Resources\n",
        "- [Course Contents](https://colab.research.google.com/drive/12K0Ow9Y8v3-a1xuWMc52aPFgaLl-h9vx)\n",
        "- [Google Colab Cheat Sheet](https://towardsdatascience.com/cheat-sheet-for-google-colab-63853778c093)\n",
        "- [Python Lists](https://www.w3schools.com/python/python_lists.asp)\n",
        "- [Python Dictionaries](https://www.w3schools.com/python/python_dictionaries.asp)"
      ]
    },
    {
      "cell_type": "markdown",
      "metadata": {
        "id": "hKgiM1tbUnbI"
      },
      "source": [
        "## <font color=\"blue\">1. Lists</font>\n",
        "Lists are used to store multiple items in a single variable.\n",
        "\n",
        "Lists are one of 4 built-in data types in Python used to store collections of data, the other 3 are Tuple, Set, and Dictionary, all with different qualities and usage.\n",
        "\n",
        "Lists are created using square brackets."
      ]
    },
    {
      "cell_type": "code",
      "metadata": {
        "id": "7V2OU_iGUppW",
        "colab": {
          "base_uri": "https://localhost:8080/"
        },
        "outputId": "d41760c2-deed-43bc-a0ca-7ad7ed28830a"
      },
      "source": [
        "# list of strings - investment strategies\n",
        "strategies_list = ['fix and flip', 'brrrr', 'buy and hold', 'house hacking']\n",
        "print('Num of strategies in list:', )"
      ],
      "execution_count": null,
      "outputs": [
        {
          "output_type": "stream",
          "name": "stdout",
          "text": [
            "Num of strategies in list:\n"
          ]
        }
      ]
    },
    {
      "cell_type": "code",
      "source": [
        "# get the first 3 investment strategies\n"
      ],
      "metadata": {
        "id": "cGXoSlxDvFhX"
      },
      "execution_count": null,
      "outputs": []
    },
    {
      "cell_type": "code",
      "source": [
        "# print every investment strategy\n"
      ],
      "metadata": {
        "id": "9lehlm7qu8f-"
      },
      "execution_count": null,
      "outputs": []
    },
    {
      "cell_type": "code",
      "source": [
        "# list of numeric values - rental income across 5 properties\n",
        "rent_income_list = [1500, 900, 750, 1750, 900]\n",
        "print('Num of units with rental income in list:', )"
      ],
      "metadata": {
        "colab": {
          "base_uri": "https://localhost:8080/"
        },
        "id": "67wLK0fRdMFo",
        "outputId": "f853f257-2b17-4387-febe-723297e74792"
      },
      "execution_count": null,
      "outputs": [
        {
          "output_type": "stream",
          "name": "stdout",
          "text": [
            "Num of units with rental income in list:\n"
          ]
        }
      ]
    },
    {
      "cell_type": "code",
      "source": [
        "# sort list from low to high\n"
      ],
      "metadata": {
        "id": "s1vztixAijHN"
      },
      "execution_count": null,
      "outputs": []
    },
    {
      "cell_type": "code",
      "source": [
        "# index values\n",
        "print('Lowest rental income:', )\n",
        "print('Highest rental income:', )"
      ],
      "metadata": {
        "colab": {
          "base_uri": "https://localhost:8080/"
        },
        "id": "jXRwemu-il4r",
        "outputId": "19f8c482-768f-41d4-83ba-549852139900"
      },
      "execution_count": null,
      "outputs": [
        {
          "output_type": "stream",
          "name": "stdout",
          "text": [
            "Lowest rental income:\n",
            "Highest rental income:\n"
          ]
        }
      ]
    },
    {
      "cell_type": "code",
      "source": [
        "\"\"\"\n",
        "  SCENARIO: We partner with another investor to increase our rental portfolio.\n",
        "  Add both lists together \n",
        "\"\"\"\n",
        "rent_income_list_2 = [2000, 2200, 1250]\n",
        "\n",
        "print('Full income list:', )\n",
        "print('Count of rentals:', )"
      ],
      "metadata": {
        "colab": {
          "base_uri": "https://localhost:8080/"
        },
        "id": "pqTfGyVBvP86",
        "outputId": "439ba7a4-6cd4-4428-aa93-f6b97b2e0be5"
      },
      "execution_count": null,
      "outputs": [
        {
          "output_type": "stream",
          "name": "stdout",
          "text": [
            "Full income list:\n",
            "Count of rentals:\n"
          ]
        }
      ]
    },
    {
      "cell_type": "code",
      "source": [
        "# get sum of total income from rental properties\n",
        "print('Total rental income:', )\n",
        "print('Avg rental income:', )"
      ],
      "metadata": {
        "colab": {
          "base_uri": "https://localhost:8080/"
        },
        "id": "uAi-BIn9vrE-",
        "outputId": "8ee55e0b-1e35-4581-9597-ecb33aadc87c"
      },
      "execution_count": null,
      "outputs": [
        {
          "output_type": "stream",
          "name": "stdout",
          "text": [
            "Total rental income:\n",
            "Avg rental income:\n"
          ]
        }
      ]
    },
    {
      "cell_type": "markdown",
      "metadata": {
        "id": "-ZgrtjtLUi6a"
      },
      "source": [
        "## <font color=\"blue\">2. Tuples</font>\n",
        "Tuples are used to store multiple items in a single variable.\n",
        "\n",
        "A tuple is a collection which is ordered and unchangeable."
      ]
    },
    {
      "cell_type": "code",
      "metadata": {
        "id": "7vWKHxJDUjOJ",
        "colab": {
          "base_uri": "https://localhost:8080/"
        },
        "outputId": "8f9ed86c-6666-4765-d692-491ef7756d5b"
      },
      "source": [
        "# properties by the year they were acquired\n",
        "properties_tuple = (\"123 Main St\", \"456 Yellow Rd\", \"700 Honey Ln\", \"300 Pine St\", \"302 Pine St\")\n",
        "print('Number of properties:',)\n",
        "print()"
      ],
      "execution_count": null,
      "outputs": [
        {
          "output_type": "stream",
          "name": "stdout",
          "text": [
            "Number of properties:\n",
            "\n"
          ]
        }
      ]
    },
    {
      "cell_type": "markdown",
      "metadata": {
        "id": "PkdXQZp8UqcC"
      },
      "source": [
        "## <font color=\"blue\">3. Dictionaries</font>\n",
        "Dictionaries are used to store data values in key:value pairs.\n",
        "\n",
        "A dictionary is a collection which is ordered*, changeable and do not allow duplicates.\n",
        "\n",
        "Dictionary items are presented in key:value pairs, and can be referred to by using the key name."
      ]
    },
    {
      "cell_type": "code",
      "metadata": {
        "id": "5p76TDONUsXe"
      },
      "source": [
        "# dictionaries allow us to store multiple values based on a given key\n",
        "property_dict = {\n",
        "  \"123 Main St\": {\n",
        "      'bought_on': '2019-01-01',\n",
        "      'rent_income': 750\n",
        "  },\n",
        "  \"456 Yellow Rd\": {\n",
        "      'bought_on': '2020-05-01',\n",
        "      'rent_income': 900\n",
        "  },\n",
        "  \"700 Honey Ln\": {\n",
        "      'bought_on': '2021-03-01',\n",
        "      'rent_income': 900\n",
        "  },\n",
        "  \"300 Pine St\": {\n",
        "      'bought_on': '2022-09-01',\n",
        "      'rent_income': 1500\n",
        "  },\n",
        "  \"302 Pine St\": {\n",
        "      'bought_on': '2022-09-01',\n",
        "      'rent_income': 1750\n",
        "  }\n",
        "}"
      ],
      "execution_count": null,
      "outputs": []
    },
    {
      "cell_type": "code",
      "source": [
        "# view type\n"
      ],
      "metadata": {
        "id": "OVN0Z-vLx0bO"
      },
      "execution_count": null,
      "outputs": []
    },
    {
      "cell_type": "code",
      "source": [
        "# view keys\n"
      ],
      "metadata": {
        "id": "38IYe7mgxZ8o"
      },
      "execution_count": null,
      "outputs": []
    },
    {
      "cell_type": "code",
      "source": [
        "# view values\n"
      ],
      "metadata": {
        "id": "FYaIqQUIxktX"
      },
      "execution_count": null,
      "outputs": []
    },
    {
      "cell_type": "markdown",
      "source": [
        "Let's try an advanced step - iterating through our dictionary!\n",
        "\n",
        "This will be covered in more detail in the Functions lesson."
      ],
      "metadata": {
        "id": "huAFiRvFyYRw"
      }
    },
    {
      "cell_type": "code",
      "source": [
        "# iterate through dictionary"
      ],
      "metadata": {
        "id": "UHre_aLYykTo"
      },
      "execution_count": null,
      "outputs": []
    },
    {
      "cell_type": "markdown",
      "source": [
        "## Recap\n",
        "We covered 3 ways to store our data:\n",
        "1. Lists\n",
        "2. Tuples\n",
        "3. Dictionaries\n",
        "\n",
        "We also had a sneak peak of other cool Python functionality including loops. Let's explore these further in the following lessons!"
      ],
      "metadata": {
        "id": "57O1S5HK0FA-"
      }
    },
    {
      "cell_type": "markdown",
      "source": [
        "## BONUS: How to update dictionaries"
      ],
      "metadata": {
        "id": "WB7_aIorR1K6"
      }
    },
    {
      "cell_type": "code",
      "source": [
        "from IPython.display import YouTubeVideo\n",
        "YouTubeVideo('daefaLgNkw0')"
      ],
      "metadata": {
        "colab": {
          "base_uri": "https://localhost:8080/",
          "height": 322
        },
        "id": "bwxWX9QcR7Y9",
        "outputId": "a8547aa4-9122-4029-ed8a-3b8e9a872c1d"
      },
      "execution_count": null,
      "outputs": [
        {
          "output_type": "execute_result",
          "data": {
            "text/plain": [
              "<IPython.lib.display.YouTubeVideo at 0x7f3438e67590>"
            ],
            "text/html": [
              "\n",
              "        <iframe\n",
              "            width=\"400\"\n",
              "            height=\"300\"\n",
              "            src=\"https://www.youtube.com/embed/daefaLgNkw0\"\n",
              "            frameborder=\"0\"\n",
              "            allowfullscreen\n",
              "        ></iframe>\n",
              "        "
            ],
            "image/jpeg": "[encoded data removed]"
          },
          "metadata": {},
          "execution_count": 16
        }
      ]
    },
    {
      "cell_type": "markdown",
      "metadata": {
        "id": "_WrYHVh9Ukid"
      },
      "source": [
        "# End Notebook"
      ]
    }
  ]
}
