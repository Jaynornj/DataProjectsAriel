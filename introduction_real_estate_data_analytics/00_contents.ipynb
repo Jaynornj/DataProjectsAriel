{
  "cells": [
    {
      "cell_type": "markdown",
      "metadata": {
        "id": "view-in-github",
        "colab_type": "text"
      },
      "source": [
        "<a href=\"https://colab.research.google.com/github/analyticsariel/projects/blob/master/00_contents.ipynb\" target=\"_parent\"><img src=\"https://colab.research.google.com/assets/colab-badge.svg\" alt=\"Open In Colab\"/></a>"
      ]
    },
    {
      "cell_type": "markdown",
      "metadata": {
        "id": "GpfYzYALavBF"
      },
      "source": [
        "# Introduction to Real Estate Data Analytics Course"
      ]
    },
    {
      "cell_type": "markdown",
      "metadata": {
        "id": "R7gdcZLZavBI"
      },
      "source": [
        "*Ariel Herrera*\n",
        "\n",
        "![Course Cover](https://github.com/analyticsariel/public-data/blob/main/real_estate_data_analytics_course_covers.png?raw=1)"
      ]
    },
    {
      "cell_type": "markdown",
      "metadata": {
        "id": "Cc8wdKs5avBJ"
      },
      "source": [
        "This is the Jupyter notebook version of the [Real Estate Data Analytics Course](https://analyticsariel.teachable.com/) by [Ariel Herrera](https://www.linkedin.com/in/arielherrera/)."
      ]
    },
    {
      "cell_type": "markdown",
      "metadata": {
        "id": "e601GF2EavBK"
      },
      "source": [
        "## Table of Contents\n",
        "\n",
        "### 1. Set Up\n",
        "- [Hello World](https://colab.research.google.com/drive/1NzGq6ZYeQ9CpopN9cRDxJHVZfa6J1oiU?usp=sharing)\n",
        "\n",
        "### 2. Python for Beginners\n",
        "- [Data Types](https://colab.research.google.com/drive/1yutf8ulVNToeCxI4rj68J6H3k73ZaCJL?usp=sharing)\n",
        "- [List, Dictionaries, and Tuples](https://colab.research.google.com/drive/1aO-jsYBX6jlRQiX5IyfU8Hmym0tf8KZh?usp=sharing)\n",
        "- [Conditionals and Loops](https://colab.research.google.com/drive/1k84OWZET0y7dVul5mCZd8sHR09G9Q3YW?usp=sharing)\n",
        "- [Functions](https://colab.research.google.com/drive/1aAvRiKqTouazqLjd87tIBxovKCV1Piri?usp=sharing)\n",
        "- [List Comprehensions](https://colab.research.google.com/drive/1rGTWH5I34KbmqnDE2sfQyrZjpYEJJu86?usp=sharing)\n",
        "- [Pandas Data Wrangling](https://colab.research.google.com/drive/18j3BHPfHTgaYylgs8gOWviRgvv7aFC4p?usp=sharing)\n",
        "- [Visualizations](https://colab.research.google.com/drive/1lLhXZDN-M3zU0aywUhjStrA_6z3MyuI7?usp=sharing)\n",
        "- [Joining Data](https://colab.research.google.com/drive/1QubOBfqP73UWeSS4PwM2MO6remSnziyb?usp=sharing)\n",
        "\n",
        "### 3. Web Scraping\n",
        "- [Beautiful Soup](https://colab.research.google.com/drive/1EtUWDFNJBFDRFfC4oJxZyZrHkacwXClZ?usp=sharing)\n",
        "- [Milestone #1 Wikipedia Scraper](https://colab.research.google.com/drive/1PmBxLV1HxvzEW6Wz_7vweHIqDUhtlhc6?usp=sharing)\n",
        "\n",
        "### 4. Public Data Sources\n",
        "- [Zillow Housing Data](https://colab.research.google.com/drive/1gJqrE4h1VPcrvTST6zJvIFFnN82kni4z?usp=sharing)\n",
        "- [Realtor Real Estate Data](https://colab.research.google.com/drive/1014F9BXAP23HO3OGYW2wOtbMmw4mh7DR?usp=sharing)\n",
        "- [Redfin Housing Market Data](https://colab.research.google.com/drive/1cRQvFW_eHlYgCel9mOx9CM8La_8PK830?usp=sharing)\n",
        "- [Apartment List Rent Estimates](https://colab.research.google.com/drive/1AVMCCb368j5lzvoHEEzgCWXrDmTDKY5a?usp=sharing)\n",
        "- [U.S. Census Bureau](https://colab.research.google.com/drive/11LX82OmkXIkBde32cX7Vixcur0Uo1pdP?usp=sharing)\n",
        "- [Federal Reserve Economic Data | FRED](https://colab.research.google.com/drive/1wCp6ax0NP-D8Abca8RsECGjZwSmwqhC4?usp=sharing)\n",
        "\n",
        "### 5. APIs\n",
        "- [Economic Data | Bureau of Labor Statistics API.ipynb](https://colab.research.google.com/drive/1nPyRC7b98YLccuifTQkE62YuplWL9vWf?usp=sharing)\n",
        "- [Financal Data | Yahoo Finance API](https://colab.research.google.com/drive/14NwIEe5s_3OtF7ud3v7IJjiOcXBWUEZT?usp=sharing)\n",
        "- [Housing Data | Nasdaq Quandl Zillow](https://colab.research.google.com/drive/1S7UsJlUaaK0Ur5FAWRLEXRm_lQACRiJP?usp=sharing)\n",
        "- Remaining videos within the course\n",
        "\n",
        "### 6. FRED API\n",
        "- [FRED | Metrics](https://colab.research.google.com/drive/1HwpKypN2WYX6hun7N7gbh4Ff5X0sxWfn?usp=sharing)\n",
        "\n",
        "  <i>Total Population, Median Household Income, Median List Price, Count of Crime Offenses, & Unemployment Rate</i>\n",
        "\n",
        "\n",
        "### 7. Census API\n",
        "- [US Census | Metrics](https://colab.research.google.com/drive/1PZi_l4pCD5UbrC_RADXDLHnT1YbcGHhw?usp=sharing)\n",
        "\n",
        "  <i>Total Population, Median Household Income, Median Rent, Demographics, & Poverty</i>\n",
        "\n",
        "### 8. Statistics\n",
        "- [Mean, Median, and Mode](https://colab.research.google.com/drive/1LurKPH9Zz9usOUt8UWIAlQgz8fvGoXiG?usp=sharing)\n",
        "- [Statistics Visualizations](https://colab.research.google.com/drive/1eIPoQ8S1yV0VcpiER0D870BKYAH7PGb9?usp=sharing)\n",
        "- [Handling Missing Data](https://colab.research.google.com/drive/1eh6RMcZZdb_5yePP5CpB8qi3qxbeO-Kl?usp=sharing)\n",
        "\n",
        "### 9. Market Data Analysis\n",
        "- [All Regions](https://colab.research.google.com/drive/1rcBdteQGeoGPNwp9dabH9Uw9jGaGuBy6?usp=sharing)\n",
        "\n",
        "  <i>National, State, Metro, County, Zip code, Neighborhood</i>\n",
        "\n",
        "### 10. Tableau\n",
        "- Remaining videos within the course"
      ]
    },
    {
      "cell_type": "markdown",
      "source": [
        "# End Notebook"
      ],
      "metadata": {
        "id": "Dm295mjAhRiN"
      }
    }
  ],
  "metadata": {
    "anaconda-cloud": {},
    "kernelspec": {
      "display_name": "Python 3",
      "language": "python",
      "name": "python3"
    },
    "language_info": {
      "codemirror_mode": {
        "name": "ipython",
        "version": 3
      },
      "file_extension": ".py",
      "mimetype": "text/x-python",
      "name": "python",
      "nbconvert_exporter": "python",
      "pygments_lexer": "ipython3",
      "version": "3.5.1"
    },
    "colab": {
      "provenance": [],
      "include_colab_link": true
    }
  },
  "nbformat": 4,
  "nbformat_minor": 0
}
