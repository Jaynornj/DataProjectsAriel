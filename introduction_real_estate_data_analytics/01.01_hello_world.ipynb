{
  "nbformat": 4,
  "nbformat_minor": 0,
  "metadata": {
    "colab": {
      "provenance": [],
      "collapsed_sections": [],
      "authorship_tag": "ABX9TyMhwt+YTFUO8AE3eqzdhPdl",
      "include_colab_link": true
    },
    "kernelspec": {
      "name": "python3",
      "display_name": "Python 3"
    },
    "language_info": {
      "name": "python"
    }
  },
  "cells": [
    {
      "cell_type": "markdown",
      "metadata": {
        "id": "view-in-github",
        "colab_type": "text"
      },
      "source": [
        "<a href=\"https://colab.research.google.com/github/analyticsariel/projects/blob/master/01.01_hello_world.ipynb\" target=\"_parent\"><img src=\"https://colab.research.google.com/assets/colab-badge.svg\" alt=\"Open In Colab\"/></a>"
      ]
    },
    {
      "cell_type": "markdown",
      "metadata": {
        "id": "BYRys7lpU-iF"
      },
      "source": [
        "# Hello World\n",
        "\n",
        "## Overview\n",
        "| Detail Tag            | Information                                                                                        |\n",
        "|-----------------------|----------------------------------------------------------------------------------------------------|\n",
        "| Created By | Ariel Herrera arielherrera@analyticsariel.com |\n",
        "\n",
        "## History\n",
        "| Date         | Developed By  | Reason                                                |\n",
        "|--------------|---------------|-------------------------------------------------------|\n",
        "| 1st Sep 2022 | Ariel Herrera | Create notebook. |\n",
        "\n",
        "## Getting Started\n",
        "1. Copy this notebook -> File -> Save a Copy in Drive\n",
        "\n",
        "## Useful Resources\n",
        "- [Course Contents](https://colab.research.google.com/drive/12K0Ow9Y8v3-a1xuWMc52aPFgaLl-h9vx)\n",
        "- [Google Colab Cheat Sheet](https://towardsdatascience.com/cheat-sheet-for-google-colab-63853778c093)\n",
        "- [Python String Formatting](https://www.pythoncheatsheet.org/cheatsheet/string-formatting)"
      ]
    },
    {
      "cell_type": "markdown",
      "source": [
        "# <font color=\"blue\">What is Colab?</font>\n",
        "Colab, or \"Colaboratory\", allows you to write and execute Python in your browser, with \n",
        "- Zero configuration required\n",
        "- Access to GPUs free of charge\n",
        "- Easy sharing\n",
        "\n",
        "Whether you're a **student**, a **data scientist** or an **AI researcher**, Colab can make your work easier. Watch [Introduction to Colab](https://www.youtube.com/watch?v=inN8seMm7UI) to learn more, or just get started below!"
      ],
      "metadata": {
        "id": "VMGrICTcRMTX"
      }
    },
    {
      "cell_type": "markdown",
      "source": [
        "## <font color=\"blue\">Getting started</font>\n",
        "\n",
        "The document you are reading is not a static web page, but an interactive environment called a **Colab notebook** that lets you write and execute code.\n",
        "\n",
        "For example, here is a **code cell** with a short Python script that computes a value, stores it in a variable, and prints the result:"
      ],
      "metadata": {
        "id": "EWTP_rvURixR"
      }
    },
    {
      "cell_type": "code",
      "source": [
        "# enter code here\n"
      ],
      "metadata": {
        "id": "muwRBIPEPpU4"
      },
      "execution_count": null,
      "outputs": []
    },
    {
      "cell_type": "markdown",
      "metadata": {
        "id": "-ZgrtjtLUi6a"
      },
      "source": [
        "To execute the code in the above cell, select it with a click and then either press the play button to the left of the code, or use the keyboard shortcut \"Command/Ctrl+Enter\". To edit the code, just click the cell and start editing.\n",
        "\n",
        "Variables that you define in one cell can later be used in other cells:"
      ]
    },
    {
      "cell_type": "markdown",
      "metadata": {
        "id": "PkdXQZp8UqcC"
      },
      "source": [
        "Colab notebooks allow you to combine **executable code** and **rich text** in a single document, along with **images**, **HTML**, **LaTeX** and more. When you create your own Colab notebooks, they are stored in your Google Drive account. You can easily share your Colab notebooks with co-workers or friends, allowing them to comment on your notebooks or even edit them. To learn more, see [Overview of Colab](/notebooks/basic_features_overview.ipynb). To create a new Colab notebook you can use the File menu above, or use the following link: [create a new Colab notebook](http://colab.research.google.com#create=true).\n",
        "\n",
        "Colab notebooks are Jupyter notebooks that are hosted by Colab. To learn more about the Jupyter project, see [jupyter.org](https://www.jupyter.org)."
      ]
    },
    {
      "cell_type": "markdown",
      "metadata": {
        "id": "_WrYHVh9Ukid"
      },
      "source": [
        "# End Notebook"
      ]
    }
  ]
}
