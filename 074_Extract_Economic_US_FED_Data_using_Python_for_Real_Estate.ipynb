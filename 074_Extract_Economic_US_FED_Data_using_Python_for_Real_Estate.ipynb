{
  "nbformat": 4,
  "nbformat_minor": 0,
  "metadata": {
    "colab": {
      "name": "074 - Extract Economic US FED Data using Python for Real Estate.ipynb",
      "provenance": [],
      "authorship_tag": "ABX9TyMytJNlcfyNgj/MujtXLojE",
      "include_colab_link": true
    },
    "kernelspec": {
      "name": "python3",
      "display_name": "Python 3"
    },
    "language_info": {
      "name": "python"
    }
  },
  "cells": [
    {
      "cell_type": "markdown",
      "metadata": {
        "id": "view-in-github",
        "colab_type": "text"
      },
      "source": [
        "<a href=\"https://colab.research.google.com/github/analyticsariel/projects/blob/master/074_Extract_Economic_US_FED_Data_using_Python_for_Real_Estate.ipynb\" target=\"_parent\"><img src=\"https://colab.research.google.com/assets/colab-badge.svg\" alt=\"Open In Colab\"/></a>"
      ]
    },
    {
      "cell_type": "markdown",
      "metadata": {
        "id": "no07ME9kkDGf"
      },
      "source": [
        "# Extract Economic US Federal Reserve Economic Data\n",
        "\n",
        "## Overview\n",
        "| Detail Tag            | Information                                                                                        |\n",
        "|-----------------------|----------------------------------------------------------------------------------------------------|\n",
        "| Originally Created By | Ariel Herrera arielherrera@analyticsariel.com                                                      |\n",
        "| External References   | Pandas Datareader & Federal Reserve Economic Data (FRED) |\n",
        "| Input Datasets        | FRED API doc key                                                                                    |\n",
        "| Output Datasets       | Series values for time range |\n",
        "| Input Data Source     | String |\n",
        "| Output Data Source    | CSV |\n",
        "\n",
        "## History\n",
        "| Date         | Developed By  | Reason                                                |\n",
        "|--------------|---------------|-------------------------------------------------------|\n",
        "| 26th Sep 2021 | Ariel Herrera | Create notebook. |\n",
        "\n",
        "## Getting Started\n",
        "1. Copy this notebook -> File -> Save a Copy in Drive\n",
        "2. Request [FRED API Key](https://fred.stlouisfed.org/docs/api/api_key.html)\n",
        "\n",
        "## Useful Resources\n",
        "- [Google Collab Cheat Sheet](https://towardsdatascience.com/cheat-sheet-for-google-colab-63853778c093)\n",
        "- [NLP Resource](https://stackabuse.com/python-for-nlp-parts-of-speech-tagging-and-named-entity-recognition/)\n",
        "- [Pandas Datareader & Federal Reserve Economic Data (FRED)](https://medium.com/swlh/pandas-datareader-federal-reserve-economic-data-fred-a360c5795013)\n",
        "- [Predicting The Housing Market Is Easier Than You Think](https://medium.com/swlh/predicting-the-housing-market-is-easier-than-you-think-45239a366dc1)\n",
        "- [Plotly Express](https://plotly.com/python/basic-charts/)"
      ]
    },
    {
      "cell_type": "markdown",
      "metadata": {
        "id": "BF4n10tR5DuA"
      },
      "source": [
        "## <font color=\"blue\">Install Packages</font>"
      ]
    },
    {
      "cell_type": "code",
      "metadata": {
        "id": "FBhPaArK40Ws"
      },
      "source": [
        "!pip install pandas-datareader -q"
      ],
      "execution_count": null,
      "outputs": []
    },
    {
      "cell_type": "markdown",
      "metadata": {
        "id": "6mOKcgI45E9j"
      },
      "source": [
        "## <font color=\"blue\">Imports</font>"
      ]
    },
    {
      "cell_type": "code",
      "metadata": {
        "id": "R-Spvuf15CK6"
      },
      "source": [
        "from google.colab import drive, files # specific to Google Colab\n",
        "import pandas_datareader as pdr # access fred\n",
        "import pandas as pd\n",
        "import requests # data from api\n",
        "import plotly.express as px # visualize\n",
        "from datetime import datetime"
      ],
      "execution_count": null,
      "outputs": []
    },
    {
      "cell_type": "markdown",
      "metadata": {
        "id": "6fiRLgFd5GUa"
      },
      "source": [
        "## <font color=\"blue\">Functions</font>"
      ]
    },
    {
      "cell_type": "code",
      "metadata": {
        "id": "3xGhtkpm5HkY"
      },
      "source": [
        "def get_fred_series_data(api_key,\n",
        "                         series):\n",
        "  # url\n",
        "  url = \"https://api.stlouisfed.org/geofred/series/data?series_id={0}&api_key={1}&file_type=json\".format(series, api_key)\n",
        "  # response\n",
        "  response = requests.request(\"GET\", url)\n",
        "  return response"
      ],
      "execution_count": null,
      "outputs": []
    },
    {
      "cell_type": "code",
      "metadata": {
        "id": "jzCHApyNTR0m"
      },
      "source": [
        "def transform_series_response(response):\n",
        "  latest_date = list(response.json()['meta']['data'].keys())[0]\n",
        "  return pd.DataFrame(response.json()['meta']['data'][latest_date])"
      ],
      "execution_count": null,
      "outputs": []
    },
    {
      "cell_type": "code",
      "metadata": {
        "id": "nuTgNwMkSWoD"
      },
      "source": [
        "def get_fred_data(param_list, start_date, end_date):\n",
        "  df = pdr.DataReader(param_list, 'fred', start_date, end_date)\n",
        "  return df.reset_index()"
      ],
      "execution_count": null,
      "outputs": []
    },
    {
      "cell_type": "markdown",
      "metadata": {
        "id": "Pmgov99_5la3"
      },
      "source": [
        "## <font color=\"blue\">Locals & Constants</font>"
      ]
    },
    {
      "cell_type": "code",
      "metadata": {
        "id": "ph263r1X5kR6",
        "colab": {
          "base_uri": "https://localhost:8080/"
        },
        "outputId": "72e88bf5-5a84-4965-d3d9-5b034d0a1f93"
      },
      "source": [
        "############\n",
        "# OPTIONAL #\n",
        "############\n",
        "\n",
        "# mount drive\n",
        "drive.mount('/content/drive', force_remount=False)\n",
        "\n",
        "# data location\n",
        "file_dir = '/content/drive/My Drive/Colab Data/input/' # optional"
      ],
      "execution_count": null,
      "outputs": [
        {
          "output_type": "stream",
          "name": "stdout",
          "text": [
            "Drive already mounted at /content/drive; to attempt to forcibly remount, call drive.mount(\"/content/drive\", force_remount=True).\n"
          ]
        }
      ]
    },
    {
      "cell_type": "code",
      "metadata": {
        "id": "NB0PyNvWjKt3"
      },
      "source": [
        "# read in api key file\n",
        "df_api_keys = pd.read_csv(file_dir + 'api_keys.csv') # if you have your key stored in a csv file\n",
        "\n",
        "# get keys\n",
        "fred_api_key = df_api_keys.loc[df_api_keys['API'] =='fred']['KEY'].iloc[0] # replace this with your own key"
      ],
      "execution_count": null,
      "outputs": []
    },
    {
      "cell_type": "markdown",
      "metadata": {
        "id": "3LcAHrQl5ISG"
      },
      "source": [
        "## <font color=\"blue\">Data</font>"
      ]
    },
    {
      "cell_type": "code",
      "metadata": {
        "id": "Q_UsDzMLl8_F"
      },
      "source": [
        "series = 'CABPPRIVSA' # https://fred.stlouisfed.org/series/CABPPRIVSA"
      ],
      "execution_count": null,
      "outputs": []
    },
    {
      "cell_type": "code",
      "metadata": {
        "colab": {
          "base_uri": "https://localhost:8080/",
          "height": 297
        },
        "id": "G4kp5TRBmDn0",
        "outputId": "e676e90f-8dfb-4e41-ed88-72edec529a29"
      },
      "source": [
        "# get data for series\n",
        "df = get_fred_data(param_list=['CABPPRIVSA'], \n",
        "                   start_date='2021-01-01', \n",
        "                   end_date='2021-08-31')\n",
        "df"
      ],
      "execution_count": null,
      "outputs": [
        {
          "output_type": "execute_result",
          "data": {
            "text/html": [
              "<div>\n",
              "<style scoped>\n",
              "    .dataframe tbody tr th:only-of-type {\n",
              "        vertical-align: middle;\n",
              "    }\n",
              "\n",
              "    .dataframe tbody tr th {\n",
              "        vertical-align: top;\n",
              "    }\n",
              "\n",
              "    .dataframe thead th {\n",
              "        text-align: right;\n",
              "    }\n",
              "</style>\n",
              "<table border=\"1\" class=\"dataframe\">\n",
              "  <thead>\n",
              "    <tr style=\"text-align: right;\">\n",
              "      <th></th>\n",
              "      <th>DATE</th>\n",
              "      <th>CABPPRIVSA</th>\n",
              "    </tr>\n",
              "  </thead>\n",
              "  <tbody>\n",
              "    <tr>\n",
              "      <th>0</th>\n",
              "      <td>2021-01-01</td>\n",
              "      <td>10376.850339</td>\n",
              "    </tr>\n",
              "    <tr>\n",
              "      <th>1</th>\n",
              "      <td>2021-02-01</td>\n",
              "      <td>9959.114311</td>\n",
              "    </tr>\n",
              "    <tr>\n",
              "      <th>2</th>\n",
              "      <td>2021-03-01</td>\n",
              "      <td>11184.046315</td>\n",
              "    </tr>\n",
              "    <tr>\n",
              "      <th>3</th>\n",
              "      <td>2021-04-01</td>\n",
              "      <td>10439.008579</td>\n",
              "    </tr>\n",
              "    <tr>\n",
              "      <th>4</th>\n",
              "      <td>2021-05-01</td>\n",
              "      <td>9558.726995</td>\n",
              "    </tr>\n",
              "    <tr>\n",
              "      <th>5</th>\n",
              "      <td>2021-06-01</td>\n",
              "      <td>9771.259806</td>\n",
              "    </tr>\n",
              "    <tr>\n",
              "      <th>6</th>\n",
              "      <td>2021-07-01</td>\n",
              "      <td>9769.497969</td>\n",
              "    </tr>\n",
              "    <tr>\n",
              "      <th>7</th>\n",
              "      <td>2021-08-01</td>\n",
              "      <td>10253.374598</td>\n",
              "    </tr>\n",
              "  </tbody>\n",
              "</table>\n",
              "</div>"
            ],
            "text/plain": [
              "        DATE    CABPPRIVSA\n",
              "0 2021-01-01  10376.850339\n",
              "1 2021-02-01   9959.114311\n",
              "2 2021-03-01  11184.046315\n",
              "3 2021-04-01  10439.008579\n",
              "4 2021-05-01   9558.726995\n",
              "5 2021-06-01   9771.259806\n",
              "6 2021-07-01   9769.497969\n",
              "7 2021-08-01  10253.374598"
            ]
          },
          "metadata": {},
          "execution_count": 25
        }
      ]
    },
    {
      "cell_type": "code",
      "metadata": {
        "colab": {
          "base_uri": "https://localhost:8080/",
          "height": 542
        },
        "id": "W5rnCuF6gfPG",
        "outputId": "1ec84f6f-d1bb-40e6-e25b-d071ce31e969"
      },
      "source": [
        "# plot\n",
        "fig = px.line(df, x=\"DATE\", y=\"CABPPRIVSA\", title='New Private Housing Units Authorized by Building Permits')\n",
        "fig.show()"
      ],
      "execution_count": null,
      "outputs": [
        {
          "output_type": "display_data",
          "data": {
            "text/html": [
              "<html>\n",
              "<head><meta charset=\"utf-8\" /></head>\n",
              "<body>\n",
              "    <div>\n",
              "            <script src=\"https://cdnjs.cloudflare.com/ajax/libs/mathjax/2.7.5/MathJax.js?config=TeX-AMS-MML_SVG\"></script><script type=\"text/javascript\">if (window.MathJax) {MathJax.Hub.Config({SVG: {font: \"STIX-Web\"}});}</script>\n",
              "                <script type=\"text/javascript\">window.PlotlyConfig = {MathJaxConfig: 'local'};</script>\n",
              "        <script src=\"https://cdn.plot.ly/plotly-latest.min.js\"></script>    \n",
              "            <div id=\"615a330c-d2ff-40e0-8143-d3fcc0d73c74\" class=\"plotly-graph-div\" style=\"height:525px; width:100%;\"></div>\n",
              "            <script type=\"text/javascript\">\n",
              "                \n",
              "                    window.PLOTLYENV=window.PLOTLYENV || {};\n",
              "                    \n",
              "                if (document.getElementById(\"615a330c-d2ff-40e0-8143-d3fcc0d73c74\")) {\n",
              "                    Plotly.newPlot(\n",
              "                        '615a330c-d2ff-40e0-8143-d3fcc0d73c74',\n",
              "                        [{\"hoverlabel\": {\"namelength\": 0}, \"hovertemplate\": \"DATE=%{x}<br>CABPPRIVSA=%{y}\", \"legendgroup\": \"\", \"line\": {\"color\": \"#636efa\", \"dash\": \"solid\"}, \"mode\": \"lines\", \"name\": \"\", \"showlegend\": false, \"type\": \"scatter\", \"x\": [\"2021-01-01T00:00:00\", \"2021-02-01T00:00:00\", \"2021-03-01T00:00:00\", \"2021-04-01T00:00:00\", \"2021-05-01T00:00:00\", \"2021-06-01T00:00:00\", \"2021-07-01T00:00:00\", \"2021-08-01T00:00:00\"], \"xaxis\": \"x\", \"y\": [10376.8503388378, 9959.11431086045, 11184.0463146625, 10439.0085788784, 9558.726994655799, 9771.25980582252, 9769.49796871936, 10253.3745981305], \"yaxis\": \"y\"}],\n",
              "                        {\"legend\": {\"tracegroupgap\": 0}, \"template\": {\"data\": {\"bar\": [{\"error_x\": {\"color\": \"#2a3f5f\"}, \"error_y\": {\"color\": \"#2a3f5f\"}, \"marker\": {\"line\": {\"color\": \"#E5ECF6\", \"width\": 0.5}}, \"type\": \"bar\"}], \"barpolar\": [{\"marker\": {\"line\": {\"color\": \"#E5ECF6\", \"width\": 0.5}}, \"type\": \"barpolar\"}], \"carpet\": [{\"aaxis\": {\"endlinecolor\": \"#2a3f5f\", \"gridcolor\": \"white\", \"linecolor\": \"white\", \"minorgridcolor\": \"white\", \"startlinecolor\": \"#2a3f5f\"}, \"baxis\": {\"endlinecolor\": \"#2a3f5f\", \"gridcolor\": \"white\", \"linecolor\": \"white\", \"minorgridcolor\": \"white\", \"startlinecolor\": \"#2a3f5f\"}, \"type\": \"carpet\"}], \"choropleth\": [{\"colorbar\": {\"outlinewidth\": 0, \"ticks\": \"\"}, \"type\": \"choropleth\"}], \"contour\": [{\"colorbar\": {\"outlinewidth\": 0, \"ticks\": \"\"}, \"colorscale\": [[0.0, \"#0d0887\"], [0.1111111111111111, \"#46039f\"], [0.2222222222222222, \"#7201a8\"], [0.3333333333333333, \"#9c179e\"], [0.4444444444444444, \"#bd3786\"], [0.5555555555555556, \"#d8576b\"], [0.6666666666666666, \"#ed7953\"], [0.7777777777777778, \"#fb9f3a\"], [0.8888888888888888, \"#fdca26\"], [1.0, \"#f0f921\"]], \"type\": \"contour\"}], \"contourcarpet\": [{\"colorbar\": {\"outlinewidth\": 0, \"ticks\": \"\"}, \"type\": \"contourcarpet\"}], \"heatmap\": [{\"colorbar\": {\"outlinewidth\": 0, \"ticks\": \"\"}, \"colorscale\": [[0.0, \"#0d0887\"], [0.1111111111111111, \"#46039f\"], [0.2222222222222222, \"#7201a8\"], [0.3333333333333333, \"#9c179e\"], [0.4444444444444444, \"#bd3786\"], [0.5555555555555556, \"#d8576b\"], [0.6666666666666666, \"#ed7953\"], [0.7777777777777778, \"#fb9f3a\"], [0.8888888888888888, \"#fdca26\"], [1.0, \"#f0f921\"]], \"type\": \"heatmap\"}], \"heatmapgl\": [{\"colorbar\": {\"outlinewidth\": 0, \"ticks\": \"\"}, \"colorscale\": [[0.0, \"#0d0887\"], [0.1111111111111111, \"#46039f\"], [0.2222222222222222, \"#7201a8\"], [0.3333333333333333, \"#9c179e\"], [0.4444444444444444, \"#bd3786\"], [0.5555555555555556, \"#d8576b\"], [0.6666666666666666, \"#ed7953\"], [0.7777777777777778, \"#fb9f3a\"], [0.8888888888888888, \"#fdca26\"], [1.0, \"#f0f921\"]], \"type\": \"heatmapgl\"}], \"histogram\": [{\"marker\": {\"colorbar\": {\"outlinewidth\": 0, \"ticks\": \"\"}}, \"type\": \"histogram\"}], \"histogram2d\": [{\"colorbar\": {\"outlinewidth\": 0, \"ticks\": \"\"}, \"colorscale\": [[0.0, \"#0d0887\"], [0.1111111111111111, \"#46039f\"], [0.2222222222222222, \"#7201a8\"], [0.3333333333333333, \"#9c179e\"], [0.4444444444444444, \"#bd3786\"], [0.5555555555555556, \"#d8576b\"], [0.6666666666666666, \"#ed7953\"], [0.7777777777777778, \"#fb9f3a\"], [0.8888888888888888, \"#fdca26\"], [1.0, \"#f0f921\"]], \"type\": \"histogram2d\"}], \"histogram2dcontour\": [{\"colorbar\": {\"outlinewidth\": 0, \"ticks\": \"\"}, \"colorscale\": [[0.0, \"#0d0887\"], [0.1111111111111111, \"#46039f\"], [0.2222222222222222, \"#7201a8\"], [0.3333333333333333, \"#9c179e\"], [0.4444444444444444, \"#bd3786\"], [0.5555555555555556, \"#d8576b\"], [0.6666666666666666, \"#ed7953\"], [0.7777777777777778, \"#fb9f3a\"], [0.8888888888888888, \"#fdca26\"], [1.0, \"#f0f921\"]], \"type\": \"histogram2dcontour\"}], \"mesh3d\": [{\"colorbar\": {\"outlinewidth\": 0, \"ticks\": \"\"}, \"type\": \"mesh3d\"}], \"parcoords\": [{\"line\": {\"colorbar\": {\"outlinewidth\": 0, \"ticks\": \"\"}}, \"type\": \"parcoords\"}], \"pie\": [{\"automargin\": true, \"type\": \"pie\"}], \"scatter\": [{\"marker\": {\"colorbar\": {\"outlinewidth\": 0, \"ticks\": \"\"}}, \"type\": \"scatter\"}], \"scatter3d\": [{\"line\": {\"colorbar\": {\"outlinewidth\": 0, \"ticks\": \"\"}}, \"marker\": {\"colorbar\": {\"outlinewidth\": 0, \"ticks\": \"\"}}, \"type\": \"scatter3d\"}], \"scattercarpet\": [{\"marker\": {\"colorbar\": {\"outlinewidth\": 0, \"ticks\": \"\"}}, \"type\": \"scattercarpet\"}], \"scattergeo\": [{\"marker\": {\"colorbar\": {\"outlinewidth\": 0, \"ticks\": \"\"}}, \"type\": \"scattergeo\"}], \"scattergl\": [{\"marker\": {\"colorbar\": {\"outlinewidth\": 0, \"ticks\": \"\"}}, \"type\": \"scattergl\"}], \"scattermapbox\": [{\"marker\": {\"colorbar\": {\"outlinewidth\": 0, \"ticks\": \"\"}}, \"type\": \"scattermapbox\"}], \"scatterpolar\": [{\"marker\": {\"colorbar\": {\"outlinewidth\": 0, \"ticks\": \"\"}}, \"type\": \"scatterpolar\"}], \"scatterpolargl\": [{\"marker\": {\"colorbar\": {\"outlinewidth\": 0, \"ticks\": \"\"}}, \"type\": \"scatterpolargl\"}], \"scatterternary\": [{\"marker\": {\"colorbar\": {\"outlinewidth\": 0, \"ticks\": \"\"}}, \"type\": \"scatterternary\"}], \"surface\": [{\"colorbar\": {\"outlinewidth\": 0, \"ticks\": \"\"}, \"colorscale\": [[0.0, \"#0d0887\"], [0.1111111111111111, \"#46039f\"], [0.2222222222222222, \"#7201a8\"], [0.3333333333333333, \"#9c179e\"], [0.4444444444444444, \"#bd3786\"], [0.5555555555555556, \"#d8576b\"], [0.6666666666666666, \"#ed7953\"], [0.7777777777777778, \"#fb9f3a\"], [0.8888888888888888, \"#fdca26\"], [1.0, \"#f0f921\"]], \"type\": \"surface\"}], \"table\": [{\"cells\": {\"fill\": {\"color\": \"#EBF0F8\"}, \"line\": {\"color\": \"white\"}}, \"header\": {\"fill\": {\"color\": \"#C8D4E3\"}, \"line\": {\"color\": \"white\"}}, \"type\": \"table\"}]}, \"layout\": {\"annotationdefaults\": {\"arrowcolor\": \"#2a3f5f\", \"arrowhead\": 0, \"arrowwidth\": 1}, \"coloraxis\": {\"colorbar\": {\"outlinewidth\": 0, \"ticks\": \"\"}}, \"colorscale\": {\"diverging\": [[0, \"#8e0152\"], [0.1, \"#c51b7d\"], [0.2, \"#de77ae\"], [0.3, \"#f1b6da\"], [0.4, \"#fde0ef\"], [0.5, \"#f7f7f7\"], [0.6, \"#e6f5d0\"], [0.7, \"#b8e186\"], [0.8, \"#7fbc41\"], [0.9, \"#4d9221\"], [1, \"#276419\"]], \"sequential\": [[0.0, \"#0d0887\"], [0.1111111111111111, \"#46039f\"], [0.2222222222222222, \"#7201a8\"], [0.3333333333333333, \"#9c179e\"], [0.4444444444444444, \"#bd3786\"], [0.5555555555555556, \"#d8576b\"], [0.6666666666666666, \"#ed7953\"], [0.7777777777777778, \"#fb9f3a\"], [0.8888888888888888, \"#fdca26\"], [1.0, \"#f0f921\"]], \"sequentialminus\": [[0.0, \"#0d0887\"], [0.1111111111111111, \"#46039f\"], [0.2222222222222222, \"#7201a8\"], [0.3333333333333333, \"#9c179e\"], [0.4444444444444444, \"#bd3786\"], [0.5555555555555556, \"#d8576b\"], [0.6666666666666666, \"#ed7953\"], [0.7777777777777778, \"#fb9f3a\"], [0.8888888888888888, \"#fdca26\"], [1.0, \"#f0f921\"]]}, \"colorway\": [\"#636efa\", \"#EF553B\", \"#00cc96\", \"#ab63fa\", \"#FFA15A\", \"#19d3f3\", \"#FF6692\", \"#B6E880\", \"#FF97FF\", \"#FECB52\"], \"font\": {\"color\": \"#2a3f5f\"}, \"geo\": {\"bgcolor\": \"white\", \"lakecolor\": \"white\", \"landcolor\": \"#E5ECF6\", \"showlakes\": true, \"showland\": true, \"subunitcolor\": \"white\"}, \"hoverlabel\": {\"align\": \"left\"}, \"hovermode\": \"closest\", \"mapbox\": {\"style\": \"light\"}, \"paper_bgcolor\": \"white\", \"plot_bgcolor\": \"#E5ECF6\", \"polar\": {\"angularaxis\": {\"gridcolor\": \"white\", \"linecolor\": \"white\", \"ticks\": \"\"}, \"bgcolor\": \"#E5ECF6\", \"radialaxis\": {\"gridcolor\": \"white\", \"linecolor\": \"white\", \"ticks\": \"\"}}, \"scene\": {\"xaxis\": {\"backgroundcolor\": \"#E5ECF6\", \"gridcolor\": \"white\", \"gridwidth\": 2, \"linecolor\": \"white\", \"showbackground\": true, \"ticks\": \"\", \"zerolinecolor\": \"white\"}, \"yaxis\": {\"backgroundcolor\": \"#E5ECF6\", \"gridcolor\": \"white\", \"gridwidth\": 2, \"linecolor\": \"white\", \"showbackground\": true, \"ticks\": \"\", \"zerolinecolor\": \"white\"}, \"zaxis\": {\"backgroundcolor\": \"#E5ECF6\", \"gridcolor\": \"white\", \"gridwidth\": 2, \"linecolor\": \"white\", \"showbackground\": true, \"ticks\": \"\", \"zerolinecolor\": \"white\"}}, \"shapedefaults\": {\"line\": {\"color\": \"#2a3f5f\"}}, \"ternary\": {\"aaxis\": {\"gridcolor\": \"white\", \"linecolor\": \"white\", \"ticks\": \"\"}, \"baxis\": {\"gridcolor\": \"white\", \"linecolor\": \"white\", \"ticks\": \"\"}, \"bgcolor\": \"#E5ECF6\", \"caxis\": {\"gridcolor\": \"white\", \"linecolor\": \"white\", \"ticks\": \"\"}}, \"title\": {\"x\": 0.05}, \"xaxis\": {\"automargin\": true, \"gridcolor\": \"white\", \"linecolor\": \"white\", \"ticks\": \"\", \"title\": {\"standoff\": 15}, \"zerolinecolor\": \"white\", \"zerolinewidth\": 2}, \"yaxis\": {\"automargin\": true, \"gridcolor\": \"white\", \"linecolor\": \"white\", \"ticks\": \"\", \"title\": {\"standoff\": 15}, \"zerolinecolor\": \"white\", \"zerolinewidth\": 2}}}, \"title\": {\"text\": \"New Private Housing Units Authorized by Building Permits\"}, \"xaxis\": {\"anchor\": \"y\", \"domain\": [0.0, 1.0], \"title\": {\"text\": \"DATE\"}}, \"yaxis\": {\"anchor\": \"x\", \"domain\": [0.0, 1.0], \"title\": {\"text\": \"CABPPRIVSA\"}}},\n",
              "                        {\"responsive\": true}\n",
              "                    ).then(function(){\n",
              "                            \n",
              "var gd = document.getElementById('615a330c-d2ff-40e0-8143-d3fcc0d73c74');\n",
              "var x = new MutationObserver(function (mutations, observer) {{\n",
              "        var display = window.getComputedStyle(gd).display;\n",
              "        if (!display || display === 'none') {{\n",
              "            console.log([gd, 'removed!']);\n",
              "            Plotly.purge(gd);\n",
              "            observer.disconnect();\n",
              "        }}\n",
              "}});\n",
              "\n",
              "// Listen for the removal of the full notebook cells\n",
              "var notebookContainer = gd.closest('#notebook-container');\n",
              "if (notebookContainer) {{\n",
              "    x.observe(notebookContainer, {childList: true});\n",
              "}}\n",
              "\n",
              "// Listen for the clearing of the current output cell\n",
              "var outputEl = gd.closest('.output');\n",
              "if (outputEl) {{\n",
              "    x.observe(outputEl, {childList: true});\n",
              "}}\n",
              "\n",
              "                        })\n",
              "                };\n",
              "                \n",
              "            </script>\n",
              "        </div>\n",
              "</body>\n",
              "</html>"
            ]
          },
          "metadata": {}
        }
      ]
    },
    {
      "cell_type": "code",
      "metadata": {
        "id": "TmM2Ct4H5JQI",
        "colab": {
          "base_uri": "https://localhost:8080/",
          "height": 204
        },
        "outputId": "eb8416df-2dd3-4684-f5d0-3cd6df572c2d"
      },
      "source": [
        "# get all series ids per series\n",
        "response = get_fred_series_data(fred_api_key, series)\n",
        "# transform response into a dataframe\n",
        "df_all_series_ids = transform_series_response(response)\n",
        "df_all_series_ids.head()"
      ],
      "execution_count": null,
      "outputs": [
        {
          "output_type": "execute_result",
          "data": {
            "text/html": [
              "<div>\n",
              "<style scoped>\n",
              "    .dataframe tbody tr th:only-of-type {\n",
              "        vertical-align: middle;\n",
              "    }\n",
              "\n",
              "    .dataframe tbody tr th {\n",
              "        vertical-align: top;\n",
              "    }\n",
              "\n",
              "    .dataframe thead th {\n",
              "        text-align: right;\n",
              "    }\n",
              "</style>\n",
              "<table border=\"1\" class=\"dataframe\">\n",
              "  <thead>\n",
              "    <tr style=\"text-align: right;\">\n",
              "      <th></th>\n",
              "      <th>region</th>\n",
              "      <th>code</th>\n",
              "      <th>value</th>\n",
              "      <th>series_id</th>\n",
              "    </tr>\n",
              "  </thead>\n",
              "  <tbody>\n",
              "    <tr>\n",
              "      <th>0</th>\n",
              "      <td>Alabama</td>\n",
              "      <td>01</td>\n",
              "      <td>1470.6142514735</td>\n",
              "      <td>ALBPPRIVSA</td>\n",
              "    </tr>\n",
              "    <tr>\n",
              "      <th>1</th>\n",
              "      <td>Alaska</td>\n",
              "      <td>02</td>\n",
              "      <td>121.006387083279</td>\n",
              "      <td>AKBPPRIVSA</td>\n",
              "    </tr>\n",
              "    <tr>\n",
              "      <th>2</th>\n",
              "      <td>Arizona</td>\n",
              "      <td>04</td>\n",
              "      <td>5075.43496472669</td>\n",
              "      <td>AZBPPRIVSA</td>\n",
              "    </tr>\n",
              "    <tr>\n",
              "      <th>3</th>\n",
              "      <td>Arkansas</td>\n",
              "      <td>05</td>\n",
              "      <td>1050.9638758231802</td>\n",
              "      <td>ARBPPRIVSA</td>\n",
              "    </tr>\n",
              "    <tr>\n",
              "      <th>4</th>\n",
              "      <td>California</td>\n",
              "      <td>06</td>\n",
              "      <td>10253.3745981305</td>\n",
              "      <td>CABPPRIVSA</td>\n",
              "    </tr>\n",
              "  </tbody>\n",
              "</table>\n",
              "</div>"
            ],
            "text/plain": [
              "       region code               value   series_id\n",
              "0     Alabama   01     1470.6142514735  ALBPPRIVSA\n",
              "1      Alaska   02    121.006387083279  AKBPPRIVSA\n",
              "2     Arizona   04    5075.43496472669  AZBPPRIVSA\n",
              "3    Arkansas   05  1050.9638758231802  ARBPPRIVSA\n",
              "4  California   06    10253.3745981305  CABPPRIVSA"
            ]
          },
          "metadata": {},
          "execution_count": 27
        }
      ]
    },
    {
      "cell_type": "code",
      "metadata": {
        "colab": {
          "base_uri": "https://localhost:8080/"
        },
        "id": "dYTHS8XQoLF-",
        "outputId": "ebe8c24a-6315-4095-9bb3-939fb1739516"
      },
      "source": [
        "# get all series to a list\n",
        "series_list = df_all_series_ids['series_id'].tolist()\n",
        "print('Length of series list:', len(series_list) + 1)\n",
        "series_list[:5] # show first five in list"
      ],
      "execution_count": null,
      "outputs": [
        {
          "output_type": "stream",
          "name": "stdout",
          "text": [
            "Length of series list: 52\n"
          ]
        },
        {
          "output_type": "execute_result",
          "data": {
            "text/plain": [
              "['ALBPPRIVSA', 'AKBPPRIVSA', 'AZBPPRIVSA', 'ARBPPRIVSA', 'CABPPRIVSA']"
            ]
          },
          "metadata": {},
          "execution_count": 28
        }
      ]
    },
    {
      "cell_type": "code",
      "metadata": {
        "colab": {
          "base_uri": "https://localhost:8080/",
          "height": 309
        },
        "id": "HqO18KJmSuVI",
        "outputId": "101ca3fb-7411-47c7-f534-a7c7d404b6c7"
      },
      "source": [
        "# set range for time\n",
        "start_date = '2021-01-01'\n",
        "end_date = datetime.today().strftime('%Y-%m-%d') # today\n",
        "\n",
        "# get series data\n",
        "df_permits_all_series = get_fred_data(param_list=series_list, # all series to get data for\n",
        "                                      start_date=start_date, # start date\n",
        "                                      end_date=end_date) # get latest date\n",
        "df_permits_all_series.head()"
      ],
      "execution_count": null,
      "outputs": [
        {
          "output_type": "execute_result",
          "data": {
            "text/html": [
              "<div>\n",
              "<style scoped>\n",
              "    .dataframe tbody tr th:only-of-type {\n",
              "        vertical-align: middle;\n",
              "    }\n",
              "\n",
              "    .dataframe tbody tr th {\n",
              "        vertical-align: top;\n",
              "    }\n",
              "\n",
              "    .dataframe thead th {\n",
              "        text-align: right;\n",
              "    }\n",
              "</style>\n",
              "<table border=\"1\" class=\"dataframe\">\n",
              "  <thead>\n",
              "    <tr style=\"text-align: right;\">\n",
              "      <th></th>\n",
              "      <th>DATE</th>\n",
              "      <th>ALBPPRIVSA</th>\n",
              "      <th>AKBPPRIVSA</th>\n",
              "      <th>AZBPPRIVSA</th>\n",
              "      <th>ARBPPRIVSA</th>\n",
              "      <th>CABPPRIVSA</th>\n",
              "      <th>COBPPRIVSA</th>\n",
              "      <th>CTBPPRIVSA</th>\n",
              "      <th>DEBPPRIVSA</th>\n",
              "      <th>DCBPPRIVSA</th>\n",
              "      <th>FLBPPRIVSA</th>\n",
              "      <th>GABPPRIVSA</th>\n",
              "      <th>HIBPPRIVSA</th>\n",
              "      <th>IDBPPRIVSA</th>\n",
              "      <th>ILBPPRIVSA</th>\n",
              "      <th>INBPPRIVSA</th>\n",
              "      <th>IABPPRIVSA</th>\n",
              "      <th>KSBPPRIVSA</th>\n",
              "      <th>KYBPPRIVSA</th>\n",
              "      <th>LABPPRIVSA</th>\n",
              "      <th>MEBPPRIVSA</th>\n",
              "      <th>MDBPPRIVSA</th>\n",
              "      <th>MABPPRIVSA</th>\n",
              "      <th>MIBPPRIVSA</th>\n",
              "      <th>MNBPPRIVSA</th>\n",
              "      <th>MSBPPRIVSA</th>\n",
              "      <th>MOBPPRIVSA</th>\n",
              "      <th>MTBPPRIVSA</th>\n",
              "      <th>NEBPPRIVSA</th>\n",
              "      <th>NVBPPRIVSA</th>\n",
              "      <th>NHBPPRIVSA</th>\n",
              "      <th>NJBPPRIVSA</th>\n",
              "      <th>NMBPPRIVSA</th>\n",
              "      <th>NYBPPRIVSA</th>\n",
              "      <th>NCBPPRIVSA</th>\n",
              "      <th>NDBPPRIVSA</th>\n",
              "      <th>OHBPPRIVSA</th>\n",
              "      <th>OKBPPRIVSA</th>\n",
              "      <th>ORBPPRIVSA</th>\n",
              "      <th>PABPPRIVSA</th>\n",
              "      <th>RIBPPRIVSA</th>\n",
              "      <th>SCBPPRIVSA</th>\n",
              "      <th>SDBPPRIVSA</th>\n",
              "      <th>TNBPPRIVSA</th>\n",
              "      <th>TXBPPRIVSA</th>\n",
              "      <th>UTBPPRIVSA</th>\n",
              "      <th>VTBPPRIVSA</th>\n",
              "      <th>VABPPRIVSA</th>\n",
              "      <th>WABPPRIVSA</th>\n",
              "      <th>WVBPPRIVSA</th>\n",
              "      <th>WIBPPRIVSA</th>\n",
              "      <th>WYBPPRIVSA</th>\n",
              "    </tr>\n",
              "  </thead>\n",
              "  <tbody>\n",
              "    <tr>\n",
              "      <th>0</th>\n",
              "      <td>2021-01-01</td>\n",
              "      <td>1930.487130</td>\n",
              "      <td>151.212982</td>\n",
              "      <td>5523.438456</td>\n",
              "      <td>1298.727206</td>\n",
              "      <td>10376.850339</td>\n",
              "      <td>5176.234059</td>\n",
              "      <td>364.151416</td>\n",
              "      <td>740.545438</td>\n",
              "      <td>313.0</td>\n",
              "      <td>15404.651491</td>\n",
              "      <td>5360.090729</td>\n",
              "      <td>417.336056</td>\n",
              "      <td>1771.165513</td>\n",
              "      <td>1566.463977</td>\n",
              "      <td>2391.529973</td>\n",
              "      <td>1012.500725</td>\n",
              "      <td>702.425653</td>\n",
              "      <td>1297.287699</td>\n",
              "      <td>1650.075320</td>\n",
              "      <td>701.142571</td>\n",
              "      <td>1392.077197</td>\n",
              "      <td>1446.425227</td>\n",
              "      <td>2292.480497</td>\n",
              "      <td>3073.287189</td>\n",
              "      <td>719.984718</td>\n",
              "      <td>1437.751110</td>\n",
              "      <td>453.019234</td>\n",
              "      <td>844.402167</td>\n",
              "      <td>2177.346153</td>\n",
              "      <td>299.085118</td>\n",
              "      <td>3630.118797</td>\n",
              "      <td>482.560345</td>\n",
              "      <td>3365.022559</td>\n",
              "      <td>6718.793326</td>\n",
              "      <td>1059.093687</td>\n",
              "      <td>2361.013271</td>\n",
              "      <td>1362.962115</td>\n",
              "      <td>1387.586390</td>\n",
              "      <td>4837.553498</td>\n",
              "      <td>129.449618</td>\n",
              "      <td>3823.782966</td>\n",
              "      <td>1014.217488</td>\n",
              "      <td>4376.763250</td>\n",
              "      <td>22272.736330</td>\n",
              "      <td>3370.820180</td>\n",
              "      <td>171.701563</td>\n",
              "      <td>3334.288455</td>\n",
              "      <td>4723.921046</td>\n",
              "      <td>249.324349</td>\n",
              "      <td>1935.813172</td>\n",
              "      <td>268.758841</td>\n",
              "    </tr>\n",
              "    <tr>\n",
              "      <th>1</th>\n",
              "      <td>2021-02-01</td>\n",
              "      <td>1961.667867</td>\n",
              "      <td>156.414969</td>\n",
              "      <td>5740.339595</td>\n",
              "      <td>1152.765078</td>\n",
              "      <td>9959.114311</td>\n",
              "      <td>4354.159394</td>\n",
              "      <td>358.973941</td>\n",
              "      <td>821.905450</td>\n",
              "      <td>749.0</td>\n",
              "      <td>13974.413106</td>\n",
              "      <td>4865.698811</td>\n",
              "      <td>336.669210</td>\n",
              "      <td>1655.128829</td>\n",
              "      <td>1527.628471</td>\n",
              "      <td>2276.305461</td>\n",
              "      <td>1269.031447</td>\n",
              "      <td>1054.938205</td>\n",
              "      <td>1908.718494</td>\n",
              "      <td>1547.610441</td>\n",
              "      <td>428.524195</td>\n",
              "      <td>2162.780469</td>\n",
              "      <td>1497.243799</td>\n",
              "      <td>2013.332430</td>\n",
              "      <td>3005.782959</td>\n",
              "      <td>682.107553</td>\n",
              "      <td>1565.890252</td>\n",
              "      <td>389.792469</td>\n",
              "      <td>766.771521</td>\n",
              "      <td>2054.909594</td>\n",
              "      <td>377.963265</td>\n",
              "      <td>2841.393106</td>\n",
              "      <td>730.304351</td>\n",
              "      <td>3994.034230</td>\n",
              "      <td>7776.874938</td>\n",
              "      <td>331.235673</td>\n",
              "      <td>2753.065006</td>\n",
              "      <td>1199.221478</td>\n",
              "      <td>1691.800362</td>\n",
              "      <td>4115.539156</td>\n",
              "      <td>123.752736</td>\n",
              "      <td>3880.279558</td>\n",
              "      <td>506.097130</td>\n",
              "      <td>4260.715850</td>\n",
              "      <td>20100.106638</td>\n",
              "      <td>3487.270580</td>\n",
              "      <td>145.118944</td>\n",
              "      <td>2979.740817</td>\n",
              "      <td>5237.361771</td>\n",
              "      <td>766.307681</td>\n",
              "      <td>2089.834945</td>\n",
              "      <td>201.166805</td>\n",
              "    </tr>\n",
              "    <tr>\n",
              "      <th>2</th>\n",
              "      <td>2021-03-01</td>\n",
              "      <td>1899.408140</td>\n",
              "      <td>163.622417</td>\n",
              "      <td>5187.549163</td>\n",
              "      <td>1700.916753</td>\n",
              "      <td>11184.046315</td>\n",
              "      <td>4774.447922</td>\n",
              "      <td>453.014618</td>\n",
              "      <td>832.931255</td>\n",
              "      <td>589.0</td>\n",
              "      <td>17121.182204</td>\n",
              "      <td>5628.923434</td>\n",
              "      <td>255.717902</td>\n",
              "      <td>1907.593948</td>\n",
              "      <td>1462.899616</td>\n",
              "      <td>2474.652333</td>\n",
              "      <td>1793.528104</td>\n",
              "      <td>808.358902</td>\n",
              "      <td>1591.731274</td>\n",
              "      <td>1701.628629</td>\n",
              "      <td>552.021397</td>\n",
              "      <td>1440.579308</td>\n",
              "      <td>1547.740319</td>\n",
              "      <td>2279.381253</td>\n",
              "      <td>3286.896695</td>\n",
              "      <td>799.166467</td>\n",
              "      <td>1836.846810</td>\n",
              "      <td>596.919736</td>\n",
              "      <td>924.030058</td>\n",
              "      <td>2105.280929</td>\n",
              "      <td>447.314011</td>\n",
              "      <td>2996.023758</td>\n",
              "      <td>619.667587</td>\n",
              "      <td>3499.845078</td>\n",
              "      <td>7992.938818</td>\n",
              "      <td>471.542307</td>\n",
              "      <td>2701.523765</td>\n",
              "      <td>1348.220488</td>\n",
              "      <td>1999.105360</td>\n",
              "      <td>4243.788153</td>\n",
              "      <td>135.724917</td>\n",
              "      <td>3981.766942</td>\n",
              "      <td>713.021161</td>\n",
              "      <td>5489.594440</td>\n",
              "      <td>21983.511451</td>\n",
              "      <td>3473.520269</td>\n",
              "      <td>161.404737</td>\n",
              "      <td>3930.880959</td>\n",
              "      <td>4505.103980</td>\n",
              "      <td>395.064663</td>\n",
              "      <td>2175.128523</td>\n",
              "      <td>203.518824</td>\n",
              "    </tr>\n",
              "    <tr>\n",
              "      <th>3</th>\n",
              "      <td>2021-04-01</td>\n",
              "      <td>1556.579349</td>\n",
              "      <td>155.369754</td>\n",
              "      <td>5539.620736</td>\n",
              "      <td>1195.738861</td>\n",
              "      <td>10439.008579</td>\n",
              "      <td>5421.923697</td>\n",
              "      <td>695.230847</td>\n",
              "      <td>866.849534</td>\n",
              "      <td>159.0</td>\n",
              "      <td>18086.768996</td>\n",
              "      <td>5777.718733</td>\n",
              "      <td>349.751741</td>\n",
              "      <td>1756.662969</td>\n",
              "      <td>1759.312351</td>\n",
              "      <td>2264.448165</td>\n",
              "      <td>1747.027257</td>\n",
              "      <td>767.689833</td>\n",
              "      <td>1252.454744</td>\n",
              "      <td>2282.938009</td>\n",
              "      <td>600.599799</td>\n",
              "      <td>1426.467208</td>\n",
              "      <td>2259.506138</td>\n",
              "      <td>1957.065191</td>\n",
              "      <td>3018.194645</td>\n",
              "      <td>730.087240</td>\n",
              "      <td>2129.292628</td>\n",
              "      <td>410.334951</td>\n",
              "      <td>817.239810</td>\n",
              "      <td>2173.417585</td>\n",
              "      <td>428.071545</td>\n",
              "      <td>3936.759781</td>\n",
              "      <td>676.919842</td>\n",
              "      <td>3252.903672</td>\n",
              "      <td>7937.820273</td>\n",
              "      <td>261.368025</td>\n",
              "      <td>2727.251225</td>\n",
              "      <td>1360.454976</td>\n",
              "      <td>1936.381526</td>\n",
              "      <td>2531.870022</td>\n",
              "      <td>157.882637</td>\n",
              "      <td>4254.581294</td>\n",
              "      <td>689.578202</td>\n",
              "      <td>5168.636951</td>\n",
              "      <td>23424.652871</td>\n",
              "      <td>3917.204120</td>\n",
              "      <td>229.023584</td>\n",
              "      <td>3648.099205</td>\n",
              "      <td>4090.327437</td>\n",
              "      <td>251.929592</td>\n",
              "      <td>2159.936161</td>\n",
              "      <td>198.619263</td>\n",
              "    </tr>\n",
              "    <tr>\n",
              "      <th>4</th>\n",
              "      <td>2021-05-01</td>\n",
              "      <td>1724.422550</td>\n",
              "      <td>121.990874</td>\n",
              "      <td>5167.916215</td>\n",
              "      <td>933.004898</td>\n",
              "      <td>9558.726995</td>\n",
              "      <td>4784.280411</td>\n",
              "      <td>313.554358</td>\n",
              "      <td>836.529835</td>\n",
              "      <td>403.0</td>\n",
              "      <td>18354.571319</td>\n",
              "      <td>5304.495719</td>\n",
              "      <td>226.827241</td>\n",
              "      <td>1383.213620</td>\n",
              "      <td>1478.403216</td>\n",
              "      <td>2042.013866</td>\n",
              "      <td>854.600098</td>\n",
              "      <td>670.587670</td>\n",
              "      <td>1183.804332</td>\n",
              "      <td>1607.349798</td>\n",
              "      <td>617.174179</td>\n",
              "      <td>1227.423923</td>\n",
              "      <td>1619.354796</td>\n",
              "      <td>1755.958116</td>\n",
              "      <td>3195.812825</td>\n",
              "      <td>794.539328</td>\n",
              "      <td>1456.711092</td>\n",
              "      <td>331.028171</td>\n",
              "      <td>850.375877</td>\n",
              "      <td>1592.405592</td>\n",
              "      <td>508.166471</td>\n",
              "      <td>3073.607279</td>\n",
              "      <td>562.315028</td>\n",
              "      <td>4100.179333</td>\n",
              "      <td>6832.210960</td>\n",
              "      <td>309.712794</td>\n",
              "      <td>2756.539972</td>\n",
              "      <td>1135.908057</td>\n",
              "      <td>1855.161473</td>\n",
              "      <td>2507.502395</td>\n",
              "      <td>113.774341</td>\n",
              "      <td>3878.010274</td>\n",
              "      <td>574.879825</td>\n",
              "      <td>5124.187872</td>\n",
              "      <td>21366.539515</td>\n",
              "      <td>3328.067378</td>\n",
              "      <td>169.551804</td>\n",
              "      <td>3001.511674</td>\n",
              "      <td>4102.951921</td>\n",
              "      <td>289.027873</td>\n",
              "      <td>1949.687700</td>\n",
              "      <td>149.434599</td>\n",
              "    </tr>\n",
              "  </tbody>\n",
              "</table>\n",
              "</div>"
            ],
            "text/plain": [
              "        DATE   ALBPPRIVSA  AKBPPRIVSA  ...  WVBPPRIVSA   WIBPPRIVSA  WYBPPRIVSA\n",
              "0 2021-01-01  1930.487130  151.212982  ...  249.324349  1935.813172  268.758841\n",
              "1 2021-02-01  1961.667867  156.414969  ...  766.307681  2089.834945  201.166805\n",
              "2 2021-03-01  1899.408140  163.622417  ...  395.064663  2175.128523  203.518824\n",
              "3 2021-04-01  1556.579349  155.369754  ...  251.929592  2159.936161  198.619263\n",
              "4 2021-05-01  1724.422550  121.990874  ...  289.027873  1949.687700  149.434599\n",
              "\n",
              "[5 rows x 52 columns]"
            ]
          },
          "metadata": {},
          "execution_count": 29
        }
      ]
    },
    {
      "cell_type": "code",
      "metadata": {
        "colab": {
          "base_uri": "https://localhost:8080/",
          "height": 204
        },
        "id": "jvEV-oh3o1N8",
        "outputId": "9c6487a7-b6a4-4504-d814-001e8608671e"
      },
      "source": [
        "# transform columns to single column\n",
        "df_melt = pd.melt(df_permits_all_series, id_vars=['DATE'], value_vars=series_list, var_name='STATE', value_name='PERMITS')\n",
        "df_melt.head()"
      ],
      "execution_count": null,
      "outputs": [
        {
          "output_type": "execute_result",
          "data": {
            "text/html": [
              "<div>\n",
              "<style scoped>\n",
              "    .dataframe tbody tr th:only-of-type {\n",
              "        vertical-align: middle;\n",
              "    }\n",
              "\n",
              "    .dataframe tbody tr th {\n",
              "        vertical-align: top;\n",
              "    }\n",
              "\n",
              "    .dataframe thead th {\n",
              "        text-align: right;\n",
              "    }\n",
              "</style>\n",
              "<table border=\"1\" class=\"dataframe\">\n",
              "  <thead>\n",
              "    <tr style=\"text-align: right;\">\n",
              "      <th></th>\n",
              "      <th>DATE</th>\n",
              "      <th>STATE</th>\n",
              "      <th>PERMITS</th>\n",
              "    </tr>\n",
              "  </thead>\n",
              "  <tbody>\n",
              "    <tr>\n",
              "      <th>0</th>\n",
              "      <td>2021-01-01</td>\n",
              "      <td>ALBPPRIVSA</td>\n",
              "      <td>1930.487130</td>\n",
              "    </tr>\n",
              "    <tr>\n",
              "      <th>1</th>\n",
              "      <td>2021-02-01</td>\n",
              "      <td>ALBPPRIVSA</td>\n",
              "      <td>1961.667867</td>\n",
              "    </tr>\n",
              "    <tr>\n",
              "      <th>2</th>\n",
              "      <td>2021-03-01</td>\n",
              "      <td>ALBPPRIVSA</td>\n",
              "      <td>1899.408140</td>\n",
              "    </tr>\n",
              "    <tr>\n",
              "      <th>3</th>\n",
              "      <td>2021-04-01</td>\n",
              "      <td>ALBPPRIVSA</td>\n",
              "      <td>1556.579349</td>\n",
              "    </tr>\n",
              "    <tr>\n",
              "      <th>4</th>\n",
              "      <td>2021-05-01</td>\n",
              "      <td>ALBPPRIVSA</td>\n",
              "      <td>1724.422550</td>\n",
              "    </tr>\n",
              "  </tbody>\n",
              "</table>\n",
              "</div>"
            ],
            "text/plain": [
              "        DATE       STATE      PERMITS\n",
              "0 2021-01-01  ALBPPRIVSA  1930.487130\n",
              "1 2021-02-01  ALBPPRIVSA  1961.667867\n",
              "2 2021-03-01  ALBPPRIVSA  1899.408140\n",
              "3 2021-04-01  ALBPPRIVSA  1556.579349\n",
              "4 2021-05-01  ALBPPRIVSA  1724.422550"
            ]
          },
          "metadata": {},
          "execution_count": 30
        }
      ]
    },
    {
      "cell_type": "code",
      "metadata": {
        "colab": {
          "base_uri": "https://localhost:8080/",
          "height": 204
        },
        "id": "mw3QatxkpMLv",
        "outputId": "f64cd53c-5bdb-4e04-f01a-0c0e5773732a"
      },
      "source": [
        "# modify state abbreviation\n",
        "df_plot = df_melt.copy() # copy df\n",
        "df_plot['STATE'] = df_plot.apply(lambda x: x['STATE'][:2], axis=1)\n",
        "df_plot.head()"
      ],
      "execution_count": null,
      "outputs": [
        {
          "output_type": "execute_result",
          "data": {
            "text/html": [
              "<div>\n",
              "<style scoped>\n",
              "    .dataframe tbody tr th:only-of-type {\n",
              "        vertical-align: middle;\n",
              "    }\n",
              "\n",
              "    .dataframe tbody tr th {\n",
              "        vertical-align: top;\n",
              "    }\n",
              "\n",
              "    .dataframe thead th {\n",
              "        text-align: right;\n",
              "    }\n",
              "</style>\n",
              "<table border=\"1\" class=\"dataframe\">\n",
              "  <thead>\n",
              "    <tr style=\"text-align: right;\">\n",
              "      <th></th>\n",
              "      <th>DATE</th>\n",
              "      <th>STATE</th>\n",
              "      <th>PERMITS</th>\n",
              "    </tr>\n",
              "  </thead>\n",
              "  <tbody>\n",
              "    <tr>\n",
              "      <th>0</th>\n",
              "      <td>2021-01-01</td>\n",
              "      <td>AL</td>\n",
              "      <td>1930.487130</td>\n",
              "    </tr>\n",
              "    <tr>\n",
              "      <th>1</th>\n",
              "      <td>2021-02-01</td>\n",
              "      <td>AL</td>\n",
              "      <td>1961.667867</td>\n",
              "    </tr>\n",
              "    <tr>\n",
              "      <th>2</th>\n",
              "      <td>2021-03-01</td>\n",
              "      <td>AL</td>\n",
              "      <td>1899.408140</td>\n",
              "    </tr>\n",
              "    <tr>\n",
              "      <th>3</th>\n",
              "      <td>2021-04-01</td>\n",
              "      <td>AL</td>\n",
              "      <td>1556.579349</td>\n",
              "    </tr>\n",
              "    <tr>\n",
              "      <th>4</th>\n",
              "      <td>2021-05-01</td>\n",
              "      <td>AL</td>\n",
              "      <td>1724.422550</td>\n",
              "    </tr>\n",
              "  </tbody>\n",
              "</table>\n",
              "</div>"
            ],
            "text/plain": [
              "        DATE STATE      PERMITS\n",
              "0 2021-01-01    AL  1930.487130\n",
              "1 2021-02-01    AL  1961.667867\n",
              "2 2021-03-01    AL  1899.408140\n",
              "3 2021-04-01    AL  1556.579349\n",
              "4 2021-05-01    AL  1724.422550"
            ]
          },
          "metadata": {},
          "execution_count": 31
        }
      ]
    },
    {
      "cell_type": "code",
      "metadata": {
        "colab": {
          "base_uri": "https://localhost:8080/",
          "height": 542
        },
        "id": "OTI7s_yTpXjo",
        "outputId": "91c9d8f8-5ce5-4af7-9ed6-21f019aa1054"
      },
      "source": [
        "# plot\n",
        "fig = px.line(df_plot, \n",
        "              x=\"DATE\", # horizontal axis\n",
        "              y=\"PERMITS\", # vertical axis\n",
        "              color='STATE', # split column\n",
        "              title='New Private Housing Units Authorized by Building Permits')\n",
        "fig.show()"
      ],
      "execution_count": null,
      "outputs": [
        {
          "output_type": "display_data",
          "data": {
            "text/html": [
              "<html>\n",
              "<head><meta charset=\"utf-8\" /></head>\n",
              "<body>\n",
              "    <div>\n",
              "            <script src=\"https://cdnjs.cloudflare.com/ajax/libs/mathjax/2.7.5/MathJax.js?config=TeX-AMS-MML_SVG\"></script><script type=\"text/javascript\">if (window.MathJax) {MathJax.Hub.Config({SVG: {font: \"STIX-Web\"}});}</script>\n",
              "                <script type=\"text/javascript\">window.PlotlyConfig = {MathJaxConfig: 'local'};</script>\n",
              "        <script src=\"https://cdn.plot.ly/plotly-latest.min.js\"></script>    \n",
              "            <div id=\"c2f86c95-7b6f-4d5b-ac4f-e8afd2e48d43\" class=\"plotly-graph-div\" style=\"height:525px; width:100%;\"></div>\n",
              "            <script type=\"text/javascript\">\n",
              "                \n",
              "                    window.PLOTLYENV=window.PLOTLYENV || {};\n",
              "                    \n",
              "                if (document.getElementById(\"c2f86c95-7b6f-4d5b-ac4f-e8afd2e48d43\")) {\n",
              "                    Plotly.newPlot(\n",
              "                        'c2f86c95-7b6f-4d5b-ac4f-e8afd2e48d43',\n",
              "                        [{\"hoverlabel\": {\"namelength\": 0}, \"hovertemplate\": \"STATE=AL<br>DATE=%{x}<br>PERMITS=%{y}\", \"legendgroup\": \"STATE=AL\", \"line\": {\"color\": \"#636efa\", \"dash\": \"solid\"}, \"mode\": \"lines\", \"name\": \"STATE=AL\", \"showlegend\": true, \"type\": \"scatter\", \"x\": [\"2021-01-01T00:00:00\", \"2021-02-01T00:00:00\", \"2021-03-01T00:00:00\", \"2021-04-01T00:00:00\", \"2021-05-01T00:00:00\", \"2021-06-01T00:00:00\", \"2021-07-01T00:00:00\", \"2021-08-01T00:00:00\"], \"xaxis\": \"x\", \"y\": [1930.4871300376, 1961.66786705221, 1899.4081396716101, 1556.5793489832902, 1724.4225498892401, 1594.74806402903, 1673.15489190548, 1470.6142514735], \"yaxis\": \"y\"}, {\"hoverlabel\": {\"namelength\": 0}, \"hovertemplate\": \"STATE=AK<br>DATE=%{x}<br>PERMITS=%{y}\", \"legendgroup\": \"STATE=AK\", \"line\": {\"color\": \"#EF553B\", \"dash\": \"solid\"}, \"mode\": \"lines\", \"name\": \"STATE=AK\", \"showlegend\": true, \"type\": \"scatter\", \"x\": [\"2021-01-01T00:00:00\", \"2021-02-01T00:00:00\", \"2021-03-01T00:00:00\", \"2021-04-01T00:00:00\", \"2021-05-01T00:00:00\", \"2021-06-01T00:00:00\", \"2021-07-01T00:00:00\", \"2021-08-01T00:00:00\"], \"xaxis\": \"x\", \"y\": [151.212982117428, 156.414969284163, 163.6224174613, 155.369753664809, 121.990873584049, 124.169819894741, 131.013164930799, 121.006387083279], \"yaxis\": \"y\"}, {\"hoverlabel\": {\"namelength\": 0}, \"hovertemplate\": \"STATE=AZ<br>DATE=%{x}<br>PERMITS=%{y}\", \"legendgroup\": \"STATE=AZ\", \"line\": {\"color\": \"#00cc96\", \"dash\": \"solid\"}, \"mode\": \"lines\", \"name\": \"STATE=AZ\", \"showlegend\": true, \"type\": \"scatter\", \"x\": [\"2021-01-01T00:00:00\", \"2021-02-01T00:00:00\", \"2021-03-01T00:00:00\", \"2021-04-01T00:00:00\", \"2021-05-01T00:00:00\", \"2021-06-01T00:00:00\", \"2021-07-01T00:00:00\", \"2021-08-01T00:00:00\"], \"xaxis\": \"x\", \"y\": [5523.4384564335, 5740.33959511172, 5187.5491634933005, 5539.62073565199, 5167.91621510143, 5328.19283313393, 5352.51791453017, 5075.43496472669], \"yaxis\": \"y\"}, {\"hoverlabel\": {\"namelength\": 0}, \"hovertemplate\": \"STATE=AR<br>DATE=%{x}<br>PERMITS=%{y}\", \"legendgroup\": \"STATE=AR\", \"line\": {\"color\": \"#ab63fa\", \"dash\": \"solid\"}, \"mode\": \"lines\", \"name\": \"STATE=AR\", \"showlegend\": true, \"type\": \"scatter\", \"x\": [\"2021-01-01T00:00:00\", \"2021-02-01T00:00:00\", \"2021-03-01T00:00:00\", \"2021-04-01T00:00:00\", \"2021-05-01T00:00:00\", \"2021-06-01T00:00:00\", \"2021-07-01T00:00:00\", \"2021-08-01T00:00:00\"], \"xaxis\": \"x\", \"y\": [1298.72720649382, 1152.76507811604, 1700.91675319781, 1195.73886143547, 933.004898419955, 1037.62628270919, 1206.4900183205, 1050.9638758231802], \"yaxis\": \"y\"}, {\"hoverlabel\": {\"namelength\": 0}, \"hovertemplate\": \"STATE=CA<br>DATE=%{x}<br>PERMITS=%{y}\", \"legendgroup\": \"STATE=CA\", \"line\": {\"color\": \"#FFA15A\", \"dash\": \"solid\"}, \"mode\": \"lines\", \"name\": \"STATE=CA\", \"showlegend\": true, \"type\": \"scatter\", \"x\": [\"2021-01-01T00:00:00\", \"2021-02-01T00:00:00\", \"2021-03-01T00:00:00\", \"2021-04-01T00:00:00\", \"2021-05-01T00:00:00\", \"2021-06-01T00:00:00\", \"2021-07-01T00:00:00\", \"2021-08-01T00:00:00\"], \"xaxis\": \"x\", \"y\": [10376.8503388378, 9959.11431086045, 11184.0463146625, 10439.0085788784, 9558.726994655799, 9771.25980582252, 9769.49796871936, 10253.3745981305], \"yaxis\": \"y\"}, {\"hoverlabel\": {\"namelength\": 0}, \"hovertemplate\": \"STATE=CO<br>DATE=%{x}<br>PERMITS=%{y}\", \"legendgroup\": \"STATE=CO\", \"line\": {\"color\": \"#19d3f3\", \"dash\": \"solid\"}, \"mode\": \"lines\", \"name\": \"STATE=CO\", \"showlegend\": true, \"type\": \"scatter\", \"x\": [\"2021-01-01T00:00:00\", \"2021-02-01T00:00:00\", \"2021-03-01T00:00:00\", \"2021-04-01T00:00:00\", \"2021-05-01T00:00:00\", \"2021-06-01T00:00:00\", \"2021-07-01T00:00:00\", \"2021-08-01T00:00:00\"], \"xaxis\": \"x\", \"y\": [5176.23405916957, 4354.159394230711, 4774.44792235421, 5421.92369652219, 4784.28041069539, 4837.35966728409, 4692.11833058099, 5423.8173870989285], \"yaxis\": \"y\"}, {\"hoverlabel\": {\"namelength\": 0}, \"hovertemplate\": \"STATE=CT<br>DATE=%{x}<br>PERMITS=%{y}\", \"legendgroup\": \"STATE=CT\", \"line\": {\"color\": \"#FF6692\", \"dash\": \"solid\"}, \"mode\": \"lines\", \"name\": \"STATE=CT\", \"showlegend\": true, \"type\": \"scatter\", \"x\": [\"2021-01-01T00:00:00\", \"2021-02-01T00:00:00\", \"2021-03-01T00:00:00\", \"2021-04-01T00:00:00\", \"2021-05-01T00:00:00\", \"2021-06-01T00:00:00\", \"2021-07-01T00:00:00\", \"2021-08-01T00:00:00\"], \"xaxis\": \"x\", \"y\": [364.151415960493, 358.97394081648696, 453.014617516129, 695.2308466280258, 313.554357828655, 381.270626488233, 290.23273055297994, 302.033391455043], \"yaxis\": \"y\"}, {\"hoverlabel\": {\"namelength\": 0}, \"hovertemplate\": \"STATE=DE<br>DATE=%{x}<br>PERMITS=%{y}\", \"legendgroup\": \"STATE=DE\", \"line\": {\"color\": \"#B6E880\", \"dash\": \"solid\"}, \"mode\": \"lines\", \"name\": \"STATE=DE\", \"showlegend\": true, \"type\": \"scatter\", \"x\": [\"2021-01-01T00:00:00\", \"2021-02-01T00:00:00\", \"2021-03-01T00:00:00\", \"2021-04-01T00:00:00\", \"2021-05-01T00:00:00\", \"2021-06-01T00:00:00\", \"2021-07-01T00:00:00\", \"2021-08-01T00:00:00\"], \"xaxis\": \"x\", \"y\": [740.545437606909, 821.905449859487, 832.9312549071069, 866.849534476929, 836.529834812798, 713.133035243359, 795.321618737668, 642.236846260492], \"yaxis\": \"y\"}, {\"hoverlabel\": {\"namelength\": 0}, \"hovertemplate\": \"STATE=DC<br>DATE=%{x}<br>PERMITS=%{y}\", \"legendgroup\": \"STATE=DC\", \"line\": {\"color\": \"#FF97FF\", \"dash\": \"solid\"}, \"mode\": \"lines\", \"name\": \"STATE=DC\", \"showlegend\": true, \"type\": \"scatter\", \"x\": [\"2021-01-01T00:00:00\", \"2021-02-01T00:00:00\", \"2021-03-01T00:00:00\", \"2021-04-01T00:00:00\", \"2021-05-01T00:00:00\", \"2021-06-01T00:00:00\", \"2021-07-01T00:00:00\", \"2021-08-01T00:00:00\"], \"xaxis\": \"x\", \"y\": [313.0, 749.0, 589.0, 159.0, 403.0, 110.0, 279.0, 360.0], \"yaxis\": \"y\"}, {\"hoverlabel\": {\"namelength\": 0}, \"hovertemplate\": \"STATE=FL<br>DATE=%{x}<br>PERMITS=%{y}\", \"legendgroup\": \"STATE=FL\", \"line\": {\"color\": \"#FECB52\", \"dash\": \"solid\"}, \"mode\": \"lines\", \"name\": \"STATE=FL\", \"showlegend\": true, \"type\": \"scatter\", \"x\": [\"2021-01-01T00:00:00\", \"2021-02-01T00:00:00\", \"2021-03-01T00:00:00\", \"2021-04-01T00:00:00\", \"2021-05-01T00:00:00\", \"2021-06-01T00:00:00\", \"2021-07-01T00:00:00\", \"2021-08-01T00:00:00\"], \"xaxis\": \"x\", \"y\": [15404.6514906975, 13974.413105658501, 17121.182203605702, 18086.7689959165, 18354.571318856102, 18648.2181727647, 17890.7233547841, 19977.6008039442], \"yaxis\": \"y\"}, {\"hoverlabel\": {\"namelength\": 0}, \"hovertemplate\": \"STATE=GA<br>DATE=%{x}<br>PERMITS=%{y}\", \"legendgroup\": \"STATE=GA\", \"line\": {\"color\": \"#636efa\", \"dash\": \"solid\"}, \"mode\": \"lines\", \"name\": \"STATE=GA\", \"showlegend\": true, \"type\": \"scatter\", \"x\": [\"2021-01-01T00:00:00\", \"2021-02-01T00:00:00\", \"2021-03-01T00:00:00\", \"2021-04-01T00:00:00\", \"2021-05-01T00:00:00\", \"2021-06-01T00:00:00\", \"2021-07-01T00:00:00\", \"2021-08-01T00:00:00\"], \"xaxis\": \"x\", \"y\": [5360.0907285166495, 4865.69881132497, 5628.92343408878, 5777.71873289922, 5304.49571869246, 5730.406962804771, 4884.833401302751, 5295.47196302654], \"yaxis\": \"y\"}, {\"hoverlabel\": {\"namelength\": 0}, \"hovertemplate\": \"STATE=HI<br>DATE=%{x}<br>PERMITS=%{y}\", \"legendgroup\": \"STATE=HI\", \"line\": {\"color\": \"#EF553B\", \"dash\": \"solid\"}, \"mode\": \"lines\", \"name\": \"STATE=HI\", \"showlegend\": true, \"type\": \"scatter\", \"x\": [\"2021-01-01T00:00:00\", \"2021-02-01T00:00:00\", \"2021-03-01T00:00:00\", \"2021-04-01T00:00:00\", \"2021-05-01T00:00:00\", \"2021-06-01T00:00:00\", \"2021-07-01T00:00:00\", \"2021-08-01T00:00:00\"], \"xaxis\": \"x\", \"y\": [417.336056134104, 336.669210049541, 255.717902137966, 349.751741471568, 226.82724065882005, 205.28241782041002, 344.416406614555, 216.51728126094295], \"yaxis\": \"y\"}, {\"hoverlabel\": {\"namelength\": 0}, \"hovertemplate\": \"STATE=ID<br>DATE=%{x}<br>PERMITS=%{y}\", \"legendgroup\": \"STATE=ID\", \"line\": {\"color\": \"#00cc96\", \"dash\": \"solid\"}, \"mode\": \"lines\", \"name\": \"STATE=ID\", \"showlegend\": true, \"type\": \"scatter\", \"x\": [\"2021-01-01T00:00:00\", \"2021-02-01T00:00:00\", \"2021-03-01T00:00:00\", \"2021-04-01T00:00:00\", \"2021-05-01T00:00:00\", \"2021-06-01T00:00:00\", \"2021-07-01T00:00:00\", \"2021-08-01T00:00:00\"], \"xaxis\": \"x\", \"y\": [1771.1655132580304, 1655.1288286208899, 1907.59394760668, 1756.6629689996398, 1383.2136196472, 1658.03841273641, 1456.92844142034, 1471.55386024126], \"yaxis\": \"y\"}, {\"hoverlabel\": {\"namelength\": 0}, \"hovertemplate\": \"STATE=IL<br>DATE=%{x}<br>PERMITS=%{y}\", \"legendgroup\": \"STATE=IL\", \"line\": {\"color\": \"#ab63fa\", \"dash\": \"solid\"}, \"mode\": \"lines\", \"name\": \"STATE=IL\", \"showlegend\": true, \"type\": \"scatter\", \"x\": [\"2021-01-01T00:00:00\", \"2021-02-01T00:00:00\", \"2021-03-01T00:00:00\", \"2021-04-01T00:00:00\", \"2021-05-01T00:00:00\", \"2021-06-01T00:00:00\", \"2021-07-01T00:00:00\", \"2021-08-01T00:00:00\"], \"xaxis\": \"x\", \"y\": [1566.46397719167, 1527.6284710734699, 1462.89961550833, 1759.3123510025198, 1478.40321577648, 1937.29915178883, 1852.70823190566, 1865.33798877865], \"yaxis\": \"y\"}, {\"hoverlabel\": {\"namelength\": 0}, \"hovertemplate\": \"STATE=IN<br>DATE=%{x}<br>PERMITS=%{y}\", \"legendgroup\": \"STATE=IN\", \"line\": {\"color\": \"#FFA15A\", \"dash\": \"solid\"}, \"mode\": \"lines\", \"name\": \"STATE=IN\", \"showlegend\": true, \"type\": \"scatter\", \"x\": [\"2021-01-01T00:00:00\", \"2021-02-01T00:00:00\", \"2021-03-01T00:00:00\", \"2021-04-01T00:00:00\", \"2021-05-01T00:00:00\", \"2021-06-01T00:00:00\", \"2021-07-01T00:00:00\", \"2021-08-01T00:00:00\"], \"xaxis\": \"x\", \"y\": [2391.5299727647603, 2276.30546131041, 2474.65233316749, 2264.44816495373, 2042.01386596293, 2460.2276324609697, 2290.3741922305, 2047.4931797268696], \"yaxis\": \"y\"}, {\"hoverlabel\": {\"namelength\": 0}, \"hovertemplate\": \"STATE=IA<br>DATE=%{x}<br>PERMITS=%{y}\", \"legendgroup\": \"STATE=IA\", \"line\": {\"color\": \"#19d3f3\", \"dash\": \"solid\"}, \"mode\": \"lines\", \"name\": \"STATE=IA\", \"showlegend\": true, \"type\": \"scatter\", \"x\": [\"2021-01-01T00:00:00\", \"2021-02-01T00:00:00\", \"2021-03-01T00:00:00\", \"2021-04-01T00:00:00\", \"2021-05-01T00:00:00\", \"2021-06-01T00:00:00\", \"2021-07-01T00:00:00\", \"2021-08-01T00:00:00\"], \"xaxis\": \"x\", \"y\": [1012.50072477648, 1269.03144733666, 1793.5281043179602, 1747.02725673083, 854.600098168624, 1048.21460312779, 1012.13131342412, 888.439813029716], \"yaxis\": \"y\"}, {\"hoverlabel\": {\"namelength\": 0}, \"hovertemplate\": \"STATE=KS<br>DATE=%{x}<br>PERMITS=%{y}\", \"legendgroup\": \"STATE=KS\", \"line\": {\"color\": \"#FF6692\", \"dash\": \"solid\"}, \"mode\": \"lines\", \"name\": \"STATE=KS\", \"showlegend\": true, \"type\": \"scatter\", \"x\": [\"2021-01-01T00:00:00\", \"2021-02-01T00:00:00\", \"2021-03-01T00:00:00\", \"2021-04-01T00:00:00\", \"2021-05-01T00:00:00\", \"2021-06-01T00:00:00\", \"2021-07-01T00:00:00\", \"2021-08-01T00:00:00\"], \"xaxis\": \"x\", \"y\": [702.425653086201, 1054.938204724, 808.358902420347, 767.689833392043, 670.587670267441, 671.419660424247, 721.49175924263, 598.4509432210369], \"yaxis\": \"y\"}, {\"hoverlabel\": {\"namelength\": 0}, \"hovertemplate\": \"STATE=KY<br>DATE=%{x}<br>PERMITS=%{y}\", \"legendgroup\": \"STATE=KY\", \"line\": {\"color\": \"#B6E880\", \"dash\": \"solid\"}, \"mode\": \"lines\", \"name\": \"STATE=KY\", \"showlegend\": true, \"type\": \"scatter\", \"x\": [\"2021-01-01T00:00:00\", \"2021-02-01T00:00:00\", \"2021-03-01T00:00:00\", \"2021-04-01T00:00:00\", \"2021-05-01T00:00:00\", \"2021-06-01T00:00:00\", \"2021-07-01T00:00:00\", \"2021-08-01T00:00:00\"], \"xaxis\": \"x\", \"y\": [1297.28769859935, 1908.71849396304, 1591.7312741995902, 1252.45474371828, 1183.8043315190598, 993.233311177263, 1037.23568786114, 949.457465499415], \"yaxis\": \"y\"}, {\"hoverlabel\": {\"namelength\": 0}, \"hovertemplate\": \"STATE=LA<br>DATE=%{x}<br>PERMITS=%{y}\", \"legendgroup\": \"STATE=LA\", \"line\": {\"color\": \"#FF97FF\", \"dash\": \"solid\"}, \"mode\": \"lines\", \"name\": \"STATE=LA\", \"showlegend\": true, \"type\": \"scatter\", \"x\": [\"2021-01-01T00:00:00\", \"2021-02-01T00:00:00\", \"2021-03-01T00:00:00\", \"2021-04-01T00:00:00\", \"2021-05-01T00:00:00\", \"2021-06-01T00:00:00\", \"2021-07-01T00:00:00\", \"2021-08-01T00:00:00\"], \"xaxis\": \"x\", \"y\": [1650.0753197232998, 1547.6104412678799, 1701.6286285019296, 2282.93800912718, 1607.3497981339199, 1911.69353635803, 1550.4816991542905, 1439.7064131247305], \"yaxis\": \"y\"}, {\"hoverlabel\": {\"namelength\": 0}, \"hovertemplate\": \"STATE=ME<br>DATE=%{x}<br>PERMITS=%{y}\", \"legendgroup\": \"STATE=ME\", \"line\": {\"color\": \"#FECB52\", \"dash\": \"solid\"}, \"mode\": \"lines\", \"name\": \"STATE=ME\", \"showlegend\": true, \"type\": \"scatter\", \"x\": [\"2021-01-01T00:00:00\", \"2021-02-01T00:00:00\", \"2021-03-01T00:00:00\", \"2021-04-01T00:00:00\", \"2021-05-01T00:00:00\", \"2021-06-01T00:00:00\", \"2021-07-01T00:00:00\", \"2021-08-01T00:00:00\"], \"xaxis\": \"x\", \"y\": [701.1425707426448, 428.524194654873, 552.021397224715, 600.599799142927, 617.174179013192, 607.705567285178, 621.183263090688, 574.52100112388], \"yaxis\": \"y\"}, {\"hoverlabel\": {\"namelength\": 0}, \"hovertemplate\": \"STATE=MD<br>DATE=%{x}<br>PERMITS=%{y}\", \"legendgroup\": \"STATE=MD\", \"line\": {\"color\": \"#636efa\", \"dash\": \"solid\"}, \"mode\": \"lines\", \"name\": \"STATE=MD\", \"showlegend\": true, \"type\": \"scatter\", \"x\": [\"2021-01-01T00:00:00\", \"2021-02-01T00:00:00\", \"2021-03-01T00:00:00\", \"2021-04-01T00:00:00\", \"2021-05-01T00:00:00\", \"2021-06-01T00:00:00\", \"2021-07-01T00:00:00\", \"2021-08-01T00:00:00\"], \"xaxis\": \"x\", \"y\": [1392.0771966092498, 2162.78046947637, 1440.5793075605402, 1426.4672075327999, 1227.42392260163, 1634.12560904197, 1371.78673704043, 1536.11116910853], \"yaxis\": \"y\"}, {\"hoverlabel\": {\"namelength\": 0}, \"hovertemplate\": \"STATE=MA<br>DATE=%{x}<br>PERMITS=%{y}\", \"legendgroup\": \"STATE=MA\", \"line\": {\"color\": \"#EF553B\", \"dash\": \"solid\"}, \"mode\": \"lines\", \"name\": \"STATE=MA\", \"showlegend\": true, \"type\": \"scatter\", \"x\": [\"2021-01-01T00:00:00\", \"2021-02-01T00:00:00\", \"2021-03-01T00:00:00\", \"2021-04-01T00:00:00\", \"2021-05-01T00:00:00\", \"2021-06-01T00:00:00\", \"2021-07-01T00:00:00\", \"2021-08-01T00:00:00\"], \"xaxis\": \"x\", \"y\": [1446.42522738296, 1497.24379925957, 1547.7403192419001, 2259.5061377142497, 1619.35479630537, 1185.78092158689, 1260.2813699466099, 1361.5382821236599], \"yaxis\": \"y\"}, {\"hoverlabel\": {\"namelength\": 0}, \"hovertemplate\": \"STATE=MI<br>DATE=%{x}<br>PERMITS=%{y}\", \"legendgroup\": \"STATE=MI\", \"line\": {\"color\": \"#00cc96\", \"dash\": \"solid\"}, \"mode\": \"lines\", \"name\": \"STATE=MI\", \"showlegend\": true, \"type\": \"scatter\", \"x\": [\"2021-01-01T00:00:00\", \"2021-02-01T00:00:00\", \"2021-03-01T00:00:00\", \"2021-04-01T00:00:00\", \"2021-05-01T00:00:00\", \"2021-06-01T00:00:00\", \"2021-07-01T00:00:00\", \"2021-08-01T00:00:00\"], \"xaxis\": \"x\", \"y\": [2292.48049654977, 2013.3324303885101, 2279.38125269555, 1957.06519077764, 1755.9581163663502, 2011.37290634652, 1636.7144358633402, 1830.9850211394894], \"yaxis\": \"y\"}, {\"hoverlabel\": {\"namelength\": 0}, \"hovertemplate\": \"STATE=MN<br>DATE=%{x}<br>PERMITS=%{y}\", \"legendgroup\": \"STATE=MN\", \"line\": {\"color\": \"#ab63fa\", \"dash\": \"solid\"}, \"mode\": \"lines\", \"name\": \"STATE=MN\", \"showlegend\": true, \"type\": \"scatter\", \"x\": [\"2021-01-01T00:00:00\", \"2021-02-01T00:00:00\", \"2021-03-01T00:00:00\", \"2021-04-01T00:00:00\", \"2021-05-01T00:00:00\", \"2021-06-01T00:00:00\", \"2021-07-01T00:00:00\", \"2021-08-01T00:00:00\"], \"xaxis\": \"x\", \"y\": [3073.28718892573, 3005.7829591667796, 3286.89669535656, 3018.19464487427, 3195.8128253021, 2964.74371003938, 2651.4470210430104, 3031.69157594693], \"yaxis\": \"y\"}, {\"hoverlabel\": {\"namelength\": 0}, \"hovertemplate\": \"STATE=MS<br>DATE=%{x}<br>PERMITS=%{y}\", \"legendgroup\": \"STATE=MS\", \"line\": {\"color\": \"#FFA15A\", \"dash\": \"solid\"}, \"mode\": \"lines\", \"name\": \"STATE=MS\", \"showlegend\": true, \"type\": \"scatter\", \"x\": [\"2021-01-01T00:00:00\", \"2021-02-01T00:00:00\", \"2021-03-01T00:00:00\", \"2021-04-01T00:00:00\", \"2021-05-01T00:00:00\", \"2021-06-01T00:00:00\", \"2021-07-01T00:00:00\", \"2021-08-01T00:00:00\"], \"xaxis\": \"x\", \"y\": [719.9847177711299, 682.107552900149, 799.1664666757422, 730.087240141129, 794.5393276704469, 628.082052353491, 555.458189178044, 641.812344169996], \"yaxis\": \"y\"}, {\"hoverlabel\": {\"namelength\": 0}, \"hovertemplate\": \"STATE=MO<br>DATE=%{x}<br>PERMITS=%{y}\", \"legendgroup\": \"STATE=MO\", \"line\": {\"color\": \"#19d3f3\", \"dash\": \"solid\"}, \"mode\": \"lines\", \"name\": \"STATE=MO\", \"showlegend\": true, \"type\": \"scatter\", \"x\": [\"2021-01-01T00:00:00\", \"2021-02-01T00:00:00\", \"2021-03-01T00:00:00\", \"2021-04-01T00:00:00\", \"2021-05-01T00:00:00\", \"2021-06-01T00:00:00\", \"2021-07-01T00:00:00\", \"2021-08-01T00:00:00\"], \"xaxis\": \"x\", \"y\": [1437.7511104431699, 1565.89025188778, 1836.8468104495605, 2129.29262782216, 1456.7110918085, 1257.52392010265, 1555.34827299179, 1706.21801496309], \"yaxis\": \"y\"}, {\"hoverlabel\": {\"namelength\": 0}, \"hovertemplate\": \"STATE=MT<br>DATE=%{x}<br>PERMITS=%{y}\", \"legendgroup\": \"STATE=MT\", \"line\": {\"color\": \"#FF6692\", \"dash\": \"solid\"}, \"mode\": \"lines\", \"name\": \"STATE=MT\", \"showlegend\": true, \"type\": \"scatter\", \"x\": [\"2021-01-01T00:00:00\", \"2021-02-01T00:00:00\", \"2021-03-01T00:00:00\", \"2021-04-01T00:00:00\", \"2021-05-01T00:00:00\", \"2021-06-01T00:00:00\", \"2021-07-01T00:00:00\", \"2021-08-01T00:00:00\"], \"xaxis\": \"x\", \"y\": [453.019233973438, 389.792468860558, 596.919735667421, 410.334951205517, 331.028171300463, 736.931258918935, 483.352511457525, 425.342076097931], \"yaxis\": \"y\"}, {\"hoverlabel\": {\"namelength\": 0}, \"hovertemplate\": \"STATE=NE<br>DATE=%{x}<br>PERMITS=%{y}\", \"legendgroup\": \"STATE=NE\", \"line\": {\"color\": \"#B6E880\", \"dash\": \"solid\"}, \"mode\": \"lines\", \"name\": \"STATE=NE\", \"showlegend\": true, \"type\": \"scatter\", \"x\": [\"2021-01-01T00:00:00\", \"2021-02-01T00:00:00\", \"2021-03-01T00:00:00\", \"2021-04-01T00:00:00\", \"2021-05-01T00:00:00\", \"2021-06-01T00:00:00\", \"2021-07-01T00:00:00\", \"2021-08-01T00:00:00\"], \"xaxis\": \"x\", \"y\": [844.402166636896, 766.7715208011659, 924.030058150633, 817.23981021226, 850.3758774868469, 713.426956699066, 671.533233216073, 639.403288353118], \"yaxis\": \"y\"}, {\"hoverlabel\": {\"namelength\": 0}, \"hovertemplate\": \"STATE=NV<br>DATE=%{x}<br>PERMITS=%{y}\", \"legendgroup\": \"STATE=NV\", \"line\": {\"color\": \"#FF97FF\", \"dash\": \"solid\"}, \"mode\": \"lines\", \"name\": \"STATE=NV\", \"showlegend\": true, \"type\": \"scatter\", \"x\": [\"2021-01-01T00:00:00\", \"2021-02-01T00:00:00\", \"2021-03-01T00:00:00\", \"2021-04-01T00:00:00\", \"2021-05-01T00:00:00\", \"2021-06-01T00:00:00\", \"2021-07-01T00:00:00\", \"2021-08-01T00:00:00\"], \"xaxis\": \"x\", \"y\": [2177.3461525192897, 2054.90959392321, 2105.28092881441, 2173.4175854219893, 1592.40559239193, 1767.8666686515, 1747.11509331861, 2156.12919170822], \"yaxis\": \"y\"}, {\"hoverlabel\": {\"namelength\": 0}, \"hovertemplate\": \"STATE=NH<br>DATE=%{x}<br>PERMITS=%{y}\", \"legendgroup\": \"STATE=NH\", \"line\": {\"color\": \"#FECB52\", \"dash\": \"solid\"}, \"mode\": \"lines\", \"name\": \"STATE=NH\", \"showlegend\": true, \"type\": \"scatter\", \"x\": [\"2021-01-01T00:00:00\", \"2021-02-01T00:00:00\", \"2021-03-01T00:00:00\", \"2021-04-01T00:00:00\", \"2021-05-01T00:00:00\", \"2021-06-01T00:00:00\", \"2021-07-01T00:00:00\", \"2021-08-01T00:00:00\"], \"xaxis\": \"x\", \"y\": [299.085118226003, 377.963265067242, 447.31401055736603, 428.07154490126, 508.16647137203597, 368.278443301398, 370.632196292471, 373.7050921451609], \"yaxis\": \"y\"}, {\"hoverlabel\": {\"namelength\": 0}, \"hovertemplate\": \"STATE=NJ<br>DATE=%{x}<br>PERMITS=%{y}\", \"legendgroup\": \"STATE=NJ\", \"line\": {\"color\": \"#636efa\", \"dash\": \"solid\"}, \"mode\": \"lines\", \"name\": \"STATE=NJ\", \"showlegend\": true, \"type\": \"scatter\", \"x\": [\"2021-01-01T00:00:00\", \"2021-02-01T00:00:00\", \"2021-03-01T00:00:00\", \"2021-04-01T00:00:00\", \"2021-05-01T00:00:00\", \"2021-06-01T00:00:00\", \"2021-07-01T00:00:00\", \"2021-08-01T00:00:00\"], \"xaxis\": \"x\", \"y\": [3630.1187972740004, 2841.3931058958196, 2996.02375798287, 3936.75978107557, 3073.60727859574, 2626.20092349844, 2806.26107697699, 2997.7122725092104], \"yaxis\": \"y\"}, {\"hoverlabel\": {\"namelength\": 0}, \"hovertemplate\": \"STATE=NM<br>DATE=%{x}<br>PERMITS=%{y}\", \"legendgroup\": \"STATE=NM\", \"line\": {\"color\": \"#EF553B\", \"dash\": \"solid\"}, \"mode\": \"lines\", \"name\": \"STATE=NM\", \"showlegend\": true, \"type\": \"scatter\", \"x\": [\"2021-01-01T00:00:00\", \"2021-02-01T00:00:00\", \"2021-03-01T00:00:00\", \"2021-04-01T00:00:00\", \"2021-05-01T00:00:00\", \"2021-06-01T00:00:00\", \"2021-07-01T00:00:00\", \"2021-08-01T00:00:00\"], \"xaxis\": \"x\", \"y\": [482.560345008921, 730.304350978514, 619.66758699802, 676.919841920136, 562.315027614047, 601.949028069275, 692.384490634047, 557.312604504967], \"yaxis\": \"y\"}, {\"hoverlabel\": {\"namelength\": 0}, \"hovertemplate\": \"STATE=NY<br>DATE=%{x}<br>PERMITS=%{y}\", \"legendgroup\": \"STATE=NY\", \"line\": {\"color\": \"#00cc96\", \"dash\": \"solid\"}, \"mode\": \"lines\", \"name\": \"STATE=NY\", \"showlegend\": true, \"type\": \"scatter\", \"x\": [\"2021-01-01T00:00:00\", \"2021-02-01T00:00:00\", \"2021-03-01T00:00:00\", \"2021-04-01T00:00:00\", \"2021-05-01T00:00:00\", \"2021-06-01T00:00:00\", \"2021-07-01T00:00:00\", \"2021-08-01T00:00:00\"], \"xaxis\": \"x\", \"y\": [3365.0225592860197, 3994.03423049373, 3499.84507786425, 3252.9036721476195, 4100.17933288612, 3915.309808480221, 2947.07534138456, 4541.24095888983], \"yaxis\": \"y\"}, {\"hoverlabel\": {\"namelength\": 0}, \"hovertemplate\": \"STATE=NC<br>DATE=%{x}<br>PERMITS=%{y}\", \"legendgroup\": \"STATE=NC\", \"line\": {\"color\": \"#ab63fa\", \"dash\": \"solid\"}, \"mode\": \"lines\", \"name\": \"STATE=NC\", \"showlegend\": true, \"type\": \"scatter\", \"x\": [\"2021-01-01T00:00:00\", \"2021-02-01T00:00:00\", \"2021-03-01T00:00:00\", \"2021-04-01T00:00:00\", \"2021-05-01T00:00:00\", \"2021-06-01T00:00:00\", \"2021-07-01T00:00:00\", \"2021-08-01T00:00:00\"], \"xaxis\": \"x\", \"y\": [6718.793325595029, 7776.87493755478, 7992.938818448892, 7937.82027332835, 6832.21096029276, 7736.491134655909, 7570.090733473409, 7815.73344254104], \"yaxis\": \"y\"}, {\"hoverlabel\": {\"namelength\": 0}, \"hovertemplate\": \"STATE=ND<br>DATE=%{x}<br>PERMITS=%{y}\", \"legendgroup\": \"STATE=ND\", \"line\": {\"color\": \"#FFA15A\", \"dash\": \"solid\"}, \"mode\": \"lines\", \"name\": \"STATE=ND\", \"showlegend\": true, \"type\": \"scatter\", \"x\": [\"2021-01-01T00:00:00\", \"2021-02-01T00:00:00\", \"2021-03-01T00:00:00\", \"2021-04-01T00:00:00\", \"2021-05-01T00:00:00\", \"2021-06-01T00:00:00\", \"2021-07-01T00:00:00\", \"2021-08-01T00:00:00\"], \"xaxis\": \"x\", \"y\": [1059.09368682299, 331.23567254322, 471.54230693646105, 261.368024972025, 309.712794408309, 247.072377120079, 291.52287846284, 228.65683977127102], \"yaxis\": \"y\"}, {\"hoverlabel\": {\"namelength\": 0}, \"hovertemplate\": \"STATE=OH<br>DATE=%{x}<br>PERMITS=%{y}\", \"legendgroup\": \"STATE=OH\", \"line\": {\"color\": \"#19d3f3\", \"dash\": \"solid\"}, \"mode\": \"lines\", \"name\": \"STATE=OH\", \"showlegend\": true, \"type\": \"scatter\", \"x\": [\"2021-01-01T00:00:00\", \"2021-02-01T00:00:00\", \"2021-03-01T00:00:00\", \"2021-04-01T00:00:00\", \"2021-05-01T00:00:00\", \"2021-06-01T00:00:00\", \"2021-07-01T00:00:00\", \"2021-08-01T00:00:00\"], \"xaxis\": \"x\", \"y\": [2361.01327135275, 2753.0650056315803, 2701.52376513066, 2727.25122524077, 2756.5399717259397, 2557.56613753098, 2230.5305536063, 2886.96223162093], \"yaxis\": \"y\"}, {\"hoverlabel\": {\"namelength\": 0}, \"hovertemplate\": \"STATE=OK<br>DATE=%{x}<br>PERMITS=%{y}\", \"legendgroup\": \"STATE=OK\", \"line\": {\"color\": \"#FF6692\", \"dash\": \"solid\"}, \"mode\": \"lines\", \"name\": \"STATE=OK\", \"showlegend\": true, \"type\": \"scatter\", \"x\": [\"2021-01-01T00:00:00\", \"2021-02-01T00:00:00\", \"2021-03-01T00:00:00\", \"2021-04-01T00:00:00\", \"2021-05-01T00:00:00\", \"2021-06-01T00:00:00\", \"2021-07-01T00:00:00\", \"2021-08-01T00:00:00\"], \"xaxis\": \"x\", \"y\": [1362.96211537332, 1199.22147765232, 1348.2204883481802, 1360.4549762346699, 1135.9080574786099, 1278.15409565458, 1211.90657062619, 1290.0263877346601], \"yaxis\": \"y\"}, {\"hoverlabel\": {\"namelength\": 0}, \"hovertemplate\": \"STATE=OR<br>DATE=%{x}<br>PERMITS=%{y}\", \"legendgroup\": \"STATE=OR\", \"line\": {\"color\": \"#B6E880\", \"dash\": \"solid\"}, \"mode\": \"lines\", \"name\": \"STATE=OR\", \"showlegend\": true, \"type\": \"scatter\", \"x\": [\"2021-01-01T00:00:00\", \"2021-02-01T00:00:00\", \"2021-03-01T00:00:00\", \"2021-04-01T00:00:00\", \"2021-05-01T00:00:00\", \"2021-06-01T00:00:00\", \"2021-07-01T00:00:00\", \"2021-08-01T00:00:00\"], \"xaxis\": \"x\", \"y\": [1387.58638978376, 1691.80036215509, 1999.10536034589, 1936.3815259737805, 1855.16147347612, 1684.17104027995, 2043.6947920179105, 1539.7161314015802], \"yaxis\": \"y\"}, {\"hoverlabel\": {\"namelength\": 0}, \"hovertemplate\": \"STATE=PA<br>DATE=%{x}<br>PERMITS=%{y}\", \"legendgroup\": \"STATE=PA\", \"line\": {\"color\": \"#FF97FF\", \"dash\": \"solid\"}, \"mode\": \"lines\", \"name\": \"STATE=PA\", \"showlegend\": true, \"type\": \"scatter\", \"x\": [\"2021-01-01T00:00:00\", \"2021-02-01T00:00:00\", \"2021-03-01T00:00:00\", \"2021-04-01T00:00:00\", \"2021-05-01T00:00:00\", \"2021-06-01T00:00:00\", \"2021-07-01T00:00:00\", \"2021-08-01T00:00:00\"], \"xaxis\": \"x\", \"y\": [4837.55349783215, 4115.53915614039, 4243.7881529039505, 2531.87002211473, 2507.50239503616, 2289.41751942475, 2276.08706461229, 2557.29110375237], \"yaxis\": \"y\"}, {\"hoverlabel\": {\"namelength\": 0}, \"hovertemplate\": \"STATE=RI<br>DATE=%{x}<br>PERMITS=%{y}\", \"legendgroup\": \"STATE=RI\", \"line\": {\"color\": \"#FECB52\", \"dash\": \"solid\"}, \"mode\": \"lines\", \"name\": \"STATE=RI\", \"showlegend\": true, \"type\": \"scatter\", \"x\": [\"2021-01-01T00:00:00\", \"2021-02-01T00:00:00\", \"2021-03-01T00:00:00\", \"2021-04-01T00:00:00\", \"2021-05-01T00:00:00\", \"2021-06-01T00:00:00\", \"2021-07-01T00:00:00\", \"2021-08-01T00:00:00\"], \"xaxis\": \"x\", \"y\": [129.449617807957, 123.75273571317801, 135.724916521367, 157.88263719516502, 113.774341162973, 146.68588120043998, 111.623753266038, 121.34517086621901], \"yaxis\": \"y\"}, {\"hoverlabel\": {\"namelength\": 0}, \"hovertemplate\": \"STATE=SC<br>DATE=%{x}<br>PERMITS=%{y}\", \"legendgroup\": \"STATE=SC\", \"line\": {\"color\": \"#636efa\", \"dash\": \"solid\"}, \"mode\": \"lines\", \"name\": \"STATE=SC\", \"showlegend\": true, \"type\": \"scatter\", \"x\": [\"2021-01-01T00:00:00\", \"2021-02-01T00:00:00\", \"2021-03-01T00:00:00\", \"2021-04-01T00:00:00\", \"2021-05-01T00:00:00\", \"2021-06-01T00:00:00\", \"2021-07-01T00:00:00\", \"2021-08-01T00:00:00\"], \"xaxis\": \"x\", \"y\": [3823.78296578774, 3880.2795579311896, 3981.766941561671, 4254.58129442406, 3878.0102741808, 5031.1138635671505, 4033.91332184401, 3493.7617537149395], \"yaxis\": \"y\"}, {\"hoverlabel\": {\"namelength\": 0}, \"hovertemplate\": \"STATE=SD<br>DATE=%{x}<br>PERMITS=%{y}\", \"legendgroup\": \"STATE=SD\", \"line\": {\"color\": \"#EF553B\", \"dash\": \"solid\"}, \"mode\": \"lines\", \"name\": \"STATE=SD\", \"showlegend\": true, \"type\": \"scatter\", \"x\": [\"2021-01-01T00:00:00\", \"2021-02-01T00:00:00\", \"2021-03-01T00:00:00\", \"2021-04-01T00:00:00\", \"2021-05-01T00:00:00\", \"2021-06-01T00:00:00\", \"2021-07-01T00:00:00\", \"2021-08-01T00:00:00\"], \"xaxis\": \"x\", \"y\": [1014.2174882094, 506.09713042131796, 713.0211608220918, 689.5782020909061, 574.879824771347, 534.663827339651, 575.387608170964, 686.612694813414], \"yaxis\": \"y\"}, {\"hoverlabel\": {\"namelength\": 0}, \"hovertemplate\": \"STATE=TN<br>DATE=%{x}<br>PERMITS=%{y}\", \"legendgroup\": \"STATE=TN\", \"line\": {\"color\": \"#00cc96\", \"dash\": \"solid\"}, \"mode\": \"lines\", \"name\": \"STATE=TN\", \"showlegend\": true, \"type\": \"scatter\", \"x\": [\"2021-01-01T00:00:00\", \"2021-02-01T00:00:00\", \"2021-03-01T00:00:00\", \"2021-04-01T00:00:00\", \"2021-05-01T00:00:00\", \"2021-06-01T00:00:00\", \"2021-07-01T00:00:00\", \"2021-08-01T00:00:00\"], \"xaxis\": \"x\", \"y\": [4376.7632502609285, 4260.71584982329, 5489.594440295949, 5168.63695132241, 5124.1878721703215, 5317.20337464595, 4362.18574348095, 4337.40741427295], \"yaxis\": \"y\"}, {\"hoverlabel\": {\"namelength\": 0}, \"hovertemplate\": \"STATE=TX<br>DATE=%{x}<br>PERMITS=%{y}\", \"legendgroup\": \"STATE=TX\", \"line\": {\"color\": \"#ab63fa\", \"dash\": \"solid\"}, \"mode\": \"lines\", \"name\": \"STATE=TX\", \"showlegend\": true, \"type\": \"scatter\", \"x\": [\"2021-01-01T00:00:00\", \"2021-02-01T00:00:00\", \"2021-03-01T00:00:00\", \"2021-04-01T00:00:00\", \"2021-05-01T00:00:00\", \"2021-06-01T00:00:00\", \"2021-07-01T00:00:00\", \"2021-08-01T00:00:00\"], \"xaxis\": \"x\", \"y\": [22272.7363302301, 20100.106637656598, 21983.5114513035, 23424.6528714707, 21366.5395147364, 21928.140701148797, 20089.8483894056, 22042.9772071277], \"yaxis\": \"y\"}, {\"hoverlabel\": {\"namelength\": 0}, \"hovertemplate\": \"STATE=UT<br>DATE=%{x}<br>PERMITS=%{y}\", \"legendgroup\": \"STATE=UT\", \"line\": {\"color\": \"#FFA15A\", \"dash\": \"solid\"}, \"mode\": \"lines\", \"name\": \"STATE=UT\", \"showlegend\": true, \"type\": \"scatter\", \"x\": [\"2021-01-01T00:00:00\", \"2021-02-01T00:00:00\", \"2021-03-01T00:00:00\", \"2021-04-01T00:00:00\", \"2021-05-01T00:00:00\", \"2021-06-01T00:00:00\", \"2021-07-01T00:00:00\", \"2021-08-01T00:00:00\"], \"xaxis\": \"x\", \"y\": [3370.82017970484, 3487.27057951795, 3473.52026935787, 3917.20411973742, 3328.06737812885, 3622.01273155795, 3764.66917961605, 3414.07128900091], \"yaxis\": \"y\"}, {\"hoverlabel\": {\"namelength\": 0}, \"hovertemplate\": \"STATE=VT<br>DATE=%{x}<br>PERMITS=%{y}\", \"legendgroup\": \"STATE=VT\", \"line\": {\"color\": \"#19d3f3\", \"dash\": \"solid\"}, \"mode\": \"lines\", \"name\": \"STATE=VT\", \"showlegend\": true, \"type\": \"scatter\", \"x\": [\"2021-01-01T00:00:00\", \"2021-02-01T00:00:00\", \"2021-03-01T00:00:00\", \"2021-04-01T00:00:00\", \"2021-05-01T00:00:00\", \"2021-06-01T00:00:00\", \"2021-07-01T00:00:00\", \"2021-08-01T00:00:00\"], \"xaxis\": \"x\", \"y\": [171.701562518564, 145.118943501134, 161.404736729748, 229.02358395455897, 169.55180421385, 145.95487514740802, 121.51782600365101, 167.38638976688298], \"yaxis\": \"y\"}, {\"hoverlabel\": {\"namelength\": 0}, \"hovertemplate\": \"STATE=VA<br>DATE=%{x}<br>PERMITS=%{y}\", \"legendgroup\": \"STATE=VA\", \"line\": {\"color\": \"#FF6692\", \"dash\": \"solid\"}, \"mode\": \"lines\", \"name\": \"STATE=VA\", \"showlegend\": true, \"type\": \"scatter\", \"x\": [\"2021-01-01T00:00:00\", \"2021-02-01T00:00:00\", \"2021-03-01T00:00:00\", \"2021-04-01T00:00:00\", \"2021-05-01T00:00:00\", \"2021-06-01T00:00:00\", \"2021-07-01T00:00:00\", \"2021-08-01T00:00:00\"], \"xaxis\": \"x\", \"y\": [3334.2884553714002, 2979.7408173988397, 3930.88095945452, 3648.09920523017, 3001.51167402941, 3114.76517372328, 2684.76394643193, 3283.94706381852], \"yaxis\": \"y\"}, {\"hoverlabel\": {\"namelength\": 0}, \"hovertemplate\": \"STATE=WA<br>DATE=%{x}<br>PERMITS=%{y}\", \"legendgroup\": \"STATE=WA\", \"line\": {\"color\": \"#B6E880\", \"dash\": \"solid\"}, \"mode\": \"lines\", \"name\": \"STATE=WA\", \"showlegend\": true, \"type\": \"scatter\", \"x\": [\"2021-01-01T00:00:00\", \"2021-02-01T00:00:00\", \"2021-03-01T00:00:00\", \"2021-04-01T00:00:00\", \"2021-05-01T00:00:00\", \"2021-06-01T00:00:00\", \"2021-07-01T00:00:00\", \"2021-08-01T00:00:00\"], \"xaxis\": \"x\", \"y\": [4723.921046444621, 5237.36177079918, 4505.103979574989, 4090.3274365396, 4102.95192085447, 4103.62319350029, 4603.55507220107, 6137.15065387018], \"yaxis\": \"y\"}, {\"hoverlabel\": {\"namelength\": 0}, \"hovertemplate\": \"STATE=WV<br>DATE=%{x}<br>PERMITS=%{y}\", \"legendgroup\": \"STATE=WV\", \"line\": {\"color\": \"#FF97FF\", \"dash\": \"solid\"}, \"mode\": \"lines\", \"name\": \"STATE=WV\", \"showlegend\": true, \"type\": \"scatter\", \"x\": [\"2021-01-01T00:00:00\", \"2021-02-01T00:00:00\", \"2021-03-01T00:00:00\", \"2021-04-01T00:00:00\", \"2021-05-01T00:00:00\", \"2021-06-01T00:00:00\", \"2021-07-01T00:00:00\", \"2021-08-01T00:00:00\"], \"xaxis\": \"x\", \"y\": [249.324348736129, 766.307681244964, 395.064662908052, 251.929592098559, 289.027873071969, 372.493972922253, 230.982621659062, 262.521401902884], \"yaxis\": \"y\"}, {\"hoverlabel\": {\"namelength\": 0}, \"hovertemplate\": \"STATE=WI<br>DATE=%{x}<br>PERMITS=%{y}\", \"legendgroup\": \"STATE=WI\", \"line\": {\"color\": \"#FECB52\", \"dash\": \"solid\"}, \"mode\": \"lines\", \"name\": \"STATE=WI\", \"showlegend\": true, \"type\": \"scatter\", \"x\": [\"2021-01-01T00:00:00\", \"2021-02-01T00:00:00\", \"2021-03-01T00:00:00\", \"2021-04-01T00:00:00\", \"2021-05-01T00:00:00\", \"2021-06-01T00:00:00\", \"2021-07-01T00:00:00\", \"2021-08-01T00:00:00\"], \"xaxis\": \"x\", \"y\": [1935.8131721549398, 2089.83494520613, 2175.12852293801, 2159.9361609137, 1949.68769950154, 1928.06498660393, 2042.7412444921201, 2072.4059863163893], \"yaxis\": \"y\"}, {\"hoverlabel\": {\"namelength\": 0}, \"hovertemplate\": \"STATE=WY<br>DATE=%{x}<br>PERMITS=%{y}\", \"legendgroup\": \"STATE=WY\", \"line\": {\"color\": \"#636efa\", \"dash\": \"solid\"}, \"mode\": \"lines\", \"name\": \"STATE=WY\", \"showlegend\": true, \"type\": \"scatter\", \"x\": [\"2021-01-01T00:00:00\", \"2021-02-01T00:00:00\", \"2021-03-01T00:00:00\", \"2021-04-01T00:00:00\", \"2021-05-01T00:00:00\", \"2021-06-01T00:00:00\", \"2021-07-01T00:00:00\", \"2021-08-01T00:00:00\"], \"xaxis\": \"x\", \"y\": [268.758841040378, 201.166804638401, 203.518824231261, 198.619263115231, 149.43459911224002, 223.887687696031, 213.278624444716, 243.112551216506], \"yaxis\": \"y\"}],\n",
              "                        {\"legend\": {\"tracegroupgap\": 0}, \"template\": {\"data\": {\"bar\": [{\"error_x\": {\"color\": \"#2a3f5f\"}, \"error_y\": {\"color\": \"#2a3f5f\"}, \"marker\": {\"line\": {\"color\": \"#E5ECF6\", \"width\": 0.5}}, \"type\": \"bar\"}], \"barpolar\": [{\"marker\": {\"line\": {\"color\": \"#E5ECF6\", \"width\": 0.5}}, \"type\": \"barpolar\"}], \"carpet\": [{\"aaxis\": {\"endlinecolor\": \"#2a3f5f\", \"gridcolor\": \"white\", \"linecolor\": \"white\", \"minorgridcolor\": \"white\", \"startlinecolor\": \"#2a3f5f\"}, \"baxis\": {\"endlinecolor\": \"#2a3f5f\", \"gridcolor\": \"white\", \"linecolor\": \"white\", \"minorgridcolor\": \"white\", \"startlinecolor\": \"#2a3f5f\"}, \"type\": \"carpet\"}], \"choropleth\": [{\"colorbar\": {\"outlinewidth\": 0, \"ticks\": \"\"}, \"type\": \"choropleth\"}], \"contour\": [{\"colorbar\": {\"outlinewidth\": 0, \"ticks\": \"\"}, \"colorscale\": [[0.0, \"#0d0887\"], [0.1111111111111111, \"#46039f\"], [0.2222222222222222, \"#7201a8\"], [0.3333333333333333, \"#9c179e\"], [0.4444444444444444, \"#bd3786\"], [0.5555555555555556, \"#d8576b\"], [0.6666666666666666, \"#ed7953\"], [0.7777777777777778, \"#fb9f3a\"], [0.8888888888888888, \"#fdca26\"], [1.0, \"#f0f921\"]], \"type\": \"contour\"}], \"contourcarpet\": [{\"colorbar\": {\"outlinewidth\": 0, \"ticks\": \"\"}, \"type\": \"contourcarpet\"}], \"heatmap\": [{\"colorbar\": {\"outlinewidth\": 0, \"ticks\": \"\"}, \"colorscale\": [[0.0, \"#0d0887\"], [0.1111111111111111, \"#46039f\"], [0.2222222222222222, \"#7201a8\"], [0.3333333333333333, \"#9c179e\"], [0.4444444444444444, \"#bd3786\"], [0.5555555555555556, \"#d8576b\"], [0.6666666666666666, \"#ed7953\"], [0.7777777777777778, \"#fb9f3a\"], [0.8888888888888888, \"#fdca26\"], [1.0, \"#f0f921\"]], \"type\": \"heatmap\"}], \"heatmapgl\": [{\"colorbar\": {\"outlinewidth\": 0, \"ticks\": \"\"}, \"colorscale\": [[0.0, \"#0d0887\"], [0.1111111111111111, \"#46039f\"], [0.2222222222222222, \"#7201a8\"], [0.3333333333333333, \"#9c179e\"], [0.4444444444444444, \"#bd3786\"], [0.5555555555555556, \"#d8576b\"], [0.6666666666666666, \"#ed7953\"], [0.7777777777777778, \"#fb9f3a\"], [0.8888888888888888, \"#fdca26\"], [1.0, \"#f0f921\"]], \"type\": \"heatmapgl\"}], \"histogram\": [{\"marker\": {\"colorbar\": {\"outlinewidth\": 0, \"ticks\": \"\"}}, \"type\": \"histogram\"}], \"histogram2d\": [{\"colorbar\": {\"outlinewidth\": 0, \"ticks\": \"\"}, \"colorscale\": [[0.0, \"#0d0887\"], [0.1111111111111111, \"#46039f\"], [0.2222222222222222, \"#7201a8\"], [0.3333333333333333, \"#9c179e\"], [0.4444444444444444, \"#bd3786\"], [0.5555555555555556, \"#d8576b\"], [0.6666666666666666, \"#ed7953\"], [0.7777777777777778, \"#fb9f3a\"], [0.8888888888888888, \"#fdca26\"], [1.0, \"#f0f921\"]], \"type\": \"histogram2d\"}], \"histogram2dcontour\": [{\"colorbar\": {\"outlinewidth\": 0, \"ticks\": \"\"}, \"colorscale\": [[0.0, \"#0d0887\"], [0.1111111111111111, \"#46039f\"], [0.2222222222222222, \"#7201a8\"], [0.3333333333333333, \"#9c179e\"], [0.4444444444444444, \"#bd3786\"], [0.5555555555555556, \"#d8576b\"], [0.6666666666666666, \"#ed7953\"], [0.7777777777777778, \"#fb9f3a\"], [0.8888888888888888, \"#fdca26\"], [1.0, \"#f0f921\"]], \"type\": \"histogram2dcontour\"}], \"mesh3d\": [{\"colorbar\": {\"outlinewidth\": 0, \"ticks\": \"\"}, \"type\": \"mesh3d\"}], \"parcoords\": [{\"line\": {\"colorbar\": {\"outlinewidth\": 0, \"ticks\": \"\"}}, \"type\": \"parcoords\"}], \"pie\": [{\"automargin\": true, \"type\": \"pie\"}], \"scatter\": [{\"marker\": {\"colorbar\": {\"outlinewidth\": 0, \"ticks\": \"\"}}, \"type\": \"scatter\"}], \"scatter3d\": [{\"line\": {\"colorbar\": {\"outlinewidth\": 0, \"ticks\": \"\"}}, \"marker\": {\"colorbar\": {\"outlinewidth\": 0, \"ticks\": \"\"}}, \"type\": \"scatter3d\"}], \"scattercarpet\": [{\"marker\": {\"colorbar\": {\"outlinewidth\": 0, \"ticks\": \"\"}}, \"type\": \"scattercarpet\"}], \"scattergeo\": [{\"marker\": {\"colorbar\": {\"outlinewidth\": 0, \"ticks\": \"\"}}, \"type\": \"scattergeo\"}], \"scattergl\": [{\"marker\": {\"colorbar\": {\"outlinewidth\": 0, \"ticks\": \"\"}}, \"type\": \"scattergl\"}], \"scattermapbox\": [{\"marker\": {\"colorbar\": {\"outlinewidth\": 0, \"ticks\": \"\"}}, \"type\": \"scattermapbox\"}], \"scatterpolar\": [{\"marker\": {\"colorbar\": {\"outlinewidth\": 0, \"ticks\": \"\"}}, \"type\": \"scatterpolar\"}], \"scatterpolargl\": [{\"marker\": {\"colorbar\": {\"outlinewidth\": 0, \"ticks\": \"\"}}, \"type\": \"scatterpolargl\"}], \"scatterternary\": [{\"marker\": {\"colorbar\": {\"outlinewidth\": 0, \"ticks\": \"\"}}, \"type\": \"scatterternary\"}], \"surface\": [{\"colorbar\": {\"outlinewidth\": 0, \"ticks\": \"\"}, \"colorscale\": [[0.0, \"#0d0887\"], [0.1111111111111111, \"#46039f\"], [0.2222222222222222, \"#7201a8\"], [0.3333333333333333, \"#9c179e\"], [0.4444444444444444, \"#bd3786\"], [0.5555555555555556, \"#d8576b\"], [0.6666666666666666, \"#ed7953\"], [0.7777777777777778, \"#fb9f3a\"], [0.8888888888888888, \"#fdca26\"], [1.0, \"#f0f921\"]], \"type\": \"surface\"}], \"table\": [{\"cells\": {\"fill\": {\"color\": \"#EBF0F8\"}, \"line\": {\"color\": \"white\"}}, \"header\": {\"fill\": {\"color\": \"#C8D4E3\"}, \"line\": {\"color\": \"white\"}}, \"type\": \"table\"}]}, \"layout\": {\"annotationdefaults\": {\"arrowcolor\": \"#2a3f5f\", \"arrowhead\": 0, \"arrowwidth\": 1}, \"coloraxis\": {\"colorbar\": {\"outlinewidth\": 0, \"ticks\": \"\"}}, \"colorscale\": {\"diverging\": [[0, \"#8e0152\"], [0.1, \"#c51b7d\"], [0.2, \"#de77ae\"], [0.3, \"#f1b6da\"], [0.4, \"#fde0ef\"], [0.5, \"#f7f7f7\"], [0.6, \"#e6f5d0\"], [0.7, \"#b8e186\"], [0.8, \"#7fbc41\"], [0.9, \"#4d9221\"], [1, \"#276419\"]], \"sequential\": [[0.0, \"#0d0887\"], [0.1111111111111111, \"#46039f\"], [0.2222222222222222, \"#7201a8\"], [0.3333333333333333, \"#9c179e\"], [0.4444444444444444, \"#bd3786\"], [0.5555555555555556, \"#d8576b\"], [0.6666666666666666, \"#ed7953\"], [0.7777777777777778, \"#fb9f3a\"], [0.8888888888888888, \"#fdca26\"], [1.0, \"#f0f921\"]], \"sequentialminus\": [[0.0, \"#0d0887\"], [0.1111111111111111, \"#46039f\"], [0.2222222222222222, \"#7201a8\"], [0.3333333333333333, \"#9c179e\"], [0.4444444444444444, \"#bd3786\"], [0.5555555555555556, \"#d8576b\"], [0.6666666666666666, \"#ed7953\"], [0.7777777777777778, \"#fb9f3a\"], [0.8888888888888888, \"#fdca26\"], [1.0, \"#f0f921\"]]}, \"colorway\": [\"#636efa\", \"#EF553B\", \"#00cc96\", \"#ab63fa\", \"#FFA15A\", \"#19d3f3\", \"#FF6692\", \"#B6E880\", \"#FF97FF\", \"#FECB52\"], \"font\": {\"color\": \"#2a3f5f\"}, \"geo\": {\"bgcolor\": \"white\", \"lakecolor\": \"white\", \"landcolor\": \"#E5ECF6\", \"showlakes\": true, \"showland\": true, \"subunitcolor\": \"white\"}, \"hoverlabel\": {\"align\": \"left\"}, \"hovermode\": \"closest\", \"mapbox\": {\"style\": \"light\"}, \"paper_bgcolor\": \"white\", \"plot_bgcolor\": \"#E5ECF6\", \"polar\": {\"angularaxis\": {\"gridcolor\": \"white\", \"linecolor\": \"white\", \"ticks\": \"\"}, \"bgcolor\": \"#E5ECF6\", \"radialaxis\": {\"gridcolor\": \"white\", \"linecolor\": \"white\", \"ticks\": \"\"}}, \"scene\": {\"xaxis\": {\"backgroundcolor\": \"#E5ECF6\", \"gridcolor\": \"white\", \"gridwidth\": 2, \"linecolor\": \"white\", \"showbackground\": true, \"ticks\": \"\", \"zerolinecolor\": \"white\"}, \"yaxis\": {\"backgroundcolor\": \"#E5ECF6\", \"gridcolor\": \"white\", \"gridwidth\": 2, \"linecolor\": \"white\", \"showbackground\": true, \"ticks\": \"\", \"zerolinecolor\": \"white\"}, \"zaxis\": {\"backgroundcolor\": \"#E5ECF6\", \"gridcolor\": \"white\", \"gridwidth\": 2, \"linecolor\": \"white\", \"showbackground\": true, \"ticks\": \"\", \"zerolinecolor\": \"white\"}}, \"shapedefaults\": {\"line\": {\"color\": \"#2a3f5f\"}}, \"ternary\": {\"aaxis\": {\"gridcolor\": \"white\", \"linecolor\": \"white\", \"ticks\": \"\"}, \"baxis\": {\"gridcolor\": \"white\", \"linecolor\": \"white\", \"ticks\": \"\"}, \"bgcolor\": \"#E5ECF6\", \"caxis\": {\"gridcolor\": \"white\", \"linecolor\": \"white\", \"ticks\": \"\"}}, \"title\": {\"x\": 0.05}, \"xaxis\": {\"automargin\": true, \"gridcolor\": \"white\", \"linecolor\": \"white\", \"ticks\": \"\", \"title\": {\"standoff\": 15}, \"zerolinecolor\": \"white\", \"zerolinewidth\": 2}, \"yaxis\": {\"automargin\": true, \"gridcolor\": \"white\", \"linecolor\": \"white\", \"ticks\": \"\", \"title\": {\"standoff\": 15}, \"zerolinecolor\": \"white\", \"zerolinewidth\": 2}}}, \"title\": {\"text\": \"New Private Housing Units Authorized by Building Permits\"}, \"xaxis\": {\"anchor\": \"y\", \"domain\": [0.0, 1.0], \"title\": {\"text\": \"DATE\"}}, \"yaxis\": {\"anchor\": \"x\", \"domain\": [0.0, 1.0], \"title\": {\"text\": \"PERMITS\"}}},\n",
              "                        {\"responsive\": true}\n",
              "                    ).then(function(){\n",
              "                            \n",
              "var gd = document.getElementById('c2f86c95-7b6f-4d5b-ac4f-e8afd2e48d43');\n",
              "var x = new MutationObserver(function (mutations, observer) {{\n",
              "        var display = window.getComputedStyle(gd).display;\n",
              "        if (!display || display === 'none') {{\n",
              "            console.log([gd, 'removed!']);\n",
              "            Plotly.purge(gd);\n",
              "            observer.disconnect();\n",
              "        }}\n",
              "}});\n",
              "\n",
              "// Listen for the removal of the full notebook cells\n",
              "var notebookContainer = gd.closest('#notebook-container');\n",
              "if (notebookContainer) {{\n",
              "    x.observe(notebookContainer, {childList: true});\n",
              "}}\n",
              "\n",
              "// Listen for the clearing of the current output cell\n",
              "var outputEl = gd.closest('.output');\n",
              "if (outputEl) {{\n",
              "    x.observe(outputEl, {childList: true});\n",
              "}}\n",
              "\n",
              "                        })\n",
              "                };\n",
              "                \n",
              "            </script>\n",
              "        </div>\n",
              "</body>\n",
              "</html>"
            ]
          },
          "metadata": {}
        }
      ]
    },
    {
      "cell_type": "code",
      "metadata": {
        "colab": {
          "base_uri": "https://localhost:8080/",
          "height": 34
        },
        "id": "qq31K7CyqSd2",
        "outputId": "50cf87af-2950-4cc6-c2f3-ba7689788e09"
      },
      "source": [
        "# download file\n",
        "file_name = f'{series}_{start_date}-{end_date}.csv'\n",
        "df_plot.to_csv(file_name, index=False)\n",
        "files.download(file_name)\n",
        "print('Download {0}'.format(file_name))"
      ],
      "execution_count": null,
      "outputs": [
        {
          "output_type": "display_data",
          "data": {
            "application/javascript": [
              "\n",
              "    async function download(id, filename, size) {\n",
              "      if (!google.colab.kernel.accessAllowed) {\n",
              "        return;\n",
              "      }\n",
              "      const div = document.createElement('div');\n",
              "      const label = document.createElement('label');\n",
              "      label.textContent = `Downloading \"${filename}\": `;\n",
              "      div.appendChild(label);\n",
              "      const progress = document.createElement('progress');\n",
              "      progress.max = size;\n",
              "      div.appendChild(progress);\n",
              "      document.body.appendChild(div);\n",
              "\n",
              "      const buffers = [];\n",
              "      let downloaded = 0;\n",
              "\n",
              "      const channel = await google.colab.kernel.comms.open(id);\n",
              "      // Send a message to notify the kernel that we're ready.\n",
              "      channel.send({})\n",
              "\n",
              "      for await (const message of channel.messages) {\n",
              "        // Send a message to notify the kernel that we're ready.\n",
              "        channel.send({})\n",
              "        if (message.buffers) {\n",
              "          for (const buffer of message.buffers) {\n",
              "            buffers.push(buffer);\n",
              "            downloaded += buffer.byteLength;\n",
              "            progress.value = downloaded;\n",
              "          }\n",
              "        }\n",
              "      }\n",
              "      const blob = new Blob(buffers, {type: 'application/binary'});\n",
              "      const a = document.createElement('a');\n",
              "      a.href = window.URL.createObjectURL(blob);\n",
              "      a.download = filename;\n",
              "      div.appendChild(a);\n",
              "      a.click();\n",
              "      div.remove();\n",
              "    }\n",
              "  "
            ],
            "text/plain": [
              "<IPython.core.display.Javascript object>"
            ]
          },
          "metadata": {}
        },
        {
          "output_type": "display_data",
          "data": {
            "application/javascript": [
              "download(\"download_4a88b9e5-a228-4ac2-aefd-b54139689e0a\", \"CABPPRIVSA_2021-01-01-2021-09-27.csv\", 12758)"
            ],
            "text/plain": [
              "<IPython.core.display.Javascript object>"
            ]
          },
          "metadata": {}
        },
        {
          "output_type": "stream",
          "name": "stdout",
          "text": [
            "Download CABPPRIVSA_2021-01-01-2021-09-27.csv\n"
          ]
        }
      ]
    },
    {
      "cell_type": "markdown",
      "metadata": {
        "id": "DgVycf5WpsHV"
      },
      "source": [
        "# End Notebook"
      ]
    }
  ]
}