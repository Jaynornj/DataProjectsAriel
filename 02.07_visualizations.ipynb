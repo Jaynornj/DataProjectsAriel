{
  "nbformat": 4,
  "nbformat_minor": 0,
  "metadata": {
    "colab": {
      "provenance": [],
      "collapsed_sections": [],
      "authorship_tag": "ABX9TyOtPp1e5rICnZSk9Wa/rajo",
      "include_colab_link": true
    },
    "kernelspec": {
      "name": "python3",
      "display_name": "Python 3"
    },
    "language_info": {
      "name": "python"
    }
  },
  "cells": [
    {
      "cell_type": "markdown",
      "metadata": {
        "id": "view-in-github",
        "colab_type": "text"
      },
      "source": [
        "<a href=\"https://colab.research.google.com/github/analyticsariel/projects/blob/master/02.07_visualizations.ipynb\" target=\"_parent\"><img src=\"https://colab.research.google.com/assets/colab-badge.svg\" alt=\"Open In Colab\"/></a>"
      ]
    },
    {
      "cell_type": "markdown",
      "metadata": {
        "id": "BYRys7lpU-iF"
      },
      "source": [
        "# Visualizations\n",
        "\n",
        "## Overview\n",
        "| Detail Tag            | Information                                                                                        |\n",
        "|-----------------------|----------------------------------------------------------------------------------------------------|\n",
        "| Created By | Ariel Herrera arielherrera@analyticsariel.com |\n",
        "\n",
        "## History\n",
        "| Date         | Developed By  | Reason                                                |\n",
        "|--------------|---------------|-------------------------------------------------------|\n",
        "| 1st Sep 2022 | Ariel Herrera | Create notebook. |\n",
        "\n",
        "## Getting Started\n",
        "1. Copy this notebook -> File -> Save a Copy in Drive\n",
        "\n",
        "## Useful Resources\n",
        "- [Course Contents](https://colab.research.google.com/drive/12K0Ow9Y8v3-a1xuWMc52aPFgaLl-h9vx)\n",
        "- [Google Colab Cheat Sheet](https://towardsdatascience.com/cheat-sheet-for-google-colab-63853778c093)\n",
        "- [Plotly Express](https://plotly.com/python/plotly-express/)\n",
        "- [Dashboard Review](https://www.datarevenue.com/en-blog/data-dashboarding-streamlit-vs-dash-vs-shiny-vs-voila)\n",
        "- [Introduction to Data Visualization](https://gilberttanner.com/blog/introduction-to-data-visualization-inpython/#:~:text=Get%20started%20visualizing%20data%20in,be%20detected%20can%20be%20exposed.)"
      ]
    },
    {
      "cell_type": "markdown",
      "source": [
        "## <font color=\"blue\">What is Data Visualization?</font>\n",
        "Data visualization is the discipline of trying to understand data by placing it in a visual context so that patterns, trends, and correlations that might not otherwise be detected can be exposed.\n",
        "\n",
        "### Visualization Tools\n",
        "\n",
        "![Visualization Tools](https://shanelynnwebsite-mid9n9g1q9y8tt.netdna-ssl.com/wp-content/uploads/2019/02/data-visualisation-python-setup.png)\n",
        "\n",
        "(Source: [Shane Lynn](https://shanelynnwebsite-mid9n9g1q9y8tt.netdna-ssl.com/wp-content/uploads/2019/02/data-visualisation-python-setup.png))\n",
        "\n",
        "### Dashboard Visualization Tools\n",
        "\n",
        "![Dashboard Tools](https://global-uploads.webflow.com/5d3ec351b1eba4332d213004/5f99e10dafbd69a99c875340_C8_qX8dvzv60T4LVZ9GftX-ZH-VJzq3sjUroWWH5XSWw8RFHnCCPPrC6jB3EFVuQdwiqhoEMQKFV-dFz7t6fqaRpSZGvBKI0i1Utj38_j9a54GXMuzi1BiepdIMjOK4ATVdF2131.png)\n",
        "\n",
        "(Source: [Data Revenue](https://www.datarevenue.com/en-blog/data-dashboarding-streamlit-vs-dash-vs-shiny-vs-voila))"
      ],
      "metadata": {
        "id": "EImunDFviw9C"
      }
    },
    {
      "cell_type": "markdown",
      "metadata": {
        "id": "hKgiM1tbUnbI"
      },
      "source": [
        "## <font color=\"blue\">Install Packages</font>"
      ]
    },
    {
      "cell_type": "code",
      "metadata": {
        "id": "7V2OU_iGUppW"
      },
      "source": [
        "!pip install plotly-express -q\n",
        "!pip install pandas -q"
      ],
      "execution_count": null,
      "outputs": []
    },
    {
      "cell_type": "markdown",
      "metadata": {
        "id": "-ZgrtjtLUi6a"
      },
      "source": [
        "## <font color=\"blue\">Imports</font>"
      ]
    },
    {
      "cell_type": "code",
      "metadata": {
        "id": "7vWKHxJDUjOJ"
      },
      "source": [
        "import plotly.express as px\n",
        "import pandas as pd"
      ],
      "execution_count": null,
      "outputs": []
    },
    {
      "cell_type": "markdown",
      "metadata": {
        "id": "CGCaqKj1UvIo"
      },
      "source": [
        "## <font color=\"blue\">Data</font>"
      ]
    },
    {
      "cell_type": "code",
      "source": [
        "# read median sale price for U.S.\n",
        "# source: https://fred.stlouisfed.org/series/MSPUS\n",
        "df_ms = pd.read_csv('https://raw.githubusercontent.com/analyticsariel/public-data/main/MSPUS.csv')"
      ],
      "metadata": {
        "id": "87DJIKtmunvH"
      },
      "execution_count": null,
      "outputs": []
    },
    {
      "cell_type": "code",
      "source": [
        "# rename column\n",
        "\n",
        "# make columns lower case\n"
      ],
      "metadata": {
        "id": "Jzch7-ktBHsq"
      },
      "execution_count": null,
      "outputs": []
    },
    {
      "cell_type": "code",
      "metadata": {
        "id": "jT3eZXJ_UwaS"
      },
      "source": [
        "df_prop = pd.read_csv('https://raw.githubusercontent.com/analyticsariel/public-data/main/property_estimate_sample_CA.csv')"
      ],
      "execution_count": null,
      "outputs": []
    },
    {
      "cell_type": "markdown",
      "metadata": {
        "id": "xAk6Sl0bUxcx"
      },
      "source": [
        "### <font color=\"green\">1. Scatter chart</font>"
      ]
    },
    {
      "cell_type": "code",
      "source": [
        "# view relationship between sqft (size of property) and property estimate\n"
      ],
      "metadata": {
        "id": "YBEQXLbwnuXR"
      },
      "execution_count": null,
      "outputs": []
    },
    {
      "cell_type": "markdown",
      "source": [
        "### <font color=\"green\">2. Line chart</font>"
      ],
      "metadata": {
        "id": "CfkcH-pZndPI"
      }
    },
    {
      "cell_type": "code",
      "source": [
        "# view median sale price YoY\n"
      ],
      "metadata": {
        "id": "FN31oxfenun-"
      },
      "execution_count": null,
      "outputs": []
    },
    {
      "cell_type": "markdown",
      "source": [
        "### <font color=\"green\">3. Bar chart</font>"
      ],
      "metadata": {
        "id": "JUT9fny-nfUd"
      }
    },
    {
      "cell_type": "code",
      "source": [
        "# view median sale price YoY\n"
      ],
      "metadata": {
        "id": "HRLM-OvXnvUw"
      },
      "execution_count": null,
      "outputs": []
    },
    {
      "cell_type": "markdown",
      "source": [
        "### <font color=\"green\">4. Histogram</font>"
      ],
      "metadata": {
        "id": "esDUExglnoFq"
      }
    },
    {
      "cell_type": "code",
      "source": [
        "# view distribution of properties by bedrooms\n"
      ],
      "metadata": {
        "id": "s2H-kknNnv3X"
      },
      "execution_count": null,
      "outputs": []
    },
    {
      "cell_type": "markdown",
      "source": [
        "### <font color=\"green\">5. Box Plot</font>"
      ],
      "metadata": {
        "id": "tUzn3EZEnr2o"
      }
    },
    {
      "cell_type": "code",
      "metadata": {
        "id": "jyrWZ__PUxM7"
      },
      "source": [
        "# view distribution of rent estimate\n"
      ],
      "execution_count": null,
      "outputs": []
    },
    {
      "cell_type": "markdown",
      "source": [
        "## Recap\n",
        "We covered:\n",
        "1. Scatter plots\n",
        "2. Line charts\n",
        "3. Bar charts\n",
        "4. Histograms\n",
        "5. Box Plots\n",
        "\n",
        "In the next section, we will cover joining datasets!"
      ],
      "metadata": {
        "id": "yAJEA3f7H40I"
      }
    },
    {
      "cell_type": "markdown",
      "source": [
        "Watch the video below for an in-depth tutorial on Plotly Express with Python."
      ],
      "metadata": {
        "id": "sIPXg0EOnzk9"
      }
    },
    {
      "cell_type": "code",
      "source": [
        "# Pandas vs. Excel\n",
        "from IPython.display import YouTubeVideo\n",
        "YouTubeVideo('GGL6U0k8WYA')"
      ],
      "metadata": {
        "colab": {
          "base_uri": "https://localhost:8080/",
          "height": 322
        },
        "id": "a15ykAHfn1Kd",
        "outputId": "cbbcede4-5a7e-468f-9fa4-806991685fe7"
      },
      "execution_count": null,
      "outputs": [
        {
          "output_type": "execute_result",
          "data": {
            "text/plain": [
              "<IPython.lib.display.YouTubeVideo at 0x7f840c5a8590>"
            ],
            "text/html": [
              "\n",
              "        <iframe\n",
              "            width=\"400\"\n",
              "            height=\"300\"\n",
              "            src=\"https://www.youtube.com/embed/GGL6U0k8WYA\"\n",
              "            frameborder=\"0\"\n",
              "            allowfullscreen\n",
              "        ></iframe>\n",
              "        "
            ],
            "image/jpeg": "[encoded data removed]"
          },
          "metadata": {},
          "execution_count": 11
        }
      ]
    },
    {
      "cell_type": "markdown",
      "metadata": {
        "id": "_WrYHVh9Ukid"
      },
      "source": [
        "# End Notebook"
      ]
    }
  ]
}